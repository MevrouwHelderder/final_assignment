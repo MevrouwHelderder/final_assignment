{
  "nbformat": 4,
  "nbformat_minor": 0,
  "metadata": {
    "colab": {
      "provenance": [],
      "gpuType": "T4",
      "include_colab_link": true
    },
    "kernelspec": {
      "name": "python3",
      "display_name": "Python 3"
    },
    "language_info": {
      "name": "python"
    },
    "gpuClass": "standard"
  },
  "cells": [
    {
      "cell_type": "markdown",
      "metadata": {
        "id": "view-in-github",
        "colab_type": "text"
      },
      "source": [
        "<a href=\"https://colab.research.google.com/github/MevrouwHelderder/final_assignment/blob/main/2nd_Try_Final_Assignment_Energy_production_and_consumption.ipynb\" target=\"_parent\"><img src=\"https://colab.research.google.com/assets/colab-badge.svg\" alt=\"Open In Colab\"/></a>"
      ]
    },
    {
      "cell_type": "markdown",
      "source": [
        "# Final assignment - Energy production and consumption\n",
        "For this assignment I want to answer the following questions, using datasets created by Our World in Data: \n",
        "\n",
        "* What is the biggest predictor of a large CO2 output per capita of a country?\n",
        "* Which countries are making the biggest strides in decreasing CO2 output?\n",
        "* Which non-fossil fuel energy technology will have the best price in the future?\n",
        "\n",
        "---\n",
        "\n",
        "\n",
        "\n",
        "Citation and more information about the datasets used can be found at the end of this assignment."
      ],
      "metadata": {
        "id": "7fox8RtSHX29"
      }
    },
    {
      "cell_type": "markdown",
      "source": [
        "# Preparing the basics"
      ],
      "metadata": {
        "id": "W9z_3bSHYR_q"
      }
    },
    {
      "cell_type": "code",
      "source": [
        "import numpy as np\n",
        "import pandas as pd\n",
        "import matplotlib.pyplot as plt\n",
        "from scipy.stats import pearsonr\n",
        "from sklearn.linear_model import LinearRegression\n",
        "from sklearn.compose import ColumnTransformer\n",
        "from sklearn.preprocessing import StandardScaler\n",
        "%load_ext google.colab.data_table"
      ],
      "metadata": {
        "id": "ddldkJVUhVV_"
      },
      "execution_count": 1,
      "outputs": []
    },
    {
      "cell_type": "code",
      "source": [
        "path_base = \"https://raw.githubusercontent.com/MevrouwHelderder/final_assignment/main/\"\n",
        "\n",
        "paths = {\n",
        "    \"energy_total\": path_base + \"owid-energy-data.csv\",\n",
        "    \"co2_greenhouse\": path_base + \"owid-co2-data.csv\",\n",
        "    \"net_zero_pledge\": path_base + \"net-zero-targets.csv\",\n",
        "    \"milk_consumption_df\": path_base + \"per-capita-milk-consumption.csv\",\n",
        "    \"milk_production_df\": path_base + \"milk-production-tonnes.csv\",\n",
        "    \"meat_supply_df\": path_base + \"meat-supply-per-person.csv\",\n",
        "    \"meat_production_df\": path_base + \"global-meat-production.csv\",\n",
        "    \"food_foodprints_df\": path_base + \"food-footprints.csv\",\n",
        "    \"aviation_per_capita_df\": path_base + \"per-capita-domestic-aviation-km.csv\",\n",
        "    \"costs_df\": path_base + \"costs-of-66-different-technologies-over-time.csv\",\n",
        "}\n",
        "\n",
        "dataframes = {}\n",
        "\n",
        "for key, value in paths.items():\n",
        "    dataframes[key] = pd.read_csv(value)\n",
        "\n",
        "energy_total_df = dataframes[\"energy_total\"]\n",
        "co2_greenhouse_df = dataframes[\"co2_greenhouse\"]\n",
        "net_zero_pledge_df = dataframes[\"net_zero_pledge\"]\n",
        "milk_consumption_df = dataframes[\"milk_consumption_df\"]\n",
        "milk_production_df = dataframes[\"milk_production_df\"]\n",
        "meat_supply_df = dataframes[\"meat_supply_df\"]\n",
        "meat_production_df = dataframes[\"meat_production_df\"]\n",
        "food_foodprints_df = dataframes[\"food_foodprints_df\"]\n",
        "aviation_km_df = dataframes[\"aviation_per_capita_df\"]\n",
        "costs_df = dataframes[\"costs_df\"]"
      ],
      "metadata": {
        "id": "YbnfXz5dW9Gx"
      },
      "execution_count": 2,
      "outputs": []
    },
    {
      "cell_type": "markdown",
      "source": [
        "# Question 1: What is the biggest predictor of a large CO2 output per capita of a country?\n",
        "\n",
        "For this question I am going to look at several factors that I think could be contributing to a large CO2 output.\n",
        "I am going to see if there is a correlation between them and the CO2 output per capita of countries:\n",
        "\n",
        "* The GDP \n",
        "* Types of energy used\n",
        "* Types of food consumed\n",
        "* Amount of commercial flights\n",
        "\n",
        "For all factors I am going to look at the use per capita. Or, in simpler terms, the use per person."
      ],
      "metadata": {
        "id": "CVr7oESu9ZV6"
      }
    },
    {
      "cell_type": "markdown",
      "source": [
        "# Energy vs Electricity\n",
        "\n",
        "When thinking about energy we usually think about the electricity used. And that is not wrong but energy is used for more than just generating electricity. It is, for example, also used for heating and transport.\n",
        "\n",
        "\n",
        "For example, let's look at the Netherlands through the years.\n",
        "What percentage of the total energy used was used for generating electricity?\n",
        "And since the Netherlands is known to heavily rely on gas for heating and cooking, let's also look at Denmark, a country where cooking and heating are usually done with electric stoves."
      ],
      "metadata": {
        "id": "ULnHXI1PDvpt"
      }
    },
    {
      "cell_type": "code",
      "source": [
        "netherlands = (energy_total_df[energy_total_df[\"country\"]==\"Netherlands\"]).loc[:,[\"year\",\"electricity_share_energy\"]].dropna()\n",
        "denmark = (energy_total_df[energy_total_df[\"country\"]==\"Denmark\"]).loc[:,[\"year\",\"electricity_share_energy\"]].dropna()\n",
        "\n",
        "fig, ax = plt.subplots()\n",
        "\n",
        "nether_year = netherlands[\"year\"]\n",
        "nether_energy = netherlands[\"electricity_share_energy\"]\n",
        "den_year = denmark[\"year\"]\n",
        "den_energy = denmark[\"electricity_share_energy\"]\n",
        "\n",
        "ax.plot(nether_year, nether_energy, label=\"% of total energy used for electricity, The Netherlands\")\n",
        "ax.plot(den_year, den_energy, label=\"% of total energy used for electricity, Denmark\")\n",
        "\n",
        "ax.set_title(\"% Energy VS Electricity\")\n",
        "ax.set_xlabel(\"Year\")\n",
        "ax.set_ylabel(\"%\")\n",
        "ax.grid(axis='y', linestyle='--')\n",
        "ax.legend(loc='center left', bbox_to_anchor=(1,0.94))\n",
        "plt.show()"
      ],
      "metadata": {
        "colab": {
          "base_uri": "https://localhost:8080/",
          "height": 472
        },
        "id": "6v0YRlVnRgs0",
        "outputId": "4041b013-664d-44a7-e9d3-5d0ccdd82abe"
      },
      "execution_count": 75,
      "outputs": [
        {
          "output_type": "display_data",
          "data": {
            "text/plain": [
              "<Figure size 640x480 with 1 Axes>"
            ],
            "image/png": "[encoded data removed]"
          },
          "metadata": {}
        }
      ]
    },
    {
      "cell_type": "markdown",
      "source": [
        "In the plot above you can see the percentage of the total used energy that is used for generating electricity. \n",
        "You can clearly see the difference between the countries. In Denmark a bigger share of the total energy use goes to the production of electricty.\n",
        "\n",
        "However, in both countries the share is still less than 25%. That means that more than 75% of the total energy a country consumes is used for other things.\n",
        "\n",
        "That is why for the following analysis I will look at the total energy used, not at the electricity used.\n",
        "\n"
      ],
      "metadata": {
        "id": "h0Owml25bonp"
      }
    },
    {
      "cell_type": "markdown",
      "source": [
        "# Fuel use\n",
        "\n",
        "To see if the use of certain fuels is indicative of a high CO2 output I will make a dataframe that shows the what percentages of the total energy consumption are made up by the different energy sources.\n",
        "\n",
        "I will first look at low-carbon sources vs high-carbon sources. If needed I can specify more so I will keep the data on the singular sources for now.\n"
      ],
      "metadata": {
        "id": "QD3KdqknksIg"
      }
    },
    {
      "cell_type": "code",
      "source": [
        "# singular sources:\n",
        "fuel_list = [\n",
        "    \"coal\",\n",
        "    \"oil\",\n",
        "    \"gas\",\n",
        "    \"wind\",\n",
        "    \"solar\",\n",
        "    \"hydro\",\n",
        "    \"nuclear\",\n",
        "    \"other_renewables\",\n",
        "    \"low_carbon\",\n",
        "    \"fossil\",\n",
        "]\n",
        "\n",
        "# lists with columns bases\n",
        "fuel_share_base_list = [\"_share_energy\"]\n",
        "\n",
        "# Columnnames that don't need to be pieced together\n",
        "fuel_complete_columns_list = [\"country\", \"year\", \"iso_code\", \"energy_per_capita\"]\n",
        "\n",
        "# Function to create the needed dataframe out of the original\n",
        "def make_df(original_df, topic_list, base_list, columns_to_keep_list, per_capita=False):\n",
        "    new_columns = columns_to_keep_list\n",
        "    base_list = base_list\n",
        "\n",
        "    for topic_item in topic_list:\n",
        "        for base_item in base_list:\n",
        "            new_columns.append(topic_item + base_item)\n",
        "\n",
        "    new_df = original_df[new_columns].copy()\n",
        "\n",
        "    return new_df\n",
        "\n",
        "\n",
        "# Make df\n",
        "fuel_use = make_df(\n",
        "    energy_total_df,\n",
        "    fuel_list,\n",
        "    fuel_share_base_list,\n",
        "    fuel_complete_columns_list,\n",
        "    per_capita=False,\n",
        ")\n",
        "\n",
        "# show only the true, singular, countries\n",
        "fuel_use = fuel_use[~fuel_use[\"iso_code\"].isnull()].copy()\n",
        "\n",
        "# Setting the index and dropping what is not needed\n",
        "fuel_use = fuel_use.set_index(\"year\")\n",
        "fuel_use.index = pd.to_datetime(fuel_use.index, format=\"%Y\", errors=\"coerce\")\n",
        "\n",
        "fuel_use = fuel_use.drop([\"iso_code\"], axis=1)\n",
        "fuel_use = fuel_use.dropna()"
      ],
      "metadata": {
        "id": "zU0aoXgH_WyU"
      },
      "execution_count": 24,
      "outputs": []
    },
    {
      "cell_type": "markdown",
      "source": [
        "# CO2 emission:\n",
        "\n",
        "Sometimes when talking about CO2 the term **'Greenhouse gasses'** is used.\n",
        "\n",
        "Greenhouse gasses is a term used for several gasses, mostly carbon dioxide (=CO2), methane, nitrous oxide, hydrochlorofluorocarbons (HCFCs), hydrofluorocarbons (HFCs) and ozone. \n",
        "\n",
        "Because in general they can be compared to CO2 they are usually measured in CO2 equivalents. Meaning they are scaled in such a way that their impact is the same as that of CO2.\n",
        "This way we can talk about CO2, making it more clear.\n",
        "\n",
        "\n",
        "---\n",
        "\n",
        "Another term you can encounter is **Land Use Change**.\n",
        "\n",
        "Land-use-change is the change of the use of land. This can be, for example, deforestation in order for cattle or crops to grow.\n",
        "\n",
        "This can have a major impact on the CO2 emission since trees and plants remove CO2 from the atmosphere. You can imagine the impact when you not only remove the trees but also replace them with industry that emitts CO2!\n",
        "\n",
        "---\n",
        "When looking at the CO2 output of a country it is important to recognise the amount of CO2 emitted in total and the amount of CO2 emitted for own use.\n",
        "The difference lies in the fact that a lot of countries import goods from other countries. \n",
        "This means that they themselves not \"produce\" the CO2 but they are responsible for that CO2 emitted. After all, if they did not buy those goods that CO2 would not have been emitted.\n",
        "\n",
        "I will look at the consumption of CO2 per capita. This means the emission of CO2 per capita, corrected for trade."
      ],
      "metadata": {
        "id": "8pxKUXnZL0Qx"
      }
    },
    {
      "cell_type": "code",
      "source": [
        "co2_df = co2_greenhouse_df.loc[\n",
        "    :,\n",
        "    [\n",
        "        \"country\",\n",
        "        \"year\",\n",
        "        \"iso_code\",\n",
        "        \"population\",\n",
        "        \"gdp\",\n",
        "        \"consumption_co2\",\n",
        "        \"consumption_co2_per_capita\",\n",
        "        \"co2\",\n",
        "        \"co2_per_capita\",\n",
        "    ],\n",
        "]\n",
        "\n",
        "# show only the true, singular, countries\n",
        "co2_df = co2_df[~co2_df[\"iso_code\"].isnull()].copy()\n",
        "\n",
        "# Add a column with the gdp per capita to totals\n",
        "co2_df[\"gdp_per_capita\"] = (co2_df[\"gdp\"] / co2_df[\"population\"]).round(3)\n",
        "\n",
        "# Setting the index and dropping what is not needed\n",
        "co2_df = co2_df.set_index(\"year\")\n",
        "co2_df.index = pd.to_datetime(co2_df.index, format=\"%Y\", errors=\"coerce\")\n",
        "\n",
        "co2_df = co2_df.drop([\"iso_code\", \"gdp\", \"population\"], axis=1)\n",
        "\n",
        "# Renaming\n",
        "co2_df = co2_df.rename(\n",
        "    columns={\n",
        "        \"consumption_co2_per_capita\": \"total_co2_consumed_per_capita\",\n",
        "        \"gdp_per_capita\": \"gdp_per_capita\",\n",
        "        \"consumption_co2\": \"total_co2_consumed\",\n",
        "        \"co2\": \"total_co2_emitted\",\n",
        "        \"co2_per_capita\": \"total_co2_emitted_per_capita\",\n",
        "    }\n",
        ")"
      ],
      "metadata": {
        "id": "U4WeSVX-AEmV"
      },
      "execution_count": 6,
      "outputs": []
    },
    {
      "cell_type": "markdown",
      "source": [
        "# Food\n",
        "\n",
        "Let's first look at what foodsources are responsible for the most CO2 emission and use these in our further analysis.\n",
        "\n",
        "The way the CO2 emission of food sources is measured is by looking at the total output per kilogram. This means the total impact of all stages of the production process. So also, for example, the impact of land use change needed to produce the food."
      ],
      "metadata": {
        "id": "RVdeikW7W_bN"
      }
    },
    {
      "cell_type": "code",
      "source": [
        "top_ten_food_co2 = food_foodprints_df.sort_values('GHG emissions per kilogram (Poore & Nemecek, 2018)', ascending=False).head(10)\n",
        "top_ten_food_co2.plot.barh( 'Entity', 'GHG emissions per kilogram (Poore & Nemecek, 2018)')"
      ],
      "metadata": {
        "colab": {
          "base_uri": "https://localhost:8080/",
          "height": 447
        },
        "id": "34xlLv2hisPd",
        "outputId": "f9c8f8d8-0308-4f07-89eb-e6dad922ba96"
      },
      "execution_count": 7,
      "outputs": [
        {
          "output_type": "execute_result",
          "data": {
            "text/plain": [
              "<Axes: ylabel='Entity'>"
            ]
          },
          "metadata": {},
          "execution_count": 7
        },
        {
          "output_type": "display_data",
          "data": {
            "text/plain": [
              "<Figure size 640x480 with 1 Axes>"
            ],
            "image/png": "[encoded data removed]"
          },
          "metadata": {}
        }
      ]
    },
    {
      "cell_type": "markdown",
      "source": [
        "We can see that most of the food sources with a high carbon foodprint are meat- or dairy products.\n",
        "\n",
        "The two non-animal products, coffee and dark chocolate, have a high greenhouse gass emission because of the deforestation during the production.\n",
        "\n",
        "However, both coffee and chocolate are usually not eaten in the same quantities as the other products in the top 10 and therefore probably don't have a high impact per capita.\n",
        "\n",
        "It is clear that when looking at food as a possible indicator of a high CO2 emission we should look at the production of animal based foodsources.\n",
        "\n",
        "So how much of those are being consumed in a country?"
      ],
      "metadata": {
        "id": "iCNJVBLYnIgs"
      }
    },
    {
      "cell_type": "code",
      "source": [
        "consumption = pd.merge(\n",
        "    meat_supply_df, milk_consumption_df, on=[\"Entity\", \"Code\", \"Year\"], how=\"outer\"\n",
        ")\n",
        "consumption = consumption.rename(\n",
        "    columns={\n",
        "        \"Entity\": \"country\",\n",
        "        \"Year\": \"year\",\n",
        "        \"Meat, total | 00002943 || Food available for consumption | 0645pc || kilograms per year per capita\": \"meat_consumption_per_capita_(kg per year)\",\n",
        "        \"Milk - Excluding Butter | 00002848 || Food available for consumption | 0645pc || kilograms per year per capita\": \"dairy_consumption_per_capita_(kg_per_year)\",\n",
        "    }\n",
        ")\n",
        "# Setting the index\n",
        "consumption = consumption.set_index(\"year\")\n",
        "consumption.index = pd.to_datetime(consumption.index, format=\"%Y\", errors=\"coerce\")\n",
        "# show only the true countries, not the combinations like continents\n",
        "consumption = consumption[~consumption[\"Code\"].isnull()].copy()\n",
        "consumption = consumption.drop([\"Code\"], axis=1)"
      ],
      "metadata": {
        "id": "aL4eGAsfvb87"
      },
      "execution_count": 8,
      "outputs": []
    },
    {
      "cell_type": "markdown",
      "source": [
        "# Aviation\n",
        "\n",
        "I will look at the total amount of km flown per capita."
      ],
      "metadata": {
        "id": "9Dpk4C8J0qR0"
      }
    },
    {
      "cell_type": "code",
      "source": [
        "aviation = aviation_km_df.rename(\n",
        "    columns={\n",
        "        \"Entity\": \"country\",\n",
        "        \"Year\": \"year\",\n",
        "        \"Per capita domestic RPKs\": \"aviation_km_per_capita\",\n",
        "    }\n",
        ")\n",
        "# show only the true countries, not the combinations like continents\n",
        "aviation = aviation[~aviation[\"Code\"].isnull()].copy()\n",
        "\n",
        "aviation = aviation.drop([\"Code\"], axis=1)\n",
        "aviation = aviation.set_index(\"year\")\n",
        "aviation.index = pd.to_datetime(aviation.index, format=\"%Y\", errors=\"coerce\")\n",
        "\n",
        "transport_food = pd.merge(aviation, consumption, on=[\"country\", \"year\"], how=\"outer\")"
      ],
      "metadata": {
        "id": "mTdh4sbO0wmM"
      },
      "execution_count": 9,
      "outputs": []
    },
    {
      "cell_type": "markdown",
      "source": [
        "# Combining it into a dataframe that can be used for comparison"
      ],
      "metadata": {
        "id": "XJ4oLMse-Awe"
      }
    },
    {
      "cell_type": "code",
      "source": [
        "everything = pd.merge(co2_df, transport_food, on=[\"country\", \"year\"], how=\"outer\")\n",
        "everything = pd.merge(\n",
        "    everything,\n",
        "    fuel_use[[\"country\", \"fossil_share_energy\"]],\n",
        "    on=[\"country\", \"year\"],\n",
        "    how=\"outer\",\n",
        ")\n",
        "\n",
        "# Rows without the co2 consumed per capita present are no use\n",
        "everything = everything[~everything[\"total_co2_consumed_per_capita\"].isna()]\n",
        "\n",
        "# Let's look at the last 20 years\n",
        "everything_2000 = everything[(everything.index.year >= 2000)]\n",
        "\n",
        "# Function to resample and interpolate\n",
        "def prepare(df):\n",
        "    df.index = pd.to_datetime(df.index, format=\"%Y\", errors=\"coerce\")\n",
        "    df = (\n",
        "        df.groupby(\"country\")\n",
        "        .resample(\"YS\")\n",
        "        .mean(numeric_only=True)\n",
        "        .interpolate(method=\"linear\")\n",
        "    )\n",
        "    df.reset_index(inplace=True)\n",
        "    df.set_index(\"year\", inplace=True)\n",
        "\n",
        "    return df\n",
        "\n",
        "\n",
        "everything_2000_interpolated = prepare(everything_2000).dropna()"
      ],
      "metadata": {
        "id": "Ab8Jx4K_DGOz"
      },
      "execution_count": 10,
      "outputs": []
    },
    {
      "cell_type": "markdown",
      "source": [
        "# Can I find a correlation between any of the factors and the CO2 output per Capita?"
      ],
      "metadata": {
        "id": "bDvOxNpYiXKP"
      }
    },
    {
      "cell_type": "code",
      "source": [
        "# Calculating correlations\n",
        "# List of columns to calculate correlations\n",
        "columns = [\n",
        "    \"gdp_per_capita\",\n",
        "    \"meat_consumption_per_capita_(kg per year)\",\n",
        "    \"dairy_consumption_per_capita_(kg_per_year)\",\n",
        "    \"fossil_share_energy\",\n",
        "    \"aviation_km_per_capita\",\n",
        "]\n",
        "\n",
        "# Initialize a list to store the correlation results\n",
        "correlation_results_emission = []\n",
        "p_value_results_emission = []\n",
        "\n",
        "# Iterate over each column\n",
        "for column in columns:\n",
        "    correlation, p_value = pearsonr(\n",
        "        everything_2000_interpolated[\"total_co2_emitted_per_capita\"],\n",
        "        everything_2000_interpolated[column],\n",
        "    )\n",
        "\n",
        "    correlation_results_emission.append((column, correlation, p_value))\n",
        "    p_value_results_emission.append((column, p_value))\n",
        "\n",
        "# Sort the correlation results by correlation value\n",
        "correlation_results_emission.sort(key=lambda x: x[1], reverse=True)\n",
        "p_value_results_emission.sort(key=lambda x: x[1])\n",
        "\n",
        "# Extract the column names, correlation values, and p-values from the results\n",
        "columns_emission = [result[0] for result in correlation_results_emission]\n",
        "correlation_values_emission = [result[1] for result in correlation_results_emission]\n",
        "p_values_emission = [result[1] for result in p_value_results_emission]\n",
        "\n",
        "# Create a figure and two subplots\n",
        "fig, ax = plt.subplots(figsize=(10, 2.5))\n",
        "\n",
        "colors = [\"C0\", \"C1\", \"C2\", \"C3\", \"C4\"]\n",
        "\n",
        "y_emission = np.zeros(len(columns_emission))\n",
        "\n",
        "scatter = ax.scatter(correlation_values_emission, y_emission, c=colors, s=100)\n",
        "\n",
        "ax.tick_params(axis=\"y\", left=False, labelleft=False)\n",
        "ax.axhline(0, color=\"black\", linewidth=0.5)\n",
        "ax.grid(axis=\"x\", linestyle=\"--\")\n",
        "\n",
        "ax.set_xlim(-1, 1)\n",
        "ax.set_title(\"Correlation with Total CO2 Output per Capita\")\n",
        "ax.set_xlabel(\"Correlation\")\n",
        "\n",
        "legend_elements2 = [\n",
        "    plt.Line2D(\n",
        "        [0],\n",
        "        [0],\n",
        "        marker=\"o\",\n",
        "        color=\"w\",\n",
        "        label=column,\n",
        "        markerfacecolor=color,\n",
        "        markersize=10,\n",
        "    )\n",
        "    for column, color in zip(columns_emission, colors)\n",
        "]\n",
        "ax.legend(\n",
        "    handles=legend_elements2,\n",
        "    loc=\"center left\",\n",
        "    bbox_to_anchor=(1, 0.5),\n",
        "    title=\"Columns\",\n",
        ")\n",
        "\n",
        "plt.tight_layout()\n",
        "plt.show()\n"
      ],
      "metadata": {
        "colab": {
          "base_uri": "https://localhost:8080/",
          "height": 257
        },
        "id": "-cxDLlhHHJJv",
        "outputId": "21ea9cc0-7890-4327-e8fe-58373501a433"
      },
      "execution_count": 78,
      "outputs": [
        {
          "output_type": "display_data",
          "data": {
            "text/plain": [
              "<Figure size 1000x250 with 1 Axes>"
            ],
            "image/png": "[encoded data removed]"
          },
          "metadata": {}
        }
      ]
    },
    {
      "cell_type": "markdown",
      "source": [
        "What do we see?\n",
        "\n",
        "* **gdp**: The correlation coefficient of 0.73 indicates a strong positive correlation between GDP per capita and the total energy per capita consumed. This suggests that as GDP per capita increases, there is a tendency for higher energy consumption per capita. The p-value of 0.0 indicates that this correlation is highly statistically significant, providing strong evidence of the relationship.\n",
        "\n",
        "* **meat_consumption**: The correlation coefficient of 0.56 suggests a moderate positive correlation between meat consumption per capita and the total energy per capita consumed. This implies that higher meat consumption is associated with higher energy consumption. The p-value of 2.34e-202 indicates that this correlation is highly statistically significant\n",
        "\n",
        "* **dairy_consumption**: The correlation coefficient of 0.30 indicates a weak positive correlation between dairy consumption per capita and the total energy per capita consumed. This suggests that higher dairy consumption is somewhat associated with higher energy consumption. The p-value of 3.48e-54 suggests that this correlation is statistically significant.\n",
        "\n",
        "* **fossil energy**: The correlation coefficient of 0.21 indicates a weak positive correlation between the share of fossil energy and the total energy per capita consumed. This implies that a higher share of fossil energy in the energy mix is somewhat associated with higher energy consumption. The p-value of 3.11e-25 suggests that this correlation is statistically significant.\n",
        "\n",
        "* **aviation**: The correlation coefficient of 0.09 suggests a weak positive correlation between aviation kilometers traveled per capita and the total energy per capita consumed. This indicates that higher levels of aviation activity are somewhat associated with higher energy consumption. The p-value of 2.51e-06 suggests that this correlation is statistically significant."
      ],
      "metadata": {
        "id": "yk4I4WjSf8jh"
      }
    },
    {
      "cell_type": "markdown",
      "source": [
        "# Conclusion: \n",
        "The biggest predictor of a large CO2 output per capita seems to be the GDP.\n",
        "\n",
        "Which makes sense. A higher quality of living requires more energy. Not only for the basics as cooking, heating and electricity but also for the production of goods, for the production of a more varied diet and for travel.\n",
        "\n",
        "The other factors do seem correlated, especially an animal-based diet so they absolutely are things we need to keep in mind when trying to lower our CO2 output.\n"
      ],
      "metadata": {
        "id": "mBIDzpwfsRfD"
      }
    },
    {
      "cell_type": "markdown",
      "source": [
        "# Question 2: Which countries are making the biggest strides in decreasing CO2 output?"
      ],
      "metadata": {
        "id": "QQbMGdgdO2J9"
      }
    },
    {
      "cell_type": "markdown",
      "source": [
        "Let's first look the change in CO2 output over the past 20 years. \n",
        "As stated above, we are going to look at the output per capita, corrected for trade. So the CO2 consumed per person, for own use.\n"
      ],
      "metadata": {
        "id": "vUjdmtL8PBlr"
      }
    },
    {
      "cell_type": "code",
      "source": [
        "grouped = everything_2000_interpolated.groupby(\"country\")\n",
        "\n",
        "# Find the first and last entry per group and calculate the relative change\n",
        "# For CO2 output\n",
        "first_consumption = grouped.first()[\"total_co2_consumed_per_capita\"]\n",
        "last_consumption = grouped.last()[\"total_co2_consumed_per_capita\"]\n",
        "relative_change_consumption = (\n",
        "    ((last_consumption - first_consumption) / first_consumption) * 100\n",
        ").round(3)\n",
        "\n",
        "# For GDP\n",
        "first_gdp = grouped.first()[\"gdp_per_capita\"]\n",
        "last_gdp = grouped.last()[\"gdp_per_capita\"]\n",
        "relative_change_gdp = (((last_gdp - first_gdp) / first_gdp) * 100).round(3)\n",
        "\n",
        "# Make a df with the changes per country\n",
        "change_df = pd.DataFrame(\n",
        "    {\n",
        "        \"change_CO2_output_per_capita_(%)\": relative_change_consumption,\n",
        "        \"change_gdp_per_capita_(%)\": relative_change_gdp,\n",
        "    }\n",
        ")\n",
        "\n",
        "# Find the biggest changers\n",
        "biggest_consumption_changers = (\n",
        "    relative_change_consumption.sort_values(ascending=True).head(5).astype(str) + \" %\"\n",
        ")\n",
        "\n",
        "print(\n",
        "    \"The countries that showed the biggest decrease in CO2 emission per capita, corrected for trade, since 2020:\"\n",
        ")\n",
        "print(biggest_consumption_changers)"
      ],
      "metadata": {
        "colab": {
          "base_uri": "https://localhost:8080/"
        },
        "id": "DQb1GDFXrxCY",
        "outputId": "02fa6c08-a41a-42fb-a9af-e9d698b64eca"
      },
      "execution_count": 12,
      "outputs": [
        {
          "output_type": "stream",
          "name": "stdout",
          "text": [
            "The countries that showed the biggest decrease in CO2 emission per capita, corrected for trade, since 2020:\n",
            "country\n",
            "Venezuela         -79.809 %\n",
            "Portugal          -56.617 %\n",
            "Greece            -46.478 %\n",
            "United Kingdom    -45.381 %\n",
            "Finland           -43.131 %\n",
            "Name: total_co2_consumed_per_capita, dtype: object\n"
          ]
        }
      ]
    },
    {
      "cell_type": "markdown",
      "source": [
        "We can see that there are countries that managed to decrease their CO2 output per capita.\n",
        "\n",
        "However, the biggest strides are probably being made by countries that managed to **decrease CO2 output per capita** while also **increasing GDP**. \n",
        "\n",
        "\n",
        "Because that means that they not only decreased their output but also found a way to counteract  the growth in CO2 emissions that come with a rising standard of living.\n",
        "\n",
        "Let's look at specifically the output per capita and the GDP and let's rank them based on those two aspects.\n"
      ],
      "metadata": {
        "id": "T9QDoL6jWqa8"
      }
    },
    {
      "cell_type": "code",
      "source": [
        "# Show countries that lowered CO2 emission (change < 0) and increase GDP (change > 0)\n",
        "biggest_strides = change_df[\n",
        "    (change_df[\"change_CO2_output_per_capita_(%)\"] < 0)\n",
        "    & (change_df[\"change_gdp_per_capita_(%)\"] > 0)\n",
        "].copy()\n",
        "biggest_strides[\"total_rank\"] = (\n",
        "    biggest_strides[\"change_CO2_output_per_capita_(%)\"].rank(ascending=True)\n",
        "    + biggest_strides[\"change_gdp_per_capita_(%)\"].rank(ascending=False)\n",
        ").rank()\n",
        "\n",
        "display(biggest_strides.sort_values(\"total_rank\"))"
      ],
      "metadata": {
        "colab": {
          "base_uri": "https://localhost:8080/",
          "height": 434
        },
        "id": "oBTL74q9v1zw",
        "outputId": "97c6a6c5-4cd3-4b5e-b6d0-f186c8b5f177"
      },
      "execution_count": 81,
      "outputs": [
        {
          "output_type": "display_data",
          "data": {
            "text/plain": [
              "                      change_CO2_output_per_capita_(%)  \\\n",
              "country                                                  \n",
              "Portugal                                       -56.617   \n",
              "Jamaica                                        -11.523   \n",
              "South Africa                                   -12.372   \n",
              "United Kingdom                                 -45.381   \n",
              "Czechia                                        -19.380   \n",
              "Ukraine                                         -4.223   \n",
              "Slovakia                                       -20.228   \n",
              "Sweden                                         -38.570   \n",
              "Finland                                        -43.131   \n",
              "Jordan                                         -22.261   \n",
              "El Salvador                                     -2.586   \n",
              "Israel                                         -24.964   \n",
              "Poland                                          -4.169   \n",
              "United Arab Emirates                           -30.213   \n",
              "Zambia                                          -0.761   \n",
              "Australia                                       -9.489   \n",
              "\n",
              "                      change_gdp_per_capita_(%)  total_rank  \n",
              "country                                                      \n",
              "Portugal                                 51.589         1.0  \n",
              "Jamaica                                 266.437         3.0  \n",
              "South Africa                            166.736         3.0  \n",
              "United Kingdom                           35.093         3.0  \n",
              "Czechia                                 113.056         5.5  \n",
              "Ukraine                                 563.781         5.5  \n",
              "Slovakia                                 68.212         7.5  \n",
              "Sweden                                   30.274         7.5  \n",
              "Finland                                  10.299         9.5  \n",
              "Jordan                                   35.750         9.5  \n",
              "El Salvador                             162.328        11.5  \n",
              "Israel                                   25.748        11.5  \n",
              "Poland                                   92.342        13.0  \n",
              "United Arab Emirates                      3.172        14.0  \n",
              "Zambia                                   74.987        15.0  \n",
              "Australia                                 9.577        16.0  "
            ],
            "text/html": [
              "\n",
              "  <div id=\"df-b1813384-ad85-4bd5-add7-74d4bbec96f9\">\n",
              "    <div class=\"colab-df-container\">\n",
              "      <div>\n",
              "<style scoped>\n",
              "    .dataframe tbody tr th:only-of-type {\n",
              "        vertical-align: middle;\n",
              "    }\n",
              "\n",
              "    .dataframe tbody tr th {\n",
              "        vertical-align: top;\n",
              "    }\n",
              "\n",
              "    .dataframe thead th {\n",
              "        text-align: right;\n",
              "    }\n",
              "</style>\n",
              "<table border=\"1\" class=\"dataframe\">\n",
              "  <thead>\n",
              "    <tr style=\"text-align: right;\">\n",
              "      <th></th>\n",
              "      <th>change_CO2_output_per_capita_(%)</th>\n",
              "      <th>change_gdp_per_capita_(%)</th>\n",
              "      <th>total_rank</th>\n",
              "    </tr>\n",
              "    <tr>\n",
              "      <th>country</th>\n",
              "      <th></th>\n",
              "      <th></th>\n",
              "      <th></th>\n",
              "    </tr>\n",
              "  </thead>\n",
              "  <tbody>\n",
              "    <tr>\n",
              "      <th>Portugal</th>\n",
              "      <td>-56.617</td>\n",
              "      <td>51.589</td>\n",
              "      <td>1.0</td>\n",
              "    </tr>\n",
              "    <tr>\n",
              "      <th>Jamaica</th>\n",
              "      <td>-11.523</td>\n",
              "      <td>266.437</td>\n",
              "      <td>3.0</td>\n",
              "    </tr>\n",
              "    <tr>\n",
              "      <th>South Africa</th>\n",
              "      <td>-12.372</td>\n",
              "      <td>166.736</td>\n",
              "      <td>3.0</td>\n",
              "    </tr>\n",
              "    <tr>\n",
              "      <th>United Kingdom</th>\n",
              "      <td>-45.381</td>\n",
              "      <td>35.093</td>\n",
              "      <td>3.0</td>\n",
              "    </tr>\n",
              "    <tr>\n",
              "      <th>Czechia</th>\n",
              "      <td>-19.380</td>\n",
              "      <td>113.056</td>\n",
              "      <td>5.5</td>\n",
              "    </tr>\n",
              "    <tr>\n",
              "      <th>Ukraine</th>\n",
              "      <td>-4.223</td>\n",
              "      <td>563.781</td>\n",
              "      <td>5.5</td>\n",
              "    </tr>\n",
              "    <tr>\n",
              "      <th>Slovakia</th>\n",
              "      <td>-20.228</td>\n",
              "      <td>68.212</td>\n",
              "      <td>7.5</td>\n",
              "    </tr>\n",
              "    <tr>\n",
              "      <th>Sweden</th>\n",
              "      <td>-38.570</td>\n",
              "      <td>30.274</td>\n",
              "      <td>7.5</td>\n",
              "    </tr>\n",
              "    <tr>\n",
              "      <th>Finland</th>\n",
              "      <td>-43.131</td>\n",
              "      <td>10.299</td>\n",
              "      <td>9.5</td>\n",
              "    </tr>\n",
              "    <tr>\n",
              "      <th>Jordan</th>\n",
              "      <td>-22.261</td>\n",
              "      <td>35.750</td>\n",
              "      <td>9.5</td>\n",
              "    </tr>\n",
              "    <tr>\n",
              "      <th>El Salvador</th>\n",
              "      <td>-2.586</td>\n",
              "      <td>162.328</td>\n",
              "      <td>11.5</td>\n",
              "    </tr>\n",
              "    <tr>\n",
              "      <th>Israel</th>\n",
              "      <td>-24.964</td>\n",
              "      <td>25.748</td>\n",
              "      <td>11.5</td>\n",
              "    </tr>\n",
              "    <tr>\n",
              "      <th>Poland</th>\n",
              "      <td>-4.169</td>\n",
              "      <td>92.342</td>\n",
              "      <td>13.0</td>\n",
              "    </tr>\n",
              "    <tr>\n",
              "      <th>United Arab Emirates</th>\n",
              "      <td>-30.213</td>\n",
              "      <td>3.172</td>\n",
              "      <td>14.0</td>\n",
              "    </tr>\n",
              "    <tr>\n",
              "      <th>Zambia</th>\n",
              "      <td>-0.761</td>\n",
              "      <td>74.987</td>\n",
              "      <td>15.0</td>\n",
              "    </tr>\n",
              "    <tr>\n",
              "      <th>Australia</th>\n",
              "      <td>-9.489</td>\n",
              "      <td>9.577</td>\n",
              "      <td>16.0</td>\n",
              "    </tr>\n",
              "  </tbody>\n",
              "</table>\n",
              "</div>\n",
              "      <button class=\"colab-df-convert\" onclick=\"convertToInteractive('df-b1813384-ad85-4bd5-add7-74d4bbec96f9')\"\n",
              "              title=\"Convert this dataframe to an interactive table.\"\n",
              "              style=\"display:none;\">\n",
              "        \n",
              "  <svg xmlns=\"http://www.w3.org/2000/svg\" height=\"24px\"viewBox=\"0 0 24 24\"\n",
              "       width=\"24px\">\n",
              "    <path d=\"M0 0h24v24H0V0z\" fill=\"none\"/>\n",
              "    <path d=\"M18.56 5.44l.94 2.06.94-2.06 2.06-.94-2.06-.94-.94-2.06-.94 2.06-2.06.94zm-11 1L8.5 8.5l.94-2.06 2.06-.94-2.06-.94L8.5 2.5l-.94 2.06-2.06.94zm10 10l.94 2.06.94-2.06 2.06-.94-2.06-.94-.94-2.06-.94 2.06-2.06.94z\"/><path d=\"M17.41 7.96l-1.37-1.37c-.4-.4-.92-.59-1.43-.59-.52 0-1.04.2-1.43.59L10.3 9.45l-7.72 7.72c-.78.78-.78 2.05 0 2.83L4 21.41c.39.39.9.59 1.41.59.51 0 1.02-.2 1.41-.59l7.78-7.78 2.81-2.81c.8-.78.8-2.07 0-2.86zM5.41 20L4 18.59l7.72-7.72 1.47 1.35L5.41 20z\"/>\n",
              "  </svg>\n",
              "      </button>\n",
              "      \n",
              "  <style>\n",
              "    .colab-df-container {\n",
              "      display:flex;\n",
              "      flex-wrap:wrap;\n",
              "      gap: 12px;\n",
              "    }\n",
              "\n",
              "    .colab-df-convert {\n",
              "      background-color: #E8F0FE;\n",
              "      border: none;\n",
              "      border-radius: 50%;\n",
              "      cursor: pointer;\n",
              "      display: none;\n",
              "      fill: #1967D2;\n",
              "      height: 32px;\n",
              "      padding: 0 0 0 0;\n",
              "      width: 32px;\n",
              "    }\n",
              "\n",
              "    .colab-df-convert:hover {\n",
              "      background-color: #E2EBFA;\n",
              "      box-shadow: 0px 1px 2px rgba(60, 64, 67, 0.3), 0px 1px 3px 1px rgba(60, 64, 67, 0.15);\n",
              "      fill: #174EA6;\n",
              "    }\n",
              "\n",
              "    [theme=dark] .colab-df-convert {\n",
              "      background-color: #3B4455;\n",
              "      fill: #D2E3FC;\n",
              "    }\n",
              "\n",
              "    [theme=dark] .colab-df-convert:hover {\n",
              "      background-color: #434B5C;\n",
              "      box-shadow: 0px 1px 3px 1px rgba(0, 0, 0, 0.15);\n",
              "      filter: drop-shadow(0px 1px 2px rgba(0, 0, 0, 0.3));\n",
              "      fill: #FFFFFF;\n",
              "    }\n",
              "  </style>\n",
              "\n",
              "      <script>\n",
              "        const buttonEl =\n",
              "          document.querySelector('#df-b1813384-ad85-4bd5-add7-74d4bbec96f9 button.colab-df-convert');\n",
              "        buttonEl.style.display =\n",
              "          google.colab.kernel.accessAllowed ? 'block' : 'none';\n",
              "\n",
              "        async function convertToInteractive(key) {\n",
              "          const element = document.querySelector('#df-b1813384-ad85-4bd5-add7-74d4bbec96f9');\n",
              "          const dataTable =\n",
              "            await google.colab.kernel.invokeFunction('convertToInteractive',\n",
              "                                                     [key], {});\n",
              "          if (!dataTable) return;\n",
              "\n",
              "          const docLinkHtml = 'Like what you see? Visit the ' +\n",
              "            '<a target=\"_blank\" href=https://colab.research.google.com/notebooks/data_table.ipynb>data table notebook</a>'\n",
              "            + ' to learn more about interactive tables.';\n",
              "          element.innerHTML = '';\n",
              "          dataTable['output_type'] = 'display_data';\n",
              "          await google.colab.output.renderOutput(dataTable, element);\n",
              "          const docLink = document.createElement('div');\n",
              "          docLink.innerHTML = docLinkHtml;\n",
              "          element.appendChild(docLink);\n",
              "        }\n",
              "      </script>\n",
              "    </div>\n",
              "  </div>\n",
              "  "
            ],
            "application/vnd.google.colaboratory.module+javascript": "\n      import \"https://ssl.gstatic.com/colaboratory/data_table/99dac6621f6ae8c4/data_table.js\";\n\n      window.createDataTable({\n        data: [[\"Portugal\",\n{\n            'v': -56.617,\n            'f': \"-56.617\",\n        },\n{\n            'v': 51.589,\n            'f': \"51.589\",\n        },\n{\n            'v': 1.0,\n            'f': \"1.0\",\n        }],\n [\"Jamaica\",\n{\n            'v': -11.523,\n            'f': \"-11.523\",\n        },\n{\n            'v': 266.437,\n            'f': \"266.437\",\n        },\n{\n            'v': 3.0,\n            'f': \"3.0\",\n        }],\n [\"South Africa\",\n{\n            'v': -12.372,\n            'f': \"-12.372\",\n        },\n{\n            'v': 166.736,\n            'f': \"166.736\",\n        },\n{\n            'v': 3.0,\n            'f': \"3.0\",\n        }],\n [\"United Kingdom\",\n{\n            'v': -45.381,\n            'f': \"-45.381\",\n        },\n{\n            'v': 35.093,\n            'f': \"35.093\",\n        },\n{\n            'v': 3.0,\n            'f': \"3.0\",\n        }],\n [\"Czechia\",\n{\n            'v': -19.38,\n            'f': \"-19.38\",\n        },\n{\n            'v': 113.056,\n            'f': \"113.056\",\n        },\n{\n            'v': 5.5,\n            'f': \"5.5\",\n        }],\n [\"Ukraine\",\n{\n            'v': -4.223,\n            'f': \"-4.223\",\n        },\n{\n            'v': 563.781,\n            'f': \"563.781\",\n        },\n{\n            'v': 5.5,\n            'f': \"5.5\",\n        }],\n [\"Slovakia\",\n{\n            'v': -20.228,\n            'f': \"-20.228\",\n        },\n{\n            'v': 68.212,\n            'f': \"68.212\",\n        },\n{\n            'v': 7.5,\n            'f': \"7.5\",\n        }],\n [\"Sweden\",\n{\n            'v': -38.57,\n            'f': \"-38.57\",\n        },\n{\n            'v': 30.274,\n            'f': \"30.274\",\n        },\n{\n            'v': 7.5,\n            'f': \"7.5\",\n        }],\n [\"Finland\",\n{\n            'v': -43.131,\n            'f': \"-43.131\",\n        },\n{\n            'v': 10.299,\n            'f': \"10.299\",\n        },\n{\n            'v': 9.5,\n            'f': \"9.5\",\n        }],\n [\"Jordan\",\n{\n            'v': -22.261,\n            'f': \"-22.261\",\n        },\n{\n            'v': 35.75,\n            'f': \"35.75\",\n        },\n{\n            'v': 9.5,\n            'f': \"9.5\",\n        }],\n [\"El Salvador\",\n{\n            'v': -2.586,\n            'f': \"-2.586\",\n        },\n{\n            'v': 162.328,\n            'f': \"162.328\",\n        },\n{\n            'v': 11.5,\n            'f': \"11.5\",\n        }],\n [\"Israel\",\n{\n            'v': -24.964,\n            'f': \"-24.964\",\n        },\n{\n            'v': 25.748,\n            'f': \"25.748\",\n        },\n{\n            'v': 11.5,\n            'f': \"11.5\",\n        }],\n [\"Poland\",\n{\n            'v': -4.169,\n            'f': \"-4.169\",\n        },\n{\n            'v': 92.342,\n            'f': \"92.342\",\n        },\n{\n            'v': 13.0,\n            'f': \"13.0\",\n        }],\n [\"United Arab Emirates\",\n{\n            'v': -30.213,\n            'f': \"-30.213\",\n        },\n{\n            'v': 3.172,\n            'f': \"3.172\",\n        },\n{\n            'v': 14.0,\n            'f': \"14.0\",\n        }],\n [\"Zambia\",\n{\n            'v': -0.761,\n            'f': \"-0.761\",\n        },\n{\n            'v': 74.987,\n            'f': \"74.987\",\n        },\n{\n            'v': 15.0,\n            'f': \"15.0\",\n        }],\n [\"Australia\",\n{\n            'v': -9.489,\n            'f': \"-9.489\",\n        },\n{\n            'v': 9.577,\n            'f': \"9.577\",\n        },\n{\n            'v': 16.0,\n            'f': \"16.0\",\n        }]],\n        columns: [[\"string\", \"country\"], [\"number\", \"change_CO2_output_per_capita_(%)\"], [\"number\", \"change_gdp_per_capita_(%)\"], [\"number\", \"total_rank\"]],\n        columnOptions: [{\"width\": \"1px\", \"className\": \"index_column\"}],\n        rowsPerPage: 25,\n        helpUrl: \"https://colab.research.google.com/notebooks/data_table.ipynb\",\n        suppressOutputScrolling: true,\n        minimumWidth: undefined,\n      });\n    "
          },
          "metadata": {}
        }
      ]
    },
    {
      "cell_type": "markdown",
      "source": [
        "There are sixteen countries that managed to lower their CO2 output per capita while increasing their GDP per capita.\n",
        "\n",
        "\n",
        "However, I believe that using this to prove they are making big strides might be oversimplified. \n",
        "\n",
        "Yes, they are absolutely making strides but more is needed to truly make big strides, now and in the future.\n",
        "\n"
      ],
      "metadata": {
        "id": "iTnzxid32zfN"
      }
    },
    {
      "cell_type": "markdown",
      "source": [
        "# Pledges and Targets\n",
        "\n",
        "So let's also look at any targets countries set when it comes to lowering their CO2 emissions.\n",
        "\n",
        "It is important to recognize that a pledge is nothing more or less than a promis; it needs to be put in law.\n",
        "\n",
        "Only when it has become a law a country has the true obligation to work towards their goal.\n",
        "\n",
        "For this assignment I will look at: \n",
        "* does a country have a goal?\n",
        "* what is the pledged year\n",
        "* what is the status of the goal\n",
        "\n",
        "It is also important to know that not all countries have used the same terms and conditions. Some include aviation, some don't. Some allow for carbon offset, some don't.\n",
        "For the sake of compactness I will not look at the specific terms and conditions but I will explain a tiny bit more about carbon offset."
      ],
      "metadata": {
        "id": "ti7qRSkZSHCW"
      }
    },
    {
      "cell_type": "markdown",
      "source": [
        "# Carbon offset vs low emission\n",
        "\n",
        "Carbon offset can be seen, simply put, as compensating for CO2 emitted by creating nature that will reabsorb CO2.\n",
        "\n",
        " If there is enough nature to compensate for the emitted CO2 the end result could be 0. However, this can not be the only solution for lowering CO2 for two reasons: \n",
        " * There is an end to the amount of nature we can create\n",
        " * It does not help towards a change in mentality when it comes to CO2\n",
        "\n",
        " \n",
        " So when the limit of trees to plant has been reached and we do not have a changed mentality on CO2 and consumerism we are back where we started.\n",
        "\n",
        " That doesn't mean that carbon offset is wrong but it is important to take it into account when further looking into the pledges and goals countries make."
      ],
      "metadata": {
        "id": "hQA_Jje1zB3t"
      }
    },
    {
      "cell_type": "markdown",
      "source": [
        "# What happens with our competion for the biggest stride when we also look at any pledges and targets on net-zero emission?\n"
      ],
      "metadata": {
        "id": "UChll3Js_reI"
      }
    },
    {
      "cell_type": "code",
      "source": [
        "net_zero_pledge = net_zero_pledge_df.loc[\n",
        "    :, [\"Entity\", \"Year\", \"Status of net-zero target\"]\n",
        "].copy()\n",
        "net_zero_pledge = net_zero_pledge.rename(\n",
        "    columns={\n",
        "        \"Entity\": \"country\",\n",
        "        \"Year\": \"pledged_year\",\n",
        "        \"Status of net-zero target\": \"status\",\n",
        "    }\n",
        ")\n",
        "\n",
        "# Include the data on pledges\n",
        "even_bigger_strides = pd.merge(change_df, net_zero_pledge, on=\"country\", how=\"outer\")\n",
        "\n",
        "# Show countries that have reached their target\n",
        "achieved = even_bigger_strides[even_bigger_strides[\"status\"] == \"Achieved\"]\n",
        "display(achieved)"
      ],
      "metadata": {
        "id": "FLt-QMkwSJdb",
        "colab": {
          "base_uri": "https://localhost:8080/",
          "height": 240
        },
        "outputId": "29f58cd2-24e2-4f19-8854-e2b82b0e43f7"
      },
      "execution_count": 83,
      "outputs": [
        {
          "output_type": "display_data",
          "data": {
            "text/plain": [
              "           country  change_CO2_output_per_capita_(%)  \\\n",
              "9            Benin                            89.565   \n",
              "16        Cambodia                           504.113   \n",
              "62      Madagascar                            19.136   \n",
              "122         Bhutan                               NaN   \n",
              "124  Guinea-Bissau                               NaN   \n",
              "125         Guyana                               NaN   \n",
              "127        Liberia                               NaN   \n",
              "\n",
              "     change_gdp_per_capita_(%)  pledged_year    status  \n",
              "9                       86.586        2000.0  Achieved  \n",
              "16                      55.156        2000.0  Achieved  \n",
              "62                      -7.832        2010.0  Achieved  \n",
              "122                        NaN        2000.0  Achieved  \n",
              "124                        NaN        2030.0  Achieved  \n",
              "125                        NaN        2019.0  Achieved  \n",
              "127                        NaN        2000.0  Achieved  "
            ],
            "text/html": [
              "\n",
              "  <div id=\"df-12928742-3b16-4ff4-bf7b-08c8d8312fa6\">\n",
              "    <div class=\"colab-df-container\">\n",
              "      <div>\n",
              "<style scoped>\n",
              "    .dataframe tbody tr th:only-of-type {\n",
              "        vertical-align: middle;\n",
              "    }\n",
              "\n",
              "    .dataframe tbody tr th {\n",
              "        vertical-align: top;\n",
              "    }\n",
              "\n",
              "    .dataframe thead th {\n",
              "        text-align: right;\n",
              "    }\n",
              "</style>\n",
              "<table border=\"1\" class=\"dataframe\">\n",
              "  <thead>\n",
              "    <tr style=\"text-align: right;\">\n",
              "      <th></th>\n",
              "      <th>country</th>\n",
              "      <th>change_CO2_output_per_capita_(%)</th>\n",
              "      <th>change_gdp_per_capita_(%)</th>\n",
              "      <th>pledged_year</th>\n",
              "      <th>status</th>\n",
              "    </tr>\n",
              "  </thead>\n",
              "  <tbody>\n",
              "    <tr>\n",
              "      <th>9</th>\n",
              "      <td>Benin</td>\n",
              "      <td>89.565</td>\n",
              "      <td>86.586</td>\n",
              "      <td>2000.0</td>\n",
              "      <td>Achieved</td>\n",
              "    </tr>\n",
              "    <tr>\n",
              "      <th>16</th>\n",
              "      <td>Cambodia</td>\n",
              "      <td>504.113</td>\n",
              "      <td>55.156</td>\n",
              "      <td>2000.0</td>\n",
              "      <td>Achieved</td>\n",
              "    </tr>\n",
              "    <tr>\n",
              "      <th>62</th>\n",
              "      <td>Madagascar</td>\n",
              "      <td>19.136</td>\n",
              "      <td>-7.832</td>\n",
              "      <td>2010.0</td>\n",
              "      <td>Achieved</td>\n",
              "    </tr>\n",
              "    <tr>\n",
              "      <th>122</th>\n",
              "      <td>Bhutan</td>\n",
              "      <td>NaN</td>\n",
              "      <td>NaN</td>\n",
              "      <td>2000.0</td>\n",
              "      <td>Achieved</td>\n",
              "    </tr>\n",
              "    <tr>\n",
              "      <th>124</th>\n",
              "      <td>Guinea-Bissau</td>\n",
              "      <td>NaN</td>\n",
              "      <td>NaN</td>\n",
              "      <td>2030.0</td>\n",
              "      <td>Achieved</td>\n",
              "    </tr>\n",
              "    <tr>\n",
              "      <th>125</th>\n",
              "      <td>Guyana</td>\n",
              "      <td>NaN</td>\n",
              "      <td>NaN</td>\n",
              "      <td>2019.0</td>\n",
              "      <td>Achieved</td>\n",
              "    </tr>\n",
              "    <tr>\n",
              "      <th>127</th>\n",
              "      <td>Liberia</td>\n",
              "      <td>NaN</td>\n",
              "      <td>NaN</td>\n",
              "      <td>2000.0</td>\n",
              "      <td>Achieved</td>\n",
              "    </tr>\n",
              "  </tbody>\n",
              "</table>\n",
              "</div>\n",
              "      <button class=\"colab-df-convert\" onclick=\"convertToInteractive('df-12928742-3b16-4ff4-bf7b-08c8d8312fa6')\"\n",
              "              title=\"Convert this dataframe to an interactive table.\"\n",
              "              style=\"display:none;\">\n",
              "        \n",
              "  <svg xmlns=\"http://www.w3.org/2000/svg\" height=\"24px\"viewBox=\"0 0 24 24\"\n",
              "       width=\"24px\">\n",
              "    <path d=\"M0 0h24v24H0V0z\" fill=\"none\"/>\n",
              "    <path d=\"M18.56 5.44l.94 2.06.94-2.06 2.06-.94-2.06-.94-.94-2.06-.94 2.06-2.06.94zm-11 1L8.5 8.5l.94-2.06 2.06-.94-2.06-.94L8.5 2.5l-.94 2.06-2.06.94zm10 10l.94 2.06.94-2.06 2.06-.94-2.06-.94-.94-2.06-.94 2.06-2.06.94z\"/><path d=\"M17.41 7.96l-1.37-1.37c-.4-.4-.92-.59-1.43-.59-.52 0-1.04.2-1.43.59L10.3 9.45l-7.72 7.72c-.78.78-.78 2.05 0 2.83L4 21.41c.39.39.9.59 1.41.59.51 0 1.02-.2 1.41-.59l7.78-7.78 2.81-2.81c.8-.78.8-2.07 0-2.86zM5.41 20L4 18.59l7.72-7.72 1.47 1.35L5.41 20z\"/>\n",
              "  </svg>\n",
              "      </button>\n",
              "      \n",
              "  <style>\n",
              "    .colab-df-container {\n",
              "      display:flex;\n",
              "      flex-wrap:wrap;\n",
              "      gap: 12px;\n",
              "    }\n",
              "\n",
              "    .colab-df-convert {\n",
              "      background-color: #E8F0FE;\n",
              "      border: none;\n",
              "      border-radius: 50%;\n",
              "      cursor: pointer;\n",
              "      display: none;\n",
              "      fill: #1967D2;\n",
              "      height: 32px;\n",
              "      padding: 0 0 0 0;\n",
              "      width: 32px;\n",
              "    }\n",
              "\n",
              "    .colab-df-convert:hover {\n",
              "      background-color: #E2EBFA;\n",
              "      box-shadow: 0px 1px 2px rgba(60, 64, 67, 0.3), 0px 1px 3px 1px rgba(60, 64, 67, 0.15);\n",
              "      fill: #174EA6;\n",
              "    }\n",
              "\n",
              "    [theme=dark] .colab-df-convert {\n",
              "      background-color: #3B4455;\n",
              "      fill: #D2E3FC;\n",
              "    }\n",
              "\n",
              "    [theme=dark] .colab-df-convert:hover {\n",
              "      background-color: #434B5C;\n",
              "      box-shadow: 0px 1px 3px 1px rgba(0, 0, 0, 0.15);\n",
              "      filter: drop-shadow(0px 1px 2px rgba(0, 0, 0, 0.3));\n",
              "      fill: #FFFFFF;\n",
              "    }\n",
              "  </style>\n",
              "\n",
              "      <script>\n",
              "        const buttonEl =\n",
              "          document.querySelector('#df-12928742-3b16-4ff4-bf7b-08c8d8312fa6 button.colab-df-convert');\n",
              "        buttonEl.style.display =\n",
              "          google.colab.kernel.accessAllowed ? 'block' : 'none';\n",
              "\n",
              "        async function convertToInteractive(key) {\n",
              "          const element = document.querySelector('#df-12928742-3b16-4ff4-bf7b-08c8d8312fa6');\n",
              "          const dataTable =\n",
              "            await google.colab.kernel.invokeFunction('convertToInteractive',\n",
              "                                                     [key], {});\n",
              "          if (!dataTable) return;\n",
              "\n",
              "          const docLinkHtml = 'Like what you see? Visit the ' +\n",
              "            '<a target=\"_blank\" href=https://colab.research.google.com/notebooks/data_table.ipynb>data table notebook</a>'\n",
              "            + ' to learn more about interactive tables.';\n",
              "          element.innerHTML = '';\n",
              "          dataTable['output_type'] = 'display_data';\n",
              "          await google.colab.output.renderOutput(dataTable, element);\n",
              "          const docLink = document.createElement('div');\n",
              "          docLink.innerHTML = docLinkHtml;\n",
              "          element.appendChild(docLink);\n",
              "        }\n",
              "      </script>\n",
              "    </div>\n",
              "  </div>\n",
              "  "
            ],
            "application/vnd.google.colaboratory.module+javascript": "\n      import \"https://ssl.gstatic.com/colaboratory/data_table/99dac6621f6ae8c4/data_table.js\";\n\n      window.createDataTable({\n        data: [[{\n            'v': 9,\n            'f': \"9\",\n        },\n\"Benin\",\n{\n            'v': 89.565,\n            'f': \"89.565\",\n        },\n{\n            'v': 86.586,\n            'f': \"86.586\",\n        },\n{\n            'v': 2000.0,\n            'f': \"2000.0\",\n        },\n\"Achieved\"],\n [{\n            'v': 16,\n            'f': \"16\",\n        },\n\"Cambodia\",\n{\n            'v': 504.113,\n            'f': \"504.113\",\n        },\n{\n            'v': 55.156,\n            'f': \"55.156\",\n        },\n{\n            'v': 2000.0,\n            'f': \"2000.0\",\n        },\n\"Achieved\"],\n [{\n            'v': 62,\n            'f': \"62\",\n        },\n\"Madagascar\",\n{\n            'v': 19.136,\n            'f': \"19.136\",\n        },\n{\n            'v': -7.832,\n            'f': \"-7.832\",\n        },\n{\n            'v': 2010.0,\n            'f': \"2010.0\",\n        },\n\"Achieved\"],\n [{\n            'v': 122,\n            'f': \"122\",\n        },\n\"Bhutan\",\n{\n            'v': NaN,\n            'f': \"NaN\",\n        },\n{\n            'v': NaN,\n            'f': \"NaN\",\n        },\n{\n            'v': 2000.0,\n            'f': \"2000.0\",\n        },\n\"Achieved\"],\n [{\n            'v': 124,\n            'f': \"124\",\n        },\n\"Guinea-Bissau\",\n{\n            'v': NaN,\n            'f': \"NaN\",\n        },\n{\n            'v': NaN,\n            'f': \"NaN\",\n        },\n{\n            'v': 2030.0,\n            'f': \"2030.0\",\n        },\n\"Achieved\"],\n [{\n            'v': 125,\n            'f': \"125\",\n        },\n\"Guyana\",\n{\n            'v': NaN,\n            'f': \"NaN\",\n        },\n{\n            'v': NaN,\n            'f': \"NaN\",\n        },\n{\n            'v': 2019.0,\n            'f': \"2019.0\",\n        },\n\"Achieved\"],\n [{\n            'v': 127,\n            'f': \"127\",\n        },\n\"Liberia\",\n{\n            'v': NaN,\n            'f': \"NaN\",\n        },\n{\n            'v': NaN,\n            'f': \"NaN\",\n        },\n{\n            'v': 2000.0,\n            'f': \"2000.0\",\n        },\n\"Achieved\"]],\n        columns: [[\"number\", \"index\"], [\"string\", \"country\"], [\"number\", \"change_CO2_output_per_capita_(%)\"], [\"number\", \"change_gdp_per_capita_(%)\"], [\"number\", \"pledged_year\"], [\"string\", \"status\"]],\n        columnOptions: [{\"width\": \"1px\", \"className\": \"index_column\"}],\n        rowsPerPage: 25,\n        helpUrl: \"https://colab.research.google.com/notebooks/data_table.ipynb\",\n        suppressOutputScrolling: true,\n        minimumWidth: undefined,\n      });\n    "
          },
          "metadata": {}
        }
      ]
    },
    {
      "cell_type": "markdown",
      "source": [
        "There are seven countries that have already reached their net-zero target.\n",
        "\n",
        "Congratulations to them! But since they are either small, fairly underdeveloped and/or have no data on GDP or CO2 output I will not include them in my search for the biggest stride.\n",
        "\n",
        "\n",
        "---\n",
        "\n",
        "\n",
        "**So let's find countries that have:**\n",
        "* decreased their CO2 output\n",
        "* increased their GDP\n",
        "* set a net-zero goal"
      ],
      "metadata": {
        "id": "-5H4Bs5KE6Oa"
      }
    },
    {
      "cell_type": "code",
      "source": [
        "the_biggest_strides = even_bigger_strides[\n",
        "    (even_bigger_strides[\"change_CO2_output_per_capita_(%)\"] < 0)\n",
        "    & (even_bigger_strides[\"change_gdp_per_capita_(%)\"] > 0)\n",
        "    & (~even_bigger_strides[\"status\"].isna())\n",
        "]\n",
        "display(the_biggest_strides)"
      ],
      "metadata": {
        "colab": {
          "base_uri": "https://localhost:8080/",
          "height": 284
        },
        "id": "7u6ildF4Apsw",
        "outputId": "d51d167a-3dd3-45ae-8b58-93e3194e6069"
      },
      "execution_count": 84,
      "outputs": [
        {
          "output_type": "display_data",
          "data": {
            "text/plain": [
              "                  country  change_CO2_output_per_capita_(%)  \\\n",
              "2               Australia                            -9.489   \n",
              "34                Finland                           -43.131   \n",
              "49                 Israel                           -24.964   \n",
              "85               Portugal                           -56.617   \n",
              "95           South Africa                           -12.372   \n",
              "99                 Sweden                           -38.570   \n",
              "110               Ukraine                            -4.223   \n",
              "111  United Arab Emirates                           -30.213   \n",
              "112        United Kingdom                           -45.381   \n",
              "\n",
              "     change_gdp_per_capita_(%)  pledged_year              status  \n",
              "2                        9.577        2050.0              Pledge  \n",
              "34                      10.299        2035.0  In policy document  \n",
              "49                      25.748        2050.0              Pledge  \n",
              "85                      51.589        2050.0  In policy document  \n",
              "95                     166.736        2050.0              Pledge  \n",
              "99                      30.274        2045.0              In law  \n",
              "110                    563.781        2060.0  In policy document  \n",
              "111                      3.172        2050.0              Pledge  \n",
              "112                     35.093        2050.0              In law  "
            ],
            "text/html": [
              "\n",
              "  <div id=\"df-a88605a2-1c24-4753-83bd-f38d583804cd\">\n",
              "    <div class=\"colab-df-container\">\n",
              "      <div>\n",
              "<style scoped>\n",
              "    .dataframe tbody tr th:only-of-type {\n",
              "        vertical-align: middle;\n",
              "    }\n",
              "\n",
              "    .dataframe tbody tr th {\n",
              "        vertical-align: top;\n",
              "    }\n",
              "\n",
              "    .dataframe thead th {\n",
              "        text-align: right;\n",
              "    }\n",
              "</style>\n",
              "<table border=\"1\" class=\"dataframe\">\n",
              "  <thead>\n",
              "    <tr style=\"text-align: right;\">\n",
              "      <th></th>\n",
              "      <th>country</th>\n",
              "      <th>change_CO2_output_per_capita_(%)</th>\n",
              "      <th>change_gdp_per_capita_(%)</th>\n",
              "      <th>pledged_year</th>\n",
              "      <th>status</th>\n",
              "    </tr>\n",
              "  </thead>\n",
              "  <tbody>\n",
              "    <tr>\n",
              "      <th>2</th>\n",
              "      <td>Australia</td>\n",
              "      <td>-9.489</td>\n",
              "      <td>9.577</td>\n",
              "      <td>2050.0</td>\n",
              "      <td>Pledge</td>\n",
              "    </tr>\n",
              "    <tr>\n",
              "      <th>34</th>\n",
              "      <td>Finland</td>\n",
              "      <td>-43.131</td>\n",
              "      <td>10.299</td>\n",
              "      <td>2035.0</td>\n",
              "      <td>In policy document</td>\n",
              "    </tr>\n",
              "    <tr>\n",
              "      <th>49</th>\n",
              "      <td>Israel</td>\n",
              "      <td>-24.964</td>\n",
              "      <td>25.748</td>\n",
              "      <td>2050.0</td>\n",
              "      <td>Pledge</td>\n",
              "    </tr>\n",
              "    <tr>\n",
              "      <th>85</th>\n",
              "      <td>Portugal</td>\n",
              "      <td>-56.617</td>\n",
              "      <td>51.589</td>\n",
              "      <td>2050.0</td>\n",
              "      <td>In policy document</td>\n",
              "    </tr>\n",
              "    <tr>\n",
              "      <th>95</th>\n",
              "      <td>South Africa</td>\n",
              "      <td>-12.372</td>\n",
              "      <td>166.736</td>\n",
              "      <td>2050.0</td>\n",
              "      <td>Pledge</td>\n",
              "    </tr>\n",
              "    <tr>\n",
              "      <th>99</th>\n",
              "      <td>Sweden</td>\n",
              "      <td>-38.570</td>\n",
              "      <td>30.274</td>\n",
              "      <td>2045.0</td>\n",
              "      <td>In law</td>\n",
              "    </tr>\n",
              "    <tr>\n",
              "      <th>110</th>\n",
              "      <td>Ukraine</td>\n",
              "      <td>-4.223</td>\n",
              "      <td>563.781</td>\n",
              "      <td>2060.0</td>\n",
              "      <td>In policy document</td>\n",
              "    </tr>\n",
              "    <tr>\n",
              "      <th>111</th>\n",
              "      <td>United Arab Emirates</td>\n",
              "      <td>-30.213</td>\n",
              "      <td>3.172</td>\n",
              "      <td>2050.0</td>\n",
              "      <td>Pledge</td>\n",
              "    </tr>\n",
              "    <tr>\n",
              "      <th>112</th>\n",
              "      <td>United Kingdom</td>\n",
              "      <td>-45.381</td>\n",
              "      <td>35.093</td>\n",
              "      <td>2050.0</td>\n",
              "      <td>In law</td>\n",
              "    </tr>\n",
              "  </tbody>\n",
              "</table>\n",
              "</div>\n",
              "      <button class=\"colab-df-convert\" onclick=\"convertToInteractive('df-a88605a2-1c24-4753-83bd-f38d583804cd')\"\n",
              "              title=\"Convert this dataframe to an interactive table.\"\n",
              "              style=\"display:none;\">\n",
              "        \n",
              "  <svg xmlns=\"http://www.w3.org/2000/svg\" height=\"24px\"viewBox=\"0 0 24 24\"\n",
              "       width=\"24px\">\n",
              "    <path d=\"M0 0h24v24H0V0z\" fill=\"none\"/>\n",
              "    <path d=\"M18.56 5.44l.94 2.06.94-2.06 2.06-.94-2.06-.94-.94-2.06-.94 2.06-2.06.94zm-11 1L8.5 8.5l.94-2.06 2.06-.94-2.06-.94L8.5 2.5l-.94 2.06-2.06.94zm10 10l.94 2.06.94-2.06 2.06-.94-2.06-.94-.94-2.06-.94 2.06-2.06.94z\"/><path d=\"M17.41 7.96l-1.37-1.37c-.4-.4-.92-.59-1.43-.59-.52 0-1.04.2-1.43.59L10.3 9.45l-7.72 7.72c-.78.78-.78 2.05 0 2.83L4 21.41c.39.39.9.59 1.41.59.51 0 1.02-.2 1.41-.59l7.78-7.78 2.81-2.81c.8-.78.8-2.07 0-2.86zM5.41 20L4 18.59l7.72-7.72 1.47 1.35L5.41 20z\"/>\n",
              "  </svg>\n",
              "      </button>\n",
              "      \n",
              "  <style>\n",
              "    .colab-df-container {\n",
              "      display:flex;\n",
              "      flex-wrap:wrap;\n",
              "      gap: 12px;\n",
              "    }\n",
              "\n",
              "    .colab-df-convert {\n",
              "      background-color: #E8F0FE;\n",
              "      border: none;\n",
              "      border-radius: 50%;\n",
              "      cursor: pointer;\n",
              "      display: none;\n",
              "      fill: #1967D2;\n",
              "      height: 32px;\n",
              "      padding: 0 0 0 0;\n",
              "      width: 32px;\n",
              "    }\n",
              "\n",
              "    .colab-df-convert:hover {\n",
              "      background-color: #E2EBFA;\n",
              "      box-shadow: 0px 1px 2px rgba(60, 64, 67, 0.3), 0px 1px 3px 1px rgba(60, 64, 67, 0.15);\n",
              "      fill: #174EA6;\n",
              "    }\n",
              "\n",
              "    [theme=dark] .colab-df-convert {\n",
              "      background-color: #3B4455;\n",
              "      fill: #D2E3FC;\n",
              "    }\n",
              "\n",
              "    [theme=dark] .colab-df-convert:hover {\n",
              "      background-color: #434B5C;\n",
              "      box-shadow: 0px 1px 3px 1px rgba(0, 0, 0, 0.15);\n",
              "      filter: drop-shadow(0px 1px 2px rgba(0, 0, 0, 0.3));\n",
              "      fill: #FFFFFF;\n",
              "    }\n",
              "  </style>\n",
              "\n",
              "      <script>\n",
              "        const buttonEl =\n",
              "          document.querySelector('#df-a88605a2-1c24-4753-83bd-f38d583804cd button.colab-df-convert');\n",
              "        buttonEl.style.display =\n",
              "          google.colab.kernel.accessAllowed ? 'block' : 'none';\n",
              "\n",
              "        async function convertToInteractive(key) {\n",
              "          const element = document.querySelector('#df-a88605a2-1c24-4753-83bd-f38d583804cd');\n",
              "          const dataTable =\n",
              "            await google.colab.kernel.invokeFunction('convertToInteractive',\n",
              "                                                     [key], {});\n",
              "          if (!dataTable) return;\n",
              "\n",
              "          const docLinkHtml = 'Like what you see? Visit the ' +\n",
              "            '<a target=\"_blank\" href=https://colab.research.google.com/notebooks/data_table.ipynb>data table notebook</a>'\n",
              "            + ' to learn more about interactive tables.';\n",
              "          element.innerHTML = '';\n",
              "          dataTable['output_type'] = 'display_data';\n",
              "          await google.colab.output.renderOutput(dataTable, element);\n",
              "          const docLink = document.createElement('div');\n",
              "          docLink.innerHTML = docLinkHtml;\n",
              "          element.appendChild(docLink);\n",
              "        }\n",
              "      </script>\n",
              "    </div>\n",
              "  </div>\n",
              "  "
            ],
            "application/vnd.google.colaboratory.module+javascript": "\n      import \"https://ssl.gstatic.com/colaboratory/data_table/99dac6621f6ae8c4/data_table.js\";\n\n      window.createDataTable({\n        data: [[{\n            'v': 2,\n            'f': \"2\",\n        },\n\"Australia\",\n{\n            'v': -9.489,\n            'f': \"-9.489\",\n        },\n{\n            'v': 9.577,\n            'f': \"9.577\",\n        },\n{\n            'v': 2050.0,\n            'f': \"2050.0\",\n        },\n\"Pledge\"],\n [{\n            'v': 34,\n            'f': \"34\",\n        },\n\"Finland\",\n{\n            'v': -43.131,\n            'f': \"-43.131\",\n        },\n{\n            'v': 10.299,\n            'f': \"10.299\",\n        },\n{\n            'v': 2035.0,\n            'f': \"2035.0\",\n        },\n\"In policy document\"],\n [{\n            'v': 49,\n            'f': \"49\",\n        },\n\"Israel\",\n{\n            'v': -24.964,\n            'f': \"-24.964\",\n        },\n{\n            'v': 25.748,\n            'f': \"25.748\",\n        },\n{\n            'v': 2050.0,\n            'f': \"2050.0\",\n        },\n\"Pledge\"],\n [{\n            'v': 85,\n            'f': \"85\",\n        },\n\"Portugal\",\n{\n            'v': -56.617,\n            'f': \"-56.617\",\n        },\n{\n            'v': 51.589,\n            'f': \"51.589\",\n        },\n{\n            'v': 2050.0,\n            'f': \"2050.0\",\n        },\n\"In policy document\"],\n [{\n            'v': 95,\n            'f': \"95\",\n        },\n\"South Africa\",\n{\n            'v': -12.372,\n            'f': \"-12.372\",\n        },\n{\n            'v': 166.736,\n            'f': \"166.736\",\n        },\n{\n            'v': 2050.0,\n            'f': \"2050.0\",\n        },\n\"Pledge\"],\n [{\n            'v': 99,\n            'f': \"99\",\n        },\n\"Sweden\",\n{\n            'v': -38.57,\n            'f': \"-38.57\",\n        },\n{\n            'v': 30.274,\n            'f': \"30.274\",\n        },\n{\n            'v': 2045.0,\n            'f': \"2045.0\",\n        },\n\"In law\"],\n [{\n            'v': 110,\n            'f': \"110\",\n        },\n\"Ukraine\",\n{\n            'v': -4.223,\n            'f': \"-4.223\",\n        },\n{\n            'v': 563.781,\n            'f': \"563.781\",\n        },\n{\n            'v': 2060.0,\n            'f': \"2060.0\",\n        },\n\"In policy document\"],\n [{\n            'v': 111,\n            'f': \"111\",\n        },\n\"United Arab Emirates\",\n{\n            'v': -30.213,\n            'f': \"-30.213\",\n        },\n{\n            'v': 3.172,\n            'f': \"3.172\",\n        },\n{\n            'v': 2050.0,\n            'f': \"2050.0\",\n        },\n\"Pledge\"],\n [{\n            'v': 112,\n            'f': \"112\",\n        },\n\"United Kingdom\",\n{\n            'v': -45.381,\n            'f': \"-45.381\",\n        },\n{\n            'v': 35.093,\n            'f': \"35.093\",\n        },\n{\n            'v': 2050.0,\n            'f': \"2050.0\",\n        },\n\"In law\"]],\n        columns: [[\"number\", \"index\"], [\"string\", \"country\"], [\"number\", \"change_CO2_output_per_capita_(%)\"], [\"number\", \"change_gdp_per_capita_(%)\"], [\"number\", \"pledged_year\"], [\"string\", \"status\"]],\n        columnOptions: [{\"width\": \"1px\", \"className\": \"index_column\"}],\n        rowsPerPage: 25,\n        helpUrl: \"https://colab.research.google.com/notebooks/data_table.ipynb\",\n        suppressOutputScrolling: true,\n        minimumWidth: undefined,\n      });\n    "
          },
          "metadata": {}
        }
      ]
    },
    {
      "cell_type": "markdown",
      "source": [
        "We see nine countries.\n",
        "When looking at the status of their pledges we see the following:\n",
        "\n",
        "* Four countries have pledges but are not further in the process.\n",
        "* Three countries are in the process of creating laws based on their pledges.\n",
        "* Two countries have made laws based on their pledges.\n",
        "\n",
        "The two countries that have not only lowered their CO2 output and raised their GDP but have also made laws regarding net-zero CO2 emission are: \n",
        "\n",
        "* United Kingdom\n",
        "* Sweden\n",
        "\n",
        "\n"
      ],
      "metadata": {
        "id": "veib6LbaGJMB"
      }
    },
    {
      "cell_type": "markdown",
      "source": [
        "# Conclusion: who has made the biggest of strides when it comes to decreasing CO2 output?\n",
        "\n",
        "Sweden has pledged to reach their net-zero goal in 2045 while the UK has pledged 2050 I deem of the competiton: \n",
        "\n",
        "**Sweden!**\n"
      ],
      "metadata": {
        "id": "CeJK-X-s5Uje"
      }
    },
    {
      "cell_type": "markdown",
      "source": [
        "# So to celebrate Sweden, here are some plots to show more about their CO2 output."
      ],
      "metadata": {
        "id": "VcFV9axD5tkT"
      }
    },
    {
      "cell_type": "code",
      "source": [],
      "metadata": {
        "id": "KPnasR585zxk"
      },
      "execution_count": null,
      "outputs": []
    },
    {
      "cell_type": "code",
      "source": [],
      "metadata": {
        "id": "PN0W7xhc5zvS"
      },
      "execution_count": null,
      "outputs": []
    },
    {
      "cell_type": "code",
      "source": [],
      "metadata": {
        "id": "i62TYqYe5zo9"
      },
      "execution_count": null,
      "outputs": []
    },
    {
      "cell_type": "markdown",
      "source": [
        "# which non-fossil fuel energy technology will have the best price in the future?\n",
        "\n",
        "In the last decade the price of renewable fuels has falled dramatically. Where the use of renewable energy was once something exclusive and unobtainable it is now often even cheaper than fossil-fueled energy.\n",
        "\n",
        "The biggest reason for this is that, in short, the technology behind the renewable energy sources follow a learning curve. When we improve the technologies behind the renewables it gets cheaper to produce them. And producing products on a bigger scale also lowers the price.\n",
        "\n",
        "\n",
        "Where renewable energy gets cheaper over time, fossil fueled energy gets more expensive over time because of two reasons: \n",
        "There is only so much we can still learn and improve when it comes to fossil fuels.\n",
        "Fossil fuels are not infinite and when a product gets harder and harder to come by the prices rise.\n",
        "\n",
        "That renewable energy is the way forwards is no surprise. But let's see what the prices of the technologies behind the renewable energy sources are going to do in the future!\n"
      ],
      "metadata": {
        "id": "CfB64zY_MaX9"
      }
    },
    {
      "cell_type": "code",
      "source": [
        "# Find the entities in the df that are energy sources: \n",
        "costs_df['Entity'].unique()"
      ],
      "metadata": {
        "id": "qHUI04iSMe2v",
        "colab": {
          "base_uri": "https://localhost:8080/"
        },
        "outputId": "d8714bc3-4c28-4a59-f8fa-4558d1b6c0d0"
      },
      "execution_count": 18,
      "outputs": [
        {
          "output_type": "execute_result",
          "data": {
            "text/plain": [
              "array(['Acrylic fiber', 'Acrylonitrile', 'Aluminum', 'Ammonia', 'Aniline',\n",
              "       'Automotive (US)', 'Beer (Japan)', 'Benzene', 'Bisphenol A',\n",
              "       'CCGT Power', 'Caprolactam', 'Carbon black', 'Carbon disulfide',\n",
              "       'Concentrating Solar', 'Corn (US)', 'Crude Oil', 'Cyclohexane',\n",
              "       'DNA Sequencing', 'DRAM', 'Electric Range', 'Ethanol (Brazil)',\n",
              "       'Ethanolamine', 'Ethylene', 'Formaldehyde',\n",
              "       'Free Standing Gas Range', 'Geothermal Electricity',\n",
              "       'Hard Disk Drive', 'Hydrofluoric acid', 'Isopropyl alcohol',\n",
              "       'Laser Diode', 'Low-density polyethylene', 'Magnesium',\n",
              "       'Maleic anhydride', 'Methanol', 'Milk (US)',\n",
              "       'Monochrome Television', 'Motor Gasoline', 'Neoprene rubber',\n",
              "       'Nuclear Electricity', 'Onshore Gas Pipeline', 'Paraxylene',\n",
              "       'Pentaerythritol', 'Phenol', 'Photovoltaics', 'Phthalic anhydride',\n",
              "       'Polyester fiber', 'Polyethylene HD', 'Polyethylene LD',\n",
              "       'Polypropylene', 'Polystyrene', 'Polyvinylchloride',\n",
              "       'Primary Aluminum', 'Primary Magnesium', 'Refined Cane Sugar',\n",
              "       'Sodium', 'Sodium chlorate', 'Sodium hydrosulfite', 'Sorbitol',\n",
              "       'Styrene', 'Titanium Dioxide', 'Titanium Sponge', 'Transistor',\n",
              "       'Urea', 'Vinyl acetate', 'Vinyl chloride',\n",
              "       'Wind Turbine (Denmark)'], dtype=object)"
            ]
          },
          "metadata": {},
          "execution_count": 18
        }
      ]
    },
    {
      "cell_type": "markdown",
      "source": [
        "* **Concentrating Solar**: This refers to the use of mirrors or lenses to concentrate sunlight and convert it into usable heat or electricity.\n",
        "* **Corn (US)**: This refers to the use of corn or corn-derived products, such as ethanol, as a renewable energy source.\n",
        "* **Ethanol (Brazil)**: Ethanol produced from sugarcane in Brazil is considered a renewable energy source.\n",
        "* **Geothermal Electricity**: This refers to the generation of electricity using geothermal heat from the Earth's core.\n",
        "* **Photovoltaics**: This refers to the use of solar panels to convert sunlight directly into electricity.\n",
        "* **Wind Turbine (Denmark)**: Wind turbines harness the energy of wind to generate electricity.\n",
        "* **Nuclear Electricity**: Generated through nuclear fission, it is a low-carbon energy source used for producing electricity.\n",
        "\n",
        "Although corn and ethanol are renewable and non-fossil they are probably not the best sustainable energy source since they need heavy agriculture, which in itself could produce a lot of CO2. I will not include them further.\n",
        "\n",
        "Nuclear energy can be considered low-carbon but it is not truly renewable since it is dependable on a in theory ending source and it leaves waste.\n",
        "For now I will not include it further.\n"
      ],
      "metadata": {
        "id": "NPdjMSTQXMbL"
      }
    },
    {
      "cell_type": "markdown",
      "source": [
        "However giving the fact that things need to change fast and big and we might need to consider all low-carbon option I am going to include Nuclear when looking at the future prices."
      ],
      "metadata": {
        "id": "7Phr1triuC-t"
      }
    },
    {
      "cell_type": "markdown",
      "source": [
        "# How does it look when we predict up until 2030\n",
        "Not all values are measures in the same way. \n",
        "\n",
        "+ Concentrating solar is measured in US cents/kWh.\n",
        "+ Geothermal electricity is measured in 2005 US cents/kWh.\n",
        "+ Nuclear electricity is measured in 2004 USD/Watt.\n",
        "+ Photovoltaics is measured in 2013 USD/Wp.\n",
        "+ Wind turbine (Denmark) is measured in DKK/kW.\n",
        "\n",
        "Let's scale them to make them comparable."
      ],
      "metadata": {
        "id": "m72OqSabRsGk"
      }
    },
    {
      "cell_type": "code",
      "source": [
        "# Dataframe with all the renewable sources\n",
        "renewable_sources = ['Concentrating Solar', 'Geothermal Electricity', 'Photovoltaics', 'Wind Turbine (Denmark)']\n",
        "costs_renewables = costs_df[costs_df['Entity'].isin(renewable_sources)]\n",
        "costs_renewables = costs_renewables.drop('Code', axis=1)\n",
        "\n",
        "pivot_costs_renewables = costs_renewables.copy(deep=True)\n",
        "pivot_costs_renewables = pivot_costs_renewables.pivot_table(index='Year', columns='Entity', values='Technology cost')\n",
        "pivot_costs_renewables = pivot_costs_renewables.reset_index().dropna()\n",
        "\n",
        "scaled_pivot_df = pivot_costs_renewables.copy()\n",
        "col_names = ['Concentrating Solar', 'Geothermal Electricity', 'Photovoltaics', 'Wind Turbine (Denmark)']\n",
        "features = scaled_pivot_df[col_names]\n",
        "scaler = StandardScaler().fit(features.values)\n",
        "features = scaler.transform(features.values)\n",
        "\n",
        "scaled_pivot_df[col_names] = features\n",
        "\n",
        "scaled_future_years = pd.DataFrame({'Year': range(2001, 2030)})\n",
        "scaled_predicted_df = pd.DataFrame({'Year': scaled_pivot_df['Year']}) \n",
        "\n",
        "for column in scaled_pivot_df.columns[1:]: \n",
        "    X = scaled_pivot_df['Year'].values.reshape(-1, 1)\n",
        "    y = scaled_pivot_df[column].values.reshape(-1, 1)\n",
        "\n",
        "    linear_regressor = LinearRegression()\n",
        "    linear_regressor.fit(X, y)\n",
        "\n",
        "    future_prices = linear_regressor.predict(scaled_future_years)\n",
        "    future_prices = future_prices.flatten()\n",
        "\n",
        "    future_df = pd.DataFrame({'Year': scaled_future_years['Year'], column: future_prices})\n",
        "    scaled_predicted_df = scaled_predicted_df.merge(future_df, on='Year', how='outer')\n",
        "\n",
        "scaled_predicted_df = pd.concat([scaled_pivot_df, scaled_predicted_df], ignore_index=True).dropna().set_index('Year')\n"
      ],
      "metadata": {
        "id": "jSQxz6RHm8gr",
        "colab": {
          "base_uri": "https://localhost:8080/"
        },
        "outputId": "98faa82b-2fad-4f84-d3be-e43b971b48e7"
      },
      "execution_count": 19,
      "outputs": [
        {
          "output_type": "stream",
          "name": "stderr",
          "text": [
            "/usr/local/lib/python3.10/dist-packages/sklearn/base.py:432: UserWarning: X has feature names, but LinearRegression was fitted without feature names\n",
            "  warnings.warn(\n",
            "/usr/local/lib/python3.10/dist-packages/sklearn/base.py:432: UserWarning: X has feature names, but LinearRegression was fitted without feature names\n",
            "  warnings.warn(\n",
            "/usr/local/lib/python3.10/dist-packages/sklearn/base.py:432: UserWarning: X has feature names, but LinearRegression was fitted without feature names\n",
            "  warnings.warn(\n",
            "/usr/local/lib/python3.10/dist-packages/sklearn/base.py:432: UserWarning: X has feature names, but LinearRegression was fitted without feature names\n",
            "  warnings.warn(\n"
          ]
        }
      ]
    },
    {
      "cell_type": "code",
      "source": [
        "last_year = scaled_predicted_df[(scaled_predicted_df.index)==(scaled_predicted_df.index).max() ]\n",
        "last_year"
      ],
      "metadata": {
        "colab": {
          "base_uri": "https://localhost:8080/",
          "height": 111
        },
        "id": "zktRvqOfY60B",
        "outputId": "9a208a1e-f2da-4be5-daf8-66c4f7475d44"
      },
      "execution_count": 20,
      "outputs": [
        {
          "output_type": "execute_result",
          "data": {
            "text/plain": [
              "      Concentrating Solar  Geothermal Electricity  Photovoltaics  \\\n",
              "Year                                                               \n",
              "2029            -5.427584                 -6.5696      -6.433085   \n",
              "\n",
              "      Wind Turbine (Denmark)  \n",
              "Year                          \n",
              "2029                -6.42911  "
            ],
            "text/html": [
              "\n",
              "  <div id=\"df-02aa2c03-f794-4e11-8ab5-29491fe4109e\">\n",
              "    <div class=\"colab-df-container\">\n",
              "      <div>\n",
              "<style scoped>\n",
              "    .dataframe tbody tr th:only-of-type {\n",
              "        vertical-align: middle;\n",
              "    }\n",
              "\n",
              "    .dataframe tbody tr th {\n",
              "        vertical-align: top;\n",
              "    }\n",
              "\n",
              "    .dataframe thead th {\n",
              "        text-align: right;\n",
              "    }\n",
              "</style>\n",
              "<table border=\"1\" class=\"dataframe\">\n",
              "  <thead>\n",
              "    <tr style=\"text-align: right;\">\n",
              "      <th></th>\n",
              "      <th>Concentrating Solar</th>\n",
              "      <th>Geothermal Electricity</th>\n",
              "      <th>Photovoltaics</th>\n",
              "      <th>Wind Turbine (Denmark)</th>\n",
              "    </tr>\n",
              "    <tr>\n",
              "      <th>Year</th>\n",
              "      <th></th>\n",
              "      <th></th>\n",
              "      <th></th>\n",
              "      <th></th>\n",
              "    </tr>\n",
              "  </thead>\n",
              "  <tbody>\n",
              "    <tr>\n",
              "      <th>2029</th>\n",
              "      <td>-5.427584</td>\n",
              "      <td>-6.5696</td>\n",
              "      <td>-6.433085</td>\n",
              "      <td>-6.42911</td>\n",
              "    </tr>\n",
              "  </tbody>\n",
              "</table>\n",
              "</div>\n",
              "      <button class=\"colab-df-convert\" onclick=\"convertToInteractive('df-02aa2c03-f794-4e11-8ab5-29491fe4109e')\"\n",
              "              title=\"Convert this dataframe to an interactive table.\"\n",
              "              style=\"display:none;\">\n",
              "        \n",
              "  <svg xmlns=\"http://www.w3.org/2000/svg\" height=\"24px\"viewBox=\"0 0 24 24\"\n",
              "       width=\"24px\">\n",
              "    <path d=\"M0 0h24v24H0V0z\" fill=\"none\"/>\n",
              "    <path d=\"M18.56 5.44l.94 2.06.94-2.06 2.06-.94-2.06-.94-.94-2.06-.94 2.06-2.06.94zm-11 1L8.5 8.5l.94-2.06 2.06-.94-2.06-.94L8.5 2.5l-.94 2.06-2.06.94zm10 10l.94 2.06.94-2.06 2.06-.94-2.06-.94-.94-2.06-.94 2.06-2.06.94z\"/><path d=\"M17.41 7.96l-1.37-1.37c-.4-.4-.92-.59-1.43-.59-.52 0-1.04.2-1.43.59L10.3 9.45l-7.72 7.72c-.78.78-.78 2.05 0 2.83L4 21.41c.39.39.9.59 1.41.59.51 0 1.02-.2 1.41-.59l7.78-7.78 2.81-2.81c.8-.78.8-2.07 0-2.86zM5.41 20L4 18.59l7.72-7.72 1.47 1.35L5.41 20z\"/>\n",
              "  </svg>\n",
              "      </button>\n",
              "      \n",
              "  <style>\n",
              "    .colab-df-container {\n",
              "      display:flex;\n",
              "      flex-wrap:wrap;\n",
              "      gap: 12px;\n",
              "    }\n",
              "\n",
              "    .colab-df-convert {\n",
              "      background-color: #E8F0FE;\n",
              "      border: none;\n",
              "      border-radius: 50%;\n",
              "      cursor: pointer;\n",
              "      display: none;\n",
              "      fill: #1967D2;\n",
              "      height: 32px;\n",
              "      padding: 0 0 0 0;\n",
              "      width: 32px;\n",
              "    }\n",
              "\n",
              "    .colab-df-convert:hover {\n",
              "      background-color: #E2EBFA;\n",
              "      box-shadow: 0px 1px 2px rgba(60, 64, 67, 0.3), 0px 1px 3px 1px rgba(60, 64, 67, 0.15);\n",
              "      fill: #174EA6;\n",
              "    }\n",
              "\n",
              "    [theme=dark] .colab-df-convert {\n",
              "      background-color: #3B4455;\n",
              "      fill: #D2E3FC;\n",
              "    }\n",
              "\n",
              "    [theme=dark] .colab-df-convert:hover {\n",
              "      background-color: #434B5C;\n",
              "      box-shadow: 0px 1px 3px 1px rgba(0, 0, 0, 0.15);\n",
              "      filter: drop-shadow(0px 1px 2px rgba(0, 0, 0, 0.3));\n",
              "      fill: #FFFFFF;\n",
              "    }\n",
              "  </style>\n",
              "\n",
              "      <script>\n",
              "        const buttonEl =\n",
              "          document.querySelector('#df-02aa2c03-f794-4e11-8ab5-29491fe4109e button.colab-df-convert');\n",
              "        buttonEl.style.display =\n",
              "          google.colab.kernel.accessAllowed ? 'block' : 'none';\n",
              "\n",
              "        async function convertToInteractive(key) {\n",
              "          const element = document.querySelector('#df-02aa2c03-f794-4e11-8ab5-29491fe4109e');\n",
              "          const dataTable =\n",
              "            await google.colab.kernel.invokeFunction('convertToInteractive',\n",
              "                                                     [key], {});\n",
              "          if (!dataTable) return;\n",
              "\n",
              "          const docLinkHtml = 'Like what you see? Visit the ' +\n",
              "            '<a target=\"_blank\" href=https://colab.research.google.com/notebooks/data_table.ipynb>data table notebook</a>'\n",
              "            + ' to learn more about interactive tables.';\n",
              "          element.innerHTML = '';\n",
              "          dataTable['output_type'] = 'display_data';\n",
              "          await google.colab.output.renderOutput(dataTable, element);\n",
              "          const docLink = document.createElement('div');\n",
              "          docLink.innerHTML = docLinkHtml;\n",
              "          element.appendChild(docLink);\n",
              "        }\n",
              "      </script>\n",
              "    </div>\n",
              "  </div>\n",
              "  "
            ],
            "application/vnd.google.colaboratory.module+javascript": "\n      import \"https://ssl.gstatic.com/colaboratory/data_table/99dac6621f6ae8c4/data_table.js\";\n\n      window.createDataTable({\n        data: [[{\n            'v': 2029,\n            'f': \"2029\",\n        },\n{\n            'v': -5.427583893730798,\n            'f': \"-5.427583893730798\",\n        },\n{\n            'v': -6.569599542718947,\n            'f': \"-6.569599542718947\",\n        },\n{\n            'v': -6.433084726416666,\n            'f': \"-6.433084726416666\",\n        },\n{\n            'v': -6.429110201085223,\n            'f': \"-6.429110201085223\",\n        }]],\n        columns: [[\"number\", \"Year\"], [\"number\", \"Concentrating Solar\"], [\"number\", \"Geothermal Electricity\"], [\"number\", \"Photovoltaics\"], [\"number\", \"Wind Turbine (Denmark)\"]],\n        columnOptions: [{\"width\": \"1px\", \"className\": \"index_column\"}],\n        rowsPerPage: 25,\n        helpUrl: \"https://colab.research.google.com/notebooks/data_table.ipynb\",\n        suppressOutputScrolling: true,\n        minimumWidth: undefined,\n      });\n    "
          },
          "metadata": {},
          "execution_count": 20
        }
      ]
    },
    {
      "cell_type": "markdown",
      "source": [
        "# Data used for this analysis: \n",
        "\n",
        "* Hannah Ritchie, Max Roser and Pablo Rosado (2022) - \"Energy\". Published online at OurWorldInData.org. Retrieved from: https://ourworldindata.org/energy \n",
        "\n",
        "* Hannah Ritchie, Max Roser and Pablo Rosado (2020) - \"CO₂ and Greenhouse Gas Emissions\". Published online at OurWorldInData.org. Retrieved from: https://ourworldindata.org/co2-and-greenhouse-gas-emissions\n",
        "\n",
        "* Hannah Ritchie, Pablo Rosado and Max Roser (2017) - \"Meat and Dairy Production\". Published online at OurWorldInData.org. Retrieved from: https://ourworldindata.org/meat-production\n",
        "\n",
        "* Hannah Ritchie, Pablo Rosado and Max Roser (2022) - \"Environmental Impacts of Food Production\". Published online at OurWorldInData.org. Retrieved from: https://ourworldindata.org/environmental-impacts-of-food\n",
        "\n",
        "* Max Roser, Hannah Ritchie and Edouard Mathieu (2023) - \"Technological Change\". Published online at OurWorldInData.org. Retrieved from: https://ourworldindata.org/technological-change"
      ],
      "metadata": {
        "id": "gPSalbvWW04H"
      }
    }
  ]
}