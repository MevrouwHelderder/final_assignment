{
  "nbformat": 4,
  "nbformat_minor": 0,
  "metadata": {
    "colab": {
      "provenance": [],
      "gpuType": "T4",
      "include_colab_link": true
    },
    "kernelspec": {
      "name": "python3",
      "display_name": "Python 3"
    },
    "language_info": {
      "name": "python"
    },
    "gpuClass": "standard"
  },
  "cells": [
    {
      "cell_type": "markdown",
      "metadata": {
        "id": "view-in-github",
        "colab_type": "text"
      },
      "source": [
        "<a href=\"https://colab.research.google.com/github/MevrouwHelderder/final_assignment/blob/main/2nd_Try_Final_Assignment_Energy_production_and_consumption.ipynb\" target=\"_parent\"><img src=\"https://colab.research.google.com/assets/colab-badge.svg\" alt=\"Open In Colab\"/></a>"
      ]
    },
    {
      "cell_type": "markdown",
      "source": [
        "# Final assignment - Energy production and consumption\n",
        "\n"
      ],
      "metadata": {
        "id": "7fox8RtSHX29"
      }
    },
    {
      "cell_type": "code",
      "source": [
        "import numpy as np\n",
        "import pandas as pd\n",
        "import matplotlib.pyplot as plt\n",
        "from scipy.stats import pearsonr\n",
        "%load_ext google.colab.data_table"
      ],
      "metadata": {
        "id": "ddldkJVUhVV_"
      },
      "execution_count": 1,
      "outputs": []
    },
    {
      "cell_type": "code",
      "source": [
        "path_base = 'https://raw.githubusercontent.com/MevrouwHelderder/final_assignment/main/'\n",
        "\n",
        "paths = {\n",
        "    'energy_total' : path_base + 'owid-energy-data.csv',\n",
        "    'co2_greenhouse' : path_base + 'owid-co2-data.csv',\n",
        "    'net_zero_pledge' : path_base + 'net-zero-targets.csv',\n",
        "    'milk_consumption_df': path_base + 'per-capita-milk-consumption.csv',\n",
        "    'milk_production_df': path_base + 'milk-production-tonnes.csv',\n",
        "    'meat_supply_df': path_base + 'meat-supply-per-person.csv',\n",
        "    'meat_production_df': path_base + 'global-meat-production.csv',\n",
        "    'food_foodprints_df': path_base + 'food-footprints.csv',\n",
        "    'aviation_per_capita_df': path_base + 'per-capita-domestic-aviation-km.csv'}\n",
        "\n",
        "dataframes = {}\n",
        "\n",
        "for key, value in paths.items():\n",
        "  dataframes[key] = pd.read_csv(value)\n",
        "\n",
        "energy_total_df = dataframes['energy_total']\n",
        "co2_greenhouse_df = dataframes['co2_greenhouse']\n",
        "net_zero_pledge_df = dataframes[\"net_zero_pledge\"]\n",
        "milk_consumption_df = dataframes['milk_consumption_df']\n",
        "milk_production_df = dataframes['milk_production_df']\n",
        "meat_supply_df = dataframes['meat_supply_df']\n",
        "meat_production_df = dataframes['meat_production_df']\n",
        "food_foodprints_df = dataframes['food_foodprints_df']\n",
        "aviation_km_df = dataframes['aviation_per_capita_df']\n"
      ],
      "metadata": {
        "id": "YbnfXz5dW9Gx"
      },
      "execution_count": 116,
      "outputs": []
    },
    {
      "cell_type": "code",
      "source": [
        "# Function to create the needed dataframe out of the original\n",
        "def make_df(original_df, topic_list, base_list, columns_to_keep_list, per_capita=False):\n",
        "    new_columns = columns_to_keep_list\n",
        "    base_list = base_list\n",
        "\n",
        "    for topic_item in topic_list:\n",
        "        for base_item in base_list:\n",
        "            new_columns.append(topic_item + base_item)\n",
        "    \n",
        "    new_df = original_df[new_columns].copy()\n",
        "\n",
        "    return new_df\n"
      ],
      "metadata": {
        "id": "6MJbaH2xEtEq"
      },
      "execution_count": 3,
      "outputs": []
    },
    {
      "cell_type": "markdown",
      "source": [
        "# Fuel use"
      ],
      "metadata": {
        "id": "CVr7oESu9ZV6"
      }
    },
    {
      "cell_type": "code",
      "source": [
        "# singular sources: \n",
        "fuel_list = ['coal', 'oil', 'gas', 'wind', 'solar', 'hydro', 'nuclear', 'other_renewables', 'low_carbon', 'fossil']\n",
        "\n",
        "# lists with columns bases\n",
        "fuel_share_base_list = ['_share_energy']\n",
        "\n",
        "# Columnnames that don't need to be pieced together\n",
        "fuel_complete_columns_list = ['country', 'year', 'iso_code', 'energy_per_capita']\n",
        "\n",
        "# Note: there does not seem to be a column for the share of energt consumption from other renewables excluding biofuel \n",
        "# so for now I will  use the column where biofuel is included and not use the biofuel column seperately.\n",
        "\n",
        "# Make df\n",
        "fuel_use = make_df(energy_total_df, fuel_list, fuel_share_base_list, fuel_complete_columns_list, per_capita=False)\n",
        "\n",
        "# show only the true countries, not the combinations like continents\n",
        "fuel_use = fuel_use[~fuel_use['iso_code'].isnull()].copy()\n",
        "\n",
        "# Setting the index\n",
        "fuel_use = fuel_use.set_index('year')\n",
        "fuel_use.index = pd.to_datetime(fuel_use.index, format='%Y', errors=\"coerce\")\n",
        "\n",
        "fuel_use = fuel_use.drop(['iso_code'], axis=1)\n",
        "fuel_use = fuel_use.dropna()"
      ],
      "metadata": {
        "id": "zU0aoXgH_WyU"
      },
      "execution_count": 42,
      "outputs": []
    },
    {
      "cell_type": "markdown",
      "source": [
        "# Pledges and Targets"
      ],
      "metadata": {
        "id": "ti7qRSkZSHCW"
      }
    },
    {
      "cell_type": "code",
      "source": [
        "# pledge dataframe\n",
        "net_zero_pledge = net_zero_pledge_df.loc[:,['Entity', 'Year', 'Status of net-zero target']].copy()\n",
        "net_zero_pledge = net_zero_pledge.rename(columns={'Entity': 'country', 'Year' :'pledged_year', 'Status of net-zero target': 'status'})\n"
      ],
      "metadata": {
        "id": "FLt-QMkwSJdb"
      },
      "execution_count": 6,
      "outputs": []
    },
    {
      "cell_type": "markdown",
      "source": [
        "# CO2 emission:"
      ],
      "metadata": {
        "id": "8pxKUXnZL0Qx"
      }
    },
    {
      "cell_type": "code",
      "source": [
        "co2_df = co2_greenhouse_df.loc[:,['country', 'year', 'iso_code',\n",
        "                                  'population',\t'gdp', 'consumption_co2',\t\n",
        "                                  'consumption_co2_per_capita',\n",
        "                                  'co2','co2_per_capita' ]]\n",
        "\n",
        "# show only the true countries, not the combinations like continents\n",
        "co2_df = co2_df[~co2_df['iso_code'].isnull()].copy()\n",
        "\n",
        "# Add a column with the gdp per capita to totals\n",
        "co2_df['gdp_per_capita'] = (co2_df['gdp']/co2_df['population']).round(3)\n",
        "\n",
        "# Setting the index\n",
        "co2_df = co2_df.set_index('year')\n",
        "co2_df.index = pd.to_datetime(co2_df.index, format='%Y', errors=\"coerce\")\n",
        "\n",
        "# Dropping not needed columns\n",
        "co2_df = co2_df.drop(['iso_code', 'gdp', 'population'], axis=1)\n",
        "\n",
        "# Renaming\n",
        "co2_df = co2_df.rename(columns={'consumption_co2_per_capita': 'total_co2_consumed_per_capita', \n",
        "                                'gdp_per_capita': 'gdp_per_capita', 'consumption_co2': 'total_co2_consumed', \n",
        "                                'co2': 'total_co2_emitted', 'co2_per_capita': 'total_co2_emitted_per_capita' })\n",
        "\n"
      ],
      "metadata": {
        "id": "U4WeSVX-AEmV"
      },
      "execution_count": 108,
      "outputs": []
    },
    {
      "cell_type": "markdown",
      "source": [
        "# Food\n",
        "\n",
        "Let's first look at what foodsources are resonsible for the most greenhouse gas emission. \n",
        "In the following table the combined greenhouse gasses are measured in CO2 equivalents. Meaning the are scaled in such a way that their impact is the same as that of CO2."
      ],
      "metadata": {
        "id": "RVdeikW7W_bN"
      }
    },
    {
      "cell_type": "code",
      "source": [
        "top_ten_food_co2 = food_foodprints_df.sort_values('GHG emissions per kilogram (Poore & Nemecek, 2018)', ascending=False).head(10)\n",
        "top_ten_food_co2.plot.barh( 'Entity', 'GHG emissions per kilogram (Poore & Nemecek, 2018)')"
      ],
      "metadata": {
        "colab": {
          "base_uri": "https://localhost:8080/",
          "height": 447
        },
        "id": "34xlLv2hisPd",
        "outputId": "86da4f82-565b-4f8d-b1a8-d716babfc125"
      },
      "execution_count": 8,
      "outputs": [
        {
          "output_type": "execute_result",
          "data": {
            "text/plain": [
              "<Axes: ylabel='Entity'>"
            ]
          },
          "metadata": {},
          "execution_count": 8
        },
        {
          "output_type": "display_data",
          "data": {
            "text/plain": [
              "<Figure size 640x480 with 1 Axes>"
            ],
            "image/png": "[encoded data removed]"
          },
          "metadata": {}
        }
      ]
    },
    {
      "cell_type": "markdown",
      "source": [
        "We can see that most of the food sources with a high carbon foodprint are meat- or dairy products.\n",
        "The two non-animal products, coffee and dark chocolate, have a high greenhouse gass emission because of the deforestation during the production.\n",
        "However, both coffee and chocolate have a high emission per kilogram but are usually not eaten in the same quantities as the other products in the top 10.\n",
        "It is clear that when looking at food as a possible indicator of a high CO2 emission we should look at the animal-based products.\n",
        "\n",
        "How much of those are being produced and consumed in a country?"
      ],
      "metadata": {
        "id": "iCNJVBLYnIgs"
      }
    },
    {
      "cell_type": "code",
      "source": [
        "consumption = pd.merge(meat_supply_df, milk_consumption_df, on=['Entity', 'Code', 'Year'], how='outer')\n",
        "consumption = consumption.rename(columns={'Entity': 'country', 'Year': 'year',\n",
        "                                          'Meat, total | 00002943 || Food available for consumption | 0645pc || kilograms per year per capita':\n",
        "                                          'meat_consumption_per_capita_(kg per year)',\n",
        "                                          'Milk - Excluding Butter | 00002848 || Food available for consumption | 0645pc || kilograms per year per capita':\n",
        "                                          'dairy_consumption_per_capita_(kg_per_year)'\n",
        "                                                      })\n",
        "# Setting the index\n",
        "consumption = consumption.set_index('year')\n",
        "consumption.index = pd.to_datetime(consumption.index, format='%Y', errors='coerce')\n",
        "# show only the true countries, not the combinations like continents\n",
        "consumption = consumption[~consumption['Code'].isnull()].copy()\n",
        "consumption = consumption.drop(['Code'], axis=1)"
      ],
      "metadata": {
        "id": "aL4eGAsfvb87"
      },
      "execution_count": 87,
      "outputs": []
    },
    {
      "cell_type": "markdown",
      "source": [
        "# Transport"
      ],
      "metadata": {
        "id": "9Dpk4C8J0qR0"
      }
    },
    {
      "cell_type": "code",
      "source": [
        "transport_co2 = pd.merge(aviation_co2_df, transport_co2_df, on=['Entity', 'Code', 'Year'], how='outer')\n",
        "transport_co2 = pd.merge(transport_co2, aviation_km_df, on=['Entity', 'Code', 'Year'], how='outer')\n",
        "transport_co2 = transport_co2.rename(columns={'Entity': 'country', 'Year': 'year', 'Per capita aviation CO2 - adjusted': 'aviation_CO2_per_capita', \n",
        "                                              'Transport (per capita)': 'other_transport_CO2_per_capita',\n",
        "                                              'Per capita domestic RPKs': 'aviation_km_per_capita'})\n",
        "# show only the true countries, not the combinations like continents\n",
        "transport_co2 = transport_co2[~transport_co2['Code'].isnull()].copy()\n",
        "\n",
        "transport_co2 = transport_co2.drop(['Code'], axis=1)\n",
        "transport_co2 = transport_co2.set_index('year')\n",
        "transport_co2.index = pd.to_datetime(transport_co2.index, format='%Y', errors='coerce')\n",
        "\n",
        "transport_food = pd.merge(transport_co2,consumption ,on=['country', 'year'], how='outer')\n"
      ],
      "metadata": {
        "id": "mTdh4sbO0wmM"
      },
      "execution_count": 123,
      "outputs": []
    },
    {
      "cell_type": "markdown",
      "source": [
        "# Combining it into a dataframe that can be used for comparison"
      ],
      "metadata": {
        "id": "XJ4oLMse-Awe"
      }
    },
    {
      "cell_type": "code",
      "source": [
        "everything = pd.merge(co2_df, transport_food,on=['country', 'year'], how='outer')\n",
        "everything = pd.merge(everything, fuel_use[['country', 'fossil_share_energy']] ,on=['country', 'year'], how='outer')\n",
        "\n",
        "# Rows without the co2 consumed per capita present are no use\n",
        "everything = everything[~everything['total_co2_consumed_per_capita'].isna()]\n",
        "\n",
        "# Let's look at the last 20 years\n",
        "everything_2000 = everything[(everything.index.year >= 2000)]\n",
        "\n",
        "# Function to resample and interpolate\n",
        "def prepare(df):\n",
        "    df.index = pd.to_datetime(df.index, format='%Y', errors='coerce')\n",
        "    df = (\n",
        "        df.groupby('country')\n",
        "        .resample(\"YS\")\n",
        "        .mean(numeric_only=True)\n",
        "        .interpolate(method='linear')\n",
        "    )\n",
        "    df.reset_index(inplace=True)\n",
        "    df.set_index('year', inplace=True)\n",
        "\n",
        "    return df\n",
        "\n",
        "\n",
        "everything_2000_interpolated = prepare(everything_2000).dropna()"
      ],
      "metadata": {
        "id": "Ab8Jx4K_DGOz"
      },
      "execution_count": 203,
      "outputs": []
    },
    {
      "cell_type": "markdown",
      "source": [
        "# Can I find a correlation between any of the factors and the CO2 output per Capita?"
      ],
      "metadata": {
        "id": "bDvOxNpYiXKP"
      }
    },
    {
      "cell_type": "code",
      "source": [
        "# Calculating correlations\n",
        "# List of columns to calculate correlations\n",
        "columns = ['gdp_per_capita', 'meat_consumption_per_capita_(kg per year)',\n",
        "           'dairy_consumption_per_capita_(kg_per_year)',\n",
        "           'fossil_share_energy', 'aviation_km_per_capita']\n",
        "\n",
        "# Initialize a list to store the correlation results\n",
        "correlation_results_emission = []\n",
        "p_value_results_emission = []\n",
        "\n",
        "# Iterate over each column\n",
        "for column in columns:\n",
        "    # Calculate the correlation between the column and 'total co2 emitted per capita'\n",
        "    correlation, p_value = pearsonr(everything_2000_interpolated['total_co2_emitted_per_capita'], everything_2000_interpolated[column])\n",
        "\n",
        "    # Append the correlation result to the list\n",
        "    correlation_results_emission.append((column, correlation, p_value))\n",
        "    p_value_results_emission.append((column, p_value))\n",
        "\n",
        "# Sort the correlation results by correlation value\n",
        "correlation_results_emission.sort(key=lambda x: x[1], reverse=True)\n",
        "p_value_results_emission.sort(key=lambda x: x[1])\n",
        "\n",
        "# Extract the column names, correlation values, and p-values from the results\n",
        "columns_emission = [result[0] for result in correlation_results_emission]\n",
        "correlation_values_emission = [result[1] for result in correlation_results_emission]\n",
        "p_values_emission = [result[1] for result in p_value_results_emission]\n",
        "\n",
        "# Create a figure and two subplots\n",
        "fig,ax = plt.subplots(figsize=(10, 2.5))\n",
        "\n",
        "colors = ['C0', 'C1', 'C2', 'C3', 'C4']\n",
        "\n",
        "y_emission = np.zeros(len(columns_emission))\n",
        "\n",
        "scatter = ax.scatter(correlation_values_emission, y_emission, c=colors, s=100)\n",
        "\n",
        "ax.tick_params(axis='y', left=False, labelleft=False)\n",
        "ax.axhline(0, color='black', linewidth=0.5)\n",
        "ax.grid(axis='x', linestyle='--')\n",
        "  \n",
        "ax.set_xlim(-1, 1)\n",
        "ax.set_title('Correlation with Total CO2 Output per Capita')\n",
        "ax.set_xlabel('Correlation')\n",
        "\n",
        "legend_elements1 = [plt.Line2D([0], [0], marker='o', color='w', label=column, markerfacecolor=color, markersize=10) for column, color in zip(columns_consumption, colors)]\n",
        "legend_elements2 = [plt.Line2D([0], [0], marker='o', color='w', label=column, markerfacecolor=color, markersize=10) for column, color in zip(columns_emission, colors)]\n",
        "ax.legend(handles=legend_elements1, loc='center left', bbox_to_anchor=(1, 0.5), title='Columns')\n",
        "\n",
        "plt.tight_layout()\n",
        "plt.show()"
      ],
      "metadata": {
        "colab": {
          "base_uri": "https://localhost:8080/",
          "height": 257
        },
        "id": "-cxDLlhHHJJv",
        "outputId": "e248ab48-e6d0-4a91-fd77-6291069fe1d1"
      },
      "execution_count": 173,
      "outputs": [
        {
          "output_type": "display_data",
          "data": {
            "text/plain": [
              "<Figure size 1000x250 with 1 Axes>"
            ],
            "image/png": "[encoded data removed]"
          },
          "metadata": {}
        }
      ]
    },
    {
      "cell_type": "markdown",
      "source": [
        "# Conclusion:\n",
        "* **gdp**: The correlation coefficient of 0.73 indicates a strong positive correlation between GDP per capita and the total energy per capita consumed. This suggests that as GDP per capita increases, there is a tendency for higher energy consumption per capita. The p-value of 0.0 indicates that this correlation is highly statistically significant, providing strong evidence of the relationship.\n",
        "\n",
        "* **meat_consumption**: The correlation coefficient of 0.56 suggests a moderate positive correlation between meat consumption per capita and the total energy per capita consumed. This implies that higher meat consumption is associated with higher energy consumption. The p-value of 2.34e-202 indicates that this correlation is highly statistically significant.\n",
        "\n",
        "* **dairy_consumption**: The correlation coefficient of 0.30 indicates a weak positive correlation between dairy consumption per capita and the total energy per capita consumed. This suggests that higher dairy consumption is somewhat associated with higher energy consumption. The p-value of 3.48e-54 suggests that this correlation is statistically significant.\n",
        "\n",
        "* **fossil energy**: The correlation coefficient of 0.21 indicates a weak positive correlation between the share of fossil energy and the total energy per capita consumed. This implies that a higher share of fossil energy in the energy mix is somewhat associated with higher energy consumption. The p-value of 3.11e-25 suggests that this correlation is statistically significant.\n",
        "\n",
        "* **aviation**: The correlation coefficient of 0.09 suggests a weak positive correlation between aviation kilometers traveled per capita and the total energy per capita consumed. This indicates that higher levels of aviation activity are somewhat associated with higher energy consumption. The p-value of 2.51e-06 suggests that this correlation is statistically significant.\n",
        "\n",
        "The biggest predictor of a large CO2 output per capita seems to be the GDP.\n",
        "Which makes sense. A higher quality of living requires more energy. Bot in the sense of electricity but also when it comes to energy needed for the production of more items and food."
      ],
      "metadata": {
        "id": "yk4I4WjSf8jh"
      }
    },
    {
      "cell_type": "markdown",
      "source": [
        "# which countries are making the biggest strides in decreasing CO2 output?"
      ],
      "metadata": {
        "id": "QQbMGdgdO2J9"
      }
    },
    {
      "cell_type": "markdown",
      "source": [
        "Let's first look the change in CO2 output over the past 20 years. \n",
        "It is important to not only look at the total output per capita but also the output per capita that has been corrected for trade.\n",
        "Because countries that produce for other countries emit CO2 for that other country.\n",
        "When \n"
      ],
      "metadata": {
        "id": "vUjdmtL8PBlr"
      }
    },
    {
      "cell_type": "code",
      "source": [
        "# Finding the top and bottom when it comes to the share of primary that comes from low-carbon\n",
        "grouped = everything_2000_interpolated.groupby('country')\n",
        "\n",
        "first_consumption = grouped.first()['total_co2_consumed_per_capita']\n",
        "last_consumption = grouped.last()['total_co2_consumed_per_capita']\n",
        "relative_change_consumption = (((last_consumption - first_consumption) / first_consumption)* 100).round(3)\n",
        "\n",
        "first_gdp = grouped.first()['gdp_per_capita']\n",
        "last_gdp = grouped.last()['gdp_per_capita']\n",
        "relative_change_gdp = (((last_gdp - first_gdp) / first_gdp)* 100).round(3)\n",
        "\n",
        "change_df = pd.DataFrame({'change_CO2_output_per_capita_(%)': relative_change_consumption})\n",
        "change_df['change_gdp_per_capita_(%)'] = relative_change_gdp\n",
        "biggest_consumption_changers = relative_change_consumption.sort_values(ascending=True).head(5)\n",
        "biggest_consumption_changers = biggest_consumption_changers.astype(str) + \" %\"\n",
        "\n",
        "print('The countries that showed the biggest decrease in CO2 emission per capita, corrected for trade, since 2020:')\n",
        "print(biggest_consumption_changers)"
      ],
      "metadata": {
        "colab": {
          "base_uri": "https://localhost:8080/"
        },
        "id": "DQb1GDFXrxCY",
        "outputId": "e5108dd5-d5f5-43c8-8249-b0cb2fff61b4"
      },
      "execution_count": 292,
      "outputs": [
        {
          "output_type": "stream",
          "name": "stdout",
          "text": [
            "The countries that showed the biggest decrease in CO2 emission per capita, corrected for trade, since 2020:\n",
            "country\n",
            "Venezuela         -79.809 %\n",
            "Portugal          -56.617 %\n",
            "Greece            -46.478 %\n",
            "United Kingdom    -45.381 %\n",
            "Finland           -43.131 %\n",
            "Name: total_co2_consumed_per_capita, dtype: object\n"
          ]
        }
      ]
    },
    {
      "cell_type": "markdown",
      "source": [
        "We can see that there are countries that managed to decrease their CO2 output per capita.\n",
        "\n",
        "However, the biggest strides are probably being made by countries that manage to decrease CO2 output per capita while also increasing GDP. \n",
        "Because that means that they not only decreased their output but also found a way to counteract  the growth in CO2 emissions due to the rising standard of living.\n",
        "\n",
        "Let's look at specifically the output per capita and the GDP."
      ],
      "metadata": {
        "id": "T9QDoL6jWqa8"
      }
    },
    {
      "cell_type": "code",
      "source": [
        "biggest_strides = change_df[(change_df['change_CO2_output_per_capita_(%)'] < 0) & (change_df['change_gdp_per_capita_(%)'] > 0)].copy()\n",
        "co2_rank = biggest_strides['change_CO2_output_per_capita_(%)'].rank(ascending=True)\n",
        "gdp_rank = biggest_strides['change_gdp_per_capita_(%)'].rank(ascending=False)\n",
        "biggest_strides['total_rank'] = (co2_rank + gdp_rank).rank()\n",
        "biggest_strides"
      ],
      "metadata": {
        "colab": {
          "base_uri": "https://localhost:8080/",
          "height": 434
        },
        "id": "N_dpGWJ5tFDj",
        "outputId": "04c80665-e6c8-46ea-92e2-fd85658ad05c"
      },
      "execution_count": 371,
      "outputs": [
        {
          "output_type": "execute_result",
          "data": {
            "text/plain": [
              "                      change_CO2_output_per_capita_(%)  \\\n",
              "country                                                  \n",
              "Australia                                       -9.489   \n",
              "Czechia                                        -19.380   \n",
              "El Salvador                                     -2.586   \n",
              "Finland                                        -43.131   \n",
              "Israel                                         -24.964   \n",
              "Jamaica                                        -11.523   \n",
              "Jordan                                         -22.261   \n",
              "Poland                                          -4.169   \n",
              "Portugal                                       -56.617   \n",
              "Slovakia                                       -20.228   \n",
              "South Africa                                   -12.372   \n",
              "Sweden                                         -38.570   \n",
              "Ukraine                                         -4.223   \n",
              "United Arab Emirates                           -30.213   \n",
              "United Kingdom                                 -45.381   \n",
              "Zambia                                          -0.761   \n",
              "\n",
              "                      change_gdp_per_capita_(%)  total_rank  \n",
              "country                                                      \n",
              "Australia                                 9.577        16.0  \n",
              "Czechia                                 113.056         5.5  \n",
              "El Salvador                             162.328        11.5  \n",
              "Finland                                  10.299         9.5  \n",
              "Israel                                   25.748        11.5  \n",
              "Jamaica                                 266.437         3.0  \n",
              "Jordan                                   35.750         9.5  \n",
              "Poland                                   92.342        13.0  \n",
              "Portugal                                 51.589         1.0  \n",
              "Slovakia                                 68.212         7.5  \n",
              "South Africa                            166.736         3.0  \n",
              "Sweden                                   30.274         7.5  \n",
              "Ukraine                                 563.781         5.5  \n",
              "United Arab Emirates                      3.172        14.0  \n",
              "United Kingdom                           35.093         3.0  \n",
              "Zambia                                   74.987        15.0  "
            ],
            "text/html": [
              "\n",
              "  <div id=\"df-9b74a41b-cd37-4dcc-a0e5-74b1ff5da396\">\n",
              "    <div class=\"colab-df-container\">\n",
              "      <div>\n",
              "<style scoped>\n",
              "    .dataframe tbody tr th:only-of-type {\n",
              "        vertical-align: middle;\n",
              "    }\n",
              "\n",
              "    .dataframe tbody tr th {\n",
              "        vertical-align: top;\n",
              "    }\n",
              "\n",
              "    .dataframe thead th {\n",
              "        text-align: right;\n",
              "    }\n",
              "</style>\n",
              "<table border=\"1\" class=\"dataframe\">\n",
              "  <thead>\n",
              "    <tr style=\"text-align: right;\">\n",
              "      <th></th>\n",
              "      <th>change_CO2_output_per_capita_(%)</th>\n",
              "      <th>change_gdp_per_capita_(%)</th>\n",
              "      <th>total_rank</th>\n",
              "    </tr>\n",
              "    <tr>\n",
              "      <th>country</th>\n",
              "      <th></th>\n",
              "      <th></th>\n",
              "      <th></th>\n",
              "    </tr>\n",
              "  </thead>\n",
              "  <tbody>\n",
              "    <tr>\n",
              "      <th>Australia</th>\n",
              "      <td>-9.489</td>\n",
              "      <td>9.577</td>\n",
              "      <td>16.0</td>\n",
              "    </tr>\n",
              "    <tr>\n",
              "      <th>Czechia</th>\n",
              "      <td>-19.380</td>\n",
              "      <td>113.056</td>\n",
              "      <td>5.5</td>\n",
              "    </tr>\n",
              "    <tr>\n",
              "      <th>El Salvador</th>\n",
              "      <td>-2.586</td>\n",
              "      <td>162.328</td>\n",
              "      <td>11.5</td>\n",
              "    </tr>\n",
              "    <tr>\n",
              "      <th>Finland</th>\n",
              "      <td>-43.131</td>\n",
              "      <td>10.299</td>\n",
              "      <td>9.5</td>\n",
              "    </tr>\n",
              "    <tr>\n",
              "      <th>Israel</th>\n",
              "      <td>-24.964</td>\n",
              "      <td>25.748</td>\n",
              "      <td>11.5</td>\n",
              "    </tr>\n",
              "    <tr>\n",
              "      <th>Jamaica</th>\n",
              "      <td>-11.523</td>\n",
              "      <td>266.437</td>\n",
              "      <td>3.0</td>\n",
              "    </tr>\n",
              "    <tr>\n",
              "      <th>Jordan</th>\n",
              "      <td>-22.261</td>\n",
              "      <td>35.750</td>\n",
              "      <td>9.5</td>\n",
              "    </tr>\n",
              "    <tr>\n",
              "      <th>Poland</th>\n",
              "      <td>-4.169</td>\n",
              "      <td>92.342</td>\n",
              "      <td>13.0</td>\n",
              "    </tr>\n",
              "    <tr>\n",
              "      <th>Portugal</th>\n",
              "      <td>-56.617</td>\n",
              "      <td>51.589</td>\n",
              "      <td>1.0</td>\n",
              "    </tr>\n",
              "    <tr>\n",
              "      <th>Slovakia</th>\n",
              "      <td>-20.228</td>\n",
              "      <td>68.212</td>\n",
              "      <td>7.5</td>\n",
              "    </tr>\n",
              "    <tr>\n",
              "      <th>South Africa</th>\n",
              "      <td>-12.372</td>\n",
              "      <td>166.736</td>\n",
              "      <td>3.0</td>\n",
              "    </tr>\n",
              "    <tr>\n",
              "      <th>Sweden</th>\n",
              "      <td>-38.570</td>\n",
              "      <td>30.274</td>\n",
              "      <td>7.5</td>\n",
              "    </tr>\n",
              "    <tr>\n",
              "      <th>Ukraine</th>\n",
              "      <td>-4.223</td>\n",
              "      <td>563.781</td>\n",
              "      <td>5.5</td>\n",
              "    </tr>\n",
              "    <tr>\n",
              "      <th>United Arab Emirates</th>\n",
              "      <td>-30.213</td>\n",
              "      <td>3.172</td>\n",
              "      <td>14.0</td>\n",
              "    </tr>\n",
              "    <tr>\n",
              "      <th>United Kingdom</th>\n",
              "      <td>-45.381</td>\n",
              "      <td>35.093</td>\n",
              "      <td>3.0</td>\n",
              "    </tr>\n",
              "    <tr>\n",
              "      <th>Zambia</th>\n",
              "      <td>-0.761</td>\n",
              "      <td>74.987</td>\n",
              "      <td>15.0</td>\n",
              "    </tr>\n",
              "  </tbody>\n",
              "</table>\n",
              "</div>\n",
              "      <button class=\"colab-df-convert\" onclick=\"convertToInteractive('df-9b74a41b-cd37-4dcc-a0e5-74b1ff5da396')\"\n",
              "              title=\"Convert this dataframe to an interactive table.\"\n",
              "              style=\"display:none;\">\n",
              "        \n",
              "  <svg xmlns=\"http://www.w3.org/2000/svg\" height=\"24px\"viewBox=\"0 0 24 24\"\n",
              "       width=\"24px\">\n",
              "    <path d=\"M0 0h24v24H0V0z\" fill=\"none\"/>\n",
              "    <path d=\"M18.56 5.44l.94 2.06.94-2.06 2.06-.94-2.06-.94-.94-2.06-.94 2.06-2.06.94zm-11 1L8.5 8.5l.94-2.06 2.06-.94-2.06-.94L8.5 2.5l-.94 2.06-2.06.94zm10 10l.94 2.06.94-2.06 2.06-.94-2.06-.94-.94-2.06-.94 2.06-2.06.94z\"/><path d=\"M17.41 7.96l-1.37-1.37c-.4-.4-.92-.59-1.43-.59-.52 0-1.04.2-1.43.59L10.3 9.45l-7.72 7.72c-.78.78-.78 2.05 0 2.83L4 21.41c.39.39.9.59 1.41.59.51 0 1.02-.2 1.41-.59l7.78-7.78 2.81-2.81c.8-.78.8-2.07 0-2.86zM5.41 20L4 18.59l7.72-7.72 1.47 1.35L5.41 20z\"/>\n",
              "  </svg>\n",
              "      </button>\n",
              "      \n",
              "  <style>\n",
              "    .colab-df-container {\n",
              "      display:flex;\n",
              "      flex-wrap:wrap;\n",
              "      gap: 12px;\n",
              "    }\n",
              "\n",
              "    .colab-df-convert {\n",
              "      background-color: #E8F0FE;\n",
              "      border: none;\n",
              "      border-radius: 50%;\n",
              "      cursor: pointer;\n",
              "      display: none;\n",
              "      fill: #1967D2;\n",
              "      height: 32px;\n",
              "      padding: 0 0 0 0;\n",
              "      width: 32px;\n",
              "    }\n",
              "\n",
              "    .colab-df-convert:hover {\n",
              "      background-color: #E2EBFA;\n",
              "      box-shadow: 0px 1px 2px rgba(60, 64, 67, 0.3), 0px 1px 3px 1px rgba(60, 64, 67, 0.15);\n",
              "      fill: #174EA6;\n",
              "    }\n",
              "\n",
              "    [theme=dark] .colab-df-convert {\n",
              "      background-color: #3B4455;\n",
              "      fill: #D2E3FC;\n",
              "    }\n",
              "\n",
              "    [theme=dark] .colab-df-convert:hover {\n",
              "      background-color: #434B5C;\n",
              "      box-shadow: 0px 1px 3px 1px rgba(0, 0, 0, 0.15);\n",
              "      filter: drop-shadow(0px 1px 2px rgba(0, 0, 0, 0.3));\n",
              "      fill: #FFFFFF;\n",
              "    }\n",
              "  </style>\n",
              "\n",
              "      <script>\n",
              "        const buttonEl =\n",
              "          document.querySelector('#df-9b74a41b-cd37-4dcc-a0e5-74b1ff5da396 button.colab-df-convert');\n",
              "        buttonEl.style.display =\n",
              "          google.colab.kernel.accessAllowed ? 'block' : 'none';\n",
              "\n",
              "        async function convertToInteractive(key) {\n",
              "          const element = document.querySelector('#df-9b74a41b-cd37-4dcc-a0e5-74b1ff5da396');\n",
              "          const dataTable =\n",
              "            await google.colab.kernel.invokeFunction('convertToInteractive',\n",
              "                                                     [key], {});\n",
              "          if (!dataTable) return;\n",
              "\n",
              "          const docLinkHtml = 'Like what you see? Visit the ' +\n",
              "            '<a target=\"_blank\" href=https://colab.research.google.com/notebooks/data_table.ipynb>data table notebook</a>'\n",
              "            + ' to learn more about interactive tables.';\n",
              "          element.innerHTML = '';\n",
              "          dataTable['output_type'] = 'display_data';\n",
              "          await google.colab.output.renderOutput(dataTable, element);\n",
              "          const docLink = document.createElement('div');\n",
              "          docLink.innerHTML = docLinkHtml;\n",
              "          element.appendChild(docLink);\n",
              "        }\n",
              "      </script>\n",
              "    </div>\n",
              "  </div>\n",
              "  "
            ],
            "application/vnd.google.colaboratory.module+javascript": "\n      import \"https://ssl.gstatic.com/colaboratory/data_table/99dac6621f6ae8c4/data_table.js\";\n\n      window.createDataTable({\n        data: [[\"Australia\",\n{\n            'v': -9.489,\n            'f': \"-9.489\",\n        },\n{\n            'v': 9.577,\n            'f': \"9.577\",\n        },\n{\n            'v': 16.0,\n            'f': \"16.0\",\n        }],\n [\"Czechia\",\n{\n            'v': -19.38,\n            'f': \"-19.38\",\n        },\n{\n            'v': 113.056,\n            'f': \"113.056\",\n        },\n{\n            'v': 5.5,\n            'f': \"5.5\",\n        }],\n [\"El Salvador\",\n{\n            'v': -2.586,\n            'f': \"-2.586\",\n        },\n{\n            'v': 162.328,\n            'f': \"162.328\",\n        },\n{\n            'v': 11.5,\n            'f': \"11.5\",\n        }],\n [\"Finland\",\n{\n            'v': -43.131,\n            'f': \"-43.131\",\n        },\n{\n            'v': 10.299,\n            'f': \"10.299\",\n        },\n{\n            'v': 9.5,\n            'f': \"9.5\",\n        }],\n [\"Israel\",\n{\n            'v': -24.964,\n            'f': \"-24.964\",\n        },\n{\n            'v': 25.748,\n            'f': \"25.748\",\n        },\n{\n            'v': 11.5,\n            'f': \"11.5\",\n        }],\n [\"Jamaica\",\n{\n            'v': -11.523,\n            'f': \"-11.523\",\n        },\n{\n            'v': 266.437,\n            'f': \"266.437\",\n        },\n{\n            'v': 3.0,\n            'f': \"3.0\",\n        }],\n [\"Jordan\",\n{\n            'v': -22.261,\n            'f': \"-22.261\",\n        },\n{\n            'v': 35.75,\n            'f': \"35.75\",\n        },\n{\n            'v': 9.5,\n            'f': \"9.5\",\n        }],\n [\"Poland\",\n{\n            'v': -4.169,\n            'f': \"-4.169\",\n        },\n{\n            'v': 92.342,\n            'f': \"92.342\",\n        },\n{\n            'v': 13.0,\n            'f': \"13.0\",\n        }],\n [\"Portugal\",\n{\n            'v': -56.617,\n            'f': \"-56.617\",\n        },\n{\n            'v': 51.589,\n            'f': \"51.589\",\n        },\n{\n            'v': 1.0,\n            'f': \"1.0\",\n        }],\n [\"Slovakia\",\n{\n            'v': -20.228,\n            'f': \"-20.228\",\n        },\n{\n            'v': 68.212,\n            'f': \"68.212\",\n        },\n{\n            'v': 7.5,\n            'f': \"7.5\",\n        }],\n [\"South Africa\",\n{\n            'v': -12.372,\n            'f': \"-12.372\",\n        },\n{\n            'v': 166.736,\n            'f': \"166.736\",\n        },\n{\n            'v': 3.0,\n            'f': \"3.0\",\n        }],\n [\"Sweden\",\n{\n            'v': -38.57,\n            'f': \"-38.57\",\n        },\n{\n            'v': 30.274,\n            'f': \"30.274\",\n        },\n{\n            'v': 7.5,\n            'f': \"7.5\",\n        }],\n [\"Ukraine\",\n{\n            'v': -4.223,\n            'f': \"-4.223\",\n        },\n{\n            'v': 563.781,\n            'f': \"563.781\",\n        },\n{\n            'v': 5.5,\n            'f': \"5.5\",\n        }],\n [\"United Arab Emirates\",\n{\n            'v': -30.213,\n            'f': \"-30.213\",\n        },\n{\n            'v': 3.172,\n            'f': \"3.172\",\n        },\n{\n            'v': 14.0,\n            'f': \"14.0\",\n        }],\n [\"United Kingdom\",\n{\n            'v': -45.381,\n            'f': \"-45.381\",\n        },\n{\n            'v': 35.093,\n            'f': \"35.093\",\n        },\n{\n            'v': 3.0,\n            'f': \"3.0\",\n        }],\n [\"Zambia\",\n{\n            'v': -0.761,\n            'f': \"-0.761\",\n        },\n{\n            'v': 74.987,\n            'f': \"74.987\",\n        },\n{\n            'v': 15.0,\n            'f': \"15.0\",\n        }]],\n        columns: [[\"string\", \"country\"], [\"number\", \"change_CO2_output_per_capita_(%)\"], [\"number\", \"change_gdp_per_capita_(%)\"], [\"number\", \"total_rank\"]],\n        columnOptions: [{\"width\": \"1px\", \"className\": \"index_column\"}],\n        rowsPerPage: 25,\n        helpUrl: \"https://colab.research.google.com/notebooks/data_table.ipynb\",\n        suppressOutputScrolling: true,\n        minimumWidth: undefined,\n      });\n    "
          },
          "metadata": {},
          "execution_count": 371
        }
      ]
    },
    {
      "cell_type": "markdown",
      "source": [
        "The following countries show a decline in CO2 output per capita (corrected for trade) and a rise in GDP per capita (in order of biggest decrease in CO2 output): \n",
        "* Portugal\n",
        "* United Kingdom\t\n",
        "* Finland\t\n",
        "* Sweden\t\n",
        "* United Arab Emirates\t\n",
        "* Israel\t\n",
        "* Jordan\t\n",
        "* Slovakia\n",
        "* Czechia\n",
        "* South Africa\t\n",
        "* Jamaica\n",
        "* Australia\n",
        "* Ukraine\n",
        "* Poland\n",
        "* El Salvador\t\n",
        "* Zambia\n",
        "\n",
        "It is also possible to rank them, based on how well they did on both aspects, the top ten would like this: \n",
        "\n",
        "\n"
      ],
      "metadata": {
        "id": "iTnzxid32zfN"
      }
    },
    {
      "cell_type": "code",
      "source": [
        "biggest_strides['total_rank'].sort_values(ascending=True).head(10)"
      ],
      "metadata": {
        "colab": {
          "base_uri": "https://localhost:8080/"
        },
        "id": "vwxnFPhi4GV5",
        "outputId": "98a144a6-005d-4352-bd65-c0ac9ce962fd"
      },
      "execution_count": 372,
      "outputs": [
        {
          "output_type": "execute_result",
          "data": {
            "text/plain": [
              "country\n",
              "Portugal          1.0\n",
              "Jamaica           3.0\n",
              "South Africa      3.0\n",
              "United Kingdom    3.0\n",
              "Czechia           5.5\n",
              "Ukraine           5.5\n",
              "Slovakia          7.5\n",
              "Sweden            7.5\n",
              "Finland           9.5\n",
              "Jordan            9.5\n",
              "Name: total_rank, dtype: float64"
            ]
          },
          "metadata": {},
          "execution_count": 372
        }
      ]
    },
    {
      "cell_type": "markdown",
      "source": [
        "However, I believe that this would be oversimplified. Yes, these countries managed to decrease CO2 consumption per capita while also increasing the GDP per capita but more is needed to truly make big strides, now and in the future.\n",
        "\n"
      ],
      "metadata": {
        "id": "4yja9mcz4QJS"
      }
    },
    {
      "cell_type": "markdown",
      "source": [
        "# What happens when we also look at any pledges and targets on net-zero emission?\n",
        "Some countries have set a target or made a pledge to reduce Co2 output, working towards a situation where the amount of greenhouse gasses emitted is as close to zero as possible with any remaning emission re-absorbed by, for example, oceans and forest.\n",
        "\n",
        "However, not all countries have set the same goals and have used the same criteria. For example, not all countries allow for use of carbon offset (removing CO2 instead of not emitting it) in the calculation of the progress.\n",
        "\n",
        "It is also important to recognize that a pledge is nothing more or less than a promiss. It needs to be put in law to become something that can not be disregarded or changed on the way.\n",
        "\n",
        "For this assignment I will not look at the criteria and only look at: \n",
        "* does a country have a goal?\n",
        "* what is the pledged year\n",
        "* what is the status of the goal\n"
      ],
      "metadata": {
        "id": "UChll3Js_reI"
      }
    },
    {
      "cell_type": "code",
      "source": [
        "even_bigger_strides = pd.merge(change_df, net_zero_pledge, on='country', how='outer' )\n",
        "achieved = even_bigger_strides[even_bigger_strides['status']=='Achieved']"
      ],
      "metadata": {
        "id": "vOploD6f-nyV"
      },
      "execution_count": 382,
      "outputs": []
    },
    {
      "cell_type": "markdown",
      "source": [
        "There are a few countries that have already achieved their goal: "
      ],
      "metadata": {
        "id": "0EmqZyyME0nJ"
      }
    },
    {
      "cell_type": "code",
      "source": [
        "achieved"
      ],
      "metadata": {
        "colab": {
          "base_uri": "https://localhost:8080/",
          "height": 240
        },
        "id": "1y4IezgCEtef",
        "outputId": "ae3655e2-d0fe-4d22-b116-65bf25d09d23"
      },
      "execution_count": 383,
      "outputs": [
        {
          "output_type": "execute_result",
          "data": {
            "text/plain": [
              "           country  change_CO2_output_per_capita_(%)  \\\n",
              "9            Benin                            89.565   \n",
              "16        Cambodia                           504.113   \n",
              "62      Madagascar                            19.136   \n",
              "122         Bhutan                               NaN   \n",
              "124  Guinea-Bissau                               NaN   \n",
              "125         Guyana                               NaN   \n",
              "127        Liberia                               NaN   \n",
              "\n",
              "     change_gdp_per_capita_(%)  pledged_year    status  \n",
              "9                       86.586        2000.0  Achieved  \n",
              "16                      55.156        2000.0  Achieved  \n",
              "62                      -7.832        2010.0  Achieved  \n",
              "122                        NaN        2000.0  Achieved  \n",
              "124                        NaN        2030.0  Achieved  \n",
              "125                        NaN        2019.0  Achieved  \n",
              "127                        NaN        2000.0  Achieved  "
            ],
            "text/html": [
              "\n",
              "  <div id=\"df-58fc2ec6-560e-4cf6-8fd4-f104be44837c\">\n",
              "    <div class=\"colab-df-container\">\n",
              "      <div>\n",
              "<style scoped>\n",
              "    .dataframe tbody tr th:only-of-type {\n",
              "        vertical-align: middle;\n",
              "    }\n",
              "\n",
              "    .dataframe tbody tr th {\n",
              "        vertical-align: top;\n",
              "    }\n",
              "\n",
              "    .dataframe thead th {\n",
              "        text-align: right;\n",
              "    }\n",
              "</style>\n",
              "<table border=\"1\" class=\"dataframe\">\n",
              "  <thead>\n",
              "    <tr style=\"text-align: right;\">\n",
              "      <th></th>\n",
              "      <th>country</th>\n",
              "      <th>change_CO2_output_per_capita_(%)</th>\n",
              "      <th>change_gdp_per_capita_(%)</th>\n",
              "      <th>pledged_year</th>\n",
              "      <th>status</th>\n",
              "    </tr>\n",
              "  </thead>\n",
              "  <tbody>\n",
              "    <tr>\n",
              "      <th>9</th>\n",
              "      <td>Benin</td>\n",
              "      <td>89.565</td>\n",
              "      <td>86.586</td>\n",
              "      <td>2000.0</td>\n",
              "      <td>Achieved</td>\n",
              "    </tr>\n",
              "    <tr>\n",
              "      <th>16</th>\n",
              "      <td>Cambodia</td>\n",
              "      <td>504.113</td>\n",
              "      <td>55.156</td>\n",
              "      <td>2000.0</td>\n",
              "      <td>Achieved</td>\n",
              "    </tr>\n",
              "    <tr>\n",
              "      <th>62</th>\n",
              "      <td>Madagascar</td>\n",
              "      <td>19.136</td>\n",
              "      <td>-7.832</td>\n",
              "      <td>2010.0</td>\n",
              "      <td>Achieved</td>\n",
              "    </tr>\n",
              "    <tr>\n",
              "      <th>122</th>\n",
              "      <td>Bhutan</td>\n",
              "      <td>NaN</td>\n",
              "      <td>NaN</td>\n",
              "      <td>2000.0</td>\n",
              "      <td>Achieved</td>\n",
              "    </tr>\n",
              "    <tr>\n",
              "      <th>124</th>\n",
              "      <td>Guinea-Bissau</td>\n",
              "      <td>NaN</td>\n",
              "      <td>NaN</td>\n",
              "      <td>2030.0</td>\n",
              "      <td>Achieved</td>\n",
              "    </tr>\n",
              "    <tr>\n",
              "      <th>125</th>\n",
              "      <td>Guyana</td>\n",
              "      <td>NaN</td>\n",
              "      <td>NaN</td>\n",
              "      <td>2019.0</td>\n",
              "      <td>Achieved</td>\n",
              "    </tr>\n",
              "    <tr>\n",
              "      <th>127</th>\n",
              "      <td>Liberia</td>\n",
              "      <td>NaN</td>\n",
              "      <td>NaN</td>\n",
              "      <td>2000.0</td>\n",
              "      <td>Achieved</td>\n",
              "    </tr>\n",
              "  </tbody>\n",
              "</table>\n",
              "</div>\n",
              "      <button class=\"colab-df-convert\" onclick=\"convertToInteractive('df-58fc2ec6-560e-4cf6-8fd4-f104be44837c')\"\n",
              "              title=\"Convert this dataframe to an interactive table.\"\n",
              "              style=\"display:none;\">\n",
              "        \n",
              "  <svg xmlns=\"http://www.w3.org/2000/svg\" height=\"24px\"viewBox=\"0 0 24 24\"\n",
              "       width=\"24px\">\n",
              "    <path d=\"M0 0h24v24H0V0z\" fill=\"none\"/>\n",
              "    <path d=\"M18.56 5.44l.94 2.06.94-2.06 2.06-.94-2.06-.94-.94-2.06-.94 2.06-2.06.94zm-11 1L8.5 8.5l.94-2.06 2.06-.94-2.06-.94L8.5 2.5l-.94 2.06-2.06.94zm10 10l.94 2.06.94-2.06 2.06-.94-2.06-.94-.94-2.06-.94 2.06-2.06.94z\"/><path d=\"M17.41 7.96l-1.37-1.37c-.4-.4-.92-.59-1.43-.59-.52 0-1.04.2-1.43.59L10.3 9.45l-7.72 7.72c-.78.78-.78 2.05 0 2.83L4 21.41c.39.39.9.59 1.41.59.51 0 1.02-.2 1.41-.59l7.78-7.78 2.81-2.81c.8-.78.8-2.07 0-2.86zM5.41 20L4 18.59l7.72-7.72 1.47 1.35L5.41 20z\"/>\n",
              "  </svg>\n",
              "      </button>\n",
              "      \n",
              "  <style>\n",
              "    .colab-df-container {\n",
              "      display:flex;\n",
              "      flex-wrap:wrap;\n",
              "      gap: 12px;\n",
              "    }\n",
              "\n",
              "    .colab-df-convert {\n",
              "      background-color: #E8F0FE;\n",
              "      border: none;\n",
              "      border-radius: 50%;\n",
              "      cursor: pointer;\n",
              "      display: none;\n",
              "      fill: #1967D2;\n",
              "      height: 32px;\n",
              "      padding: 0 0 0 0;\n",
              "      width: 32px;\n",
              "    }\n",
              "\n",
              "    .colab-df-convert:hover {\n",
              "      background-color: #E2EBFA;\n",
              "      box-shadow: 0px 1px 2px rgba(60, 64, 67, 0.3), 0px 1px 3px 1px rgba(60, 64, 67, 0.15);\n",
              "      fill: #174EA6;\n",
              "    }\n",
              "\n",
              "    [theme=dark] .colab-df-convert {\n",
              "      background-color: #3B4455;\n",
              "      fill: #D2E3FC;\n",
              "    }\n",
              "\n",
              "    [theme=dark] .colab-df-convert:hover {\n",
              "      background-color: #434B5C;\n",
              "      box-shadow: 0px 1px 3px 1px rgba(0, 0, 0, 0.15);\n",
              "      filter: drop-shadow(0px 1px 2px rgba(0, 0, 0, 0.3));\n",
              "      fill: #FFFFFF;\n",
              "    }\n",
              "  </style>\n",
              "\n",
              "      <script>\n",
              "        const buttonEl =\n",
              "          document.querySelector('#df-58fc2ec6-560e-4cf6-8fd4-f104be44837c button.colab-df-convert');\n",
              "        buttonEl.style.display =\n",
              "          google.colab.kernel.accessAllowed ? 'block' : 'none';\n",
              "\n",
              "        async function convertToInteractive(key) {\n",
              "          const element = document.querySelector('#df-58fc2ec6-560e-4cf6-8fd4-f104be44837c');\n",
              "          const dataTable =\n",
              "            await google.colab.kernel.invokeFunction('convertToInteractive',\n",
              "                                                     [key], {});\n",
              "          if (!dataTable) return;\n",
              "\n",
              "          const docLinkHtml = 'Like what you see? Visit the ' +\n",
              "            '<a target=\"_blank\" href=https://colab.research.google.com/notebooks/data_table.ipynb>data table notebook</a>'\n",
              "            + ' to learn more about interactive tables.';\n",
              "          element.innerHTML = '';\n",
              "          dataTable['output_type'] = 'display_data';\n",
              "          await google.colab.output.renderOutput(dataTable, element);\n",
              "          const docLink = document.createElement('div');\n",
              "          docLink.innerHTML = docLinkHtml;\n",
              "          element.appendChild(docLink);\n",
              "        }\n",
              "      </script>\n",
              "    </div>\n",
              "  </div>\n",
              "  "
            ],
            "application/vnd.google.colaboratory.module+javascript": "\n      import \"https://ssl.gstatic.com/colaboratory/data_table/99dac6621f6ae8c4/data_table.js\";\n\n      window.createDataTable({\n        data: [[{\n            'v': 9,\n            'f': \"9\",\n        },\n\"Benin\",\n{\n            'v': 89.565,\n            'f': \"89.565\",\n        },\n{\n            'v': 86.586,\n            'f': \"86.586\",\n        },\n{\n            'v': 2000.0,\n            'f': \"2000.0\",\n        },\n\"Achieved\"],\n [{\n            'v': 16,\n            'f': \"16\",\n        },\n\"Cambodia\",\n{\n            'v': 504.113,\n            'f': \"504.113\",\n        },\n{\n            'v': 55.156,\n            'f': \"55.156\",\n        },\n{\n            'v': 2000.0,\n            'f': \"2000.0\",\n        },\n\"Achieved\"],\n [{\n            'v': 62,\n            'f': \"62\",\n        },\n\"Madagascar\",\n{\n            'v': 19.136,\n            'f': \"19.136\",\n        },\n{\n            'v': -7.832,\n            'f': \"-7.832\",\n        },\n{\n            'v': 2010.0,\n            'f': \"2010.0\",\n        },\n\"Achieved\"],\n [{\n            'v': 122,\n            'f': \"122\",\n        },\n\"Bhutan\",\n{\n            'v': NaN,\n            'f': \"NaN\",\n        },\n{\n            'v': NaN,\n            'f': \"NaN\",\n        },\n{\n            'v': 2000.0,\n            'f': \"2000.0\",\n        },\n\"Achieved\"],\n [{\n            'v': 124,\n            'f': \"124\",\n        },\n\"Guinea-Bissau\",\n{\n            'v': NaN,\n            'f': \"NaN\",\n        },\n{\n            'v': NaN,\n            'f': \"NaN\",\n        },\n{\n            'v': 2030.0,\n            'f': \"2030.0\",\n        },\n\"Achieved\"],\n [{\n            'v': 125,\n            'f': \"125\",\n        },\n\"Guyana\",\n{\n            'v': NaN,\n            'f': \"NaN\",\n        },\n{\n            'v': NaN,\n            'f': \"NaN\",\n        },\n{\n            'v': 2019.0,\n            'f': \"2019.0\",\n        },\n\"Achieved\"],\n [{\n            'v': 127,\n            'f': \"127\",\n        },\n\"Liberia\",\n{\n            'v': NaN,\n            'f': \"NaN\",\n        },\n{\n            'v': NaN,\n            'f': \"NaN\",\n        },\n{\n            'v': 2000.0,\n            'f': \"2000.0\",\n        },\n\"Achieved\"]],\n        columns: [[\"number\", \"index\"], [\"string\", \"country\"], [\"number\", \"change_CO2_output_per_capita_(%)\"], [\"number\", \"change_gdp_per_capita_(%)\"], [\"number\", \"pledged_year\"], [\"string\", \"status\"]],\n        columnOptions: [{\"width\": \"1px\", \"className\": \"index_column\"}],\n        rowsPerPage: 25,\n        helpUrl: \"https://colab.research.google.com/notebooks/data_table.ipynb\",\n        suppressOutputScrolling: true,\n        minimumWidth: undefined,\n      });\n    "
          },
          "metadata": {},
          "execution_count": 383
        }
      ]
    },
    {
      "cell_type": "markdown",
      "source": [
        "Congratulations to them! But since they are either small, faily underdeveloped and/or have no data on GDP or CO2 output I will not include them in my search for the biggest stride.\n",
        "\n",
        "Let's find countries that have: \n",
        "* decreased their CO2 output\n",
        "* increased their GDP\n",
        "* set a net-zero goal"
      ],
      "metadata": {
        "id": "-5H4Bs5KE6Oa"
      }
    },
    {
      "cell_type": "code",
      "source": [
        "the_biggest_strides = even_bigger_strides[(even_bigger_strides['change_CO2_output_per_capita_(%)'] < 0) & (even_bigger_strides['change_gdp_per_capita_(%)'] > 0) & (~even_bigger_strides['status'].isna()) ].copy()\n",
        "the_biggest_strides"
      ],
      "metadata": {
        "colab": {
          "base_uri": "https://localhost:8080/",
          "height": 284
        },
        "id": "7u6ildF4Apsw",
        "outputId": "bf543479-9fb5-4528-91f7-d957a4e8d5a1"
      },
      "execution_count": 384,
      "outputs": [
        {
          "output_type": "execute_result",
          "data": {
            "text/plain": [
              "                  country  change_CO2_output_per_capita_(%)  \\\n",
              "2               Australia                            -9.489   \n",
              "34                Finland                           -43.131   \n",
              "49                 Israel                           -24.964   \n",
              "85               Portugal                           -56.617   \n",
              "95           South Africa                           -12.372   \n",
              "99                 Sweden                           -38.570   \n",
              "110               Ukraine                            -4.223   \n",
              "111  United Arab Emirates                           -30.213   \n",
              "112        United Kingdom                           -45.381   \n",
              "\n",
              "     change_gdp_per_capita_(%)  pledged_year              status  \n",
              "2                        9.577        2050.0              Pledge  \n",
              "34                      10.299        2035.0  In policy document  \n",
              "49                      25.748        2050.0              Pledge  \n",
              "85                      51.589        2050.0  In policy document  \n",
              "95                     166.736        2050.0              Pledge  \n",
              "99                      30.274        2045.0              In law  \n",
              "110                    563.781        2060.0  In policy document  \n",
              "111                      3.172        2050.0              Pledge  \n",
              "112                     35.093        2050.0              In law  "
            ],
            "text/html": [
              "\n",
              "  <div id=\"df-63416137-49b1-4234-9ea2-8c72f9cde9b2\">\n",
              "    <div class=\"colab-df-container\">\n",
              "      <div>\n",
              "<style scoped>\n",
              "    .dataframe tbody tr th:only-of-type {\n",
              "        vertical-align: middle;\n",
              "    }\n",
              "\n",
              "    .dataframe tbody tr th {\n",
              "        vertical-align: top;\n",
              "    }\n",
              "\n",
              "    .dataframe thead th {\n",
              "        text-align: right;\n",
              "    }\n",
              "</style>\n",
              "<table border=\"1\" class=\"dataframe\">\n",
              "  <thead>\n",
              "    <tr style=\"text-align: right;\">\n",
              "      <th></th>\n",
              "      <th>country</th>\n",
              "      <th>change_CO2_output_per_capita_(%)</th>\n",
              "      <th>change_gdp_per_capita_(%)</th>\n",
              "      <th>pledged_year</th>\n",
              "      <th>status</th>\n",
              "    </tr>\n",
              "  </thead>\n",
              "  <tbody>\n",
              "    <tr>\n",
              "      <th>2</th>\n",
              "      <td>Australia</td>\n",
              "      <td>-9.489</td>\n",
              "      <td>9.577</td>\n",
              "      <td>2050.0</td>\n",
              "      <td>Pledge</td>\n",
              "    </tr>\n",
              "    <tr>\n",
              "      <th>34</th>\n",
              "      <td>Finland</td>\n",
              "      <td>-43.131</td>\n",
              "      <td>10.299</td>\n",
              "      <td>2035.0</td>\n",
              "      <td>In policy document</td>\n",
              "    </tr>\n",
              "    <tr>\n",
              "      <th>49</th>\n",
              "      <td>Israel</td>\n",
              "      <td>-24.964</td>\n",
              "      <td>25.748</td>\n",
              "      <td>2050.0</td>\n",
              "      <td>Pledge</td>\n",
              "    </tr>\n",
              "    <tr>\n",
              "      <th>85</th>\n",
              "      <td>Portugal</td>\n",
              "      <td>-56.617</td>\n",
              "      <td>51.589</td>\n",
              "      <td>2050.0</td>\n",
              "      <td>In policy document</td>\n",
              "    </tr>\n",
              "    <tr>\n",
              "      <th>95</th>\n",
              "      <td>South Africa</td>\n",
              "      <td>-12.372</td>\n",
              "      <td>166.736</td>\n",
              "      <td>2050.0</td>\n",
              "      <td>Pledge</td>\n",
              "    </tr>\n",
              "    <tr>\n",
              "      <th>99</th>\n",
              "      <td>Sweden</td>\n",
              "      <td>-38.570</td>\n",
              "      <td>30.274</td>\n",
              "      <td>2045.0</td>\n",
              "      <td>In law</td>\n",
              "    </tr>\n",
              "    <tr>\n",
              "      <th>110</th>\n",
              "      <td>Ukraine</td>\n",
              "      <td>-4.223</td>\n",
              "      <td>563.781</td>\n",
              "      <td>2060.0</td>\n",
              "      <td>In policy document</td>\n",
              "    </tr>\n",
              "    <tr>\n",
              "      <th>111</th>\n",
              "      <td>United Arab Emirates</td>\n",
              "      <td>-30.213</td>\n",
              "      <td>3.172</td>\n",
              "      <td>2050.0</td>\n",
              "      <td>Pledge</td>\n",
              "    </tr>\n",
              "    <tr>\n",
              "      <th>112</th>\n",
              "      <td>United Kingdom</td>\n",
              "      <td>-45.381</td>\n",
              "      <td>35.093</td>\n",
              "      <td>2050.0</td>\n",
              "      <td>In law</td>\n",
              "    </tr>\n",
              "  </tbody>\n",
              "</table>\n",
              "</div>\n",
              "      <button class=\"colab-df-convert\" onclick=\"convertToInteractive('df-63416137-49b1-4234-9ea2-8c72f9cde9b2')\"\n",
              "              title=\"Convert this dataframe to an interactive table.\"\n",
              "              style=\"display:none;\">\n",
              "        \n",
              "  <svg xmlns=\"http://www.w3.org/2000/svg\" height=\"24px\"viewBox=\"0 0 24 24\"\n",
              "       width=\"24px\">\n",
              "    <path d=\"M0 0h24v24H0V0z\" fill=\"none\"/>\n",
              "    <path d=\"M18.56 5.44l.94 2.06.94-2.06 2.06-.94-2.06-.94-.94-2.06-.94 2.06-2.06.94zm-11 1L8.5 8.5l.94-2.06 2.06-.94-2.06-.94L8.5 2.5l-.94 2.06-2.06.94zm10 10l.94 2.06.94-2.06 2.06-.94-2.06-.94-.94-2.06-.94 2.06-2.06.94z\"/><path d=\"M17.41 7.96l-1.37-1.37c-.4-.4-.92-.59-1.43-.59-.52 0-1.04.2-1.43.59L10.3 9.45l-7.72 7.72c-.78.78-.78 2.05 0 2.83L4 21.41c.39.39.9.59 1.41.59.51 0 1.02-.2 1.41-.59l7.78-7.78 2.81-2.81c.8-.78.8-2.07 0-2.86zM5.41 20L4 18.59l7.72-7.72 1.47 1.35L5.41 20z\"/>\n",
              "  </svg>\n",
              "      </button>\n",
              "      \n",
              "  <style>\n",
              "    .colab-df-container {\n",
              "      display:flex;\n",
              "      flex-wrap:wrap;\n",
              "      gap: 12px;\n",
              "    }\n",
              "\n",
              "    .colab-df-convert {\n",
              "      background-color: #E8F0FE;\n",
              "      border: none;\n",
              "      border-radius: 50%;\n",
              "      cursor: pointer;\n",
              "      display: none;\n",
              "      fill: #1967D2;\n",
              "      height: 32px;\n",
              "      padding: 0 0 0 0;\n",
              "      width: 32px;\n",
              "    }\n",
              "\n",
              "    .colab-df-convert:hover {\n",
              "      background-color: #E2EBFA;\n",
              "      box-shadow: 0px 1px 2px rgba(60, 64, 67, 0.3), 0px 1px 3px 1px rgba(60, 64, 67, 0.15);\n",
              "      fill: #174EA6;\n",
              "    }\n",
              "\n",
              "    [theme=dark] .colab-df-convert {\n",
              "      background-color: #3B4455;\n",
              "      fill: #D2E3FC;\n",
              "    }\n",
              "\n",
              "    [theme=dark] .colab-df-convert:hover {\n",
              "      background-color: #434B5C;\n",
              "      box-shadow: 0px 1px 3px 1px rgba(0, 0, 0, 0.15);\n",
              "      filter: drop-shadow(0px 1px 2px rgba(0, 0, 0, 0.3));\n",
              "      fill: #FFFFFF;\n",
              "    }\n",
              "  </style>\n",
              "\n",
              "      <script>\n",
              "        const buttonEl =\n",
              "          document.querySelector('#df-63416137-49b1-4234-9ea2-8c72f9cde9b2 button.colab-df-convert');\n",
              "        buttonEl.style.display =\n",
              "          google.colab.kernel.accessAllowed ? 'block' : 'none';\n",
              "\n",
              "        async function convertToInteractive(key) {\n",
              "          const element = document.querySelector('#df-63416137-49b1-4234-9ea2-8c72f9cde9b2');\n",
              "          const dataTable =\n",
              "            await google.colab.kernel.invokeFunction('convertToInteractive',\n",
              "                                                     [key], {});\n",
              "          if (!dataTable) return;\n",
              "\n",
              "          const docLinkHtml = 'Like what you see? Visit the ' +\n",
              "            '<a target=\"_blank\" href=https://colab.research.google.com/notebooks/data_table.ipynb>data table notebook</a>'\n",
              "            + ' to learn more about interactive tables.';\n",
              "          element.innerHTML = '';\n",
              "          dataTable['output_type'] = 'display_data';\n",
              "          await google.colab.output.renderOutput(dataTable, element);\n",
              "          const docLink = document.createElement('div');\n",
              "          docLink.innerHTML = docLinkHtml;\n",
              "          element.appendChild(docLink);\n",
              "        }\n",
              "      </script>\n",
              "    </div>\n",
              "  </div>\n",
              "  "
            ],
            "application/vnd.google.colaboratory.module+javascript": "\n      import \"https://ssl.gstatic.com/colaboratory/data_table/99dac6621f6ae8c4/data_table.js\";\n\n      window.createDataTable({\n        data: [[{\n            'v': 2,\n            'f': \"2\",\n        },\n\"Australia\",\n{\n            'v': -9.489,\n            'f': \"-9.489\",\n        },\n{\n            'v': 9.577,\n            'f': \"9.577\",\n        },\n{\n            'v': 2050.0,\n            'f': \"2050.0\",\n        },\n\"Pledge\"],\n [{\n            'v': 34,\n            'f': \"34\",\n        },\n\"Finland\",\n{\n            'v': -43.131,\n            'f': \"-43.131\",\n        },\n{\n            'v': 10.299,\n            'f': \"10.299\",\n        },\n{\n            'v': 2035.0,\n            'f': \"2035.0\",\n        },\n\"In policy document\"],\n [{\n            'v': 49,\n            'f': \"49\",\n        },\n\"Israel\",\n{\n            'v': -24.964,\n            'f': \"-24.964\",\n        },\n{\n            'v': 25.748,\n            'f': \"25.748\",\n        },\n{\n            'v': 2050.0,\n            'f': \"2050.0\",\n        },\n\"Pledge\"],\n [{\n            'v': 85,\n            'f': \"85\",\n        },\n\"Portugal\",\n{\n            'v': -56.617,\n            'f': \"-56.617\",\n        },\n{\n            'v': 51.589,\n            'f': \"51.589\",\n        },\n{\n            'v': 2050.0,\n            'f': \"2050.0\",\n        },\n\"In policy document\"],\n [{\n            'v': 95,\n            'f': \"95\",\n        },\n\"South Africa\",\n{\n            'v': -12.372,\n            'f': \"-12.372\",\n        },\n{\n            'v': 166.736,\n            'f': \"166.736\",\n        },\n{\n            'v': 2050.0,\n            'f': \"2050.0\",\n        },\n\"Pledge\"],\n [{\n            'v': 99,\n            'f': \"99\",\n        },\n\"Sweden\",\n{\n            'v': -38.57,\n            'f': \"-38.57\",\n        },\n{\n            'v': 30.274,\n            'f': \"30.274\",\n        },\n{\n            'v': 2045.0,\n            'f': \"2045.0\",\n        },\n\"In law\"],\n [{\n            'v': 110,\n            'f': \"110\",\n        },\n\"Ukraine\",\n{\n            'v': -4.223,\n            'f': \"-4.223\",\n        },\n{\n            'v': 563.781,\n            'f': \"563.781\",\n        },\n{\n            'v': 2060.0,\n            'f': \"2060.0\",\n        },\n\"In policy document\"],\n [{\n            'v': 111,\n            'f': \"111\",\n        },\n\"United Arab Emirates\",\n{\n            'v': -30.213,\n            'f': \"-30.213\",\n        },\n{\n            'v': 3.172,\n            'f': \"3.172\",\n        },\n{\n            'v': 2050.0,\n            'f': \"2050.0\",\n        },\n\"Pledge\"],\n [{\n            'v': 112,\n            'f': \"112\",\n        },\n\"United Kingdom\",\n{\n            'v': -45.381,\n            'f': \"-45.381\",\n        },\n{\n            'v': 35.093,\n            'f': \"35.093\",\n        },\n{\n            'v': 2050.0,\n            'f': \"2050.0\",\n        },\n\"In law\"]],\n        columns: [[\"number\", \"index\"], [\"string\", \"country\"], [\"number\", \"change_CO2_output_per_capita_(%)\"], [\"number\", \"change_gdp_per_capita_(%)\"], [\"number\", \"pledged_year\"], [\"string\", \"status\"]],\n        columnOptions: [{\"width\": \"1px\", \"className\": \"index_column\"}],\n        rowsPerPage: 25,\n        helpUrl: \"https://colab.research.google.com/notebooks/data_table.ipynb\",\n        suppressOutputScrolling: true,\n        minimumWidth: undefined,\n      });\n    "
          },
          "metadata": {},
          "execution_count": 384
        }
      ]
    },
    {
      "cell_type": "markdown",
      "source": [
        "Four of these countries have made pledges: \n",
        "Three of these countries are one step further, the are in the process of creating laws based on their pledges.\n",
        "\n",
        "But of the countries not only decreased their CO2 output and increased their GDP but have also put their pledges in law: \n",
        "* United Kingdom\n",
        "* Sweden\n",
        "\n",
        "And since Sweden has pledged to reach their net-zero goal in 2045 while the UK has pledged 2050 I deem Sweden the big winner of the competiton!\n",
        "\n",
        "# **Sweden has made the biggest stride when it comes to decreasing CO2 output!**\n"
      ],
      "metadata": {
        "id": "veib6LbaGJMB"
      }
    },
    {
      "cell_type": "markdown",
      "source": [
        "\n",
        "\n",
        "\n",
        "which non-fossil fuel energy technology will have the best price in the future?\n",
        "\n",
        "\n",
        "\n",
        "To be able to predict prices you'll probably need to use linear regression over the various non-fossil fuel options."
      ],
      "metadata": {
        "id": "O3JdFg3A9K9i"
      }
    }
  ]
}