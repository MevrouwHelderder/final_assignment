{
  "nbformat": 4,
  "nbformat_minor": 0,
  "metadata": {
    "colab": {
      "provenance": [],
      "gpuType": "T4",
      "include_colab_link": true
    },
    "kernelspec": {
      "name": "python3",
      "display_name": "Python 3"
    },
    "language_info": {
      "name": "python"
    },
    "gpuClass": "standard"
  },
  "cells": [
    {
      "cell_type": "markdown",
      "metadata": {
        "id": "view-in-github",
        "colab_type": "text"
      },
      "source": [
        "<a href=\"https://colab.research.google.com/github/MevrouwHelderder/final_assignment/blob/main/2nd_Try_Final_Assignment_Energy_production_and_consumption.ipynb\" target=\"_parent\"><img src=\"https://colab.research.google.com/assets/colab-badge.svg\" alt=\"Open In Colab\"/></a>"
      ]
    },
    {
      "cell_type": "markdown",
      "source": [
        "# Final assignment - Energy production and consumption\n",
        "\n"
      ],
      "metadata": {
        "id": "7fox8RtSHX29"
      }
    },
    {
      "cell_type": "code",
      "source": [
        "import numpy as np\n",
        "import pandas as pd\n",
        "import matplotlib.pyplot as plt\n",
        "from scipy.stats import pearsonr\n",
        "from sklearn.linear_model import LinearRegression\n",
        "%load_ext google.colab.data_table"
      ],
      "metadata": {
        "id": "ddldkJVUhVV_"
      },
      "execution_count": 1,
      "outputs": []
    },
    {
      "cell_type": "code",
      "source": [
        "path_base = 'https://raw.githubusercontent.com/MevrouwHelderder/final_assignment/main/'\n",
        "\n",
        "paths = {\n",
        "    'energy_total' : path_base + 'owid-energy-data.csv',\n",
        "    'co2_greenhouse' : path_base + 'owid-co2-data.csv',\n",
        "    'net_zero_pledge' : path_base + 'net-zero-targets.csv',\n",
        "    'milk_consumption_df': path_base + 'per-capita-milk-consumption.csv',\n",
        "    'milk_production_df': path_base + 'milk-production-tonnes.csv',\n",
        "    'meat_supply_df': path_base + 'meat-supply-per-person.csv',\n",
        "    'meat_production_df': path_base + 'global-meat-production.csv',\n",
        "    'food_foodprints_df': path_base + 'food-footprints.csv',\n",
        "    'aviation_per_capita_df': path_base + 'per-capita-domestic-aviation-km.csv',\n",
        "    'costs_df': path_base + 'costs-of-66-different-technologies-over-time.csv'}\n",
        "\n",
        "dataframes = {}\n",
        "\n",
        "for key, value in paths.items():\n",
        "  dataframes[key] = pd.read_csv(value)\n",
        "\n",
        "energy_total_df = dataframes['energy_total']\n",
        "co2_greenhouse_df = dataframes['co2_greenhouse']\n",
        "net_zero_pledge_df = dataframes[\"net_zero_pledge\"]\n",
        "milk_consumption_df = dataframes['milk_consumption_df']\n",
        "milk_production_df = dataframes['milk_production_df']\n",
        "meat_supply_df = dataframes['meat_supply_df']\n",
        "meat_production_df = dataframes['meat_production_df']\n",
        "food_foodprints_df = dataframes['food_foodprints_df']\n",
        "aviation_km_df = dataframes['aviation_per_capita_df']\n",
        "costs_df = dataframes['costs_df']"
      ],
      "metadata": {
        "id": "YbnfXz5dW9Gx"
      },
      "execution_count": 2,
      "outputs": []
    },
    {
      "cell_type": "code",
      "source": [
        "# Function to create the needed dataframe out of the original\n",
        "def make_df(original_df, topic_list, base_list, columns_to_keep_list, per_capita=False):\n",
        "    new_columns = columns_to_keep_list\n",
        "    base_list = base_list\n",
        "\n",
        "    for topic_item in topic_list:\n",
        "        for base_item in base_list:\n",
        "            new_columns.append(topic_item + base_item)\n",
        "    \n",
        "    new_df = original_df[new_columns].copy()\n",
        "\n",
        "    return new_df\n"
      ],
      "metadata": {
        "id": "6MJbaH2xEtEq"
      },
      "execution_count": 3,
      "outputs": []
    },
    {
      "cell_type": "markdown",
      "source": [
        "# Fuel use"
      ],
      "metadata": {
        "id": "CVr7oESu9ZV6"
      }
    },
    {
      "cell_type": "code",
      "source": [
        "# singular sources: \n",
        "fuel_list = ['coal', 'oil', 'gas', 'wind', 'solar', 'hydro', 'nuclear', 'other_renewables', 'low_carbon', 'fossil']\n",
        "\n",
        "# lists with columns bases\n",
        "fuel_share_base_list = ['_share_energy']\n",
        "\n",
        "# Columnnames that don't need to be pieced together\n",
        "fuel_complete_columns_list = ['country', 'year', 'iso_code', 'energy_per_capita']\n",
        "\n",
        "# Note: there does not seem to be a column for the share of energt consumption from other renewables excluding biofuel \n",
        "# so for now I will  use the column where biofuel is included and not use the biofuel column seperately.\n",
        "\n",
        "# Make df\n",
        "fuel_use = make_df(energy_total_df, fuel_list, fuel_share_base_list, fuel_complete_columns_list, per_capita=False)\n",
        "\n",
        "# show only the true countries, not the combinations like continents\n",
        "fuel_use = fuel_use[~fuel_use['iso_code'].isnull()].copy()\n",
        "\n",
        "# Setting the index\n",
        "fuel_use = fuel_use.set_index('year')\n",
        "fuel_use.index = pd.to_datetime(fuel_use.index, format='%Y', errors=\"coerce\")\n",
        "\n",
        "fuel_use = fuel_use.drop(['iso_code'], axis=1)\n",
        "fuel_use = fuel_use.dropna()"
      ],
      "metadata": {
        "id": "zU0aoXgH_WyU"
      },
      "execution_count": 4,
      "outputs": []
    },
    {
      "cell_type": "markdown",
      "source": [
        "# Pledges and Targets"
      ],
      "metadata": {
        "id": "ti7qRSkZSHCW"
      }
    },
    {
      "cell_type": "code",
      "source": [
        "# pledge dataframe\n",
        "net_zero_pledge = net_zero_pledge_df.loc[:,['Entity', 'Year', 'Status of net-zero target']].copy()\n",
        "net_zero_pledge = net_zero_pledge.rename(columns={'Entity': 'country', 'Year' :'pledged_year', 'Status of net-zero target': 'status'})\n"
      ],
      "metadata": {
        "id": "FLt-QMkwSJdb"
      },
      "execution_count": 5,
      "outputs": []
    },
    {
      "cell_type": "markdown",
      "source": [
        "# CO2 emission:"
      ],
      "metadata": {
        "id": "8pxKUXnZL0Qx"
      }
    },
    {
      "cell_type": "code",
      "source": [
        "co2_df = co2_greenhouse_df.loc[:,['country', 'year', 'iso_code',\n",
        "                                  'population',\t'gdp', 'consumption_co2',\t\n",
        "                                  'consumption_co2_per_capita',\n",
        "                                  'co2','co2_per_capita' ]]\n",
        "\n",
        "# show only the true countries, not the combinations like continents\n",
        "co2_df = co2_df[~co2_df['iso_code'].isnull()].copy()\n",
        "\n",
        "# Add a column with the gdp per capita to totals\n",
        "co2_df['gdp_per_capita'] = (co2_df['gdp']/co2_df['population']).round(3)\n",
        "\n",
        "# Setting the index\n",
        "co2_df = co2_df.set_index('year')\n",
        "co2_df.index = pd.to_datetime(co2_df.index, format='%Y', errors=\"coerce\")\n",
        "\n",
        "# Dropping not needed columns\n",
        "co2_df = co2_df.drop(['iso_code', 'gdp', 'population'], axis=1)\n",
        "\n",
        "# Renaming\n",
        "co2_df = co2_df.rename(columns={'consumption_co2_per_capita': 'total_co2_consumed_per_capita', \n",
        "                                'gdp_per_capita': 'gdp_per_capita', 'consumption_co2': 'total_co2_consumed', \n",
        "                                'co2': 'total_co2_emitted', 'co2_per_capita': 'total_co2_emitted_per_capita' })\n",
        "\n"
      ],
      "metadata": {
        "id": "U4WeSVX-AEmV"
      },
      "execution_count": 6,
      "outputs": []
    },
    {
      "cell_type": "markdown",
      "source": [
        "# Food\n",
        "\n",
        "Let's first look at what foodsources are resonsible for the most greenhouse gas emission. \n",
        "In the following table the combined greenhouse gasses are measured in CO2 equivalents. Meaning the are scaled in such a way that their impact is the same as that of CO2."
      ],
      "metadata": {
        "id": "RVdeikW7W_bN"
      }
    },
    {
      "cell_type": "code",
      "source": [
        "top_ten_food_co2 = food_foodprints_df.sort_values('GHG emissions per kilogram (Poore & Nemecek, 2018)', ascending=False).head(10)\n",
        "top_ten_food_co2.plot.barh( 'Entity', 'GHG emissions per kilogram (Poore & Nemecek, 2018)')"
      ],
      "metadata": {
        "colab": {
          "base_uri": "https://localhost:8080/",
          "height": 447
        },
        "id": "34xlLv2hisPd",
        "outputId": "d1327540-a1ea-4aff-8342-e8589fded9a4"
      },
      "execution_count": 7,
      "outputs": [
        {
          "output_type": "execute_result",
          "data": {
            "text/plain": [
              "<Axes: ylabel='Entity'>"
            ]
          },
          "metadata": {},
          "execution_count": 7
        },
        {
          "output_type": "display_data",
          "data": {
            "text/plain": [
              "<Figure size 640x480 with 1 Axes>"
            ],
            "image/png": "[encoded data removed]"
          },
          "metadata": {}
        }
      ]
    },
    {
      "cell_type": "markdown",
      "source": [
        "We can see that most of the food sources with a high carbon foodprint are meat- or dairy products.\n",
        "The two non-animal products, coffee and dark chocolate, have a high greenhouse gass emission because of the deforestation during the production.\n",
        "However, both coffee and chocolate have a high emission per kilogram but are usually not eaten in the same quantities as the other products in the top 10.\n",
        "It is clear that when looking at food as a possible indicator of a high CO2 emission we should look at the animal-based products.\n",
        "\n",
        "How much of those are being produced and consumed in a country?"
      ],
      "metadata": {
        "id": "iCNJVBLYnIgs"
      }
    },
    {
      "cell_type": "code",
      "source": [
        "consumption = pd.merge(meat_supply_df, milk_consumption_df, on=['Entity', 'Code', 'Year'], how='outer')\n",
        "consumption = consumption.rename(columns={'Entity': 'country', 'Year': 'year',\n",
        "                                          'Meat, total | 00002943 || Food available for consumption | 0645pc || kilograms per year per capita':\n",
        "                                          'meat_consumption_per_capita_(kg per year)',\n",
        "                                          'Milk - Excluding Butter | 00002848 || Food available for consumption | 0645pc || kilograms per year per capita':\n",
        "                                          'dairy_consumption_per_capita_(kg_per_year)'\n",
        "                                                      })\n",
        "# Setting the index\n",
        "consumption = consumption.set_index('year')\n",
        "consumption.index = pd.to_datetime(consumption.index, format='%Y', errors='coerce')\n",
        "# show only the true countries, not the combinations like continents\n",
        "consumption = consumption[~consumption['Code'].isnull()].copy()\n",
        "consumption = consumption.drop(['Code'], axis=1)"
      ],
      "metadata": {
        "id": "aL4eGAsfvb87"
      },
      "execution_count": 8,
      "outputs": []
    },
    {
      "cell_type": "markdown",
      "source": [
        "# Transport"
      ],
      "metadata": {
        "id": "9Dpk4C8J0qR0"
      }
    },
    {
      "cell_type": "code",
      "source": [
        "aviation = aviation_km_df.rename(columns={'Entity': 'country', 'Year': 'year', \n",
        "                                          'Per capita domestic RPKs': 'aviation_km_per_capita'})\n",
        "# show only the true countries, not the combinations like continents\n",
        "aviation = aviation[~aviation['Code'].isnull()].copy()\n",
        "\n",
        "aviation = aviation.drop(['Code'], axis=1)\n",
        "aviation = aviation.set_index('year')\n",
        "aviation.index = pd.to_datetime(aviation.index, format='%Y', errors='coerce')\n",
        "\n",
        "transport_food = pd.merge(aviation, consumption ,on=['country', 'year'], how='outer')\n"
      ],
      "metadata": {
        "id": "mTdh4sbO0wmM"
      },
      "execution_count": 9,
      "outputs": []
    },
    {
      "cell_type": "markdown",
      "source": [
        "# Combining it into a dataframe that can be used for comparison"
      ],
      "metadata": {
        "id": "XJ4oLMse-Awe"
      }
    },
    {
      "cell_type": "code",
      "source": [
        "everything = pd.merge(co2_df, transport_food,on=['country', 'year'], how='outer')\n",
        "everything = pd.merge(everything, fuel_use[['country', 'fossil_share_energy']] ,on=['country', 'year'], how='outer')\n",
        "\n",
        "# Rows without the co2 consumed per capita present are no use\n",
        "everything = everything[~everything['total_co2_consumed_per_capita'].isna()]\n",
        "\n",
        "# Let's look at the last 20 years\n",
        "everything_2000 = everything[(everything.index.year >= 2000)]\n",
        "\n",
        "# Function to resample and interpolate\n",
        "def prepare(df):\n",
        "    df.index = pd.to_datetime(df.index, format='%Y', errors='coerce')\n",
        "    df = (\n",
        "        df.groupby('country')\n",
        "        .resample(\"YS\")\n",
        "        .mean(numeric_only=True)\n",
        "        .interpolate(method='linear')\n",
        "    )\n",
        "    df.reset_index(inplace=True)\n",
        "    df.set_index('year', inplace=True)\n",
        "\n",
        "    return df\n",
        "\n",
        "\n",
        "everything_2000_interpolated = prepare(everything_2000).dropna()"
      ],
      "metadata": {
        "id": "Ab8Jx4K_DGOz"
      },
      "execution_count": 10,
      "outputs": []
    },
    {
      "cell_type": "markdown",
      "source": [
        "# Can I find a correlation between any of the factors and the CO2 output per Capita?"
      ],
      "metadata": {
        "id": "bDvOxNpYiXKP"
      }
    },
    {
      "cell_type": "code",
      "source": [
        "# Calculating correlations\n",
        "# List of columns to calculate correlations\n",
        "columns = ['gdp_per_capita', 'meat_consumption_per_capita_(kg per year)',\n",
        "           'dairy_consumption_per_capita_(kg_per_year)',\n",
        "           'fossil_share_energy', 'aviation_km_per_capita']\n",
        "\n",
        "# Initialize a list to store the correlation results\n",
        "correlation_results_emission = []\n",
        "p_value_results_emission = []\n",
        "\n",
        "# Iterate over each column\n",
        "for column in columns:\n",
        "    # Calculate the correlation between the column and 'total co2 emitted per capita'\n",
        "    correlation, p_value = pearsonr(everything_2000_interpolated['total_co2_emitted_per_capita'], everything_2000_interpolated[column])\n",
        "\n",
        "    # Append the correlation result to the list\n",
        "    correlation_results_emission.append((column, correlation, p_value))\n",
        "    p_value_results_emission.append((column, p_value))\n",
        "\n",
        "# Sort the correlation results by correlation value\n",
        "correlation_results_emission.sort(key=lambda x: x[1], reverse=True)\n",
        "p_value_results_emission.sort(key=lambda x: x[1])\n",
        "\n",
        "# Extract the column names, correlation values, and p-values from the results\n",
        "columns_emission = [result[0] for result in correlation_results_emission]\n",
        "correlation_values_emission = [result[1] for result in correlation_results_emission]\n",
        "p_values_emission = [result[1] for result in p_value_results_emission]\n",
        "\n",
        "# Create a figure and two subplots\n",
        "fig,ax = plt.subplots(figsize=(10, 2.5))\n",
        "\n",
        "colors = ['C0', 'C1', 'C2', 'C3', 'C4']\n",
        "\n",
        "y_emission = np.zeros(len(columns_emission))\n",
        "\n",
        "scatter = ax.scatter(correlation_values_emission, y_emission, c=colors, s=100)\n",
        "\n",
        "ax.tick_params(axis='y', left=False, labelleft=False)\n",
        "ax.axhline(0, color='black', linewidth=0.5)\n",
        "ax.grid(axis='x', linestyle='--')\n",
        "  \n",
        "ax.set_xlim(-1, 1)\n",
        "ax.set_title('Correlation with Total CO2 Output per Capita')\n",
        "ax.set_xlabel('Correlation')\n",
        "\n",
        "legend_elements2 = [plt.Line2D([0], [0], marker='o', color='w', label=column, markerfacecolor=color, markersize=10) for column, color in zip(columns_emission, colors)]\n",
        "ax.legend(handles=legend_elements2, loc='center left', bbox_to_anchor=(1, 0.5), title='Columns')\n",
        "\n",
        "plt.tight_layout()\n",
        "plt.show()"
      ],
      "metadata": {
        "colab": {
          "base_uri": "https://localhost:8080/",
          "height": 257
        },
        "id": "-cxDLlhHHJJv",
        "outputId": "a3ec41e6-b7be-4ec8-8237-98dfe9a3a75c"
      },
      "execution_count": 11,
      "outputs": [
        {
          "output_type": "display_data",
          "data": {
            "text/plain": [
              "<Figure size 1000x250 with 1 Axes>"
            ],
            "image/png": "[encoded data removed]"
          },
          "metadata": {}
        }
      ]
    },
    {
      "cell_type": "markdown",
      "source": [
        "# Conclusion:\n",
        "* **gdp**: The correlation coefficient of 0.73 indicates a strong positive correlation between GDP per capita and the total energy per capita consumed. This suggests that as GDP per capita increases, there is a tendency for higher energy consumption per capita. The p-value of 0.0 indicates that this correlation is highly statistically significant, providing strong evidence of the relationship.\n",
        "\n",
        "* **meat_consumption**: The correlation coefficient of 0.56 suggests a moderate positive correlation between meat consumption per capita and the total energy per capita consumed. This implies that higher meat consumption is associated with higher energy consumption. The p-value of 2.34e-202 indicates that this correlation is highly statistically significant.\n",
        "\n",
        "* **dairy_consumption**: The correlation coefficient of 0.30 indicates a weak positive correlation between dairy consumption per capita and the total energy per capita consumed. This suggests that higher dairy consumption is somewhat associated with higher energy consumption. The p-value of 3.48e-54 suggests that this correlation is statistically significant.\n",
        "\n",
        "* **fossil energy**: The correlation coefficient of 0.21 indicates a weak positive correlation between the share of fossil energy and the total energy per capita consumed. This implies that a higher share of fossil energy in the energy mix is somewhat associated with higher energy consumption. The p-value of 3.11e-25 suggests that this correlation is statistically significant.\n",
        "\n",
        "* **aviation**: The correlation coefficient of 0.09 suggests a weak positive correlation between aviation kilometers traveled per capita and the total energy per capita consumed. This indicates that higher levels of aviation activity are somewhat associated with higher energy consumption. The p-value of 2.51e-06 suggests that this correlation is statistically significant.\n",
        "\n",
        "The biggest predictor of a large CO2 output per capita seems to be the GDP.\n",
        "Which makes sense. A higher quality of living requires more energy. Bot in the sense of electricity but also when it comes to energy needed for the production of more items and food."
      ],
      "metadata": {
        "id": "yk4I4WjSf8jh"
      }
    },
    {
      "cell_type": "markdown",
      "source": [
        "# which countries are making the biggest strides in decreasing CO2 output?"
      ],
      "metadata": {
        "id": "QQbMGdgdO2J9"
      }
    },
    {
      "cell_type": "markdown",
      "source": [
        "Let's first look the change in CO2 output over the past 20 years. \n",
        "It is important to not only look at the total output per capita but also the output per capita that has been corrected for trade.\n",
        "Because countries that produce for other countries emit CO2 for that other country.\n",
        "When \n"
      ],
      "metadata": {
        "id": "vUjdmtL8PBlr"
      }
    },
    {
      "cell_type": "code",
      "source": [
        "# Finding the top and bottom when it comes to the share of primary that comes from low-carbon\n",
        "grouped = everything_2000_interpolated.groupby('country')\n",
        "\n",
        "first_consumption = grouped.first()['total_co2_consumed_per_capita']\n",
        "last_consumption = grouped.last()['total_co2_consumed_per_capita']\n",
        "relative_change_consumption = (((last_consumption - first_consumption) / first_consumption)* 100).round(3)\n",
        "\n",
        "first_gdp = grouped.first()['gdp_per_capita']\n",
        "last_gdp = grouped.last()['gdp_per_capita']\n",
        "relative_change_gdp = (((last_gdp - first_gdp) / first_gdp)* 100).round(3)\n",
        "\n",
        "change_df = pd.DataFrame({'change_CO2_output_per_capita_(%)': relative_change_consumption})\n",
        "change_df['change_gdp_per_capita_(%)'] = relative_change_gdp\n",
        "biggest_consumption_changers = relative_change_consumption.sort_values(ascending=True).head(5)\n",
        "biggest_consumption_changers = biggest_consumption_changers.astype(str) + \" %\"\n",
        "\n",
        "print('The countries that showed the biggest decrease in CO2 emission per capita, corrected for trade, since 2020:')\n",
        "print(biggest_consumption_changers)"
      ],
      "metadata": {
        "colab": {
          "base_uri": "https://localhost:8080/"
        },
        "id": "DQb1GDFXrxCY",
        "outputId": "a41a3202-cbe8-4a07-957a-f0e3e4811db8"
      },
      "execution_count": 12,
      "outputs": [
        {
          "output_type": "stream",
          "name": "stdout",
          "text": [
            "The countries that showed the biggest decrease in CO2 emission per capita, corrected for trade, since 2020:\n",
            "country\n",
            "Venezuela         -79.809 %\n",
            "Portugal          -56.617 %\n",
            "Greece            -46.478 %\n",
            "United Kingdom    -45.381 %\n",
            "Finland           -43.131 %\n",
            "Name: total_co2_consumed_per_capita, dtype: object\n"
          ]
        }
      ]
    },
    {
      "cell_type": "markdown",
      "source": [
        "We can see that there are countries that managed to decrease their CO2 output per capita.\n",
        "\n",
        "However, the biggest strides are probably being made by countries that manage to decrease CO2 output per capita while also increasing GDP. \n",
        "Because that means that they not only decreased their output but also found a way to counteract  the growth in CO2 emissions due to the rising standard of living.\n",
        "\n",
        "Let's look at specifically the output per capita and the GDP."
      ],
      "metadata": {
        "id": "T9QDoL6jWqa8"
      }
    },
    {
      "cell_type": "code",
      "source": [
        "biggest_strides = change_df[(change_df['change_CO2_output_per_capita_(%)'] < 0) & (change_df['change_gdp_per_capita_(%)'] > 0)].copy()\n",
        "co2_rank = biggest_strides['change_CO2_output_per_capita_(%)'].rank(ascending=True)\n",
        "gdp_rank = biggest_strides['change_gdp_per_capita_(%)'].rank(ascending=False)\n",
        "biggest_strides['total_rank'] = (co2_rank + gdp_rank).rank()\n",
        "biggest_strides"
      ],
      "metadata": {
        "colab": {
          "base_uri": "https://localhost:8080/",
          "height": 434
        },
        "id": "N_dpGWJ5tFDj",
        "outputId": "566d119e-4875-495b-a047-53d5e0530a25"
      },
      "execution_count": 13,
      "outputs": [
        {
          "output_type": "execute_result",
          "data": {
            "text/plain": [
              "                      change_CO2_output_per_capita_(%)  \\\n",
              "country                                                  \n",
              "Australia                                       -9.489   \n",
              "Czechia                                        -19.380   \n",
              "El Salvador                                     -2.586   \n",
              "Finland                                        -43.131   \n",
              "Israel                                         -24.964   \n",
              "Jamaica                                        -11.523   \n",
              "Jordan                                         -22.261   \n",
              "Poland                                          -4.169   \n",
              "Portugal                                       -56.617   \n",
              "Slovakia                                       -20.228   \n",
              "South Africa                                   -12.372   \n",
              "Sweden                                         -38.570   \n",
              "Ukraine                                         -4.223   \n",
              "United Arab Emirates                           -30.213   \n",
              "United Kingdom                                 -45.381   \n",
              "Zambia                                          -0.761   \n",
              "\n",
              "                      change_gdp_per_capita_(%)  total_rank  \n",
              "country                                                      \n",
              "Australia                                 9.577        16.0  \n",
              "Czechia                                 113.056         5.5  \n",
              "El Salvador                             162.328        11.5  \n",
              "Finland                                  10.299         9.5  \n",
              "Israel                                   25.748        11.5  \n",
              "Jamaica                                 266.437         3.0  \n",
              "Jordan                                   35.750         9.5  \n",
              "Poland                                   92.342        13.0  \n",
              "Portugal                                 51.589         1.0  \n",
              "Slovakia                                 68.212         7.5  \n",
              "South Africa                            166.736         3.0  \n",
              "Sweden                                   30.274         7.5  \n",
              "Ukraine                                 563.781         5.5  \n",
              "United Arab Emirates                      3.172        14.0  \n",
              "United Kingdom                           35.093         3.0  \n",
              "Zambia                                   74.987        15.0  "
            ],
            "text/html": [
              "\n",
              "  <div id=\"df-557a1d72-f6c1-4f9d-b786-de432ccdd16f\">\n",
              "    <div class=\"colab-df-container\">\n",
              "      <div>\n",
              "<style scoped>\n",
              "    .dataframe tbody tr th:only-of-type {\n",
              "        vertical-align: middle;\n",
              "    }\n",
              "\n",
              "    .dataframe tbody tr th {\n",
              "        vertical-align: top;\n",
              "    }\n",
              "\n",
              "    .dataframe thead th {\n",
              "        text-align: right;\n",
              "    }\n",
              "</style>\n",
              "<table border=\"1\" class=\"dataframe\">\n",
              "  <thead>\n",
              "    <tr style=\"text-align: right;\">\n",
              "      <th></th>\n",
              "      <th>change_CO2_output_per_capita_(%)</th>\n",
              "      <th>change_gdp_per_capita_(%)</th>\n",
              "      <th>total_rank</th>\n",
              "    </tr>\n",
              "    <tr>\n",
              "      <th>country</th>\n",
              "      <th></th>\n",
              "      <th></th>\n",
              "      <th></th>\n",
              "    </tr>\n",
              "  </thead>\n",
              "  <tbody>\n",
              "    <tr>\n",
              "      <th>Australia</th>\n",
              "      <td>-9.489</td>\n",
              "      <td>9.577</td>\n",
              "      <td>16.0</td>\n",
              "    </tr>\n",
              "    <tr>\n",
              "      <th>Czechia</th>\n",
              "      <td>-19.380</td>\n",
              "      <td>113.056</td>\n",
              "      <td>5.5</td>\n",
              "    </tr>\n",
              "    <tr>\n",
              "      <th>El Salvador</th>\n",
              "      <td>-2.586</td>\n",
              "      <td>162.328</td>\n",
              "      <td>11.5</td>\n",
              "    </tr>\n",
              "    <tr>\n",
              "      <th>Finland</th>\n",
              "      <td>-43.131</td>\n",
              "      <td>10.299</td>\n",
              "      <td>9.5</td>\n",
              "    </tr>\n",
              "    <tr>\n",
              "      <th>Israel</th>\n",
              "      <td>-24.964</td>\n",
              "      <td>25.748</td>\n",
              "      <td>11.5</td>\n",
              "    </tr>\n",
              "    <tr>\n",
              "      <th>Jamaica</th>\n",
              "      <td>-11.523</td>\n",
              "      <td>266.437</td>\n",
              "      <td>3.0</td>\n",
              "    </tr>\n",
              "    <tr>\n",
              "      <th>Jordan</th>\n",
              "      <td>-22.261</td>\n",
              "      <td>35.750</td>\n",
              "      <td>9.5</td>\n",
              "    </tr>\n",
              "    <tr>\n",
              "      <th>Poland</th>\n",
              "      <td>-4.169</td>\n",
              "      <td>92.342</td>\n",
              "      <td>13.0</td>\n",
              "    </tr>\n",
              "    <tr>\n",
              "      <th>Portugal</th>\n",
              "      <td>-56.617</td>\n",
              "      <td>51.589</td>\n",
              "      <td>1.0</td>\n",
              "    </tr>\n",
              "    <tr>\n",
              "      <th>Slovakia</th>\n",
              "      <td>-20.228</td>\n",
              "      <td>68.212</td>\n",
              "      <td>7.5</td>\n",
              "    </tr>\n",
              "    <tr>\n",
              "      <th>South Africa</th>\n",
              "      <td>-12.372</td>\n",
              "      <td>166.736</td>\n",
              "      <td>3.0</td>\n",
              "    </tr>\n",
              "    <tr>\n",
              "      <th>Sweden</th>\n",
              "      <td>-38.570</td>\n",
              "      <td>30.274</td>\n",
              "      <td>7.5</td>\n",
              "    </tr>\n",
              "    <tr>\n",
              "      <th>Ukraine</th>\n",
              "      <td>-4.223</td>\n",
              "      <td>563.781</td>\n",
              "      <td>5.5</td>\n",
              "    </tr>\n",
              "    <tr>\n",
              "      <th>United Arab Emirates</th>\n",
              "      <td>-30.213</td>\n",
              "      <td>3.172</td>\n",
              "      <td>14.0</td>\n",
              "    </tr>\n",
              "    <tr>\n",
              "      <th>United Kingdom</th>\n",
              "      <td>-45.381</td>\n",
              "      <td>35.093</td>\n",
              "      <td>3.0</td>\n",
              "    </tr>\n",
              "    <tr>\n",
              "      <th>Zambia</th>\n",
              "      <td>-0.761</td>\n",
              "      <td>74.987</td>\n",
              "      <td>15.0</td>\n",
              "    </tr>\n",
              "  </tbody>\n",
              "</table>\n",
              "</div>\n",
              "      <button class=\"colab-df-convert\" onclick=\"convertToInteractive('df-557a1d72-f6c1-4f9d-b786-de432ccdd16f')\"\n",
              "              title=\"Convert this dataframe to an interactive table.\"\n",
              "              style=\"display:none;\">\n",
              "        \n",
              "  <svg xmlns=\"http://www.w3.org/2000/svg\" height=\"24px\"viewBox=\"0 0 24 24\"\n",
              "       width=\"24px\">\n",
              "    <path d=\"M0 0h24v24H0V0z\" fill=\"none\"/>\n",
              "    <path d=\"M18.56 5.44l.94 2.06.94-2.06 2.06-.94-2.06-.94-.94-2.06-.94 2.06-2.06.94zm-11 1L8.5 8.5l.94-2.06 2.06-.94-2.06-.94L8.5 2.5l-.94 2.06-2.06.94zm10 10l.94 2.06.94-2.06 2.06-.94-2.06-.94-.94-2.06-.94 2.06-2.06.94z\"/><path d=\"M17.41 7.96l-1.37-1.37c-.4-.4-.92-.59-1.43-.59-.52 0-1.04.2-1.43.59L10.3 9.45l-7.72 7.72c-.78.78-.78 2.05 0 2.83L4 21.41c.39.39.9.59 1.41.59.51 0 1.02-.2 1.41-.59l7.78-7.78 2.81-2.81c.8-.78.8-2.07 0-2.86zM5.41 20L4 18.59l7.72-7.72 1.47 1.35L5.41 20z\"/>\n",
              "  </svg>\n",
              "      </button>\n",
              "      \n",
              "  <style>\n",
              "    .colab-df-container {\n",
              "      display:flex;\n",
              "      flex-wrap:wrap;\n",
              "      gap: 12px;\n",
              "    }\n",
              "\n",
              "    .colab-df-convert {\n",
              "      background-color: #E8F0FE;\n",
              "      border: none;\n",
              "      border-radius: 50%;\n",
              "      cursor: pointer;\n",
              "      display: none;\n",
              "      fill: #1967D2;\n",
              "      height: 32px;\n",
              "      padding: 0 0 0 0;\n",
              "      width: 32px;\n",
              "    }\n",
              "\n",
              "    .colab-df-convert:hover {\n",
              "      background-color: #E2EBFA;\n",
              "      box-shadow: 0px 1px 2px rgba(60, 64, 67, 0.3), 0px 1px 3px 1px rgba(60, 64, 67, 0.15);\n",
              "      fill: #174EA6;\n",
              "    }\n",
              "\n",
              "    [theme=dark] .colab-df-convert {\n",
              "      background-color: #3B4455;\n",
              "      fill: #D2E3FC;\n",
              "    }\n",
              "\n",
              "    [theme=dark] .colab-df-convert:hover {\n",
              "      background-color: #434B5C;\n",
              "      box-shadow: 0px 1px 3px 1px rgba(0, 0, 0, 0.15);\n",
              "      filter: drop-shadow(0px 1px 2px rgba(0, 0, 0, 0.3));\n",
              "      fill: #FFFFFF;\n",
              "    }\n",
              "  </style>\n",
              "\n",
              "      <script>\n",
              "        const buttonEl =\n",
              "          document.querySelector('#df-557a1d72-f6c1-4f9d-b786-de432ccdd16f button.colab-df-convert');\n",
              "        buttonEl.style.display =\n",
              "          google.colab.kernel.accessAllowed ? 'block' : 'none';\n",
              "\n",
              "        async function convertToInteractive(key) {\n",
              "          const element = document.querySelector('#df-557a1d72-f6c1-4f9d-b786-de432ccdd16f');\n",
              "          const dataTable =\n",
              "            await google.colab.kernel.invokeFunction('convertToInteractive',\n",
              "                                                     [key], {});\n",
              "          if (!dataTable) return;\n",
              "\n",
              "          const docLinkHtml = 'Like what you see? Visit the ' +\n",
              "            '<a target=\"_blank\" href=https://colab.research.google.com/notebooks/data_table.ipynb>data table notebook</a>'\n",
              "            + ' to learn more about interactive tables.';\n",
              "          element.innerHTML = '';\n",
              "          dataTable['output_type'] = 'display_data';\n",
              "          await google.colab.output.renderOutput(dataTable, element);\n",
              "          const docLink = document.createElement('div');\n",
              "          docLink.innerHTML = docLinkHtml;\n",
              "          element.appendChild(docLink);\n",
              "        }\n",
              "      </script>\n",
              "    </div>\n",
              "  </div>\n",
              "  "
            ],
            "application/vnd.google.colaboratory.module+javascript": "\n      import \"https://ssl.gstatic.com/colaboratory/data_table/99dac6621f6ae8c4/data_table.js\";\n\n      window.createDataTable({\n        data: [[\"Australia\",\n{\n            'v': -9.489,\n            'f': \"-9.489\",\n        },\n{\n            'v': 9.577,\n            'f': \"9.577\",\n        },\n{\n            'v': 16.0,\n            'f': \"16.0\",\n        }],\n [\"Czechia\",\n{\n            'v': -19.38,\n            'f': \"-19.38\",\n        },\n{\n            'v': 113.056,\n            'f': \"113.056\",\n        },\n{\n            'v': 5.5,\n            'f': \"5.5\",\n        }],\n [\"El Salvador\",\n{\n            'v': -2.586,\n            'f': \"-2.586\",\n        },\n{\n            'v': 162.328,\n            'f': \"162.328\",\n        },\n{\n            'v': 11.5,\n            'f': \"11.5\",\n        }],\n [\"Finland\",\n{\n            'v': -43.131,\n            'f': \"-43.131\",\n        },\n{\n            'v': 10.299,\n            'f': \"10.299\",\n        },\n{\n            'v': 9.5,\n            'f': \"9.5\",\n        }],\n [\"Israel\",\n{\n            'v': -24.964,\n            'f': \"-24.964\",\n        },\n{\n            'v': 25.748,\n            'f': \"25.748\",\n        },\n{\n            'v': 11.5,\n            'f': \"11.5\",\n        }],\n [\"Jamaica\",\n{\n            'v': -11.523,\n            'f': \"-11.523\",\n        },\n{\n            'v': 266.437,\n            'f': \"266.437\",\n        },\n{\n            'v': 3.0,\n            'f': \"3.0\",\n        }],\n [\"Jordan\",\n{\n            'v': -22.261,\n            'f': \"-22.261\",\n        },\n{\n            'v': 35.75,\n            'f': \"35.75\",\n        },\n{\n            'v': 9.5,\n            'f': \"9.5\",\n        }],\n [\"Poland\",\n{\n            'v': -4.169,\n            'f': \"-4.169\",\n        },\n{\n            'v': 92.342,\n            'f': \"92.342\",\n        },\n{\n            'v': 13.0,\n            'f': \"13.0\",\n        }],\n [\"Portugal\",\n{\n            'v': -56.617,\n            'f': \"-56.617\",\n        },\n{\n            'v': 51.589,\n            'f': \"51.589\",\n        },\n{\n            'v': 1.0,\n            'f': \"1.0\",\n        }],\n [\"Slovakia\",\n{\n            'v': -20.228,\n            'f': \"-20.228\",\n        },\n{\n            'v': 68.212,\n            'f': \"68.212\",\n        },\n{\n            'v': 7.5,\n            'f': \"7.5\",\n        }],\n [\"South Africa\",\n{\n            'v': -12.372,\n            'f': \"-12.372\",\n        },\n{\n            'v': 166.736,\n            'f': \"166.736\",\n        },\n{\n            'v': 3.0,\n            'f': \"3.0\",\n        }],\n [\"Sweden\",\n{\n            'v': -38.57,\n            'f': \"-38.57\",\n        },\n{\n            'v': 30.274,\n            'f': \"30.274\",\n        },\n{\n            'v': 7.5,\n            'f': \"7.5\",\n        }],\n [\"Ukraine\",\n{\n            'v': -4.223,\n            'f': \"-4.223\",\n        },\n{\n            'v': 563.781,\n            'f': \"563.781\",\n        },\n{\n            'v': 5.5,\n            'f': \"5.5\",\n        }],\n [\"United Arab Emirates\",\n{\n            'v': -30.213,\n            'f': \"-30.213\",\n        },\n{\n            'v': 3.172,\n            'f': \"3.172\",\n        },\n{\n            'v': 14.0,\n            'f': \"14.0\",\n        }],\n [\"United Kingdom\",\n{\n            'v': -45.381,\n            'f': \"-45.381\",\n        },\n{\n            'v': 35.093,\n            'f': \"35.093\",\n        },\n{\n            'v': 3.0,\n            'f': \"3.0\",\n        }],\n [\"Zambia\",\n{\n            'v': -0.761,\n            'f': \"-0.761\",\n        },\n{\n            'v': 74.987,\n            'f': \"74.987\",\n        },\n{\n            'v': 15.0,\n            'f': \"15.0\",\n        }]],\n        columns: [[\"string\", \"country\"], [\"number\", \"change_CO2_output_per_capita_(%)\"], [\"number\", \"change_gdp_per_capita_(%)\"], [\"number\", \"total_rank\"]],\n        columnOptions: [{\"width\": \"1px\", \"className\": \"index_column\"}],\n        rowsPerPage: 25,\n        helpUrl: \"https://colab.research.google.com/notebooks/data_table.ipynb\",\n        suppressOutputScrolling: true,\n        minimumWidth: undefined,\n      });\n    "
          },
          "metadata": {},
          "execution_count": 13
        }
      ]
    },
    {
      "cell_type": "markdown",
      "source": [
        "The following countries show a decline in CO2 output per capita (corrected for trade) and a rise in GDP per capita (in order of biggest decrease in CO2 output): \n",
        "* Portugal\n",
        "* United Kingdom\t\n",
        "* Finland\t\n",
        "* Sweden\t\n",
        "* United Arab Emirates\t\n",
        "* Israel\t\n",
        "* Jordan\t\n",
        "* Slovakia\n",
        "* Czechia\n",
        "* South Africa\t\n",
        "* Jamaica\n",
        "* Australia\n",
        "* Ukraine\n",
        "* Poland\n",
        "* El Salvador\t\n",
        "* Zambia\n",
        "\n",
        "It is also possible to rank them, based on how well they did on both aspects, the top ten would like this: \n",
        "\n",
        "\n"
      ],
      "metadata": {
        "id": "iTnzxid32zfN"
      }
    },
    {
      "cell_type": "code",
      "source": [
        "biggest_strides['total_rank'].sort_values(ascending=True).head(10)"
      ],
      "metadata": {
        "colab": {
          "base_uri": "https://localhost:8080/"
        },
        "id": "vwxnFPhi4GV5",
        "outputId": "3c3a9182-9b2f-4338-d489-c1247926a6a7"
      },
      "execution_count": 14,
      "outputs": [
        {
          "output_type": "execute_result",
          "data": {
            "text/plain": [
              "country\n",
              "Portugal          1.0\n",
              "Jamaica           3.0\n",
              "South Africa      3.0\n",
              "United Kingdom    3.0\n",
              "Czechia           5.5\n",
              "Ukraine           5.5\n",
              "Slovakia          7.5\n",
              "Sweden            7.5\n",
              "Finland           9.5\n",
              "Jordan            9.5\n",
              "Name: total_rank, dtype: float64"
            ]
          },
          "metadata": {},
          "execution_count": 14
        }
      ]
    },
    {
      "cell_type": "markdown",
      "source": [
        "However, I believe that this would be oversimplified. Yes, these countries managed to decrease CO2 consumption per capita while also increasing the GDP per capita but more is needed to truly make big strides, now and in the future.\n",
        "\n"
      ],
      "metadata": {
        "id": "4yja9mcz4QJS"
      }
    },
    {
      "cell_type": "markdown",
      "source": [
        "# What happens when we also look at any pledges and targets on net-zero emission?\n",
        "Some countries have set a target or made a pledge to reduce Co2 output, working towards a situation where the amount of greenhouse gasses emitted is as close to zero as possible with any remaning emission re-absorbed by, for example, oceans and forest.\n",
        "\n",
        "However, not all countries have set the same goals and have used the same criteria. For example, not all countries allow for use of carbon offset (removing CO2 instead of not emitting it) in the calculation of the progress.\n",
        "\n",
        "It is also important to recognize that a pledge is nothing more or less than a promiss. It needs to be put in law to become something that can not be disregarded or changed on the way.\n",
        "\n",
        "For this assignment I will not look at the criteria and only look at: \n",
        "* does a country have a goal?\n",
        "* what is the pledged year\n",
        "* what is the status of the goal\n"
      ],
      "metadata": {
        "id": "UChll3Js_reI"
      }
    },
    {
      "cell_type": "code",
      "source": [
        "even_bigger_strides = pd.merge(change_df, net_zero_pledge, on='country', how='outer' )\n",
        "achieved = even_bigger_strides[even_bigger_strides['status']=='Achieved']"
      ],
      "metadata": {
        "id": "vOploD6f-nyV"
      },
      "execution_count": 15,
      "outputs": []
    },
    {
      "cell_type": "markdown",
      "source": [
        "There are a few countries that have already achieved their goal: "
      ],
      "metadata": {
        "id": "0EmqZyyME0nJ"
      }
    },
    {
      "cell_type": "code",
      "source": [
        "achieved"
      ],
      "metadata": {
        "colab": {
          "base_uri": "https://localhost:8080/",
          "height": 240
        },
        "id": "1y4IezgCEtef",
        "outputId": "6ab5e009-1166-4b00-a81e-fa6706b742dc"
      },
      "execution_count": 16,
      "outputs": [
        {
          "output_type": "execute_result",
          "data": {
            "text/plain": [
              "           country  change_CO2_output_per_capita_(%)  \\\n",
              "9            Benin                            89.565   \n",
              "16        Cambodia                           504.113   \n",
              "62      Madagascar                            19.136   \n",
              "122         Bhutan                               NaN   \n",
              "124  Guinea-Bissau                               NaN   \n",
              "125         Guyana                               NaN   \n",
              "127        Liberia                               NaN   \n",
              "\n",
              "     change_gdp_per_capita_(%)  pledged_year    status  \n",
              "9                       86.586        2000.0  Achieved  \n",
              "16                      55.156        2000.0  Achieved  \n",
              "62                      -7.832        2010.0  Achieved  \n",
              "122                        NaN        2000.0  Achieved  \n",
              "124                        NaN        2030.0  Achieved  \n",
              "125                        NaN        2019.0  Achieved  \n",
              "127                        NaN        2000.0  Achieved  "
            ],
            "text/html": [
              "\n",
              "  <div id=\"df-997fc899-cd98-44da-9521-37cecb403758\">\n",
              "    <div class=\"colab-df-container\">\n",
              "      <div>\n",
              "<style scoped>\n",
              "    .dataframe tbody tr th:only-of-type {\n",
              "        vertical-align: middle;\n",
              "    }\n",
              "\n",
              "    .dataframe tbody tr th {\n",
              "        vertical-align: top;\n",
              "    }\n",
              "\n",
              "    .dataframe thead th {\n",
              "        text-align: right;\n",
              "    }\n",
              "</style>\n",
              "<table border=\"1\" class=\"dataframe\">\n",
              "  <thead>\n",
              "    <tr style=\"text-align: right;\">\n",
              "      <th></th>\n",
              "      <th>country</th>\n",
              "      <th>change_CO2_output_per_capita_(%)</th>\n",
              "      <th>change_gdp_per_capita_(%)</th>\n",
              "      <th>pledged_year</th>\n",
              "      <th>status</th>\n",
              "    </tr>\n",
              "  </thead>\n",
              "  <tbody>\n",
              "    <tr>\n",
              "      <th>9</th>\n",
              "      <td>Benin</td>\n",
              "      <td>89.565</td>\n",
              "      <td>86.586</td>\n",
              "      <td>2000.0</td>\n",
              "      <td>Achieved</td>\n",
              "    </tr>\n",
              "    <tr>\n",
              "      <th>16</th>\n",
              "      <td>Cambodia</td>\n",
              "      <td>504.113</td>\n",
              "      <td>55.156</td>\n",
              "      <td>2000.0</td>\n",
              "      <td>Achieved</td>\n",
              "    </tr>\n",
              "    <tr>\n",
              "      <th>62</th>\n",
              "      <td>Madagascar</td>\n",
              "      <td>19.136</td>\n",
              "      <td>-7.832</td>\n",
              "      <td>2010.0</td>\n",
              "      <td>Achieved</td>\n",
              "    </tr>\n",
              "    <tr>\n",
              "      <th>122</th>\n",
              "      <td>Bhutan</td>\n",
              "      <td>NaN</td>\n",
              "      <td>NaN</td>\n",
              "      <td>2000.0</td>\n",
              "      <td>Achieved</td>\n",
              "    </tr>\n",
              "    <tr>\n",
              "      <th>124</th>\n",
              "      <td>Guinea-Bissau</td>\n",
              "      <td>NaN</td>\n",
              "      <td>NaN</td>\n",
              "      <td>2030.0</td>\n",
              "      <td>Achieved</td>\n",
              "    </tr>\n",
              "    <tr>\n",
              "      <th>125</th>\n",
              "      <td>Guyana</td>\n",
              "      <td>NaN</td>\n",
              "      <td>NaN</td>\n",
              "      <td>2019.0</td>\n",
              "      <td>Achieved</td>\n",
              "    </tr>\n",
              "    <tr>\n",
              "      <th>127</th>\n",
              "      <td>Liberia</td>\n",
              "      <td>NaN</td>\n",
              "      <td>NaN</td>\n",
              "      <td>2000.0</td>\n",
              "      <td>Achieved</td>\n",
              "    </tr>\n",
              "  </tbody>\n",
              "</table>\n",
              "</div>\n",
              "      <button class=\"colab-df-convert\" onclick=\"convertToInteractive('df-997fc899-cd98-44da-9521-37cecb403758')\"\n",
              "              title=\"Convert this dataframe to an interactive table.\"\n",
              "              style=\"display:none;\">\n",
              "        \n",
              "  <svg xmlns=\"http://www.w3.org/2000/svg\" height=\"24px\"viewBox=\"0 0 24 24\"\n",
              "       width=\"24px\">\n",
              "    <path d=\"M0 0h24v24H0V0z\" fill=\"none\"/>\n",
              "    <path d=\"M18.56 5.44l.94 2.06.94-2.06 2.06-.94-2.06-.94-.94-2.06-.94 2.06-2.06.94zm-11 1L8.5 8.5l.94-2.06 2.06-.94-2.06-.94L8.5 2.5l-.94 2.06-2.06.94zm10 10l.94 2.06.94-2.06 2.06-.94-2.06-.94-.94-2.06-.94 2.06-2.06.94z\"/><path d=\"M17.41 7.96l-1.37-1.37c-.4-.4-.92-.59-1.43-.59-.52 0-1.04.2-1.43.59L10.3 9.45l-7.72 7.72c-.78.78-.78 2.05 0 2.83L4 21.41c.39.39.9.59 1.41.59.51 0 1.02-.2 1.41-.59l7.78-7.78 2.81-2.81c.8-.78.8-2.07 0-2.86zM5.41 20L4 18.59l7.72-7.72 1.47 1.35L5.41 20z\"/>\n",
              "  </svg>\n",
              "      </button>\n",
              "      \n",
              "  <style>\n",
              "    .colab-df-container {\n",
              "      display:flex;\n",
              "      flex-wrap:wrap;\n",
              "      gap: 12px;\n",
              "    }\n",
              "\n",
              "    .colab-df-convert {\n",
              "      background-color: #E8F0FE;\n",
              "      border: none;\n",
              "      border-radius: 50%;\n",
              "      cursor: pointer;\n",
              "      display: none;\n",
              "      fill: #1967D2;\n",
              "      height: 32px;\n",
              "      padding: 0 0 0 0;\n",
              "      width: 32px;\n",
              "    }\n",
              "\n",
              "    .colab-df-convert:hover {\n",
              "      background-color: #E2EBFA;\n",
              "      box-shadow: 0px 1px 2px rgba(60, 64, 67, 0.3), 0px 1px 3px 1px rgba(60, 64, 67, 0.15);\n",
              "      fill: #174EA6;\n",
              "    }\n",
              "\n",
              "    [theme=dark] .colab-df-convert {\n",
              "      background-color: #3B4455;\n",
              "      fill: #D2E3FC;\n",
              "    }\n",
              "\n",
              "    [theme=dark] .colab-df-convert:hover {\n",
              "      background-color: #434B5C;\n",
              "      box-shadow: 0px 1px 3px 1px rgba(0, 0, 0, 0.15);\n",
              "      filter: drop-shadow(0px 1px 2px rgba(0, 0, 0, 0.3));\n",
              "      fill: #FFFFFF;\n",
              "    }\n",
              "  </style>\n",
              "\n",
              "      <script>\n",
              "        const buttonEl =\n",
              "          document.querySelector('#df-997fc899-cd98-44da-9521-37cecb403758 button.colab-df-convert');\n",
              "        buttonEl.style.display =\n",
              "          google.colab.kernel.accessAllowed ? 'block' : 'none';\n",
              "\n",
              "        async function convertToInteractive(key) {\n",
              "          const element = document.querySelector('#df-997fc899-cd98-44da-9521-37cecb403758');\n",
              "          const dataTable =\n",
              "            await google.colab.kernel.invokeFunction('convertToInteractive',\n",
              "                                                     [key], {});\n",
              "          if (!dataTable) return;\n",
              "\n",
              "          const docLinkHtml = 'Like what you see? Visit the ' +\n",
              "            '<a target=\"_blank\" href=https://colab.research.google.com/notebooks/data_table.ipynb>data table notebook</a>'\n",
              "            + ' to learn more about interactive tables.';\n",
              "          element.innerHTML = '';\n",
              "          dataTable['output_type'] = 'display_data';\n",
              "          await google.colab.output.renderOutput(dataTable, element);\n",
              "          const docLink = document.createElement('div');\n",
              "          docLink.innerHTML = docLinkHtml;\n",
              "          element.appendChild(docLink);\n",
              "        }\n",
              "      </script>\n",
              "    </div>\n",
              "  </div>\n",
              "  "
            ],
            "application/vnd.google.colaboratory.module+javascript": "\n      import \"https://ssl.gstatic.com/colaboratory/data_table/99dac6621f6ae8c4/data_table.js\";\n\n      window.createDataTable({\n        data: [[{\n            'v': 9,\n            'f': \"9\",\n        },\n\"Benin\",\n{\n            'v': 89.565,\n            'f': \"89.565\",\n        },\n{\n            'v': 86.586,\n            'f': \"86.586\",\n        },\n{\n            'v': 2000.0,\n            'f': \"2000.0\",\n        },\n\"Achieved\"],\n [{\n            'v': 16,\n            'f': \"16\",\n        },\n\"Cambodia\",\n{\n            'v': 504.113,\n            'f': \"504.113\",\n        },\n{\n            'v': 55.156,\n            'f': \"55.156\",\n        },\n{\n            'v': 2000.0,\n            'f': \"2000.0\",\n        },\n\"Achieved\"],\n [{\n            'v': 62,\n            'f': \"62\",\n        },\n\"Madagascar\",\n{\n            'v': 19.136,\n            'f': \"19.136\",\n        },\n{\n            'v': -7.832,\n            'f': \"-7.832\",\n        },\n{\n            'v': 2010.0,\n            'f': \"2010.0\",\n        },\n\"Achieved\"],\n [{\n            'v': 122,\n            'f': \"122\",\n        },\n\"Bhutan\",\n{\n            'v': NaN,\n            'f': \"NaN\",\n        },\n{\n            'v': NaN,\n            'f': \"NaN\",\n        },\n{\n            'v': 2000.0,\n            'f': \"2000.0\",\n        },\n\"Achieved\"],\n [{\n            'v': 124,\n            'f': \"124\",\n        },\n\"Guinea-Bissau\",\n{\n            'v': NaN,\n            'f': \"NaN\",\n        },\n{\n            'v': NaN,\n            'f': \"NaN\",\n        },\n{\n            'v': 2030.0,\n            'f': \"2030.0\",\n        },\n\"Achieved\"],\n [{\n            'v': 125,\n            'f': \"125\",\n        },\n\"Guyana\",\n{\n            'v': NaN,\n            'f': \"NaN\",\n        },\n{\n            'v': NaN,\n            'f': \"NaN\",\n        },\n{\n            'v': 2019.0,\n            'f': \"2019.0\",\n        },\n\"Achieved\"],\n [{\n            'v': 127,\n            'f': \"127\",\n        },\n\"Liberia\",\n{\n            'v': NaN,\n            'f': \"NaN\",\n        },\n{\n            'v': NaN,\n            'f': \"NaN\",\n        },\n{\n            'v': 2000.0,\n            'f': \"2000.0\",\n        },\n\"Achieved\"]],\n        columns: [[\"number\", \"index\"], [\"string\", \"country\"], [\"number\", \"change_CO2_output_per_capita_(%)\"], [\"number\", \"change_gdp_per_capita_(%)\"], [\"number\", \"pledged_year\"], [\"string\", \"status\"]],\n        columnOptions: [{\"width\": \"1px\", \"className\": \"index_column\"}],\n        rowsPerPage: 25,\n        helpUrl: \"https://colab.research.google.com/notebooks/data_table.ipynb\",\n        suppressOutputScrolling: true,\n        minimumWidth: undefined,\n      });\n    "
          },
          "metadata": {},
          "execution_count": 16
        }
      ]
    },
    {
      "cell_type": "markdown",
      "source": [
        "Congratulations to them! But since they are either small, faily underdeveloped and/or have no data on GDP or CO2 output I will not include them in my search for the biggest stride.\n",
        "\n",
        "Let's find countries that have: \n",
        "* decreased their CO2 output\n",
        "* increased their GDP\n",
        "* set a net-zero goal"
      ],
      "metadata": {
        "id": "-5H4Bs5KE6Oa"
      }
    },
    {
      "cell_type": "code",
      "source": [
        "the_biggest_strides = even_bigger_strides[(even_bigger_strides['change_CO2_output_per_capita_(%)'] < 0) & (even_bigger_strides['change_gdp_per_capita_(%)'] > 0) & (~even_bigger_strides['status'].isna()) ].copy()\n",
        "the_biggest_strides"
      ],
      "metadata": {
        "colab": {
          "base_uri": "https://localhost:8080/",
          "height": 284
        },
        "id": "7u6ildF4Apsw",
        "outputId": "6c8be870-f2c7-4933-95b9-bf1692680a20"
      },
      "execution_count": 17,
      "outputs": [
        {
          "output_type": "execute_result",
          "data": {
            "text/plain": [
              "                  country  change_CO2_output_per_capita_(%)  \\\n",
              "2               Australia                            -9.489   \n",
              "34                Finland                           -43.131   \n",
              "49                 Israel                           -24.964   \n",
              "85               Portugal                           -56.617   \n",
              "95           South Africa                           -12.372   \n",
              "99                 Sweden                           -38.570   \n",
              "110               Ukraine                            -4.223   \n",
              "111  United Arab Emirates                           -30.213   \n",
              "112        United Kingdom                           -45.381   \n",
              "\n",
              "     change_gdp_per_capita_(%)  pledged_year              status  \n",
              "2                        9.577        2050.0              Pledge  \n",
              "34                      10.299        2035.0  In policy document  \n",
              "49                      25.748        2050.0              Pledge  \n",
              "85                      51.589        2050.0  In policy document  \n",
              "95                     166.736        2050.0              Pledge  \n",
              "99                      30.274        2045.0              In law  \n",
              "110                    563.781        2060.0  In policy document  \n",
              "111                      3.172        2050.0              Pledge  \n",
              "112                     35.093        2050.0              In law  "
            ],
            "text/html": [
              "\n",
              "  <div id=\"df-af5b0808-f0e3-48fe-a03a-881c45a93f3a\">\n",
              "    <div class=\"colab-df-container\">\n",
              "      <div>\n",
              "<style scoped>\n",
              "    .dataframe tbody tr th:only-of-type {\n",
              "        vertical-align: middle;\n",
              "    }\n",
              "\n",
              "    .dataframe tbody tr th {\n",
              "        vertical-align: top;\n",
              "    }\n",
              "\n",
              "    .dataframe thead th {\n",
              "        text-align: right;\n",
              "    }\n",
              "</style>\n",
              "<table border=\"1\" class=\"dataframe\">\n",
              "  <thead>\n",
              "    <tr style=\"text-align: right;\">\n",
              "      <th></th>\n",
              "      <th>country</th>\n",
              "      <th>change_CO2_output_per_capita_(%)</th>\n",
              "      <th>change_gdp_per_capita_(%)</th>\n",
              "      <th>pledged_year</th>\n",
              "      <th>status</th>\n",
              "    </tr>\n",
              "  </thead>\n",
              "  <tbody>\n",
              "    <tr>\n",
              "      <th>2</th>\n",
              "      <td>Australia</td>\n",
              "      <td>-9.489</td>\n",
              "      <td>9.577</td>\n",
              "      <td>2050.0</td>\n",
              "      <td>Pledge</td>\n",
              "    </tr>\n",
              "    <tr>\n",
              "      <th>34</th>\n",
              "      <td>Finland</td>\n",
              "      <td>-43.131</td>\n",
              "      <td>10.299</td>\n",
              "      <td>2035.0</td>\n",
              "      <td>In policy document</td>\n",
              "    </tr>\n",
              "    <tr>\n",
              "      <th>49</th>\n",
              "      <td>Israel</td>\n",
              "      <td>-24.964</td>\n",
              "      <td>25.748</td>\n",
              "      <td>2050.0</td>\n",
              "      <td>Pledge</td>\n",
              "    </tr>\n",
              "    <tr>\n",
              "      <th>85</th>\n",
              "      <td>Portugal</td>\n",
              "      <td>-56.617</td>\n",
              "      <td>51.589</td>\n",
              "      <td>2050.0</td>\n",
              "      <td>In policy document</td>\n",
              "    </tr>\n",
              "    <tr>\n",
              "      <th>95</th>\n",
              "      <td>South Africa</td>\n",
              "      <td>-12.372</td>\n",
              "      <td>166.736</td>\n",
              "      <td>2050.0</td>\n",
              "      <td>Pledge</td>\n",
              "    </tr>\n",
              "    <tr>\n",
              "      <th>99</th>\n",
              "      <td>Sweden</td>\n",
              "      <td>-38.570</td>\n",
              "      <td>30.274</td>\n",
              "      <td>2045.0</td>\n",
              "      <td>In law</td>\n",
              "    </tr>\n",
              "    <tr>\n",
              "      <th>110</th>\n",
              "      <td>Ukraine</td>\n",
              "      <td>-4.223</td>\n",
              "      <td>563.781</td>\n",
              "      <td>2060.0</td>\n",
              "      <td>In policy document</td>\n",
              "    </tr>\n",
              "    <tr>\n",
              "      <th>111</th>\n",
              "      <td>United Arab Emirates</td>\n",
              "      <td>-30.213</td>\n",
              "      <td>3.172</td>\n",
              "      <td>2050.0</td>\n",
              "      <td>Pledge</td>\n",
              "    </tr>\n",
              "    <tr>\n",
              "      <th>112</th>\n",
              "      <td>United Kingdom</td>\n",
              "      <td>-45.381</td>\n",
              "      <td>35.093</td>\n",
              "      <td>2050.0</td>\n",
              "      <td>In law</td>\n",
              "    </tr>\n",
              "  </tbody>\n",
              "</table>\n",
              "</div>\n",
              "      <button class=\"colab-df-convert\" onclick=\"convertToInteractive('df-af5b0808-f0e3-48fe-a03a-881c45a93f3a')\"\n",
              "              title=\"Convert this dataframe to an interactive table.\"\n",
              "              style=\"display:none;\">\n",
              "        \n",
              "  <svg xmlns=\"http://www.w3.org/2000/svg\" height=\"24px\"viewBox=\"0 0 24 24\"\n",
              "       width=\"24px\">\n",
              "    <path d=\"M0 0h24v24H0V0z\" fill=\"none\"/>\n",
              "    <path d=\"M18.56 5.44l.94 2.06.94-2.06 2.06-.94-2.06-.94-.94-2.06-.94 2.06-2.06.94zm-11 1L8.5 8.5l.94-2.06 2.06-.94-2.06-.94L8.5 2.5l-.94 2.06-2.06.94zm10 10l.94 2.06.94-2.06 2.06-.94-2.06-.94-.94-2.06-.94 2.06-2.06.94z\"/><path d=\"M17.41 7.96l-1.37-1.37c-.4-.4-.92-.59-1.43-.59-.52 0-1.04.2-1.43.59L10.3 9.45l-7.72 7.72c-.78.78-.78 2.05 0 2.83L4 21.41c.39.39.9.59 1.41.59.51 0 1.02-.2 1.41-.59l7.78-7.78 2.81-2.81c.8-.78.8-2.07 0-2.86zM5.41 20L4 18.59l7.72-7.72 1.47 1.35L5.41 20z\"/>\n",
              "  </svg>\n",
              "      </button>\n",
              "      \n",
              "  <style>\n",
              "    .colab-df-container {\n",
              "      display:flex;\n",
              "      flex-wrap:wrap;\n",
              "      gap: 12px;\n",
              "    }\n",
              "\n",
              "    .colab-df-convert {\n",
              "      background-color: #E8F0FE;\n",
              "      border: none;\n",
              "      border-radius: 50%;\n",
              "      cursor: pointer;\n",
              "      display: none;\n",
              "      fill: #1967D2;\n",
              "      height: 32px;\n",
              "      padding: 0 0 0 0;\n",
              "      width: 32px;\n",
              "    }\n",
              "\n",
              "    .colab-df-convert:hover {\n",
              "      background-color: #E2EBFA;\n",
              "      box-shadow: 0px 1px 2px rgba(60, 64, 67, 0.3), 0px 1px 3px 1px rgba(60, 64, 67, 0.15);\n",
              "      fill: #174EA6;\n",
              "    }\n",
              "\n",
              "    [theme=dark] .colab-df-convert {\n",
              "      background-color: #3B4455;\n",
              "      fill: #D2E3FC;\n",
              "    }\n",
              "\n",
              "    [theme=dark] .colab-df-convert:hover {\n",
              "      background-color: #434B5C;\n",
              "      box-shadow: 0px 1px 3px 1px rgba(0, 0, 0, 0.15);\n",
              "      filter: drop-shadow(0px 1px 2px rgba(0, 0, 0, 0.3));\n",
              "      fill: #FFFFFF;\n",
              "    }\n",
              "  </style>\n",
              "\n",
              "      <script>\n",
              "        const buttonEl =\n",
              "          document.querySelector('#df-af5b0808-f0e3-48fe-a03a-881c45a93f3a button.colab-df-convert');\n",
              "        buttonEl.style.display =\n",
              "          google.colab.kernel.accessAllowed ? 'block' : 'none';\n",
              "\n",
              "        async function convertToInteractive(key) {\n",
              "          const element = document.querySelector('#df-af5b0808-f0e3-48fe-a03a-881c45a93f3a');\n",
              "          const dataTable =\n",
              "            await google.colab.kernel.invokeFunction('convertToInteractive',\n",
              "                                                     [key], {});\n",
              "          if (!dataTable) return;\n",
              "\n",
              "          const docLinkHtml = 'Like what you see? Visit the ' +\n",
              "            '<a target=\"_blank\" href=https://colab.research.google.com/notebooks/data_table.ipynb>data table notebook</a>'\n",
              "            + ' to learn more about interactive tables.';\n",
              "          element.innerHTML = '';\n",
              "          dataTable['output_type'] = 'display_data';\n",
              "          await google.colab.output.renderOutput(dataTable, element);\n",
              "          const docLink = document.createElement('div');\n",
              "          docLink.innerHTML = docLinkHtml;\n",
              "          element.appendChild(docLink);\n",
              "        }\n",
              "      </script>\n",
              "    </div>\n",
              "  </div>\n",
              "  "
            ],
            "application/vnd.google.colaboratory.module+javascript": "\n      import \"https://ssl.gstatic.com/colaboratory/data_table/99dac6621f6ae8c4/data_table.js\";\n\n      window.createDataTable({\n        data: [[{\n            'v': 2,\n            'f': \"2\",\n        },\n\"Australia\",\n{\n            'v': -9.489,\n            'f': \"-9.489\",\n        },\n{\n            'v': 9.577,\n            'f': \"9.577\",\n        },\n{\n            'v': 2050.0,\n            'f': \"2050.0\",\n        },\n\"Pledge\"],\n [{\n            'v': 34,\n            'f': \"34\",\n        },\n\"Finland\",\n{\n            'v': -43.131,\n            'f': \"-43.131\",\n        },\n{\n            'v': 10.299,\n            'f': \"10.299\",\n        },\n{\n            'v': 2035.0,\n            'f': \"2035.0\",\n        },\n\"In policy document\"],\n [{\n            'v': 49,\n            'f': \"49\",\n        },\n\"Israel\",\n{\n            'v': -24.964,\n            'f': \"-24.964\",\n        },\n{\n            'v': 25.748,\n            'f': \"25.748\",\n        },\n{\n            'v': 2050.0,\n            'f': \"2050.0\",\n        },\n\"Pledge\"],\n [{\n            'v': 85,\n            'f': \"85\",\n        },\n\"Portugal\",\n{\n            'v': -56.617,\n            'f': \"-56.617\",\n        },\n{\n            'v': 51.589,\n            'f': \"51.589\",\n        },\n{\n            'v': 2050.0,\n            'f': \"2050.0\",\n        },\n\"In policy document\"],\n [{\n            'v': 95,\n            'f': \"95\",\n        },\n\"South Africa\",\n{\n            'v': -12.372,\n            'f': \"-12.372\",\n        },\n{\n            'v': 166.736,\n            'f': \"166.736\",\n        },\n{\n            'v': 2050.0,\n            'f': \"2050.0\",\n        },\n\"Pledge\"],\n [{\n            'v': 99,\n            'f': \"99\",\n        },\n\"Sweden\",\n{\n            'v': -38.57,\n            'f': \"-38.57\",\n        },\n{\n            'v': 30.274,\n            'f': \"30.274\",\n        },\n{\n            'v': 2045.0,\n            'f': \"2045.0\",\n        },\n\"In law\"],\n [{\n            'v': 110,\n            'f': \"110\",\n        },\n\"Ukraine\",\n{\n            'v': -4.223,\n            'f': \"-4.223\",\n        },\n{\n            'v': 563.781,\n            'f': \"563.781\",\n        },\n{\n            'v': 2060.0,\n            'f': \"2060.0\",\n        },\n\"In policy document\"],\n [{\n            'v': 111,\n            'f': \"111\",\n        },\n\"United Arab Emirates\",\n{\n            'v': -30.213,\n            'f': \"-30.213\",\n        },\n{\n            'v': 3.172,\n            'f': \"3.172\",\n        },\n{\n            'v': 2050.0,\n            'f': \"2050.0\",\n        },\n\"Pledge\"],\n [{\n            'v': 112,\n            'f': \"112\",\n        },\n\"United Kingdom\",\n{\n            'v': -45.381,\n            'f': \"-45.381\",\n        },\n{\n            'v': 35.093,\n            'f': \"35.093\",\n        },\n{\n            'v': 2050.0,\n            'f': \"2050.0\",\n        },\n\"In law\"]],\n        columns: [[\"number\", \"index\"], [\"string\", \"country\"], [\"number\", \"change_CO2_output_per_capita_(%)\"], [\"number\", \"change_gdp_per_capita_(%)\"], [\"number\", \"pledged_year\"], [\"string\", \"status\"]],\n        columnOptions: [{\"width\": \"1px\", \"className\": \"index_column\"}],\n        rowsPerPage: 25,\n        helpUrl: \"https://colab.research.google.com/notebooks/data_table.ipynb\",\n        suppressOutputScrolling: true,\n        minimumWidth: undefined,\n      });\n    "
          },
          "metadata": {},
          "execution_count": 17
        }
      ]
    },
    {
      "cell_type": "markdown",
      "source": [
        "Four of these countries have made pledges: \n",
        "Three of these countries are one step further, the are in the process of creating laws based on their pledges.\n",
        "\n",
        "But of the countries not only decreased their CO2 output and increased their GDP but have also put their pledges in law: \n",
        "* United Kingdom\n",
        "* Sweden\n",
        "\n",
        "And since Sweden has pledged to reach their net-zero goal in 2045 while the UK has pledged 2050 I deem Sweden the big winner of the competiton!\n",
        "\n",
        "# **Sweden has made the biggest stride when it comes to decreasing CO2 output!**\n"
      ],
      "metadata": {
        "id": "veib6LbaGJMB"
      }
    },
    {
      "cell_type": "markdown",
      "source": [
        "# which non-fossil fuel energy technology will have the best price in the future?\n",
        "\n",
        "In the last decade the price of renewable fuels has falled dramatically. Where the use of renewable energy was once something exclusive and unobtainable it is now often even cheaper than fossil-fueled energy.\n",
        "\n",
        "The biggest reason for this is that, in short, the technology behind the renewable energy sources follow a learning curve. When we improve the technologies behind the renewables it gets cheaper to produce them. And producing products on a bigger scale also lowers the price.\n",
        "\n",
        "\n",
        "Where renewable energy gets cheaper over time, fossil fueled energy gets more expensive over time because of two reasons: \n",
        "There is only so much we can still learn and improve when it comes to fossil fuels.\n",
        "Fossil fuels are not infinite and when a product gets harder and harder to come by the prices rise.\n",
        "\n",
        "That renewable energy is the way forwards is no surprise. But let's see what the prices of the technologies behind the renewable energy sources are going to do in the future!\n",
        "\n",
        "According to OWID the learning curves of the various technologies are the following\n",
        "\n",
        "* **The learning rate of solar power is 36%.**\n",
        "* **The learning rate of onshore wind power is 23%**\n",
        "* **The learning rate of offshore wind power is 10%**\n",
        "\n",
        "With each doubling of the installed cumulative capacity the price of solar modules declines by 20.2%."
      ],
      "metadata": {
        "id": "CfB64zY_MaX9"
      }
    },
    {
      "cell_type": "code",
      "source": [
        "# Find the entities in the df that are energy sources: \n",
        "costs_df['Entity'].unique()"
      ],
      "metadata": {
        "id": "qHUI04iSMe2v",
        "colab": {
          "base_uri": "https://localhost:8080/"
        },
        "outputId": "372281e7-b7af-47ee-c6fc-3aa5cc024e05"
      },
      "execution_count": 18,
      "outputs": [
        {
          "output_type": "execute_result",
          "data": {
            "text/plain": [
              "array(['Acrylic fiber', 'Acrylonitrile', 'Aluminum', 'Ammonia', 'Aniline',\n",
              "       'Automotive (US)', 'Beer (Japan)', 'Benzene', 'Bisphenol A',\n",
              "       'CCGT Power', 'Caprolactam', 'Carbon black', 'Carbon disulfide',\n",
              "       'Concentrating Solar', 'Corn (US)', 'Crude Oil', 'Cyclohexane',\n",
              "       'DNA Sequencing', 'DRAM', 'Electric Range', 'Ethanol (Brazil)',\n",
              "       'Ethanolamine', 'Ethylene', 'Formaldehyde',\n",
              "       'Free Standing Gas Range', 'Geothermal Electricity',\n",
              "       'Hard Disk Drive', 'Hydrofluoric acid', 'Isopropyl alcohol',\n",
              "       'Laser Diode', 'Low-density polyethylene', 'Magnesium',\n",
              "       'Maleic anhydride', 'Methanol', 'Milk (US)',\n",
              "       'Monochrome Television', 'Motor Gasoline', 'Neoprene rubber',\n",
              "       'Nuclear Electricity', 'Onshore Gas Pipeline', 'Paraxylene',\n",
              "       'Pentaerythritol', 'Phenol', 'Photovoltaics', 'Phthalic anhydride',\n",
              "       'Polyester fiber', 'Polyethylene HD', 'Polyethylene LD',\n",
              "       'Polypropylene', 'Polystyrene', 'Polyvinylchloride',\n",
              "       'Primary Aluminum', 'Primary Magnesium', 'Refined Cane Sugar',\n",
              "       'Sodium', 'Sodium chlorate', 'Sodium hydrosulfite', 'Sorbitol',\n",
              "       'Styrene', 'Titanium Dioxide', 'Titanium Sponge', 'Transistor',\n",
              "       'Urea', 'Vinyl acetate', 'Vinyl chloride',\n",
              "       'Wind Turbine (Denmark)'], dtype=object)"
            ]
          },
          "metadata": {},
          "execution_count": 18
        }
      ]
    },
    {
      "cell_type": "markdown",
      "source": [
        "* **Concentrating Solar**: This refers to the use of mirrors or lenses to concentrate sunlight and convert it into usable heat or electricity.\n",
        "* **Corn (US)**: This refers to the use of corn or corn-derived products, such as ethanol, as a renewable energy source.\n",
        "* **Ethanol (Brazil)**: Ethanol produced from sugarcane in Brazil is considered a renewable energy source.\n",
        "* **Geothermal Electricity**: This refers to the generation of electricity using geothermal heat from the Earth's core.\n",
        "* **Photovoltaics**: This refers to the use of solar panels to convert sunlight directly into electricity.\n",
        "* **Wind Turbine (Denmark)**: Wind turbines harness the energy of wind to generate electricity."
      ],
      "metadata": {
        "id": "NPdjMSTQXMbL"
      }
    },
    {
      "cell_type": "code",
      "source": [
        "# Dataframe with all the renewable sources\n",
        "renewable_sources = ['Concentrating Solar', 'Corn (US)', 'Ethanol (Brazil)', 'Geothermal Electricity', 'Photovoltaics', 'Wind Turbine (Denmark)']\n",
        "costs_renewables = costs_df[costs_df['Entity'].isin(renewable_sources)].copy()\n",
        "costs_renewables = costs_renewables.drop('Code', axis=1)"
      ],
      "metadata": {
        "id": "jSQxz6RHm8gr"
      },
      "execution_count": 86,
      "outputs": []
    },
    {
      "cell_type": "code",
      "source": [
        "# Using linear regression to add rows with the predicted prices for each product\n",
        "products = costs_renewables['Entity'].unique()\n",
        "products\n",
        "\n",
        "product_models = {}\n",
        "product_predictions = {}\n",
        "\n",
        "for product in products:\n",
        "    product_data = costs_renewables[costs_renewables['Entity'] == product].copy(deep=True)\n",
        "    \n",
        "    X = product_data[['Year']]\n",
        "    y = product_data['Technology cost']\n",
        "    \n",
        "    linear_regressor = LinearRegression()\n",
        "    linear_regressor.fit(X, y)\n",
        "    \n",
        "    product_models[product] = linear_regressor\n",
        "    \n",
        "    future_years = pd.DataFrame({'Year': range(2006, 2016)})\n",
        "    \n",
        "    future_prices = linear_regressor.predict(future_years)\n",
        "    \n",
        "    product_predictions[product] = future_prices\n",
        "\n",
        "    future_df = pd.DataFrame({'Year': future_years['Year'], 'Technology cost': future_prices})\n",
        "    future_df['Entity'] = product  \n",
        "    product_data = pd.concat([product_data, future_df], ignore_index=True)\n",
        "    costs_renewables= pd.concat([costs_renewables, product_data], ignore_index=True)"
      ],
      "metadata": {
        "id": "tXNN8oRix8Ie"
      },
      "execution_count": 88,
      "outputs": []
    },
    {
      "cell_type": "code",
      "source": [
        "costs_renewables"
      ],
      "metadata": {
        "colab": {
          "base_uri": "https://localhost:8080/",
          "height": 422
        },
        "id": "rWDd6U7t6BVi",
        "outputId": "1c72add9-4ed4-450c-e8d2-9735a83838fa"
      },
      "execution_count": 89,
      "outputs": [
        {
          "output_type": "execute_result",
          "data": {
            "text/plain": [
              "                     Entity  Year  Technology cost\n",
              "0       Concentrating Solar  1980        76.065150\n",
              "1       Concentrating Solar  1981        64.396950\n",
              "2       Concentrating Solar  1982        54.731710\n",
              "3       Concentrating Solar  1983        45.453583\n",
              "4       Concentrating Solar  1984        34.629630\n",
              "..                      ...   ...              ...\n",
              "385  Wind Turbine (Denmark)  2011      1360.081203\n",
              "386  Wind Turbine (Denmark)  2012      1035.292481\n",
              "387  Wind Turbine (Denmark)  2013       710.503759\n",
              "388  Wind Turbine (Denmark)  2014       385.715038\n",
              "389  Wind Turbine (Denmark)  2015        60.926316\n",
              "\n",
              "[390 rows x 3 columns]"
            ],
            "text/html": [
              "\n",
              "  <div id=\"df-5a007b14-3073-45eb-a18c-53d00e2058e8\">\n",
              "    <div class=\"colab-df-container\">\n",
              "      <div>\n",
              "<style scoped>\n",
              "    .dataframe tbody tr th:only-of-type {\n",
              "        vertical-align: middle;\n",
              "    }\n",
              "\n",
              "    .dataframe tbody tr th {\n",
              "        vertical-align: top;\n",
              "    }\n",
              "\n",
              "    .dataframe thead th {\n",
              "        text-align: right;\n",
              "    }\n",
              "</style>\n",
              "<table border=\"1\" class=\"dataframe\">\n",
              "  <thead>\n",
              "    <tr style=\"text-align: right;\">\n",
              "      <th></th>\n",
              "      <th>Entity</th>\n",
              "      <th>Year</th>\n",
              "      <th>Technology cost</th>\n",
              "    </tr>\n",
              "  </thead>\n",
              "  <tbody>\n",
              "    <tr>\n",
              "      <th>0</th>\n",
              "      <td>Concentrating Solar</td>\n",
              "      <td>1980</td>\n",
              "      <td>76.065150</td>\n",
              "    </tr>\n",
              "    <tr>\n",
              "      <th>1</th>\n",
              "      <td>Concentrating Solar</td>\n",
              "      <td>1981</td>\n",
              "      <td>64.396950</td>\n",
              "    </tr>\n",
              "    <tr>\n",
              "      <th>2</th>\n",
              "      <td>Concentrating Solar</td>\n",
              "      <td>1982</td>\n",
              "      <td>54.731710</td>\n",
              "    </tr>\n",
              "    <tr>\n",
              "      <th>3</th>\n",
              "      <td>Concentrating Solar</td>\n",
              "      <td>1983</td>\n",
              "      <td>45.453583</td>\n",
              "    </tr>\n",
              "    <tr>\n",
              "      <th>4</th>\n",
              "      <td>Concentrating Solar</td>\n",
              "      <td>1984</td>\n",
              "      <td>34.629630</td>\n",
              "    </tr>\n",
              "    <tr>\n",
              "      <th>...</th>\n",
              "      <td>...</td>\n",
              "      <td>...</td>\n",
              "      <td>...</td>\n",
              "    </tr>\n",
              "    <tr>\n",
              "      <th>385</th>\n",
              "      <td>Wind Turbine (Denmark)</td>\n",
              "      <td>2011</td>\n",
              "      <td>1360.081203</td>\n",
              "    </tr>\n",
              "    <tr>\n",
              "      <th>386</th>\n",
              "      <td>Wind Turbine (Denmark)</td>\n",
              "      <td>2012</td>\n",
              "      <td>1035.292481</td>\n",
              "    </tr>\n",
              "    <tr>\n",
              "      <th>387</th>\n",
              "      <td>Wind Turbine (Denmark)</td>\n",
              "      <td>2013</td>\n",
              "      <td>710.503759</td>\n",
              "    </tr>\n",
              "    <tr>\n",
              "      <th>388</th>\n",
              "      <td>Wind Turbine (Denmark)</td>\n",
              "      <td>2014</td>\n",
              "      <td>385.715038</td>\n",
              "    </tr>\n",
              "    <tr>\n",
              "      <th>389</th>\n",
              "      <td>Wind Turbine (Denmark)</td>\n",
              "      <td>2015</td>\n",
              "      <td>60.926316</td>\n",
              "    </tr>\n",
              "  </tbody>\n",
              "</table>\n",
              "<p>390 rows × 3 columns</p>\n",
              "</div>\n",
              "      <button class=\"colab-df-convert\" onclick=\"convertToInteractive('df-5a007b14-3073-45eb-a18c-53d00e2058e8')\"\n",
              "              title=\"Convert this dataframe to an interactive table.\"\n",
              "              style=\"display:none;\">\n",
              "        \n",
              "  <svg xmlns=\"http://www.w3.org/2000/svg\" height=\"24px\"viewBox=\"0 0 24 24\"\n",
              "       width=\"24px\">\n",
              "    <path d=\"M0 0h24v24H0V0z\" fill=\"none\"/>\n",
              "    <path d=\"M18.56 5.44l.94 2.06.94-2.06 2.06-.94-2.06-.94-.94-2.06-.94 2.06-2.06.94zm-11 1L8.5 8.5l.94-2.06 2.06-.94-2.06-.94L8.5 2.5l-.94 2.06-2.06.94zm10 10l.94 2.06.94-2.06 2.06-.94-2.06-.94-.94-2.06-.94 2.06-2.06.94z\"/><path d=\"M17.41 7.96l-1.37-1.37c-.4-.4-.92-.59-1.43-.59-.52 0-1.04.2-1.43.59L10.3 9.45l-7.72 7.72c-.78.78-.78 2.05 0 2.83L4 21.41c.39.39.9.59 1.41.59.51 0 1.02-.2 1.41-.59l7.78-7.78 2.81-2.81c.8-.78.8-2.07 0-2.86zM5.41 20L4 18.59l7.72-7.72 1.47 1.35L5.41 20z\"/>\n",
              "  </svg>\n",
              "      </button>\n",
              "      \n",
              "  <style>\n",
              "    .colab-df-container {\n",
              "      display:flex;\n",
              "      flex-wrap:wrap;\n",
              "      gap: 12px;\n",
              "    }\n",
              "\n",
              "    .colab-df-convert {\n",
              "      background-color: #E8F0FE;\n",
              "      border: none;\n",
              "      border-radius: 50%;\n",
              "      cursor: pointer;\n",
              "      display: none;\n",
              "      fill: #1967D2;\n",
              "      height: 32px;\n",
              "      padding: 0 0 0 0;\n",
              "      width: 32px;\n",
              "    }\n",
              "\n",
              "    .colab-df-convert:hover {\n",
              "      background-color: #E2EBFA;\n",
              "      box-shadow: 0px 1px 2px rgba(60, 64, 67, 0.3), 0px 1px 3px 1px rgba(60, 64, 67, 0.15);\n",
              "      fill: #174EA6;\n",
              "    }\n",
              "\n",
              "    [theme=dark] .colab-df-convert {\n",
              "      background-color: #3B4455;\n",
              "      fill: #D2E3FC;\n",
              "    }\n",
              "\n",
              "    [theme=dark] .colab-df-convert:hover {\n",
              "      background-color: #434B5C;\n",
              "      box-shadow: 0px 1px 3px 1px rgba(0, 0, 0, 0.15);\n",
              "      filter: drop-shadow(0px 1px 2px rgba(0, 0, 0, 0.3));\n",
              "      fill: #FFFFFF;\n",
              "    }\n",
              "  </style>\n",
              "\n",
              "      <script>\n",
              "        const buttonEl =\n",
              "          document.querySelector('#df-5a007b14-3073-45eb-a18c-53d00e2058e8 button.colab-df-convert');\n",
              "        buttonEl.style.display =\n",
              "          google.colab.kernel.accessAllowed ? 'block' : 'none';\n",
              "\n",
              "        async function convertToInteractive(key) {\n",
              "          const element = document.querySelector('#df-5a007b14-3073-45eb-a18c-53d00e2058e8');\n",
              "          const dataTable =\n",
              "            await google.colab.kernel.invokeFunction('convertToInteractive',\n",
              "                                                     [key], {});\n",
              "          if (!dataTable) return;\n",
              "\n",
              "          const docLinkHtml = 'Like what you see? Visit the ' +\n",
              "            '<a target=\"_blank\" href=https://colab.research.google.com/notebooks/data_table.ipynb>data table notebook</a>'\n",
              "            + ' to learn more about interactive tables.';\n",
              "          element.innerHTML = '';\n",
              "          dataTable['output_type'] = 'display_data';\n",
              "          await google.colab.output.renderOutput(dataTable, element);\n",
              "          const docLink = document.createElement('div');\n",
              "          docLink.innerHTML = docLinkHtml;\n",
              "          element.appendChild(docLink);\n",
              "        }\n",
              "      </script>\n",
              "    </div>\n",
              "  </div>\n",
              "  "
            ],
            "application/vnd.google.colaboratory.module+javascript": "\n      import \"https://ssl.gstatic.com/colaboratory/data_table/99dac6621f6ae8c4/data_table.js\";\n\n      window.createDataTable({\n        data: [[{\n            'v': 0,\n            'f': \"0\",\n        },\n\"Concentrating Solar\",\n{\n            'v': 1980,\n            'f': \"1980\",\n        },\n{\n            'v': 76.06515,\n            'f': \"76.06515\",\n        }],\n [{\n            'v': 1,\n            'f': \"1\",\n        },\n\"Concentrating Solar\",\n{\n            'v': 1981,\n            'f': \"1981\",\n        },\n{\n            'v': 64.39695,\n            'f': \"64.39695\",\n        }],\n [{\n            'v': 2,\n            'f': \"2\",\n        },\n\"Concentrating Solar\",\n{\n            'v': 1982,\n            'f': \"1982\",\n        },\n{\n            'v': 54.73171,\n            'f': \"54.73171\",\n        }],\n [{\n            'v': 3,\n            'f': \"3\",\n        },\n\"Concentrating Solar\",\n{\n            'v': 1983,\n            'f': \"1983\",\n        },\n{\n            'v': 45.453583,\n            'f': \"45.453583\",\n        }],\n [{\n            'v': 4,\n            'f': \"4\",\n        },\n\"Concentrating Solar\",\n{\n            'v': 1984,\n            'f': \"1984\",\n        },\n{\n            'v': 34.62963,\n            'f': \"34.62963\",\n        }],\n [{\n            'v': 5,\n            'f': \"5\",\n        },\n\"Concentrating Solar\",\n{\n            'v': 1985,\n            'f': \"1985\",\n        },\n{\n            'v': 28.8,\n            'f': \"28.8\",\n        }],\n [{\n            'v': 6,\n            'f': \"6\",\n        },\n\"Concentrating Solar\",\n{\n            'v': 1986,\n            'f': \"1986\",\n        },\n{\n            'v': 24.963593,\n            'f': \"24.963593\",\n        }],\n [{\n            'v': 7,\n            'f': \"7\",\n        },\n\"Concentrating Solar\",\n{\n            'v': 1987,\n            'f': \"1987\",\n        },\n{\n            'v': 22.304348,\n            'f': \"22.304348\",\n        }],\n [{\n            'v': 8,\n            'f': \"8\",\n        },\n\"Concentrating Solar\",\n{\n            'v': 1988,\n            'f': \"1988\",\n        },\n{\n            'v': 20.238094,\n            'f': \"20.238094\",\n        }],\n [{\n            'v': 9,\n            'f': \"9\",\n        },\n\"Concentrating Solar\",\n{\n            'v': 1989,\n            'f': \"1989\",\n        },\n{\n            'v': 19.037975,\n            'f': \"19.037975\",\n        }],\n [{\n            'v': 10,\n            'f': \"10\",\n        },\n\"Concentrating Solar\",\n{\n            'v': 1990,\n            'f': \"1990\",\n        },\n{\n            'v': 17.837837,\n            'f': \"17.837837\",\n        }],\n [{\n            'v': 11,\n            'f': \"11\",\n        },\n\"Concentrating Solar\",\n{\n            'v': 1991,\n            'f': \"1991\",\n        },\n{\n            'v': 16.957747,\n            'f': \"16.957747\",\n        }],\n [{\n            'v': 12,\n            'f': \"12\",\n        },\n\"Concentrating Solar\",\n{\n            'v': 1992,\n            'f': \"1992\",\n        },\n{\n            'v': 16.879433,\n            'f': \"16.879433\",\n        }],\n [{\n            'v': 13,\n            'f': \"13\",\n        },\n\"Concentrating Solar\",\n{\n            'v': 1993,\n            'f': \"1993\",\n        },\n{\n            'v': 16.618706,\n            'f': \"16.618706\",\n        }],\n [{\n            'v': 14,\n            'f': \"14\",\n        },\n\"Concentrating Solar\",\n{\n            'v': 1994,\n            'f': \"1994\",\n        },\n{\n            'v': 16.357664,\n            'f': \"16.357664\",\n        }],\n [{\n            'v': 15,\n            'f': \"15\",\n        },\n\"Concentrating Solar\",\n{\n            'v': 1995,\n            'f': \"1995\",\n        },\n{\n            'v': 15.93985,\n            'f': \"15.93985\",\n        }],\n [{\n            'v': 16,\n            'f': \"16\",\n        },\n\"Concentrating Solar\",\n{\n            'v': 1996,\n            'f': \"1996\",\n        },\n{\n            'v': 15.51938,\n            'f': \"15.51938\",\n        }],\n [{\n            'v': 17,\n            'f': \"17\",\n        },\n\"Concentrating Solar\",\n{\n            'v': 1997,\n            'f': \"1997\",\n        },\n{\n            'v': 15.200637,\n            'f': \"15.200637\",\n        }],\n [{\n            'v': 18,\n            'f': \"18\",\n        },\n\"Concentrating Solar\",\n{\n            'v': 1998,\n            'f': \"1998\",\n        },\n{\n            'v': 14.961039,\n            'f': \"14.961039\",\n        }],\n [{\n            'v': 19,\n            'f': \"19\",\n        },\n\"Concentrating Solar\",\n{\n            'v': 1999,\n            'f': \"1999\",\n        },\n{\n            'v': 14.785479,\n            'f': \"14.785479\",\n        }],\n [{\n            'v': 20,\n            'f': \"20\",\n        },\n\"Concentrating Solar\",\n{\n            'v': 2000,\n            'f': \"2000\",\n        },\n{\n            'v': 14.688915,\n            'f': \"14.688915\",\n        }],\n [{\n            'v': 21,\n            'f': \"21\",\n        },\n\"Concentrating Solar\",\n{\n            'v': 2001,\n            'f': \"2001\",\n        },\n{\n            'v': 14.60804,\n            'f': \"14.60804\",\n        }],\n [{\n            'v': 22,\n            'f': \"22\",\n        },\n\"Concentrating Solar\",\n{\n            'v': 2002,\n            'f': \"2002\",\n        },\n{\n            'v': 14.53872,\n            'f': \"14.53872\",\n        }],\n [{\n            'v': 23,\n            'f': \"23\",\n        },\n\"Concentrating Solar\",\n{\n            'v': 2003,\n            'f': \"2003\",\n        },\n{\n            'v': 14.395571,\n            'f': \"14.395571\",\n        }],\n [{\n            'v': 24,\n            'f': \"24\",\n        },\n\"Concentrating Solar\",\n{\n            'v': 2004,\n            'f': \"2004\",\n        },\n{\n            'v': 13.714286,\n            'f': \"13.714286\",\n        }],\n [{\n            'v': 25,\n            'f': \"25\",\n        },\n\"Concentrating Solar\",\n{\n            'v': 2005,\n            'f': \"2005\",\n        },\n{\n            'v': 12.692307,\n            'f': \"12.692307\",\n        }],\n [{\n            'v': 26,\n            'f': \"26\",\n        },\n\"Corn (US)\",\n{\n            'v': 1975,\n            'f': \"1975\",\n        },\n{\n            'v': 11.67,\n            'f': \"11.67\",\n        }],\n [{\n            'v': 27,\n            'f': \"27\",\n        },\n\"Corn (US)\",\n{\n            'v': 1976,\n            'f': \"1976\",\n        },\n{\n            'v': 11.48,\n            'f': \"11.48\",\n        }],\n [{\n            'v': 28,\n            'f': \"28\",\n        },\n\"Corn (US)\",\n{\n            'v': 1977,\n            'f': \"1977\",\n        },\n{\n            'v': 11.26,\n            'f': \"11.26\",\n        }],\n [{\n            'v': 29,\n            'f': \"29\",\n        },\n\"Corn (US)\",\n{\n            'v': 1978,\n            'f': \"1978\",\n        },\n{\n            'v': 9.95,\n            'f': \"9.95\",\n        }],\n [{\n            'v': 30,\n            'f': \"30\",\n        },\n\"Corn (US)\",\n{\n            'v': 1979,\n            'f': \"1979\",\n        },\n{\n            'v': 9.12,\n            'f': \"9.12\",\n        }],\n [{\n            'v': 31,\n            'f': \"31\",\n        },\n\"Corn (US)\",\n{\n            'v': 1980,\n            'f': \"1980\",\n        },\n{\n            'v': 11.09,\n            'f': \"11.09\",\n        }],\n [{\n            'v': 32,\n            'f': \"32\",\n        },\n\"Corn (US)\",\n{\n            'v': 1981,\n            'f': \"1981\",\n        },\n{\n            'v': 9.15,\n            'f': \"9.15\",\n        }],\n [{\n            'v': 33,\n            'f': \"33\",\n        },\n\"Corn (US)\",\n{\n            'v': 1982,\n            'f': \"1982\",\n        },\n{\n            'v': 8.79,\n            'f': \"8.79\",\n        }],\n [{\n            'v': 34,\n            'f': \"34\",\n        },\n\"Corn (US)\",\n{\n            'v': 1983,\n            'f': \"1983\",\n        },\n{\n            'v': 12.7,\n            'f': \"12.7\",\n        }],\n [{\n            'v': 35,\n            'f': \"35\",\n        },\n\"Corn (US)\",\n{\n            'v': 1984,\n            'f': \"1984\",\n        },\n{\n            'v': 9.45,\n            'f': \"9.45\",\n        }],\n [{\n            'v': 36,\n            'f': \"36\",\n        },\n\"Corn (US)\",\n{\n            'v': 1985,\n            'f': \"1985\",\n        },\n{\n            'v': 8.53,\n            'f': \"8.53\",\n        }],\n [{\n            'v': 37,\n            'f': \"37\",\n        },\n\"Corn (US)\",\n{\n            'v': 1986,\n            'f': \"1986\",\n        },\n{\n            'v': 8.44,\n            'f': \"8.44\",\n        }],\n [{\n            'v': 38,\n            'f': \"38\",\n        },\n\"Corn (US)\",\n{\n            'v': 1987,\n            'f': \"1987\",\n        },\n{\n            'v': 8.42,\n            'f': \"8.42\",\n        }],\n [{\n            'v': 39,\n            'f': \"39\",\n        },\n\"Corn (US)\",\n{\n            'v': 1988,\n            'f': \"1988\",\n        },\n{\n            'v': 12.02,\n            'f': \"12.02\",\n        }],\n [{\n            'v': 40,\n            'f': \"40\",\n        },\n\"Corn (US)\",\n{\n            'v': 1989,\n            'f': \"1989\",\n        },\n{\n            'v': 8.693384,\n            'f': \"8.693384\",\n        }],\n [{\n            'v': 41,\n            'f': \"41\",\n        },\n\"Corn (US)\",\n{\n            'v': 1990,\n            'f': \"1990\",\n        },\n{\n            'v': 8.51,\n            'f': \"8.51\",\n        }],\n [{\n            'v': 42,\n            'f': \"42\",\n        },\n\"Corn (US)\",\n{\n            'v': 1991,\n            'f': \"1991\",\n        },\n{\n            'v': 9.06,\n            'f': \"9.06\",\n        }],\n [{\n            'v': 43,\n            'f': \"43\",\n        },\n\"Corn (US)\",\n{\n            'v': 1992,\n            'f': \"1992\",\n        },\n{\n            'v': 7.47,\n            'f': \"7.47\",\n        }],\n [{\n            'v': 44,\n            'f': \"44\",\n        },\n\"Corn (US)\",\n{\n            'v': 1993,\n            'f': \"1993\",\n        },\n{\n            'v': 10.09,\n            'f': \"10.09\",\n        }],\n [{\n            'v': 45,\n            'f': \"45\",\n        },\n\"Corn (US)\",\n{\n            'v': 1994,\n            'f': \"1994\",\n        },\n{\n            'v': 6.985679,\n            'f': \"6.985679\",\n        }],\n [{\n            'v': 46,\n            'f': \"46\",\n        },\n\"Corn (US)\",\n{\n            'v': 1995,\n            'f': \"1995\",\n        },\n{\n            'v': 8.634088,\n            'f': \"8.634088\",\n        }],\n [{\n            'v': 47,\n            'f': \"47\",\n        },\n\"Corn (US)\",\n{\n            'v': 1996,\n            'f': \"1996\",\n        },\n{\n            'v': 7.695267,\n            'f': \"7.695267\",\n        }],\n [{\n            'v': 48,\n            'f': \"48\",\n        },\n\"Corn (US)\",\n{\n            'v': 1997,\n            'f': \"1997\",\n        },\n{\n            'v': 7.6923075,\n            'f': \"7.6923075\",\n        }],\n [{\n            'v': 49,\n            'f': \"49\",\n        },\n\"Corn (US)\",\n{\n            'v': 1998,\n            'f': \"1998\",\n        },\n{\n            'v': 7.352941,\n            'f': \"7.352941\",\n        }],\n [{\n            'v': 50,\n            'f': \"50\",\n        },\n\"Corn (US)\",\n{\n            'v': 1999,\n            'f': \"1999\",\n        },\n{\n            'v': 7.4074073,\n            'f': \"7.4074073\",\n        }],\n [{\n            'v': 51,\n            'f': \"51\",\n        },\n\"Corn (US)\",\n{\n            'v': 2000,\n            'f': \"2000\",\n        },\n{\n            'v': 7.246377,\n            'f': \"7.246377\",\n        }],\n [{\n            'v': 52,\n            'f': \"52\",\n        },\n\"Corn (US)\",\n{\n            'v': 2001,\n            'f': \"2001\",\n        },\n{\n            'v': 6.9444447,\n            'f': \"6.9444447\",\n        }],\n [{\n            'v': 53,\n            'f': \"53\",\n        },\n\"Corn (US)\",\n{\n            'v': 2002,\n            'f': \"2002\",\n        },\n{\n            'v': 7.4626865,\n            'f': \"7.4626865\",\n        }],\n [{\n            'v': 54,\n            'f': \"54\",\n        },\n\"Corn (US)\",\n{\n            'v': 2003,\n            'f': \"2003\",\n        },\n{\n            'v': 6.7114096,\n            'f': \"6.7114096\",\n        }],\n [{\n            'v': 55,\n            'f': \"55\",\n        },\n\"Corn (US)\",\n{\n            'v': 2004,\n            'f': \"2004\",\n        },\n{\n            'v': 5.9171596,\n            'f': \"5.9171596\",\n        }],\n [{\n            'v': 56,\n            'f': \"56\",\n        },\n\"Corn (US)\",\n{\n            'v': 2005,\n            'f': \"2005\",\n        },\n{\n            'v': 6.7114096,\n            'f': \"6.7114096\",\n        }],\n [{\n            'v': 57,\n            'f': \"57\",\n        },\n\"Corn (US)\",\n{\n            'v': 2006,\n            'f': \"2006\",\n        },\n{\n            'v': 7.246377,\n            'f': \"7.246377\",\n        }],\n [{\n            'v': 58,\n            'f': \"58\",\n        },\n\"Corn (US)\",\n{\n            'v': 2007,\n            'f': \"2007\",\n        },\n{\n            'v': 6.993007,\n            'f': \"6.993007\",\n        }],\n [{\n            'v': 59,\n            'f': \"59\",\n        },\n\"Corn (US)\",\n{\n            'v': 2008,\n            'f': \"2008\",\n        },\n{\n            'v': 6.9444447,\n            'f': \"6.9444447\",\n        }],\n [{\n            'v': 60,\n            'f': \"60\",\n        },\n\"Ethanol (Brazil)\",\n{\n            'v': 1980,\n            'f': \"1980\",\n        },\n{\n            'v': 29.27,\n            'f': \"29.27\",\n        }],\n [{\n            'v': 61,\n            'f': \"61\",\n        },\n\"Ethanol (Brazil)\",\n{\n            'v': 1981,\n            'f': \"1981\",\n        },\n{\n            'v': 27.37,\n            'f': \"27.37\",\n        }],\n [{\n            'v': 62,\n            'f': \"62\",\n        },\n\"Ethanol (Brazil)\",\n{\n            'v': 1982,\n            'f': \"1982\",\n        },\n{\n            'v': 26.25,\n            'f': \"26.25\",\n        }],\n [{\n            'v': 63,\n            'f': \"63\",\n        },\n\"Ethanol (Brazil)\",\n{\n            'v': 1983,\n            'f': \"1983\",\n        },\n{\n            'v': 23.65,\n            'f': \"23.65\",\n        }],\n [{\n            'v': 64,\n            'f': \"64\",\n        },\n\"Ethanol (Brazil)\",\n{\n            'v': 1984,\n            'f': \"1984\",\n        },\n{\n            'v': 23.26,\n            'f': \"23.26\",\n        }],\n [{\n            'v': 65,\n            'f': \"65\",\n        },\n\"Ethanol (Brazil)\",\n{\n            'v': 1985,\n            'f': \"1985\",\n        },\n{\n            'v': 24.25,\n            'f': \"24.25\",\n        }],\n [{\n            'v': 66,\n            'f': \"66\",\n        },\n\"Ethanol (Brazil)\",\n{\n            'v': 1986,\n            'f': \"1986\",\n        },\n{\n            'v': 18.44,\n            'f': \"18.44\",\n        }],\n [{\n            'v': 67,\n            'f': \"67\",\n        },\n\"Ethanol (Brazil)\",\n{\n            'v': 1987,\n            'f': \"1987\",\n        },\n{\n            'v': 19.44,\n            'f': \"19.44\",\n        }],\n [{\n            'v': 68,\n            'f': \"68\",\n        },\n\"Ethanol (Brazil)\",\n{\n            'v': 1988,\n            'f': \"1988\",\n        },\n{\n            'v': 16.9,\n            'f': \"16.9\",\n        }],\n [{\n            'v': 69,\n            'f': \"69\",\n        },\n\"Ethanol (Brazil)\",\n{\n            'v': 1989,\n            'f': \"1989\",\n        },\n{\n            'v': 14.18,\n            'f': \"14.18\",\n        }],\n [{\n            'v': 70,\n            'f': \"70\",\n        },\n\"Ethanol (Brazil)\",\n{\n            'v': 1990,\n            'f': \"1990\",\n        },\n{\n            'v': 12.89,\n            'f': \"12.89\",\n        }],\n [{\n            'v': 71,\n            'f': \"71\",\n        },\n\"Ethanol (Brazil)\",\n{\n            'v': 1991,\n            'f': \"1991\",\n        },\n{\n            'v': 13.12,\n            'f': \"13.12\",\n        }],\n [{\n            'v': 72,\n            'f': \"72\",\n        },\n\"Ethanol (Brazil)\",\n{\n            'v': 1992,\n            'f': \"1992\",\n        },\n{\n            'v': 13.6,\n            'f': \"13.6\",\n        }],\n [{\n            'v': 73,\n            'f': \"73\",\n        },\n\"Ethanol (Brazil)\",\n{\n            'v': 1993,\n            'f': \"1993\",\n        },\n{\n            'v': 12.22,\n            'f': \"12.22\",\n        }],\n [{\n            'v': 74,\n            'f': \"74\",\n        },\n\"Ethanol (Brazil)\",\n{\n            'v': 1994,\n            'f': \"1994\",\n        },\n{\n            'v': 12.2,\n            'f': \"12.2\",\n        }],\n [{\n            'v': 75,\n            'f': \"75\",\n        },\n\"Ethanol (Brazil)\",\n{\n            'v': 1995,\n            'f': \"1995\",\n        },\n{\n            'v': 10.95,\n            'f': \"10.95\",\n        }],\n [{\n            'v': 76,\n            'f': \"76\",\n        },\n\"Ethanol (Brazil)\",\n{\n            'v': 1996,\n            'f': \"1996\",\n        },\n{\n            'v': 11.88,\n            'f': \"11.88\",\n        }],\n [{\n            'v': 77,\n            'f': \"77\",\n        },\n\"Ethanol (Brazil)\",\n{\n            'v': 1997,\n            'f': \"1997\",\n        },\n{\n            'v': 10.35,\n            'f': \"10.35\",\n        }],\n [{\n            'v': 78,\n            'f': \"78\",\n        },\n\"Ethanol (Brazil)\",\n{\n            'v': 1998,\n            'f': \"1998\",\n        },\n{\n            'v': 9.46,\n            'f': \"9.46\",\n        }],\n [{\n            'v': 79,\n            'f': \"79\",\n        },\n\"Ethanol (Brazil)\",\n{\n            'v': 1999,\n            'f': \"1999\",\n        },\n{\n            'v': 4.98,\n            'f': \"4.98\",\n        }],\n [{\n            'v': 80,\n            'f': \"80\",\n        },\n\"Ethanol (Brazil)\",\n{\n            'v': 2000,\n            'f': \"2000\",\n        },\n{\n            'v': 9.61,\n            'f': \"9.61\",\n        }],\n [{\n            'v': 81,\n            'f': \"81\",\n        },\n\"Ethanol (Brazil)\",\n{\n            'v': 2001,\n            'f': \"2001\",\n        },\n{\n            'v': 11.26,\n            'f': \"11.26\",\n        }],\n [{\n            'v': 82,\n            'f': \"82\",\n        },\n\"Ethanol (Brazil)\",\n{\n            'v': 2002,\n            'f': \"2002\",\n        },\n{\n            'v': 10.06,\n            'f': \"10.06\",\n        }],\n [{\n            'v': 83,\n            'f': \"83\",\n        },\n\"Ethanol (Brazil)\",\n{\n            'v': 2003,\n            'f': \"2003\",\n        },\n{\n            'v': 10.63,\n            'f': \"10.63\",\n        }],\n [{\n            'v': 84,\n            'f': \"84\",\n        },\n\"Ethanol (Brazil)\",\n{\n            'v': 2004,\n            'f': \"2004\",\n        },\n{\n            'v': 8.4,\n            'f': \"8.4\",\n        }],\n [{\n            'v': 85,\n            'f': \"85\",\n        },\n\"Geothermal Electricity\",\n{\n            'v': 1980,\n            'f': \"1980\",\n        },\n{\n            'v': 12.375,\n            'f': \"12.375\",\n        }],\n [{\n            'v': 86,\n            'f': \"86\",\n        },\n\"Geothermal Electricity\",\n{\n            'v': 1981,\n            'f': \"1981\",\n        },\n{\n            'v': 11.743421,\n            'f': \"11.743421\",\n        }],\n [{\n            'v': 87,\n            'f': \"87\",\n        },\n\"Geothermal Electricity\",\n{\n            'v': 1982,\n            'f': \"1982\",\n        },\n{\n            'v': 11.111111,\n            'f': \"11.111111\",\n        }],\n [{\n            'v': 88,\n            'f': \"88\",\n        },\n\"Geothermal Electricity\",\n{\n            'v': 1983,\n            'f': \"1983\",\n        },\n{\n            'v': 10.4779415,\n            'f': \"10.4779415\",\n        }],\n [{\n            'v': 89,\n            'f': \"89\",\n        },\n\"Geothermal Electricity\",\n{\n            'v': 1984,\n            'f': \"1984\",\n        },\n{\n            'v': 9.84375,\n            'f': \"9.84375\",\n        }],\n [{\n            'v': 90,\n            'f': \"90\",\n        },\n\"Geothermal Electricity\",\n{\n            'v': 1985,\n            'f': \"1985\",\n        },\n{\n            'v': 9.208333,\n            'f': \"9.208333\",\n        }],\n [{\n            'v': 91,\n            'f': \"91\",\n        },\n\"Geothermal Electricity\",\n{\n            'v': 1986,\n            'f': \"1986\",\n        },\n{\n            'v': 8.571428,\n            'f': \"8.571428\",\n        }],\n [{\n            'v': 92,\n            'f': \"92\",\n        },\n\"Geothermal Electricity\",\n{\n            'v': 1987,\n            'f': \"1987\",\n        },\n{\n            'v': 8.254869,\n            'f': \"8.254869\",\n        }],\n [{\n            'v': 93,\n            'f': \"93\",\n        },\n\"Geothermal Electricity\",\n{\n            'v': 1988,\n            'f': \"1988\",\n        },\n{\n            'v': 7.9326925,\n            'f': \"7.9326925\",\n        }],\n [{\n            'v': 94,\n            'f': \"94\",\n        },\n\"Geothermal Electricity\",\n{\n            'v': 1989,\n            'f': \"1989\",\n        },\n{\n            'v': 7.3255816,\n            'f': \"7.3255816\",\n        }],\n [{\n            'v': 95,\n            'f': \"95\",\n        },\n\"Geothermal Electricity\",\n{\n            'v': 1990,\n            'f': \"1990\",\n        },\n{\n            'v': 7.1817565,\n            'f': \"7.1817565\",\n        }],\n [{\n            'v': 96,\n            'f': \"96\",\n        },\n\"Geothermal Electricity\",\n{\n            'v': 1991,\n            'f': \"1991\",\n        },\n{\n            'v': 6.86278,\n            'f': \"6.86278\",\n        }],\n [{\n            'v': 97,\n            'f': \"97\",\n        },\n\"Geothermal Electricity\",\n{\n            'v': 1992,\n            'f': \"1992\",\n        },\n{\n            'v': 6.428571,\n            'f': \"6.428571\",\n        }],\n [{\n            'v': 98,\n            'f': \"98\",\n        },\n\"Geothermal Electricity\",\n{\n            'v': 1993,\n            'f': \"1993\",\n        },\n{\n            'v': 5.863069,\n            'f': \"5.863069\",\n        }],\n [{\n            'v': 99,\n            'f': \"99\",\n        },\n\"Geothermal Electricity\",\n{\n            'v': 1994,\n            'f': \"1994\",\n        },\n{\n            'v': 5.676522,\n            'f': \"5.676522\",\n        }],\n [{\n            'v': 100,\n            'f': \"100\",\n        },\n\"Geothermal Electricity\",\n{\n            'v': 1995,\n            'f': \"1995\",\n        },\n{\n            'v': 5.5125,\n            'f': \"5.5125\",\n        }],\n [{\n            'v': 101,\n            'f': \"101\",\n        },\n\"Geothermal Electricity\",\n{\n            'v': 1996,\n            'f': \"1996\",\n        },\n{\n            'v': 5.436232,\n            'f': \"5.436232\",\n        }],\n [{\n            'v': 102,\n            'f': \"102\",\n        },\n\"Geothermal Electricity\",\n{\n            'v': 1997,\n            'f': \"1997\",\n        },\n{\n            'v': 5.024331,\n            'f': \"5.024331\",\n        }],\n [{\n            'v': 103,\n            'f': \"103\",\n        },\n\"Geothermal Electricity\",\n{\n            'v': 1998,\n            'f': \"1998\",\n        },\n{\n            'v': 4.6753244,\n            'f': \"4.6753244\",\n        }],\n [{\n            'v': 104,\n            'f': \"104\",\n        },\n\"Geothermal Electricity\",\n{\n            'v': 1999,\n            'f': \"1999\",\n        },\n{\n            'v': 4.4263735,\n            'f': \"4.4263735\",\n        }],\n [{\n            'v': 105,\n            'f': \"105\",\n        },\n\"Geothermal Electricity\",\n{\n            'v': 2000,\n            'f': \"2000\",\n        },\n{\n            'v': 4.322034,\n            'f': \"4.322034\",\n        }],\n [{\n            'v': 106,\n            'f': \"106\",\n        },\n\"Geothermal Electricity\",\n{\n            'v': 2001,\n            'f': \"2001\",\n        },\n{\n            'v': 4.219653,\n            'f': \"4.219653\",\n        }],\n [{\n            'v': 107,\n            'f': \"107\",\n        },\n\"Geothermal Electricity\",\n{\n            'v': 2002,\n            'f': \"2002\",\n        },\n{\n            'v': 4.11716,\n            'f': \"4.11716\",\n        }],\n [{\n            'v': 108,\n            'f': \"108\",\n        },\n\"Geothermal Electricity\",\n{\n            'v': 2003,\n            'f': \"2003\",\n        },\n{\n            'v': 3.945679,\n            'f': \"3.945679\",\n        }],\n [{\n            'v': 109,\n            'f': \"109\",\n        },\n\"Geothermal Electricity\",\n{\n            'v': 2004,\n            'f': \"2004\",\n        },\n{\n            'v': 3.7052631,\n            'f': \"3.7052631\",\n        }],\n [{\n            'v': 110,\n            'f': \"110\",\n        },\n\"Geothermal Electricity\",\n{\n            'v': 2005,\n            'f': \"2005\",\n        },\n{\n            'v': 3.6195285,\n            'f': \"3.6195285\",\n        }],\n [{\n            'v': 111,\n            'f': \"111\",\n        },\n\"Photovoltaics\",\n{\n            'v': 1980,\n            'f': \"1980\",\n        },\n{\n            'v': 22.557508,\n            'f': \"22.557508\",\n        }],\n [{\n            'v': 112,\n            'f': \"112\",\n        },\n\"Photovoltaics\",\n{\n            'v': 1981,\n            'f': \"1981\",\n        },\n{\n            'v': 17.180038,\n            'f': \"17.180038\",\n        }],\n [{\n            'v': 113,\n            'f': \"113\",\n        },\n\"Photovoltaics\",\n{\n            'v': 1982,\n            'f': \"1982\",\n        },\n{\n            'v': 17.444506,\n            'f': \"17.444506\",\n        }],\n [{\n            'v': 114,\n            'f': \"114\",\n        },\n\"Photovoltaics\",\n{\n            'v': 1983,\n            'f': \"1983\",\n        },\n{\n            'v': 16.392488,\n            'f': \"16.392488\",\n        }],\n [{\n            'v': 115,\n            'f': \"115\",\n        },\n\"Photovoltaics\",\n{\n            'v': 1984,\n            'f': \"1984\",\n        },\n{\n            'v': 13.366447,\n            'f': \"13.366447\",\n        }],\n [{\n            'v': 116,\n            'f': \"116\",\n        },\n\"Photovoltaics\",\n{\n            'v': 1985,\n            'f': \"1985\",\n        },\n{\n            'v': 12.203396,\n            'f': \"12.203396\",\n        }],\n [{\n            'v': 117,\n            'f': \"117\",\n        },\n\"Photovoltaics\",\n{\n            'v': 1986,\n            'f': \"1986\",\n        },\n{\n            'v': 11.434346,\n            'f': \"11.434346\",\n        }],\n [{\n            'v': 118,\n            'f': \"118\",\n        },\n\"Photovoltaics\",\n{\n            'v': 1987,\n            'f': \"1987\",\n        },\n{\n            'v': 9.547167,\n            'f': \"9.547167\",\n        }],\n [{\n            'v': 119,\n            'f': \"119\",\n        },\n\"Photovoltaics\",\n{\n            'v': 1988,\n            'f': \"1988\",\n        },\n{\n            'v': 9.454651,\n            'f': \"9.454651\",\n        }],\n [{\n            'v': 120,\n            'f': \"120\",\n        },\n\"Photovoltaics\",\n{\n            'v': 1989,\n            'f': \"1989\",\n        },\n{\n            'v': 9.5371,\n            'f': \"9.5371\",\n        }],\n [{\n            'v': 121,\n            'f': \"121\",\n        },\n\"Photovoltaics\",\n{\n            'v': 1990,\n            'f': \"1990\",\n        },\n{\n            'v': 9.738848,\n            'f': \"9.738848\",\n        }],\n [{\n            'v': 122,\n            'f': \"122\",\n        },\n\"Photovoltaics\",\n{\n            'v': 1991,\n            'f': \"1991\",\n        },\n{\n            'v': 9.071852,\n            'f': \"9.071852\",\n        }],\n [{\n            'v': 123,\n            'f': \"123\",\n        },\n\"Photovoltaics\",\n{\n            'v': 1992,\n            'f': \"1992\",\n        },\n{\n            'v': 8.572512,\n            'f': \"8.572512\",\n        }],\n [{\n            'v': 124,\n            'f': \"124\",\n        },\n\"Photovoltaics\",\n{\n            'v': 1993,\n            'f': \"1993\",\n        },\n{\n            'v': 7.643175,\n            'f': \"7.643175\",\n        }],\n [{\n            'v': 125,\n            'f': \"125\",\n        },\n\"Photovoltaics\",\n{\n            'v': 1994,\n            'f': \"1994\",\n        },\n{\n            'v': 7.472131,\n            'f': \"7.472131\",\n        }],\n [{\n            'v': 126,\n            'f': \"126\",\n        },\n\"Photovoltaics\",\n{\n            'v': 1995,\n            'f': \"1995\",\n        },\n{\n            'v': 6.916482,\n            'f': \"6.916482\",\n        }],\n [{\n            'v': 127,\n            'f': \"127\",\n        },\n\"Photovoltaics\",\n{\n            'v': 1996,\n            'f': \"1996\",\n        },\n{\n            'v': 5.7587285,\n            'f': \"5.7587285\",\n        }],\n [{\n            'v': 128,\n            'f': \"128\",\n        },\n\"Photovoltaics\",\n{\n            'v': 1997,\n            'f': \"1997\",\n        },\n{\n            'v': 5.709597,\n            'f': \"5.709597\",\n        }],\n [{\n            'v': 129,\n            'f': \"129\",\n        },\n\"Photovoltaics\",\n{\n            'v': 1998,\n            'f': \"1998\",\n        },\n{\n            'v': 4.7980704,\n            'f': \"4.7980704\",\n        }],\n [{\n            'v': 130,\n            'f': \"130\",\n        },\n\"Photovoltaics\",\n{\n            'v': 1999,\n            'f': \"1999\",\n        },\n{\n            'v': 4.391411,\n            'f': \"4.391411\",\n        }],\n [{\n            'v': 131,\n            'f': \"131\",\n        },\n\"Photovoltaics\",\n{\n            'v': 2000,\n            'f': \"2000\",\n        },\n{\n            'v': 3.5689075,\n            'f': \"3.5689075\",\n        }],\n [{\n            'v': 132,\n            'f': \"132\",\n        },\n\"Photovoltaics\",\n{\n            'v': 2001,\n            'f': \"2001\",\n        },\n{\n            'v': 3.3722153,\n            'f': \"3.3722153\",\n        }],\n [{\n            'v': 133,\n            'f': \"133\",\n        },\n\"Photovoltaics\",\n{\n            'v': 2002,\n            'f': \"2002\",\n        },\n{\n            'v': 3.4408944,\n            'f': \"3.4408944\",\n        }],\n [{\n            'v': 134,\n            'f': \"134\",\n        },\n\"Photovoltaics\",\n{\n            'v': 2003,\n            'f': \"2003\",\n        },\n{\n            'v': 3.2510707,\n            'f': \"3.2510707\",\n        }],\n [{\n            'v': 135,\n            'f': \"135\",\n        },\n\"Photovoltaics\",\n{\n            'v': 2004,\n            'f': \"2004\",\n        },\n{\n            'v': 3.4511347,\n            'f': \"3.4511347\",\n        }],\n [{\n            'v': 136,\n            'f': \"136\",\n        },\n\"Photovoltaics\",\n{\n            'v': 2005,\n            'f': \"2005\",\n        },\n{\n            'v': 3.4880092,\n            'f': \"3.4880092\",\n        }],\n [{\n            'v': 137,\n            'f': \"137\",\n        },\n\"Photovoltaics\",\n{\n            'v': 2006,\n            'f': \"2006\",\n        },\n{\n            'v': 3.8019085,\n            'f': \"3.8019085\",\n        }],\n [{\n            'v': 138,\n            'f': \"138\",\n        },\n\"Photovoltaics\",\n{\n            'v': 2007,\n            'f': \"2007\",\n        },\n{\n            'v': 3.8300667,\n            'f': \"3.8300667\",\n        }],\n [{\n            'v': 139,\n            'f': \"139\",\n        },\n\"Photovoltaics\",\n{\n            'v': 2008,\n            'f': \"2008\",\n        },\n{\n            'v': 3.4906044,\n            'f': \"3.4906044\",\n        }],\n [{\n            'v': 140,\n            'f': \"140\",\n        },\n\"Photovoltaics\",\n{\n            'v': 2009,\n            'f': \"2009\",\n        },\n{\n            'v': 2.3330684,\n            'f': \"2.3330684\",\n        }],\n [{\n            'v': 141,\n            'f': \"141\",\n        },\n\"Photovoltaics\",\n{\n            'v': 2010,\n            'f': \"2010\",\n        },\n{\n            'v': 1.556384,\n            'f': \"1.556384\",\n        }],\n [{\n            'v': 142,\n            'f': \"142\",\n        },\n\"Photovoltaics\",\n{\n            'v': 2011,\n            'f': \"2011\",\n        },\n{\n            'v': 1.415067,\n            'f': \"1.415067\",\n        }],\n [{\n            'v': 143,\n            'f': \"143\",\n        },\n\"Photovoltaics\",\n{\n            'v': 2012,\n            'f': \"2012\",\n        },\n{\n            'v': 0.76441026,\n            'f': \"0.76441026\",\n        }],\n [{\n            'v': 144,\n            'f': \"144\",\n        },\n\"Photovoltaics\",\n{\n            'v': 2013,\n            'f': \"2013\",\n        },\n{\n            'v': 0.821315,\n            'f': \"0.821315\",\n        }],\n [{\n            'v': 145,\n            'f': \"145\",\n        },\n\"Wind Turbine (Denmark)\",\n{\n            'v': 1981,\n            'f': \"1981\",\n        },\n{\n            'v': 10909.0,\n            'f': \"10909.0\",\n        }],\n [{\n            'v': 146,\n            'f': \"146\",\n        },\n\"Wind Turbine (Denmark)\",\n{\n            'v': 1982,\n            'f': \"1982\",\n        },\n{\n            'v': 11075.0,\n            'f': \"11075.0\",\n        }],\n [{\n            'v': 147,\n            'f': \"147\",\n        },\n\"Wind Turbine (Denmark)\",\n{\n            'v': 1983,\n            'f': \"1983\",\n        },\n{\n            'v': 11451.0,\n            'f': \"11451.0\",\n        }],\n [{\n            'v': 148,\n            'f': \"148\",\n        },\n\"Wind Turbine (Denmark)\",\n{\n            'v': 1984,\n            'f': \"1984\",\n        },\n{\n            'v': 10811.0,\n            'f': \"10811.0\",\n        }],\n [{\n            'v': 149,\n            'f': \"149\",\n        },\n\"Wind Turbine (Denmark)\",\n{\n            'v': 1985,\n            'f': \"1985\",\n        },\n{\n            'v': 10199.0,\n            'f': \"10199.0\",\n        }],\n [{\n            'v': 150,\n            'f': \"150\",\n        },\n\"Wind Turbine (Denmark)\",\n{\n            'v': 1986,\n            'f': \"1986\",\n        },\n{\n            'v': 9576.0,\n            'f': \"9576.0\",\n        }],\n [{\n            'v': 151,\n            'f': \"151\",\n        },\n\"Wind Turbine (Denmark)\",\n{\n            'v': 1987,\n            'f': \"1987\",\n        },\n{\n            'v': 8485.0,\n            'f': \"8485.0\",\n        }],\n [{\n            'v': 152,\n            'f': \"152\",\n        },\n\"Wind Turbine (Denmark)\",\n{\n            'v': 1988,\n            'f': \"1988\",\n        },\n{\n            'v': 7722.0,\n            'f': \"7722.0\",\n        }],\n [{\n            'v': 153,\n            'f': \"153\",\n        },\n\"Wind Turbine (Denmark)\",\n{\n            'v': 1989,\n            'f': \"1989\",\n        },\n{\n            'v': 7614.0,\n            'f': \"7614.0\",\n        }],\n [{\n            'v': 154,\n            'f': \"154\",\n        },\n\"Wind Turbine (Denmark)\",\n{\n            'v': 1990,\n            'f': \"1990\",\n        },\n{\n            'v': 7928.0,\n            'f': \"7928.0\",\n        }],\n [{\n            'v': 155,\n            'f': \"155\",\n        },\n\"Wind Turbine (Denmark)\",\n{\n            'v': 1991,\n            'f': \"1991\",\n        },\n{\n            'v': 8152.0,\n            'f': \"8152.0\",\n        }],\n [{\n            'v': 156,\n            'f': \"156\",\n        },\n\"Wind Turbine (Denmark)\",\n{\n            'v': 1992,\n            'f': \"1992\",\n        },\n{\n            'v': 7456.0,\n            'f': \"7456.0\",\n        }],\n [{\n            'v': 157,\n            'f': \"157\",\n        },\n\"Wind Turbine (Denmark)\",\n{\n            'v': 1993,\n            'f': \"1993\",\n        },\n{\n            'v': 7033.0,\n            'f': \"7033.0\",\n        }],\n [{\n            'v': 158,\n            'f': \"158\",\n        },\n\"Wind Turbine (Denmark)\",\n{\n            'v': 1994,\n            'f': \"1994\",\n        },\n{\n            'v': 6644.0,\n            'f': \"6644.0\",\n        }],\n [{\n            'v': 159,\n            'f': \"159\",\n        },\n\"Wind Turbine (Denmark)\",\n{\n            'v': 1995,\n            'f': \"1995\",\n        },\n{\n            'v': 6100.0,\n            'f': \"6100.0\",\n        }],\n [{\n            'v': 160,\n            'f': \"160\",\n        },\n\"Wind Turbine (Denmark)\",\n{\n            'v': 1996,\n            'f': \"1996\",\n        },\n{\n            'v': 5946.0,\n            'f': \"5946.0\",\n        }],\n [{\n            'v': 161,\n            'f': \"161\",\n        },\n\"Wind Turbine (Denmark)\",\n{\n            'v': 1997,\n            'f': \"1997\",\n        },\n{\n            'v': 6041.0,\n            'f': \"6041.0\",\n        }],\n [{\n            'v': 162,\n            'f': \"162\",\n        },\n\"Wind Turbine (Denmark)\",\n{\n            'v': 1998,\n            'f': \"1998\",\n        },\n{\n            'v': 5958.0,\n            'f': \"5958.0\",\n        }],\n [{\n            'v': 163,\n            'f': \"163\",\n        },\n\"Wind Turbine (Denmark)\",\n{\n            'v': 1999,\n            'f': \"1999\",\n        },\n{\n            'v': 5702.0,\n            'f': \"5702.0\",\n        }],\n [{\n            'v': 164,\n            'f': \"164\",\n        },\n\"Wind Turbine (Denmark)\",\n{\n            'v': 2000,\n            'f': \"2000\",\n        },\n{\n            'v': 5563.0,\n            'f': \"5563.0\",\n        }],\n [{\n            'v': 165,\n            'f': \"165\",\n        },\n\"Concentrating Solar\",\n{\n            'v': 1980,\n            'f': \"1980\",\n        },\n{\n            'v': 76.06515,\n            'f': \"76.06515\",\n        }],\n [{\n            'v': 166,\n            'f': \"166\",\n        },\n\"Concentrating Solar\",\n{\n            'v': 1981,\n            'f': \"1981\",\n        },\n{\n            'v': 64.39695,\n            'f': \"64.39695\",\n        }],\n [{\n            'v': 167,\n            'f': \"167\",\n        },\n\"Concentrating Solar\",\n{\n            'v': 1982,\n            'f': \"1982\",\n        },\n{\n            'v': 54.73171,\n            'f': \"54.73171\",\n        }],\n [{\n            'v': 168,\n            'f': \"168\",\n        },\n\"Concentrating Solar\",\n{\n            'v': 1983,\n            'f': \"1983\",\n        },\n{\n            'v': 45.453583,\n            'f': \"45.453583\",\n        }],\n [{\n            'v': 169,\n            'f': \"169\",\n        },\n\"Concentrating Solar\",\n{\n            'v': 1984,\n            'f': \"1984\",\n        },\n{\n            'v': 34.62963,\n            'f': \"34.62963\",\n        }],\n [{\n            'v': 170,\n            'f': \"170\",\n        },\n\"Concentrating Solar\",\n{\n            'v': 1985,\n            'f': \"1985\",\n        },\n{\n            'v': 28.8,\n            'f': \"28.8\",\n        }],\n [{\n            'v': 171,\n            'f': \"171\",\n        },\n\"Concentrating Solar\",\n{\n            'v': 1986,\n            'f': \"1986\",\n        },\n{\n            'v': 24.963593,\n            'f': \"24.963593\",\n        }],\n [{\n            'v': 172,\n            'f': \"172\",\n        },\n\"Concentrating Solar\",\n{\n            'v': 1987,\n            'f': \"1987\",\n        },\n{\n            'v': 22.304348,\n            'f': \"22.304348\",\n        }],\n [{\n            'v': 173,\n            'f': \"173\",\n        },\n\"Concentrating Solar\",\n{\n            'v': 1988,\n            'f': \"1988\",\n        },\n{\n            'v': 20.238094,\n            'f': \"20.238094\",\n        }],\n [{\n            'v': 174,\n            'f': \"174\",\n        },\n\"Concentrating Solar\",\n{\n            'v': 1989,\n            'f': \"1989\",\n        },\n{\n            'v': 19.037975,\n            'f': \"19.037975\",\n        }],\n [{\n            'v': 175,\n            'f': \"175\",\n        },\n\"Concentrating Solar\",\n{\n            'v': 1990,\n            'f': \"1990\",\n        },\n{\n            'v': 17.837837,\n            'f': \"17.837837\",\n        }],\n [{\n            'v': 176,\n            'f': \"176\",\n        },\n\"Concentrating Solar\",\n{\n            'v': 1991,\n            'f': \"1991\",\n        },\n{\n            'v': 16.957747,\n            'f': \"16.957747\",\n        }],\n [{\n            'v': 177,\n            'f': \"177\",\n        },\n\"Concentrating Solar\",\n{\n            'v': 1992,\n            'f': \"1992\",\n        },\n{\n            'v': 16.879433,\n            'f': \"16.879433\",\n        }],\n [{\n            'v': 178,\n            'f': \"178\",\n        },\n\"Concentrating Solar\",\n{\n            'v': 1993,\n            'f': \"1993\",\n        },\n{\n            'v': 16.618706,\n            'f': \"16.618706\",\n        }],\n [{\n            'v': 179,\n            'f': \"179\",\n        },\n\"Concentrating Solar\",\n{\n            'v': 1994,\n            'f': \"1994\",\n        },\n{\n            'v': 16.357664,\n            'f': \"16.357664\",\n        }],\n [{\n            'v': 180,\n            'f': \"180\",\n        },\n\"Concentrating Solar\",\n{\n            'v': 1995,\n            'f': \"1995\",\n        },\n{\n            'v': 15.93985,\n            'f': \"15.93985\",\n        }],\n [{\n            'v': 181,\n            'f': \"181\",\n        },\n\"Concentrating Solar\",\n{\n            'v': 1996,\n            'f': \"1996\",\n        },\n{\n            'v': 15.51938,\n            'f': \"15.51938\",\n        }],\n [{\n            'v': 182,\n            'f': \"182\",\n        },\n\"Concentrating Solar\",\n{\n            'v': 1997,\n            'f': \"1997\",\n        },\n{\n            'v': 15.200637,\n            'f': \"15.200637\",\n        }],\n [{\n            'v': 183,\n            'f': \"183\",\n        },\n\"Concentrating Solar\",\n{\n            'v': 1998,\n            'f': \"1998\",\n        },\n{\n            'v': 14.961039,\n            'f': \"14.961039\",\n        }],\n [{\n            'v': 184,\n            'f': \"184\",\n        },\n\"Concentrating Solar\",\n{\n            'v': 1999,\n            'f': \"1999\",\n        },\n{\n            'v': 14.785479,\n            'f': \"14.785479\",\n        }],\n [{\n            'v': 185,\n            'f': \"185\",\n        },\n\"Concentrating Solar\",\n{\n            'v': 2000,\n            'f': \"2000\",\n        },\n{\n            'v': 14.688915,\n            'f': \"14.688915\",\n        }],\n [{\n            'v': 186,\n            'f': \"186\",\n        },\n\"Concentrating Solar\",\n{\n            'v': 2001,\n            'f': \"2001\",\n        },\n{\n            'v': 14.60804,\n            'f': \"14.60804\",\n        }],\n [{\n            'v': 187,\n            'f': \"187\",\n        },\n\"Concentrating Solar\",\n{\n            'v': 2002,\n            'f': \"2002\",\n        },\n{\n            'v': 14.53872,\n            'f': \"14.53872\",\n        }],\n [{\n            'v': 188,\n            'f': \"188\",\n        },\n\"Concentrating Solar\",\n{\n            'v': 2003,\n            'f': \"2003\",\n        },\n{\n            'v': 14.395571,\n            'f': \"14.395571\",\n        }],\n [{\n            'v': 189,\n            'f': \"189\",\n        },\n\"Concentrating Solar\",\n{\n            'v': 2004,\n            'f': \"2004\",\n        },\n{\n            'v': 13.714286,\n            'f': \"13.714286\",\n        }],\n [{\n            'v': 190,\n            'f': \"190\",\n        },\n\"Concentrating Solar\",\n{\n            'v': 2005,\n            'f': \"2005\",\n        },\n{\n            'v': 12.692307,\n            'f': \"12.692307\",\n        }],\n [{\n            'v': 191,\n            'f': \"191\",\n        },\n\"Concentrating Solar\",\n{\n            'v': 2006,\n            'f': \"2006\",\n        },\n{\n            'v': 1.2532230553847512,\n            'f': \"1.2532230553847512\",\n        }],\n [{\n            'v': 192,\n            'f': \"192\",\n        },\n\"Concentrating Solar\",\n{\n            'v': 2007,\n            'f': \"2007\",\n        },\n{\n            'v': -0.4668135388033079,\n            'f': \"-0.4668135388033079\",\n        }],\n [{\n            'v': 193,\n            'f': \"193\",\n        },\n\"Concentrating Solar\",\n{\n            'v': 2008,\n            'f': \"2008\",\n        },\n{\n            'v': -2.186850132991367,\n            'f': \"-2.186850132991367\",\n        }],\n [{\n            'v': 194,\n            'f': \"194\",\n        },\n\"Concentrating Solar\",\n{\n            'v': 2009,\n            'f': \"2009\",\n        },\n{\n            'v': -3.906886727179426,\n            'f': \"-3.906886727179426\",\n        }],\n [{\n            'v': 195,\n            'f': \"195\",\n        },\n\"Concentrating Solar\",\n{\n            'v': 2010,\n            'f': \"2010\",\n        },\n{\n            'v': -5.626923321367485,\n            'f': \"-5.626923321367485\",\n        }],\n [{\n            'v': 196,\n            'f': \"196\",\n        },\n\"Concentrating Solar\",\n{\n            'v': 2011,\n            'f': \"2011\",\n        },\n{\n            'v': -7.346959915555544,\n            'f': \"-7.346959915555544\",\n        }],\n [{\n            'v': 197,\n            'f': \"197\",\n        },\n\"Concentrating Solar\",\n{\n            'v': 2012,\n            'f': \"2012\",\n        },\n{\n            'v': -9.066996509743603,\n            'f': \"-9.066996509743603\",\n        }],\n [{\n            'v': 198,\n            'f': \"198\",\n        },\n\"Concentrating Solar\",\n{\n            'v': 2013,\n            'f': \"2013\",\n        },\n{\n            'v': -10.787033103931662,\n            'f': \"-10.787033103931662\",\n        }],\n [{\n            'v': 199,\n            'f': \"199\",\n        },\n\"Concentrating Solar\",\n{\n            'v': 2014,\n            'f': \"2014\",\n        },\n{\n            'v': -12.507069698119722,\n            'f': \"-12.507069698119722\",\n        }],\n [{\n            'v': 200,\n            'f': \"200\",\n        },\n\"Concentrating Solar\",\n{\n            'v': 2015,\n            'f': \"2015\",\n        },\n{\n            'v': -14.22710629230778,\n            'f': \"-14.22710629230778\",\n        }],\n [{\n            'v': 201,\n            'f': \"201\",\n        },\n\"Corn (US)\",\n{\n            'v': 1975,\n            'f': \"1975\",\n        },\n{\n            'v': 11.67,\n            'f': \"11.67\",\n        }],\n [{\n            'v': 202,\n            'f': \"202\",\n        },\n\"Corn (US)\",\n{\n            'v': 1976,\n            'f': \"1976\",\n        },\n{\n            'v': 11.48,\n            'f': \"11.48\",\n        }],\n [{\n            'v': 203,\n            'f': \"203\",\n        },\n\"Corn (US)\",\n{\n            'v': 1977,\n            'f': \"1977\",\n        },\n{\n            'v': 11.26,\n            'f': \"11.26\",\n        }],\n [{\n            'v': 204,\n            'f': \"204\",\n        },\n\"Corn (US)\",\n{\n            'v': 1978,\n            'f': \"1978\",\n        },\n{\n            'v': 9.95,\n            'f': \"9.95\",\n        }],\n [{\n            'v': 205,\n            'f': \"205\",\n        },\n\"Corn (US)\",\n{\n            'v': 1979,\n            'f': \"1979\",\n        },\n{\n            'v': 9.12,\n            'f': \"9.12\",\n        }],\n [{\n            'v': 206,\n            'f': \"206\",\n        },\n\"Corn (US)\",\n{\n            'v': 1980,\n            'f': \"1980\",\n        },\n{\n            'v': 11.09,\n            'f': \"11.09\",\n        }],\n [{\n            'v': 207,\n            'f': \"207\",\n        },\n\"Corn (US)\",\n{\n            'v': 1981,\n            'f': \"1981\",\n        },\n{\n            'v': 9.15,\n            'f': \"9.15\",\n        }],\n [{\n            'v': 208,\n            'f': \"208\",\n        },\n\"Corn (US)\",\n{\n            'v': 1982,\n            'f': \"1982\",\n        },\n{\n            'v': 8.79,\n            'f': \"8.79\",\n        }],\n [{\n            'v': 209,\n            'f': \"209\",\n        },\n\"Corn (US)\",\n{\n            'v': 1983,\n            'f': \"1983\",\n        },\n{\n            'v': 12.7,\n            'f': \"12.7\",\n        }],\n [{\n            'v': 210,\n            'f': \"210\",\n        },\n\"Corn (US)\",\n{\n            'v': 1984,\n            'f': \"1984\",\n        },\n{\n            'v': 9.45,\n            'f': \"9.45\",\n        }],\n [{\n            'v': 211,\n            'f': \"211\",\n        },\n\"Corn (US)\",\n{\n            'v': 1985,\n            'f': \"1985\",\n        },\n{\n            'v': 8.53,\n            'f': \"8.53\",\n        }],\n [{\n            'v': 212,\n            'f': \"212\",\n        },\n\"Corn (US)\",\n{\n            'v': 1986,\n            'f': \"1986\",\n        },\n{\n            'v': 8.44,\n            'f': \"8.44\",\n        }],\n [{\n            'v': 213,\n            'f': \"213\",\n        },\n\"Corn (US)\",\n{\n            'v': 1987,\n            'f': \"1987\",\n        },\n{\n            'v': 8.42,\n            'f': \"8.42\",\n        }],\n [{\n            'v': 214,\n            'f': \"214\",\n        },\n\"Corn (US)\",\n{\n            'v': 1988,\n            'f': \"1988\",\n        },\n{\n            'v': 12.02,\n            'f': \"12.02\",\n        }],\n [{\n            'v': 215,\n            'f': \"215\",\n        },\n\"Corn (US)\",\n{\n            'v': 1989,\n            'f': \"1989\",\n        },\n{\n            'v': 8.693384,\n            'f': \"8.693384\",\n        }],\n [{\n            'v': 216,\n            'f': \"216\",\n        },\n\"Corn (US)\",\n{\n            'v': 1990,\n            'f': \"1990\",\n        },\n{\n            'v': 8.51,\n            'f': \"8.51\",\n        }],\n [{\n            'v': 217,\n            'f': \"217\",\n        },\n\"Corn (US)\",\n{\n            'v': 1991,\n            'f': \"1991\",\n        },\n{\n            'v': 9.06,\n            'f': \"9.06\",\n        }],\n [{\n            'v': 218,\n            'f': \"218\",\n        },\n\"Corn (US)\",\n{\n            'v': 1992,\n            'f': \"1992\",\n        },\n{\n            'v': 7.47,\n            'f': \"7.47\",\n        }],\n [{\n            'v': 219,\n            'f': \"219\",\n        },\n\"Corn (US)\",\n{\n            'v': 1993,\n            'f': \"1993\",\n        },\n{\n            'v': 10.09,\n            'f': \"10.09\",\n        }],\n [{\n            'v': 220,\n            'f': \"220\",\n        },\n\"Corn (US)\",\n{\n            'v': 1994,\n            'f': \"1994\",\n        },\n{\n            'v': 6.985679,\n            'f': \"6.985679\",\n        }],\n [{\n            'v': 221,\n            'f': \"221\",\n        },\n\"Corn (US)\",\n{\n            'v': 1995,\n            'f': \"1995\",\n        },\n{\n            'v': 8.634088,\n            'f': \"8.634088\",\n        }],\n [{\n            'v': 222,\n            'f': \"222\",\n        },\n\"Corn (US)\",\n{\n            'v': 1996,\n            'f': \"1996\",\n        },\n{\n            'v': 7.695267,\n            'f': \"7.695267\",\n        }],\n [{\n            'v': 223,\n            'f': \"223\",\n        },\n\"Corn (US)\",\n{\n            'v': 1997,\n            'f': \"1997\",\n        },\n{\n            'v': 7.6923075,\n            'f': \"7.6923075\",\n        }],\n [{\n            'v': 224,\n            'f': \"224\",\n        },\n\"Corn (US)\",\n{\n            'v': 1998,\n            'f': \"1998\",\n        },\n{\n            'v': 7.352941,\n            'f': \"7.352941\",\n        }],\n [{\n            'v': 225,\n            'f': \"225\",\n        },\n\"Corn (US)\",\n{\n            'v': 1999,\n            'f': \"1999\",\n        },\n{\n            'v': 7.4074073,\n            'f': \"7.4074073\",\n        }],\n [{\n            'v': 226,\n            'f': \"226\",\n        },\n\"Corn (US)\",\n{\n            'v': 2000,\n            'f': \"2000\",\n        },\n{\n            'v': 7.246377,\n            'f': \"7.246377\",\n        }],\n [{\n            'v': 227,\n            'f': \"227\",\n        },\n\"Corn (US)\",\n{\n            'v': 2001,\n            'f': \"2001\",\n        },\n{\n            'v': 6.9444447,\n            'f': \"6.9444447\",\n        }],\n [{\n            'v': 228,\n            'f': \"228\",\n        },\n\"Corn (US)\",\n{\n            'v': 2002,\n            'f': \"2002\",\n        },\n{\n            'v': 7.4626865,\n            'f': \"7.4626865\",\n        }],\n [{\n            'v': 229,\n            'f': \"229\",\n        },\n\"Corn (US)\",\n{\n            'v': 2003,\n            'f': \"2003\",\n        },\n{\n            'v': 6.7114096,\n            'f': \"6.7114096\",\n        }],\n [{\n            'v': 230,\n            'f': \"230\",\n        },\n\"Corn (US)\",\n{\n            'v': 2004,\n            'f': \"2004\",\n        },\n{\n            'v': 5.9171596,\n            'f': \"5.9171596\",\n        }],\n [{\n            'v': 231,\n            'f': \"231\",\n        },\n\"Corn (US)\",\n{\n            'v': 2005,\n            'f': \"2005\",\n        },\n{\n            'v': 6.7114096,\n            'f': \"6.7114096\",\n        }],\n [{\n            'v': 232,\n            'f': \"232\",\n        },\n\"Corn (US)\",\n{\n            'v': 2006,\n            'f': \"2006\",\n        },\n{\n            'v': 7.246377,\n            'f': \"7.246377\",\n        }],\n [{\n            'v': 233,\n            'f': \"233\",\n        },\n\"Corn (US)\",\n{\n            'v': 2007,\n            'f': \"2007\",\n        },\n{\n            'v': 6.993007,\n            'f': \"6.993007\",\n        }],\n [{\n            'v': 234,\n            'f': \"234\",\n        },\n\"Corn (US)\",\n{\n            'v': 2008,\n            'f': \"2008\",\n        },\n{\n            'v': 6.9444447,\n            'f': \"6.9444447\",\n        }],\n [{\n            'v': 235,\n            'f': \"235\",\n        },\n\"Corn (US)\",\n{\n            'v': 2006,\n            'f': \"2006\",\n        },\n{\n            'v': 6.576096091336922,\n            'f': \"6.576096091336922\",\n        }],\n [{\n            'v': 236,\n            'f': \"236\",\n        },\n\"Corn (US)\",\n{\n            'v': 2007,\n            'f': \"2007\",\n        },\n{\n            'v': 6.433598885668516,\n            'f': \"6.433598885668516\",\n        }],\n [{\n            'v': 237,\n            'f': \"237\",\n        },\n\"Corn (US)\",\n{\n            'v': 2008,\n            'f': \"2008\",\n        },\n{\n            'v': 6.291101680000054,\n            'f': \"6.291101680000054\",\n        }],\n [{\n            'v': 238,\n            'f': \"238\",\n        },\n\"Corn (US)\",\n{\n            'v': 2009,\n            'f': \"2009\",\n        },\n{\n            'v': 6.1486044743315915,\n            'f': \"6.1486044743315915\",\n        }],\n [{\n            'v': 239,\n            'f': \"239\",\n        },\n\"Corn (US)\",\n{\n            'v': 2010,\n            'f': \"2010\",\n        },\n{\n            'v': 6.006107268663129,\n            'f': \"6.006107268663129\",\n        }],\n [{\n            'v': 240,\n            'f': \"240\",\n        },\n\"Corn (US)\",\n{\n            'v': 2011,\n            'f': \"2011\",\n        },\n{\n            'v': 5.863610062994667,\n            'f': \"5.863610062994667\",\n        }],\n [{\n            'v': 241,\n            'f': \"241\",\n        },\n\"Corn (US)\",\n{\n            'v': 2012,\n            'f': \"2012\",\n        },\n{\n            'v': 5.721112857326261,\n            'f': \"5.721112857326261\",\n        }],\n [{\n            'v': 242,\n            'f': \"242\",\n        },\n\"Corn (US)\",\n{\n            'v': 2013,\n            'f': \"2013\",\n        },\n{\n            'v': 5.578615651657799,\n            'f': \"5.578615651657799\",\n        }],\n [{\n            'v': 243,\n            'f': \"243\",\n        },\n\"Corn (US)\",\n{\n            'v': 2014,\n            'f': \"2014\",\n        },\n{\n            'v': 5.436118445989337,\n            'f': \"5.436118445989337\",\n        }],\n [{\n            'v': 244,\n            'f': \"244\",\n        },\n\"Corn (US)\",\n{\n            'v': 2015,\n            'f': \"2015\",\n        },\n{\n            'v': 5.293621240320874,\n            'f': \"5.293621240320874\",\n        }],\n [{\n            'v': 245,\n            'f': \"245\",\n        },\n\"Ethanol (Brazil)\",\n{\n            'v': 1980,\n            'f': \"1980\",\n        },\n{\n            'v': 29.27,\n            'f': \"29.27\",\n        }],\n [{\n            'v': 246,\n            'f': \"246\",\n        },\n\"Ethanol (Brazil)\",\n{\n            'v': 1981,\n            'f': \"1981\",\n        },\n{\n            'v': 27.37,\n            'f': \"27.37\",\n        }],\n [{\n            'v': 247,\n            'f': \"247\",\n        },\n\"Ethanol (Brazil)\",\n{\n            'v': 1982,\n            'f': \"1982\",\n        },\n{\n            'v': 26.25,\n            'f': \"26.25\",\n        }],\n [{\n            'v': 248,\n            'f': \"248\",\n        },\n\"Ethanol (Brazil)\",\n{\n            'v': 1983,\n            'f': \"1983\",\n        },\n{\n            'v': 23.65,\n            'f': \"23.65\",\n        }],\n [{\n            'v': 249,\n            'f': \"249\",\n        },\n\"Ethanol (Brazil)\",\n{\n            'v': 1984,\n            'f': \"1984\",\n        },\n{\n            'v': 23.26,\n            'f': \"23.26\",\n        }],\n [{\n            'v': 250,\n            'f': \"250\",\n        },\n\"Ethanol (Brazil)\",\n{\n            'v': 1985,\n            'f': \"1985\",\n        },\n{\n            'v': 24.25,\n            'f': \"24.25\",\n        }],\n [{\n            'v': 251,\n            'f': \"251\",\n        },\n\"Ethanol (Brazil)\",\n{\n            'v': 1986,\n            'f': \"1986\",\n        },\n{\n            'v': 18.44,\n            'f': \"18.44\",\n        }],\n [{\n            'v': 252,\n            'f': \"252\",\n        },\n\"Ethanol (Brazil)\",\n{\n            'v': 1987,\n            'f': \"1987\",\n        },\n{\n            'v': 19.44,\n            'f': \"19.44\",\n        }],\n [{\n            'v': 253,\n            'f': \"253\",\n        },\n\"Ethanol (Brazil)\",\n{\n            'v': 1988,\n            'f': \"1988\",\n        },\n{\n            'v': 16.9,\n            'f': \"16.9\",\n        }],\n [{\n            'v': 254,\n            'f': \"254\",\n        },\n\"Ethanol (Brazil)\",\n{\n            'v': 1989,\n            'f': \"1989\",\n        },\n{\n            'v': 14.18,\n            'f': \"14.18\",\n        }],\n [{\n            'v': 255,\n            'f': \"255\",\n        },\n\"Ethanol (Brazil)\",\n{\n            'v': 1990,\n            'f': \"1990\",\n        },\n{\n            'v': 12.89,\n            'f': \"12.89\",\n        }],\n [{\n            'v': 256,\n            'f': \"256\",\n        },\n\"Ethanol (Brazil)\",\n{\n            'v': 1991,\n            'f': \"1991\",\n        },\n{\n            'v': 13.12,\n            'f': \"13.12\",\n        }],\n [{\n            'v': 257,\n            'f': \"257\",\n        },\n\"Ethanol (Brazil)\",\n{\n            'v': 1992,\n            'f': \"1992\",\n        },\n{\n            'v': 13.6,\n            'f': \"13.6\",\n        }],\n [{\n            'v': 258,\n            'f': \"258\",\n        },\n\"Ethanol (Brazil)\",\n{\n            'v': 1993,\n            'f': \"1993\",\n        },\n{\n            'v': 12.22,\n            'f': \"12.22\",\n        }],\n [{\n            'v': 259,\n            'f': \"259\",\n        },\n\"Ethanol (Brazil)\",\n{\n            'v': 1994,\n            'f': \"1994\",\n        },\n{\n            'v': 12.2,\n            'f': \"12.2\",\n        }],\n [{\n            'v': 260,\n            'f': \"260\",\n        },\n\"Ethanol (Brazil)\",\n{\n            'v': 1995,\n            'f': \"1995\",\n        },\n{\n            'v': 10.95,\n            'f': \"10.95\",\n        }],\n [{\n            'v': 261,\n            'f': \"261\",\n        },\n\"Ethanol (Brazil)\",\n{\n            'v': 1996,\n            'f': \"1996\",\n        },\n{\n            'v': 11.88,\n            'f': \"11.88\",\n        }],\n [{\n            'v': 262,\n            'f': \"262\",\n        },\n\"Ethanol (Brazil)\",\n{\n            'v': 1997,\n            'f': \"1997\",\n        },\n{\n            'v': 10.35,\n            'f': \"10.35\",\n        }],\n [{\n            'v': 263,\n            'f': \"263\",\n        },\n\"Ethanol (Brazil)\",\n{\n            'v': 1998,\n            'f': \"1998\",\n        },\n{\n            'v': 9.46,\n            'f': \"9.46\",\n        }],\n [{\n            'v': 264,\n            'f': \"264\",\n        },\n\"Ethanol (Brazil)\",\n{\n            'v': 1999,\n            'f': \"1999\",\n        },\n{\n            'v': 4.98,\n            'f': \"4.98\",\n        }],\n [{\n            'v': 265,\n            'f': \"265\",\n        },\n\"Ethanol (Brazil)\",\n{\n            'v': 2000,\n            'f': \"2000\",\n        },\n{\n            'v': 9.61,\n            'f': \"9.61\",\n        }],\n [{\n            'v': 266,\n            'f': \"266\",\n        },\n\"Ethanol (Brazil)\",\n{\n            'v': 2001,\n            'f': \"2001\",\n        },\n{\n            'v': 11.26,\n            'f': \"11.26\",\n        }],\n [{\n            'v': 267,\n            'f': \"267\",\n        },\n\"Ethanol (Brazil)\",\n{\n            'v': 2002,\n            'f': \"2002\",\n        },\n{\n            'v': 10.06,\n            'f': \"10.06\",\n        }],\n [{\n            'v': 268,\n            'f': \"268\",\n        },\n\"Ethanol (Brazil)\",\n{\n            'v': 2003,\n            'f': \"2003\",\n        },\n{\n            'v': 10.63,\n            'f': \"10.63\",\n        }],\n [{\n            'v': 269,\n            'f': \"269\",\n        },\n\"Ethanol (Brazil)\",\n{\n            'v': 2004,\n            'f': \"2004\",\n        },\n{\n            'v': 8.4,\n            'f': \"8.4\",\n        }],\n [{\n            'v': 270,\n            'f': \"270\",\n        },\n\"Ethanol (Brazil)\",\n{\n            'v': 2006,\n            'f': \"2006\",\n        },\n{\n            'v': 3.7167692307691595,\n            'f': \"3.7167692307691595\",\n        }],\n [{\n            'v': 271,\n            'f': \"271\",\n        },\n\"Ethanol (Brazil)\",\n{\n            'v': 2007,\n            'f': \"2007\",\n        },\n{\n            'v': 2.8833384615384148,\n            'f': \"2.8833384615384148\",\n        }],\n [{\n            'v': 272,\n            'f': \"272\",\n        },\n\"Ethanol (Brazil)\",\n{\n            'v': 2008,\n            'f': \"2008\",\n        },\n{\n            'v': 2.04990769230767,\n            'f': \"2.04990769230767\",\n        }],\n [{\n            'v': 273,\n            'f': \"273\",\n        },\n\"Ethanol (Brazil)\",\n{\n            'v': 2009,\n            'f': \"2009\",\n        },\n{\n            'v': 1.2164769230769252,\n            'f': \"1.2164769230769252\",\n        }],\n [{\n            'v': 274,\n            'f': \"274\",\n        },\n\"Ethanol (Brazil)\",\n{\n            'v': 2010,\n            'f': \"2010\",\n        },\n{\n            'v': 0.38304615384618046,\n            'f': \"0.38304615384618046\",\n        }],\n [{\n            'v': 275,\n            'f': \"275\",\n        },\n\"Ethanol (Brazil)\",\n{\n            'v': 2011,\n            'f': \"2011\",\n        },\n{\n            'v': -0.4503846153845643,\n            'f': \"-0.4503846153845643\",\n        }],\n [{\n            'v': 276,\n            'f': \"276\",\n        },\n\"Ethanol (Brazil)\",\n{\n            'v': 2012,\n            'f': \"2012\",\n        },\n{\n            'v': -1.283815384615309,\n            'f': \"-1.283815384615309\",\n        }],\n [{\n            'v': 277,\n            'f': \"277\",\n        },\n\"Ethanol (Brazil)\",\n{\n            'v': 2013,\n            'f': \"2013\",\n        },\n{\n            'v': -2.117246153846054,\n            'f': \"-2.117246153846054\",\n        }],\n [{\n            'v': 278,\n            'f': \"278\",\n        },\n\"Ethanol (Brazil)\",\n{\n            'v': 2014,\n            'f': \"2014\",\n        },\n{\n            'v': -2.9506769230767986,\n            'f': \"-2.9506769230767986\",\n        }],\n [{\n            'v': 279,\n            'f': \"279\",\n        },\n\"Ethanol (Brazil)\",\n{\n            'v': 2015,\n            'f': \"2015\",\n        },\n{\n            'v': -3.7841076923077708,\n            'f': \"-3.7841076923077708\",\n        }],\n [{\n            'v': 280,\n            'f': \"280\",\n        },\n\"Geothermal Electricity\",\n{\n            'v': 1980,\n            'f': \"1980\",\n        },\n{\n            'v': 12.375,\n            'f': \"12.375\",\n        }],\n [{\n            'v': 281,\n            'f': \"281\",\n        },\n\"Geothermal Electricity\",\n{\n            'v': 1981,\n            'f': \"1981\",\n        },\n{\n            'v': 11.743421,\n            'f': \"11.743421\",\n        }],\n [{\n            'v': 282,\n            'f': \"282\",\n        },\n\"Geothermal Electricity\",\n{\n            'v': 1982,\n            'f': \"1982\",\n        },\n{\n            'v': 11.111111,\n            'f': \"11.111111\",\n        }],\n [{\n            'v': 283,\n            'f': \"283\",\n        },\n\"Geothermal Electricity\",\n{\n            'v': 1983,\n            'f': \"1983\",\n        },\n{\n            'v': 10.4779415,\n            'f': \"10.4779415\",\n        }],\n [{\n            'v': 284,\n            'f': \"284\",\n        },\n\"Geothermal Electricity\",\n{\n            'v': 1984,\n            'f': \"1984\",\n        },\n{\n            'v': 9.84375,\n            'f': \"9.84375\",\n        }],\n [{\n            'v': 285,\n            'f': \"285\",\n        },\n\"Geothermal Electricity\",\n{\n            'v': 1985,\n            'f': \"1985\",\n        },\n{\n            'v': 9.208333,\n            'f': \"9.208333\",\n        }],\n [{\n            'v': 286,\n            'f': \"286\",\n        },\n\"Geothermal Electricity\",\n{\n            'v': 1986,\n            'f': \"1986\",\n        },\n{\n            'v': 8.571428,\n            'f': \"8.571428\",\n        }],\n [{\n            'v': 287,\n            'f': \"287\",\n        },\n\"Geothermal Electricity\",\n{\n            'v': 1987,\n            'f': \"1987\",\n        },\n{\n            'v': 8.254869,\n            'f': \"8.254869\",\n        }],\n [{\n            'v': 288,\n            'f': \"288\",\n        },\n\"Geothermal Electricity\",\n{\n            'v': 1988,\n            'f': \"1988\",\n        },\n{\n            'v': 7.9326925,\n            'f': \"7.9326925\",\n        }],\n [{\n            'v': 289,\n            'f': \"289\",\n        },\n\"Geothermal Electricity\",\n{\n            'v': 1989,\n            'f': \"1989\",\n        },\n{\n            'v': 7.3255816,\n            'f': \"7.3255816\",\n        }],\n [{\n            'v': 290,\n            'f': \"290\",\n        },\n\"Geothermal Electricity\",\n{\n            'v': 1990,\n            'f': \"1990\",\n        },\n{\n            'v': 7.1817565,\n            'f': \"7.1817565\",\n        }],\n [{\n            'v': 291,\n            'f': \"291\",\n        },\n\"Geothermal Electricity\",\n{\n            'v': 1991,\n            'f': \"1991\",\n        },\n{\n            'v': 6.86278,\n            'f': \"6.86278\",\n        }],\n [{\n            'v': 292,\n            'f': \"292\",\n        },\n\"Geothermal Electricity\",\n{\n            'v': 1992,\n            'f': \"1992\",\n        },\n{\n            'v': 6.428571,\n            'f': \"6.428571\",\n        }],\n [{\n            'v': 293,\n            'f': \"293\",\n        },\n\"Geothermal Electricity\",\n{\n            'v': 1993,\n            'f': \"1993\",\n        },\n{\n            'v': 5.863069,\n            'f': \"5.863069\",\n        }],\n [{\n            'v': 294,\n            'f': \"294\",\n        },\n\"Geothermal Electricity\",\n{\n            'v': 1994,\n            'f': \"1994\",\n        },\n{\n            'v': 5.676522,\n            'f': \"5.676522\",\n        }],\n [{\n            'v': 295,\n            'f': \"295\",\n        },\n\"Geothermal Electricity\",\n{\n            'v': 1995,\n            'f': \"1995\",\n        },\n{\n            'v': 5.5125,\n            'f': \"5.5125\",\n        }],\n [{\n            'v': 296,\n            'f': \"296\",\n        },\n\"Geothermal Electricity\",\n{\n            'v': 1996,\n            'f': \"1996\",\n        },\n{\n            'v': 5.436232,\n            'f': \"5.436232\",\n        }],\n [{\n            'v': 297,\n            'f': \"297\",\n        },\n\"Geothermal Electricity\",\n{\n            'v': 1997,\n            'f': \"1997\",\n        },\n{\n            'v': 5.024331,\n            'f': \"5.024331\",\n        }],\n [{\n            'v': 298,\n            'f': \"298\",\n        },\n\"Geothermal Electricity\",\n{\n            'v': 1998,\n            'f': \"1998\",\n        },\n{\n            'v': 4.6753244,\n            'f': \"4.6753244\",\n        }],\n [{\n            'v': 299,\n            'f': \"299\",\n        },\n\"Geothermal Electricity\",\n{\n            'v': 1999,\n            'f': \"1999\",\n        },\n{\n            'v': 4.4263735,\n            'f': \"4.4263735\",\n        }],\n [{\n            'v': 300,\n            'f': \"300\",\n        },\n\"Geothermal Electricity\",\n{\n            'v': 2000,\n            'f': \"2000\",\n        },\n{\n            'v': 4.322034,\n            'f': \"4.322034\",\n        }],\n [{\n            'v': 301,\n            'f': \"301\",\n        },\n\"Geothermal Electricity\",\n{\n            'v': 2001,\n            'f': \"2001\",\n        },\n{\n            'v': 4.219653,\n            'f': \"4.219653\",\n        }],\n [{\n            'v': 302,\n            'f': \"302\",\n        },\n\"Geothermal Electricity\",\n{\n            'v': 2002,\n            'f': \"2002\",\n        },\n{\n            'v': 4.11716,\n            'f': \"4.11716\",\n        }],\n [{\n            'v': 303,\n            'f': \"303\",\n        },\n\"Geothermal Electricity\",\n{\n            'v': 2003,\n            'f': \"2003\",\n        },\n{\n            'v': 3.945679,\n            'f': \"3.945679\",\n        }],\n [{\n            'v': 304,\n            'f': \"304\",\n        },\n\"Geothermal Electricity\",\n{\n            'v': 2004,\n            'f': \"2004\",\n        },\n{\n            'v': 3.7052631,\n            'f': \"3.7052631\",\n        }],\n [{\n            'v': 305,\n            'f': \"305\",\n        },\n\"Geothermal Electricity\",\n{\n            'v': 2005,\n            'f': \"2005\",\n        },\n{\n            'v': 3.6195285,\n            'f': \"3.6195285\",\n        }],\n [{\n            'v': 306,\n            'f': \"306\",\n        },\n\"Geothermal Electricity\",\n{\n            'v': 2006,\n            'f': \"2006\",\n        },\n{\n            'v': 2.275591259999942,\n            'f': \"2.275591259999942\",\n        }],\n [{\n            'v': 307,\n            'f': \"307\",\n        },\n\"Geothermal Electricity\",\n{\n            'v': 2007,\n            'f': \"2007\",\n        },\n{\n            'v': 1.93742735162391,\n            'f': \"1.93742735162391\",\n        }],\n [{\n            'v': 308,\n            'f': \"308\",\n        },\n\"Geothermal Electricity\",\n{\n            'v': 2008,\n            'f': \"2008\",\n        },\n{\n            'v': 1.599263443247878,\n            'f': \"1.599263443247878\",\n        }],\n [{\n            'v': 309,\n            'f': \"309\",\n        },\n\"Geothermal Electricity\",\n{\n            'v': 2009,\n            'f': \"2009\",\n        },\n{\n            'v': 1.2610995348717324,\n            'f': \"1.2610995348717324\",\n        }],\n [{\n            'v': 310,\n            'f': \"310\",\n        },\n\"Geothermal Electricity\",\n{\n            'v': 2010,\n            'f': \"2010\",\n        },\n{\n            'v': 0.9229356264957005,\n            'f': \"0.9229356264957005\",\n        }],\n [{\n            'v': 311,\n            'f': \"311\",\n        },\n\"Geothermal Electricity\",\n{\n            'v': 2011,\n            'f': \"2011\",\n        },\n{\n            'v': 0.5847717181196685,\n            'f': \"0.5847717181196685\",\n        }],\n [{\n            'v': 312,\n            'f': \"312\",\n        },\n\"Geothermal Electricity\",\n{\n            'v': 2012,\n            'f': \"2012\",\n        },\n{\n            'v': 0.24660780974352292,\n            'f': \"0.24660780974352292\",\n        }],\n [{\n            'v': 313,\n            'f': \"313\",\n        },\n\"Geothermal Electricity\",\n{\n            'v': 2013,\n            'f': \"2013\",\n        },\n{\n            'v': -0.09155609863250902,\n            'f': \"-0.09155609863250902\",\n        }],\n [{\n            'v': 314,\n            'f': \"314\",\n        },\n\"Geothermal Electricity\",\n{\n            'v': 2014,\n            'f': \"2014\",\n        },\n{\n            'v': -0.42972000700854096,\n            'f': \"-0.42972000700854096\",\n        }],\n [{\n            'v': 315,\n            'f': \"315\",\n        },\n\"Geothermal Electricity\",\n{\n            'v': 2015,\n            'f': \"2015\",\n        },\n{\n            'v': -0.7678839153845729,\n            'f': \"-0.7678839153845729\",\n        }],\n [{\n            'v': 316,\n            'f': \"316\",\n        },\n\"Photovoltaics\",\n{\n            'v': 1980,\n            'f': \"1980\",\n        },\n{\n            'v': 22.557508,\n            'f': \"22.557508\",\n        }],\n [{\n            'v': 317,\n            'f': \"317\",\n        },\n\"Photovoltaics\",\n{\n            'v': 1981,\n            'f': \"1981\",\n        },\n{\n            'v': 17.180038,\n            'f': \"17.180038\",\n        }],\n [{\n            'v': 318,\n            'f': \"318\",\n        },\n\"Photovoltaics\",\n{\n            'v': 1982,\n            'f': \"1982\",\n        },\n{\n            'v': 17.444506,\n            'f': \"17.444506\",\n        }],\n [{\n            'v': 319,\n            'f': \"319\",\n        },\n\"Photovoltaics\",\n{\n            'v': 1983,\n            'f': \"1983\",\n        },\n{\n            'v': 16.392488,\n            'f': \"16.392488\",\n        }],\n [{\n            'v': 320,\n            'f': \"320\",\n        },\n\"Photovoltaics\",\n{\n            'v': 1984,\n            'f': \"1984\",\n        },\n{\n            'v': 13.366447,\n            'f': \"13.366447\",\n        }],\n [{\n            'v': 321,\n            'f': \"321\",\n        },\n\"Photovoltaics\",\n{\n            'v': 1985,\n            'f': \"1985\",\n        },\n{\n            'v': 12.203396,\n            'f': \"12.203396\",\n        }],\n [{\n            'v': 322,\n            'f': \"322\",\n        },\n\"Photovoltaics\",\n{\n            'v': 1986,\n            'f': \"1986\",\n        },\n{\n            'v': 11.434346,\n            'f': \"11.434346\",\n        }],\n [{\n            'v': 323,\n            'f': \"323\",\n        },\n\"Photovoltaics\",\n{\n            'v': 1987,\n            'f': \"1987\",\n        },\n{\n            'v': 9.547167,\n            'f': \"9.547167\",\n        }],\n [{\n            'v': 324,\n            'f': \"324\",\n        },\n\"Photovoltaics\",\n{\n            'v': 1988,\n            'f': \"1988\",\n        },\n{\n            'v': 9.454651,\n            'f': \"9.454651\",\n        }],\n [{\n            'v': 325,\n            'f': \"325\",\n        },\n\"Photovoltaics\",\n{\n            'v': 1989,\n            'f': \"1989\",\n        },\n{\n            'v': 9.5371,\n            'f': \"9.5371\",\n        }],\n [{\n            'v': 326,\n            'f': \"326\",\n        },\n\"Photovoltaics\",\n{\n            'v': 1990,\n            'f': \"1990\",\n        },\n{\n            'v': 9.738848,\n            'f': \"9.738848\",\n        }],\n [{\n            'v': 327,\n            'f': \"327\",\n        },\n\"Photovoltaics\",\n{\n            'v': 1991,\n            'f': \"1991\",\n        },\n{\n            'v': 9.071852,\n            'f': \"9.071852\",\n        }],\n [{\n            'v': 328,\n            'f': \"328\",\n        },\n\"Photovoltaics\",\n{\n            'v': 1992,\n            'f': \"1992\",\n        },\n{\n            'v': 8.572512,\n            'f': \"8.572512\",\n        }],\n [{\n            'v': 329,\n            'f': \"329\",\n        },\n\"Photovoltaics\",\n{\n            'v': 1993,\n            'f': \"1993\",\n        },\n{\n            'v': 7.643175,\n            'f': \"7.643175\",\n        }],\n [{\n            'v': 330,\n            'f': \"330\",\n        },\n\"Photovoltaics\",\n{\n            'v': 1994,\n            'f': \"1994\",\n        },\n{\n            'v': 7.472131,\n            'f': \"7.472131\",\n        }],\n [{\n            'v': 331,\n            'f': \"331\",\n        },\n\"Photovoltaics\",\n{\n            'v': 1995,\n            'f': \"1995\",\n        },\n{\n            'v': 6.916482,\n            'f': \"6.916482\",\n        }],\n [{\n            'v': 332,\n            'f': \"332\",\n        },\n\"Photovoltaics\",\n{\n            'v': 1996,\n            'f': \"1996\",\n        },\n{\n            'v': 5.7587285,\n            'f': \"5.7587285\",\n        }],\n [{\n            'v': 333,\n            'f': \"333\",\n        },\n\"Photovoltaics\",\n{\n            'v': 1997,\n            'f': \"1997\",\n        },\n{\n            'v': 5.709597,\n            'f': \"5.709597\",\n        }],\n [{\n            'v': 334,\n            'f': \"334\",\n        },\n\"Photovoltaics\",\n{\n            'v': 1998,\n            'f': \"1998\",\n        },\n{\n            'v': 4.7980704,\n            'f': \"4.7980704\",\n        }],\n [{\n            'v': 335,\n            'f': \"335\",\n        },\n\"Photovoltaics\",\n{\n            'v': 1999,\n            'f': \"1999\",\n        },\n{\n            'v': 4.391411,\n            'f': \"4.391411\",\n        }],\n [{\n            'v': 336,\n            'f': \"336\",\n        },\n\"Photovoltaics\",\n{\n            'v': 2000,\n            'f': \"2000\",\n        },\n{\n            'v': 3.5689075,\n            'f': \"3.5689075\",\n        }],\n [{\n            'v': 337,\n            'f': \"337\",\n        },\n\"Photovoltaics\",\n{\n            'v': 2001,\n            'f': \"2001\",\n        },\n{\n            'v': 3.3722153,\n            'f': \"3.3722153\",\n        }],\n [{\n            'v': 338,\n            'f': \"338\",\n        },\n\"Photovoltaics\",\n{\n            'v': 2002,\n            'f': \"2002\",\n        },\n{\n            'v': 3.4408944,\n            'f': \"3.4408944\",\n        }],\n [{\n            'v': 339,\n            'f': \"339\",\n        },\n\"Photovoltaics\",\n{\n            'v': 2003,\n            'f': \"2003\",\n        },\n{\n            'v': 3.2510707,\n            'f': \"3.2510707\",\n        }],\n [{\n            'v': 340,\n            'f': \"340\",\n        },\n\"Photovoltaics\",\n{\n            'v': 2004,\n            'f': \"2004\",\n        },\n{\n            'v': 3.4511347,\n            'f': \"3.4511347\",\n        }],\n [{\n            'v': 341,\n            'f': \"341\",\n        },\n\"Photovoltaics\",\n{\n            'v': 2005,\n            'f': \"2005\",\n        },\n{\n            'v': 3.4880092,\n            'f': \"3.4880092\",\n        }],\n [{\n            'v': 342,\n            'f': \"342\",\n        },\n\"Photovoltaics\",\n{\n            'v': 2006,\n            'f': \"2006\",\n        },\n{\n            'v': 3.8019085,\n            'f': \"3.8019085\",\n        }],\n [{\n            'v': 343,\n            'f': \"343\",\n        },\n\"Photovoltaics\",\n{\n            'v': 2007,\n            'f': \"2007\",\n        },\n{\n            'v': 3.8300667,\n            'f': \"3.8300667\",\n        }],\n [{\n            'v': 344,\n            'f': \"344\",\n        },\n\"Photovoltaics\",\n{\n            'v': 2008,\n            'f': \"2008\",\n        },\n{\n            'v': 3.4906044,\n            'f': \"3.4906044\",\n        }],\n [{\n            'v': 345,\n            'f': \"345\",\n        },\n\"Photovoltaics\",\n{\n            'v': 2009,\n            'f': \"2009\",\n        },\n{\n            'v': 2.3330684,\n            'f': \"2.3330684\",\n        }],\n [{\n            'v': 346,\n            'f': \"346\",\n        },\n\"Photovoltaics\",\n{\n            'v': 2010,\n            'f': \"2010\",\n        },\n{\n            'v': 1.556384,\n            'f': \"1.556384\",\n        }],\n [{\n            'v': 347,\n            'f': \"347\",\n        },\n\"Photovoltaics\",\n{\n            'v': 2011,\n            'f': \"2011\",\n        },\n{\n            'v': 1.415067,\n            'f': \"1.415067\",\n        }],\n [{\n            'v': 348,\n            'f': \"348\",\n        },\n\"Photovoltaics\",\n{\n            'v': 2012,\n            'f': \"2012\",\n        },\n{\n            'v': 0.76441026,\n            'f': \"0.76441026\",\n        }],\n [{\n            'v': 349,\n            'f': \"349\",\n        },\n\"Photovoltaics\",\n{\n            'v': 2013,\n            'f': \"2013\",\n        },\n{\n            'v': 0.821315,\n            'f': \"0.821315\",\n        }],\n [{\n            'v': 350,\n            'f': \"350\",\n        },\n\"Photovoltaics\",\n{\n            'v': 2006,\n            'f': \"2006\",\n        },\n{\n            'v': 2.537050007948096,\n            'f': \"2.537050007948096\",\n        }],\n [{\n            'v': 351,\n            'f': \"351\",\n        },\n\"Photovoltaics\",\n{\n            'v': 2007,\n            'f': \"2007\",\n        },\n{\n            'v': 2.0370010615401952,\n            'f': \"2.0370010615401952\",\n        }],\n [{\n            'v': 352,\n            'f': \"352\",\n        },\n\"Photovoltaics\",\n{\n            'v': 2008,\n            'f': \"2008\",\n        },\n{\n            'v': 1.5369521151321806,\n            'f': \"1.5369521151321806\",\n        }],\n [{\n            'v': 353,\n            'f': \"353\",\n        },\n\"Photovoltaics\",\n{\n            'v': 2009,\n            'f': \"2009\",\n        },\n{\n            'v': 1.0369031687242796,\n            'f': \"1.0369031687242796\",\n        }],\n [{\n            'v': 354,\n            'f': \"354\",\n        },\n\"Photovoltaics\",\n{\n            'v': 2010,\n            'f': \"2010\",\n        },\n{\n            'v': 0.5368542223163786,\n            'f': \"0.5368542223163786\",\n        }],\n [{\n            'v': 355,\n            'f': \"355\",\n        },\n\"Photovoltaics\",\n{\n            'v': 2011,\n            'f': \"2011\",\n        },\n{\n            'v': 0.03680527590836391,\n            'f': \"0.03680527590836391\",\n        }],\n [{\n            'v': 356,\n            'f': \"356\",\n        },\n\"Photovoltaics\",\n{\n            'v': 2012,\n            'f': \"2012\",\n        },\n{\n            'v': -0.4632436704995371,\n            'f': \"-0.4632436704995371\",\n        }],\n [{\n            'v': 357,\n            'f': \"357\",\n        },\n\"Photovoltaics\",\n{\n            'v': 2013,\n            'f': \"2013\",\n        },\n{\n            'v': -0.9632926169074381,\n            'f': \"-0.9632926169074381\",\n        }],\n [{\n            'v': 358,\n            'f': \"358\",\n        },\n\"Photovoltaics\",\n{\n            'v': 2014,\n            'f': \"2014\",\n        },\n{\n            'v': -1.4633415633154527,\n            'f': \"-1.4633415633154527\",\n        }],\n [{\n            'v': 359,\n            'f': \"359\",\n        },\n\"Photovoltaics\",\n{\n            'v': 2015,\n            'f': \"2015\",\n        },\n{\n            'v': -1.9633905097233537,\n            'f': \"-1.9633905097233537\",\n        }],\n [{\n            'v': 360,\n            'f': \"360\",\n        },\n\"Wind Turbine (Denmark)\",\n{\n            'v': 1981,\n            'f': \"1981\",\n        },\n{\n            'v': 10909.0,\n            'f': \"10909.0\",\n        }],\n [{\n            'v': 361,\n            'f': \"361\",\n        },\n\"Wind Turbine (Denmark)\",\n{\n            'v': 1982,\n            'f': \"1982\",\n        },\n{\n            'v': 11075.0,\n            'f': \"11075.0\",\n        }],\n [{\n            'v': 362,\n            'f': \"362\",\n        },\n\"Wind Turbine (Denmark)\",\n{\n            'v': 1983,\n            'f': \"1983\",\n        },\n{\n            'v': 11451.0,\n            'f': \"11451.0\",\n        }],\n [{\n            'v': 363,\n            'f': \"363\",\n        },\n\"Wind Turbine (Denmark)\",\n{\n            'v': 1984,\n            'f': \"1984\",\n        },\n{\n            'v': 10811.0,\n            'f': \"10811.0\",\n        }],\n [{\n            'v': 364,\n            'f': \"364\",\n        },\n\"Wind Turbine (Denmark)\",\n{\n            'v': 1985,\n            'f': \"1985\",\n        },\n{\n            'v': 10199.0,\n            'f': \"10199.0\",\n        }],\n [{\n            'v': 365,\n            'f': \"365\",\n        },\n\"Wind Turbine (Denmark)\",\n{\n            'v': 1986,\n            'f': \"1986\",\n        },\n{\n            'v': 9576.0,\n            'f': \"9576.0\",\n        }],\n [{\n            'v': 366,\n            'f': \"366\",\n        },\n\"Wind Turbine (Denmark)\",\n{\n            'v': 1987,\n            'f': \"1987\",\n        },\n{\n            'v': 8485.0,\n            'f': \"8485.0\",\n        }],\n [{\n            'v': 367,\n            'f': \"367\",\n        },\n\"Wind Turbine (Denmark)\",\n{\n            'v': 1988,\n            'f': \"1988\",\n        },\n{\n            'v': 7722.0,\n            'f': \"7722.0\",\n        }],\n [{\n            'v': 368,\n            'f': \"368\",\n        },\n\"Wind Turbine (Denmark)\",\n{\n            'v': 1989,\n            'f': \"1989\",\n        },\n{\n            'v': 7614.0,\n            'f': \"7614.0\",\n        }],\n [{\n            'v': 369,\n            'f': \"369\",\n        },\n\"Wind Turbine (Denmark)\",\n{\n            'v': 1990,\n            'f': \"1990\",\n        },\n{\n            'v': 7928.0,\n            'f': \"7928.0\",\n        }],\n [{\n            'v': 370,\n            'f': \"370\",\n        },\n\"Wind Turbine (Denmark)\",\n{\n            'v': 1991,\n            'f': \"1991\",\n        },\n{\n            'v': 8152.0,\n            'f': \"8152.0\",\n        }],\n [{\n            'v': 371,\n            'f': \"371\",\n        },\n\"Wind Turbine (Denmark)\",\n{\n            'v': 1992,\n            'f': \"1992\",\n        },\n{\n            'v': 7456.0,\n            'f': \"7456.0\",\n        }],\n [{\n            'v': 372,\n            'f': \"372\",\n        },\n\"Wind Turbine (Denmark)\",\n{\n            'v': 1993,\n            'f': \"1993\",\n        },\n{\n            'v': 7033.0,\n            'f': \"7033.0\",\n        }],\n [{\n            'v': 373,\n            'f': \"373\",\n        },\n\"Wind Turbine (Denmark)\",\n{\n            'v': 1994,\n            'f': \"1994\",\n        },\n{\n            'v': 6644.0,\n            'f': \"6644.0\",\n        }],\n [{\n            'v': 374,\n            'f': \"374\",\n        },\n\"Wind Turbine (Denmark)\",\n{\n            'v': 1995,\n            'f': \"1995\",\n        },\n{\n            'v': 6100.0,\n            'f': \"6100.0\",\n        }],\n [{\n            'v': 375,\n            'f': \"375\",\n        },\n\"Wind Turbine (Denmark)\",\n{\n            'v': 1996,\n            'f': \"1996\",\n        },\n{\n            'v': 5946.0,\n            'f': \"5946.0\",\n        }],\n [{\n            'v': 376,\n            'f': \"376\",\n        },\n\"Wind Turbine (Denmark)\",\n{\n            'v': 1997,\n            'f': \"1997\",\n        },\n{\n            'v': 6041.0,\n            'f': \"6041.0\",\n        }],\n [{\n            'v': 377,\n            'f': \"377\",\n        },\n\"Wind Turbine (Denmark)\",\n{\n            'v': 1998,\n            'f': \"1998\",\n        },\n{\n            'v': 5958.0,\n            'f': \"5958.0\",\n        }],\n [{\n            'v': 378,\n            'f': \"378\",\n        },\n\"Wind Turbine (Denmark)\",\n{\n            'v': 1999,\n            'f': \"1999\",\n        },\n{\n            'v': 5702.0,\n            'f': \"5702.0\",\n        }],\n [{\n            'v': 379,\n            'f': \"379\",\n        },\n\"Wind Turbine (Denmark)\",\n{\n            'v': 2000,\n            'f': \"2000\",\n        },\n{\n            'v': 5563.0,\n            'f': \"5563.0\",\n        }],\n [{\n            'v': 380,\n            'f': \"380\",\n        },\n\"Wind Turbine (Denmark)\",\n{\n            'v': 2006,\n            'f': \"2006\",\n        },\n{\n            'v': 2984.0248120301403,\n            'f': \"2984.0248120301403\",\n        }],\n [{\n            'v': 381,\n            'f': \"381\",\n        },\n\"Wind Turbine (Denmark)\",\n{\n            'v': 2007,\n            'f': \"2007\",\n        },\n{\n            'v': 2659.236090225517,\n            'f': \"2659.236090225517\",\n        }],\n [{\n            'v': 382,\n            'f': \"382\",\n        },\n\"Wind Turbine (Denmark)\",\n{\n            'v': 2008,\n            'f': \"2008\",\n        },\n{\n            'v': 2334.4473684210097,\n            'f': \"2334.4473684210097\",\n        }],\n [{\n            'v': 383,\n            'f': \"383\",\n        },\n\"Wind Turbine (Denmark)\",\n{\n            'v': 2009,\n            'f': \"2009\",\n        },\n{\n            'v': 2009.6586466165027,\n            'f': \"2009.6586466165027\",\n        }],\n [{\n            'v': 384,\n            'f': \"384\",\n        },\n\"Wind Turbine (Denmark)\",\n{\n            'v': 2010,\n            'f': \"2010\",\n        },\n{\n            'v': 1684.8699248119956,\n            'f': \"1684.8699248119956\",\n        }],\n [{\n            'v': 385,\n            'f': \"385\",\n        },\n\"Wind Turbine (Denmark)\",\n{\n            'v': 2011,\n            'f': \"2011\",\n        },\n{\n            'v': 1360.0812030074885,\n            'f': \"1360.0812030074885\",\n        }],\n [{\n            'v': 386,\n            'f': \"386\",\n        },\n\"Wind Turbine (Denmark)\",\n{\n            'v': 2012,\n            'f': \"2012\",\n        },\n{\n            'v': 1035.2924812029814,\n            'f': \"1035.2924812029814\",\n        }],\n [{\n            'v': 387,\n            'f': \"387\",\n        },\n\"Wind Turbine (Denmark)\",\n{\n            'v': 2013,\n            'f': \"2013\",\n        },\n{\n            'v': 710.5037593984744,\n            'f': \"710.5037593984744\",\n        }],\n [{\n            'v': 388,\n            'f': \"388\",\n        },\n\"Wind Turbine (Denmark)\",\n{\n            'v': 2014,\n            'f': \"2014\",\n        },\n{\n            'v': 385.7150375939673,\n            'f': \"385.7150375939673\",\n        }],\n [{\n            'v': 389,\n            'f': \"389\",\n        },\n\"Wind Turbine (Denmark)\",\n{\n            'v': 2015,\n            'f': \"2015\",\n        },\n{\n            'v': 60.926315789460205,\n            'f': \"60.926315789460205\",\n        }]],\n        columns: [[\"number\", \"index\"], [\"string\", \"Entity\"], [\"number\", \"Year\"], [\"number\", \"Technology cost\"]],\n        columnOptions: [{\"width\": \"1px\", \"className\": \"index_column\"}],\n        rowsPerPage: 25,\n        helpUrl: \"https://colab.research.google.com/notebooks/data_table.ipynb\",\n        suppressOutputScrolling: true,\n        minimumWidth: undefined,\n      });\n    "
          },
          "metadata": {},
          "execution_count": 89
        }
      ]
    },
    {
      "cell_type": "code",
      "source": [
        "# plt.scatter(X_solar, y_solar, color=\"black\")\n",
        "# plt.plot(X_solar, prediction, color=\"blue\", linewidth=3)\n",
        "\n",
        "# plt.xticks(())\n",
        "# plt.yticks(())\n",
        "\n",
        "# plt.show()"
      ],
      "metadata": {
        "id": "2HpcwZ49udMe"
      },
      "execution_count": null,
      "outputs": []
    }
  ]
}