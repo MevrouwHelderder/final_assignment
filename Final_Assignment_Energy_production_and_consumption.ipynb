{
  "nbformat": 4,
  "nbformat_minor": 0,
  "metadata": {
    "colab": {
      "provenance": [],
      "gpuType": "T4",
      "include_colab_link": true
    },
    "kernelspec": {
      "name": "python3",
      "display_name": "Python 3"
    },
    "language_info": {
      "name": "python"
    },
    "gpuClass": "standard"
  },
  "cells": [
    {
      "cell_type": "markdown",
      "metadata": {
        "id": "view-in-github",
        "colab_type": "text"
      },
      "source": [
        "<a href=\"https://colab.research.google.com/github/MevrouwHelderder/final_assignment/blob/main/Final_Assignment_Energy_production_and_consumption.ipynb\" target=\"_parent\"><img src=\"https://colab.research.google.com/assets/colab-badge.svg\" alt=\"Open In Colab\"/></a>"
      ]
    },
    {
      "cell_type": "markdown",
      "source": [
        "# Final assignment - Energy production and consumption\n",
        "\n"
      ],
      "metadata": {
        "id": "7fox8RtSHX29"
      }
    },
    {
      "cell_type": "code",
      "source": [
        "import numpy as np\n",
        "import pandas as pd\n",
        "import matplotlib.pyplot as plt\n",
        "%load_ext google.colab.data_table"
      ],
      "metadata": {
        "id": "ddldkJVUhVV_"
      },
      "execution_count": 1,
      "outputs": []
    },
    {
      "cell_type": "code",
      "source": [
        "path_base = \"https://raw.githubusercontent.com/MevrouwHelderder/final_assignment/main/\"\n",
        "\n",
        "paths = {\n",
        "    \"energy_total\" : path_base + \"owid-energy-data.csv\",\n",
        "    \"co2_greenhouse\" : path_base + \"owid-co2-data.csv\",\n",
        "    \"net_zero_pledge\" : path_base + \"net-zero-targets.csv\",\n",
        "    # \"agri_land_use_total\" : path_base + \"total-agricultural-area-over-the-long-term.csv\",\n",
        "    # \"grazing\" : path_base + \"grazing-land-use-over-the-long-term.csv\",\n",
        "    # \"cropland\" : path_base + \"cropland-use-over-the-long-term.csv\"\n",
        "}\n",
        "\n",
        "dataframes = {}\n",
        "\n",
        "for key, value in paths.items():\n",
        "  dataframes[key] = pd.read_csv(value)\n",
        "\n",
        "energy_total_df = dataframes[\"energy_total\"]\n",
        "co2_greenhouse_df = dataframes[\"co2_greenhouse\"]\n",
        "net_zero_pledge_df = dataframes[\"net_zero_pledge\"]\n",
        "# agri_land_use_total_df = dataframes[\"agri_land_use_total\"]\n",
        "# grazing_df = dataframes[\"grazing\"]\n",
        "# cropland_df = dataframes[\"cropland\"]"
      ],
      "metadata": {
        "id": "YbnfXz5dW9Gx"
      },
      "execution_count": 2,
      "outputs": []
    },
    {
      "cell_type": "markdown",
      "source": [
        "# Exploration\n",
        "Let's first explore the datasets to see what we are working with.\n",
        "It might also be better to weed out data that is not needed now and perhaps combine data that is needed."
      ],
      "metadata": {
        "id": "hDo2HBDFGRWu"
      }
    },
    {
      "cell_type": "code",
      "source": [
        "# the CO2 dataframe\n",
        "# selecting the needed columns, changing the index\n",
        "explore_co2 = co2_greenhouse_df.loc[:, [\"country\", \"year\", \"iso_code\", \"population\", \"co2\", \"co2_growth_abs\", \"co2_growth_prct\", \"co2_per_capita\", \"trade_co2\", \"consumption_co2\", \"consumption_co2_per_capita\" ]]\n",
        "explore_co2 = explore_co2.set_index(\"year\")\n",
        "explore_co2.index = pd.to_datetime(explore_co2.index, format=\"%Y\", errors=\"coerce\")\n",
        "\n",
        "# show only the true countries, not the combinations like continents\n",
        "explore_co2 = explore_co2[~explore_co2[\"iso_code\"].isnull()]\n"
      ],
      "metadata": {
        "id": "bVfDd_vAlOMP"
      },
      "execution_count": 3,
      "outputs": []
    },
    {
      "cell_type": "code",
      "source": [
        "# pledge dataframe\n",
        "net_zero_pledge_df.rename(columns={'Entity': 'country', 'Code': 'iso_code', 'Year' :'pledged_year', 'Status of net-zero target': 'status'}, inplace=True)"
      ],
      "metadata": {
        "id": "MwdknWWe_-wW"
      },
      "execution_count": 4,
      "outputs": []
    },
    {
      "cell_type": "code",
      "source": [
        "# The energy dataframe\n",
        "# Renaming column names so there is more uniformity\n",
        "for column in energy_total_df.columns:\n",
        "    if \"_share_elec\" in column:\n",
        "        new_name = column.replace(\"_share_elec\", \"_share_gen\")\n",
        "        energy_total_df.rename(columns={column: new_name}, inplace=True)\n",
        "    if \"_share_energy\" in column: \n",
        "        new_name = column.replace(\"_share_energy\", \"_share_cons\")\n",
        "        energy_total_df.rename(columns={column: new_name}, inplace=True)\n",
        "    if \"_elec_per_capita\" in column: \n",
        "        new_name = column.replace(\"_elec_per_capita\", \"_gen_per_capita\")\n",
        "        energy_total_df.rename(columns={column: new_name}, inplace=True)\n",
        "    if \"_electricity\" in column: \n",
        "        new_name = column.replace(\"_electricity\", \"_gen\")\n",
        "        energy_total_df.rename(columns={column: new_name}, inplace=True)\n",
        "    if \"_energy_per_capita\" in column: \n",
        "        new_name = column.replace(\"_energy_per_capita\", \"_cons_per_capita\")\n",
        "        energy_total_df.rename(columns={column: new_name}, inplace=True)     \n",
        "    if \"_cons_per_capita\" in column: \n",
        "        new_name = column.replace(\"_cons_per_capita\", \"_cons_per_capita\")\n",
        "        energy_total_df.rename(columns={column: new_name}, inplace=True)       \n",
        "\n",
        "energy_total_df.rename(columns={\"other_renewable_consumption\": \"other_renewables_consumption\",\"other_renewables_gen_per_capita_exc_biofuel\" :\"other_renew_exc_biofuel_gen_per_capita\",\n",
        "                             \"other_renewables_share_gen_exc_biofuel\": \"other_renew_exc_biofuel_share_gen\", 'other_renewable_gen' : 'other_renewables_gen', 'other_renewable_exc_biofuel_gen' : 'other_renewables_exc_biofuel_gen'\n",
        "}, inplace=True)\n",
        "\n",
        "# Setting the index\n",
        "energy_total_df = energy_total_df.set_index(\"year\")\n",
        "energy_total_df.index = pd.to_datetime(energy_total_df.index, format=\"%Y\", errors=\"coerce\")\n",
        "\n",
        "# show only the true countries, not the combinations like continents\n",
        "energy_total_df = energy_total_df[~energy_total_df[\"iso_code\"].isnull()]"
      ],
      "metadata": {
        "id": "bAWiNG1AzDBk"
      },
      "execution_count": 5,
      "outputs": []
    },
    {
      "cell_type": "markdown",
      "source": [
        "\n",
        "* **wind, solar, hydro, biofuel, other renewables exc biofuel, nuclear, coal, oil and gas** are exclusive energy sources\n",
        "\n",
        "* **renewables** is the sum of wind, solar, hydro, biofuel, other renewables exc biofuel\n",
        "* **low_carbon** is the sum of wind, solar, hydro, biofuel, other renewables exc biofuel and nuclear\n",
        "* **fossil** could be the sum of coal, oil and gas, I can make a column for that\n"
      ],
      "metadata": {
        "id": "ztz02aflPhMU"
      }
    },
    {
      "cell_type": "markdown",
      "source": [
        "# Making dataframes with just the information needed.\n",
        "Since the original dataframe is huge, both column- and rowwise, I want to make new dataframes with only the information I need per type of energy.\n",
        "All columns are named following a pattern so I can use that to my advantage."
      ],
      "metadata": {
        "id": "jYfaxfqp5qiZ"
      }
    },
    {
      "cell_type": "code",
      "source": [
        "# Renewables:\n",
        "renew_list = ['wind', 'solar', 'hydro', 'biofuel']\n",
        "\n",
        "# Fossil:\n",
        "fossil_list = ['coal', 'oil', 'gas']\n",
        "\n",
        "# low_carbon:\n",
        "low_carbon_list = ['wind', 'solar', 'hydro', 'biofuel', 'nuclear']\n",
        "\n",
        "# totals:\n",
        "totals_list = ['renewables', 'low_carbon']\n",
        "\n",
        "# base column name format: \n",
        "base_list = ['_consumption', '_cons_per_capita', '_gen', '_gen_per_capita']\n",
        "\n",
        "# columns that won't work with the function: \n",
        "manual = ['other_renew_exc_biofuel_gen_per_capita', 'other_renewables_exc_biofuel_gen']\n",
        "\n",
        "# function to create a new list from a list of topics and a list of measurements\n",
        "def combine_lists(topic_list, measurement_list):\n",
        "    new_columns = ['country', 'iso_code', 'population', 'gdp']\n",
        "    for topic_item in topic_list:\n",
        "        for measurement_item in measurement_list:\n",
        "            new_columns.append(topic_item + measurement_item)\n",
        "    return new_columns\n",
        "\n",
        "# creating the column names\n",
        "renewables_columns = (combine_lists(renew_list, base_list)) + manual\n",
        "fossils_columns = combine_lists(fossil_list, base_list)\n",
        "low_carbon_columns = (combine_lists(low_carbon_list, base_list)) + manual\n",
        "totals_columns = combine_lists(totals_list, base_list)"
      ],
      "metadata": {
        "id": "lB7fiNPM09V8"
      },
      "execution_count": 6,
      "outputs": []
    },
    {
      "cell_type": "code",
      "source": [
        "# making the dataframes\n",
        "renewables_df = energy_total_df.loc[:,renewables_columns]\n",
        "fossils_df = energy_total_df.loc[:,fossils_columns]\n",
        "low_carbon_df = energy_total_df.loc[:,low_carbon_columns]\n",
        "totals_df = energy_total_df.loc[:,totals_columns]"
      ],
      "metadata": {
        "id": "kcOaErvo1BVu"
      },
      "execution_count": 7,
      "outputs": []
    },
    {
      "cell_type": "code",
      "source": [
        "# creating a new column in the totals dataframe that combines all the fossil fuels\n",
        "totals_df['fossil_consumption'] = energy_total_df['coal_consumption']+ energy_total_df['gas_consumption']+ energy_total_df['oil_consumption']\n",
        "totals_df['fossil_gen'] = energy_total_df['coal_gen']+ energy_total_df['gas_gen']+ energy_total_df['oil_gen']\n",
        "totals_df['fossil_cons_per_capita'] = energy_total_df['coal_cons_per_capita']+ energy_total_df['gas_cons_per_capita']+ energy_total_df['oil_cons_per_capita']\n",
        "totals_df['fossil_gen_per_capita'] = energy_total_df['coal_gen_per_capita']+ energy_total_df['gas_gen_per_capita']+ energy_total_df['oil_gen_per_capita']\n",
        "\n",
        "# Adding columns with all tot complete totals\n",
        "totals_df['total_consumption'] = energy_total_df['primary_energy_consumption']\n",
        "totals_df['total_cons_per_capita'] = energy_total_df['energy_per_capita']\n",
        "totals_df['total_gen'] = energy_total_df[\"electricity_generation\"]\n",
        "totals_df['total_gen_per_capita'] = energy_total_df['per_capita_gen']"
      ],
      "metadata": {
        "id": "_wsfEf5ILaag"
      },
      "execution_count": 8,
      "outputs": []
    },
    {
      "cell_type": "code",
      "source": [
        "# Changing 0 to NaN to prevent infinity\n",
        "no_zero_totals_df = totals_df.replace (0, np.nan)"
      ],
      "metadata": {
        "id": "416vwh-o8RKq"
      },
      "execution_count": 9,
      "outputs": []
    },
    {
      "cell_type": "markdown",
      "source": [
        "# Interesting!\n",
        "It shows that countries that produce a lot of CO2 do not nececarily produce that for their own use. \n",
        "And also: countries that produce a high amount of CO2 per capita for their own use are not the countries that produce a lot of CO2 in general."
      ],
      "metadata": {
        "id": "ORPKwo3v6ouT"
      }
    },
    {
      "cell_type": "markdown",
      "source": [
        "# Now let's see how the energy consumption and production of countries changed over time"
      ],
      "metadata": {
        "id": "N_2pAdlDgXeM"
      }
    },
    {
      "cell_type": "code",
      "source": [
        "# Using the dataframe as is gave a lot of NaN's because of missing values.\n",
        "# Interpolating to get a better result: \n",
        "interpolate_df = no_zero_totals_df.copy(deep=True)\n",
        "\n",
        "# Function to resample and interpolate\n",
        "def prepare(df):\n",
        "    df = (\n",
        "        df.groupby('country')\n",
        "        .resample('YS')\n",
        "        .mean(numeric_only=True)\n",
        "        .interpolate(method='linear')\n",
        "    )\n",
        "    df.reset_index(inplace=True)\n",
        "    df.set_index('year', inplace=True)\n",
        "\n",
        "    return df\n",
        "interpolate_df = prepare(interpolate_df)\n",
        "\n",
        "# Decide which columns to use\n",
        "interpolate_numeric_columns = interpolate_df.select_dtypes(include=np.number).head(5)\n",
        "interpolate_numeric_columns = interpolate_numeric_columns.columns.tolist()\n",
        "\n",
        "# Calculate the first and last available years for each country\n",
        "interpolate_first_year = interpolate_df.groupby('country').first()\n",
        "interpolate_last_year = interpolate_df.groupby('country').last()\n",
        "\n",
        "# Create a new DataFrame to store the percentage change between the first and last available years\n",
        "change_df = ((interpolate_last_year[interpolate_numeric_columns] - interpolate_first_year[interpolate_numeric_columns]) / interpolate_first_year[interpolate_numeric_columns] * 100).round(3)\n",
        "change_df.dropna(inplace=True)\n",
        "\n",
        "# Renaming the columns\n",
        "new_columns = [col + '_%_change' for col in change_df.columns]\n",
        "change_df.rename(columns=dict(zip(change_df.columns, new_columns)), inplace=True)"
      ],
      "metadata": {
        "id": "TgxbQoYnN240"
      },
      "execution_count": 10,
      "outputs": []
    },
    {
      "cell_type": "code",
      "source": [
        "# Splitting up into two dataframes\n",
        "general_columns = [\"population_%_change\", \"gdp_%_change\"]\n",
        "per_capita_columns = change_df.filter(like=\"capita\").columns\n",
        "per_capita_and_general_columns = general_columns + list(per_capita_columns)"
      ],
      "metadata": {
        "id": "QI5iQOUdTi-y"
      },
      "execution_count": 11,
      "outputs": []
    },
    {
      "cell_type": "code",
      "source": [
        "change_per_capita_df = change_df.loc[:,per_capita_and_general_columns ]\n",
        "change_df = change_df.drop(per_capita_columns, axis=1)"
      ],
      "metadata": {
        "id": "33CFk7cPTccP"
      },
      "execution_count": 12,
      "outputs": []
    },
    {
      "cell_type": "code",
      "source": [
        "change_per_capita_df.head(5)"
      ],
      "metadata": {
        "colab": {
          "base_uri": "https://localhost:8080/",
          "height": 214
        },
        "id": "z39Rh2_QUCwZ",
        "outputId": "67a9bd10-cc3d-43c2-e4e4-8fa2eec9922a"
      },
      "execution_count": 13,
      "outputs": [
        {
          "output_type": "execute_result",
          "data": {
            "text/plain": [
              "                     population_%_change  gdp_%_change  \\\n",
              "country                                                  \n",
              "Algeria                          847.208      1836.432   \n",
              "American Samoa                    36.915       -44.022   \n",
              "Angola                           999.450       -45.122   \n",
              "Antarctica                       -97.312       -41.499   \n",
              "Antigua and Barbuda               43.635       -75.957   \n",
              "\n",
              "                     renewables_cons_per_capita_%_change  \\\n",
              "country                                                    \n",
              "Algeria                                          -57.603   \n",
              "American Samoa                                    39.766   \n",
              "Angola                                            83.389   \n",
              "Antarctica                                        14.601   \n",
              "Antigua and Barbuda                               13.351   \n",
              "\n",
              "                     renewables_gen_per_capita_%_change  \\\n",
              "country                                                   \n",
              "Algeria                                         -98.871   \n",
              "American Samoa                                   47.191   \n",
              "Angola                                         1006.316   \n",
              "Antarctica                                      -34.946   \n",
              "Antigua and Barbuda                              -1.352   \n",
              "\n",
              "                     low_carbon_cons_per_capita_%_change  \\\n",
              "country                                                    \n",
              "Algeria                                          -57.603   \n",
              "American Samoa                                    39.766   \n",
              "Angola                                            83.389   \n",
              "Antarctica                                        14.601   \n",
              "Antigua and Barbuda                               13.351   \n",
              "\n",
              "                     low_carbon_gen_per_capita_%_change  \\\n",
              "country                                                   \n",
              "Algeria                                         -98.871   \n",
              "American Samoa                                   47.191   \n",
              "Angola                                         1006.316   \n",
              "Antarctica                                      -34.946   \n",
              "Antigua and Barbuda                              -1.352   \n",
              "\n",
              "                     fossil_cons_per_capita_%_change  \\\n",
              "country                                                \n",
              "Algeria                                      709.135   \n",
              "American Samoa                                -0.615   \n",
              "Angola                                        -1.827   \n",
              "Antarctica                                    -0.600   \n",
              "Antigua and Barbuda                           -0.635   \n",
              "\n",
              "                     fossil_gen_per_capita_%_change  \\\n",
              "country                                               \n",
              "Algeria                                    1843.970   \n",
              "American Samoa                               99.192   \n",
              "Angola                                      -96.184   \n",
              "Antarctica                                  680.692   \n",
              "Antigua and Barbuda                         172.813   \n",
              "\n",
              "                     total_cons_per_capita_%_change  \\\n",
              "country                                               \n",
              "Algeria                                      40.661   \n",
              "American Samoa                              -43.368   \n",
              "Angola                                      -84.902   \n",
              "Antarctica                                  417.013   \n",
              "Antigua and Barbuda                          24.184   \n",
              "\n",
              "                     total_gen_per_capita_%_change  \n",
              "country                                             \n",
              "Algeria                                     -4.460  \n",
              "American Samoa                              97.024  \n",
              "Angola                                     -86.460  \n",
              "Antarctica                                 177.952  \n",
              "Antigua and Barbuda                        166.331  "
            ],
            "text/html": [
              "\n",
              "  <div id=\"df-a93477b8-117d-4a32-ae71-ee6ae0ec84f7\">\n",
              "    <div class=\"colab-df-container\">\n",
              "      <div>\n",
              "<style scoped>\n",
              "    .dataframe tbody tr th:only-of-type {\n",
              "        vertical-align: middle;\n",
              "    }\n",
              "\n",
              "    .dataframe tbody tr th {\n",
              "        vertical-align: top;\n",
              "    }\n",
              "\n",
              "    .dataframe thead th {\n",
              "        text-align: right;\n",
              "    }\n",
              "</style>\n",
              "<table border=\"1\" class=\"dataframe\">\n",
              "  <thead>\n",
              "    <tr style=\"text-align: right;\">\n",
              "      <th></th>\n",
              "      <th>population_%_change</th>\n",
              "      <th>gdp_%_change</th>\n",
              "      <th>renewables_cons_per_capita_%_change</th>\n",
              "      <th>renewables_gen_per_capita_%_change</th>\n",
              "      <th>low_carbon_cons_per_capita_%_change</th>\n",
              "      <th>low_carbon_gen_per_capita_%_change</th>\n",
              "      <th>fossil_cons_per_capita_%_change</th>\n",
              "      <th>fossil_gen_per_capita_%_change</th>\n",
              "      <th>total_cons_per_capita_%_change</th>\n",
              "      <th>total_gen_per_capita_%_change</th>\n",
              "    </tr>\n",
              "    <tr>\n",
              "      <th>country</th>\n",
              "      <th></th>\n",
              "      <th></th>\n",
              "      <th></th>\n",
              "      <th></th>\n",
              "      <th></th>\n",
              "      <th></th>\n",
              "      <th></th>\n",
              "      <th></th>\n",
              "      <th></th>\n",
              "      <th></th>\n",
              "    </tr>\n",
              "  </thead>\n",
              "  <tbody>\n",
              "    <tr>\n",
              "      <th>Algeria</th>\n",
              "      <td>847.208</td>\n",
              "      <td>1836.432</td>\n",
              "      <td>-57.603</td>\n",
              "      <td>-98.871</td>\n",
              "      <td>-57.603</td>\n",
              "      <td>-98.871</td>\n",
              "      <td>709.135</td>\n",
              "      <td>1843.970</td>\n",
              "      <td>40.661</td>\n",
              "      <td>-4.460</td>\n",
              "    </tr>\n",
              "    <tr>\n",
              "      <th>American Samoa</th>\n",
              "      <td>36.915</td>\n",
              "      <td>-44.022</td>\n",
              "      <td>39.766</td>\n",
              "      <td>47.191</td>\n",
              "      <td>39.766</td>\n",
              "      <td>47.191</td>\n",
              "      <td>-0.615</td>\n",
              "      <td>99.192</td>\n",
              "      <td>-43.368</td>\n",
              "      <td>97.024</td>\n",
              "    </tr>\n",
              "    <tr>\n",
              "      <th>Angola</th>\n",
              "      <td>999.450</td>\n",
              "      <td>-45.122</td>\n",
              "      <td>83.389</td>\n",
              "      <td>1006.316</td>\n",
              "      <td>83.389</td>\n",
              "      <td>1006.316</td>\n",
              "      <td>-1.827</td>\n",
              "      <td>-96.184</td>\n",
              "      <td>-84.902</td>\n",
              "      <td>-86.460</td>\n",
              "    </tr>\n",
              "    <tr>\n",
              "      <th>Antarctica</th>\n",
              "      <td>-97.312</td>\n",
              "      <td>-41.499</td>\n",
              "      <td>14.601</td>\n",
              "      <td>-34.946</td>\n",
              "      <td>14.601</td>\n",
              "      <td>-34.946</td>\n",
              "      <td>-0.600</td>\n",
              "      <td>680.692</td>\n",
              "      <td>417.013</td>\n",
              "      <td>177.952</td>\n",
              "    </tr>\n",
              "    <tr>\n",
              "      <th>Antigua and Barbuda</th>\n",
              "      <td>43.635</td>\n",
              "      <td>-75.957</td>\n",
              "      <td>13.351</td>\n",
              "      <td>-1.352</td>\n",
              "      <td>13.351</td>\n",
              "      <td>-1.352</td>\n",
              "      <td>-0.635</td>\n",
              "      <td>172.813</td>\n",
              "      <td>24.184</td>\n",
              "      <td>166.331</td>\n",
              "    </tr>\n",
              "  </tbody>\n",
              "</table>\n",
              "</div>\n",
              "      <button class=\"colab-df-convert\" onclick=\"convertToInteractive('df-a93477b8-117d-4a32-ae71-ee6ae0ec84f7')\"\n",
              "              title=\"Convert this dataframe to an interactive table.\"\n",
              "              style=\"display:none;\">\n",
              "        \n",
              "  <svg xmlns=\"http://www.w3.org/2000/svg\" height=\"24px\"viewBox=\"0 0 24 24\"\n",
              "       width=\"24px\">\n",
              "    <path d=\"M0 0h24v24H0V0z\" fill=\"none\"/>\n",
              "    <path d=\"M18.56 5.44l.94 2.06.94-2.06 2.06-.94-2.06-.94-.94-2.06-.94 2.06-2.06.94zm-11 1L8.5 8.5l.94-2.06 2.06-.94-2.06-.94L8.5 2.5l-.94 2.06-2.06.94zm10 10l.94 2.06.94-2.06 2.06-.94-2.06-.94-.94-2.06-.94 2.06-2.06.94z\"/><path d=\"M17.41 7.96l-1.37-1.37c-.4-.4-.92-.59-1.43-.59-.52 0-1.04.2-1.43.59L10.3 9.45l-7.72 7.72c-.78.78-.78 2.05 0 2.83L4 21.41c.39.39.9.59 1.41.59.51 0 1.02-.2 1.41-.59l7.78-7.78 2.81-2.81c.8-.78.8-2.07 0-2.86zM5.41 20L4 18.59l7.72-7.72 1.47 1.35L5.41 20z\"/>\n",
              "  </svg>\n",
              "      </button>\n",
              "      \n",
              "  <style>\n",
              "    .colab-df-container {\n",
              "      display:flex;\n",
              "      flex-wrap:wrap;\n",
              "      gap: 12px;\n",
              "    }\n",
              "\n",
              "    .colab-df-convert {\n",
              "      background-color: #E8F0FE;\n",
              "      border: none;\n",
              "      border-radius: 50%;\n",
              "      cursor: pointer;\n",
              "      display: none;\n",
              "      fill: #1967D2;\n",
              "      height: 32px;\n",
              "      padding: 0 0 0 0;\n",
              "      width: 32px;\n",
              "    }\n",
              "\n",
              "    .colab-df-convert:hover {\n",
              "      background-color: #E2EBFA;\n",
              "      box-shadow: 0px 1px 2px rgba(60, 64, 67, 0.3), 0px 1px 3px 1px rgba(60, 64, 67, 0.15);\n",
              "      fill: #174EA6;\n",
              "    }\n",
              "\n",
              "    [theme=dark] .colab-df-convert {\n",
              "      background-color: #3B4455;\n",
              "      fill: #D2E3FC;\n",
              "    }\n",
              "\n",
              "    [theme=dark] .colab-df-convert:hover {\n",
              "      background-color: #434B5C;\n",
              "      box-shadow: 0px 1px 3px 1px rgba(0, 0, 0, 0.15);\n",
              "      filter: drop-shadow(0px 1px 2px rgba(0, 0, 0, 0.3));\n",
              "      fill: #FFFFFF;\n",
              "    }\n",
              "  </style>\n",
              "\n",
              "      <script>\n",
              "        const buttonEl =\n",
              "          document.querySelector('#df-a93477b8-117d-4a32-ae71-ee6ae0ec84f7 button.colab-df-convert');\n",
              "        buttonEl.style.display =\n",
              "          google.colab.kernel.accessAllowed ? 'block' : 'none';\n",
              "\n",
              "        async function convertToInteractive(key) {\n",
              "          const element = document.querySelector('#df-a93477b8-117d-4a32-ae71-ee6ae0ec84f7');\n",
              "          const dataTable =\n",
              "            await google.colab.kernel.invokeFunction('convertToInteractive',\n",
              "                                                     [key], {});\n",
              "          if (!dataTable) return;\n",
              "\n",
              "          const docLinkHtml = 'Like what you see? Visit the ' +\n",
              "            '<a target=\"_blank\" href=https://colab.research.google.com/notebooks/data_table.ipynb>data table notebook</a>'\n",
              "            + ' to learn more about interactive tables.';\n",
              "          element.innerHTML = '';\n",
              "          dataTable['output_type'] = 'display_data';\n",
              "          await google.colab.output.renderOutput(dataTable, element);\n",
              "          const docLink = document.createElement('div');\n",
              "          docLink.innerHTML = docLinkHtml;\n",
              "          element.appendChild(docLink);\n",
              "        }\n",
              "      </script>\n",
              "    </div>\n",
              "  </div>\n",
              "  "
            ],
            "application/vnd.google.colaboratory.module+javascript": "\n      import \"https://ssl.gstatic.com/colaboratory/data_table/99dac6621f6ae8c4/data_table.js\";\n\n      window.createDataTable({\n        data: [[\"Algeria\",\n{\n            'v': 847.208,\n            'f': \"847.208\",\n        },\n{\n            'v': 1836.432,\n            'f': \"1836.432\",\n        },\n{\n            'v': -57.603,\n            'f': \"-57.603\",\n        },\n{\n            'v': -98.871,\n            'f': \"-98.871\",\n        },\n{\n            'v': -57.603,\n            'f': \"-57.603\",\n        },\n{\n            'v': -98.871,\n            'f': \"-98.871\",\n        },\n{\n            'v': 709.135,\n            'f': \"709.135\",\n        },\n{\n            'v': 1843.97,\n            'f': \"1843.97\",\n        },\n{\n            'v': 40.661,\n            'f': \"40.661\",\n        },\n{\n            'v': -4.46,\n            'f': \"-4.46\",\n        }],\n [\"American Samoa\",\n{\n            'v': 36.915,\n            'f': \"36.915\",\n        },\n{\n            'v': -44.022,\n            'f': \"-44.022\",\n        },\n{\n            'v': 39.766,\n            'f': \"39.766\",\n        },\n{\n            'v': 47.191,\n            'f': \"47.191\",\n        },\n{\n            'v': 39.766,\n            'f': \"39.766\",\n        },\n{\n            'v': 47.191,\n            'f': \"47.191\",\n        },\n{\n            'v': -0.615,\n            'f': \"-0.615\",\n        },\n{\n            'v': 99.192,\n            'f': \"99.192\",\n        },\n{\n            'v': -43.368,\n            'f': \"-43.368\",\n        },\n{\n            'v': 97.024,\n            'f': \"97.024\",\n        }],\n [\"Angola\",\n{\n            'v': 999.45,\n            'f': \"999.45\",\n        },\n{\n            'v': -45.122,\n            'f': \"-45.122\",\n        },\n{\n            'v': 83.389,\n            'f': \"83.389\",\n        },\n{\n            'v': 1006.316,\n            'f': \"1006.316\",\n        },\n{\n            'v': 83.389,\n            'f': \"83.389\",\n        },\n{\n            'v': 1006.316,\n            'f': \"1006.316\",\n        },\n{\n            'v': -1.827,\n            'f': \"-1.827\",\n        },\n{\n            'v': -96.184,\n            'f': \"-96.184\",\n        },\n{\n            'v': -84.902,\n            'f': \"-84.902\",\n        },\n{\n            'v': -86.46,\n            'f': \"-86.46\",\n        }],\n [\"Antarctica\",\n{\n            'v': -97.312,\n            'f': \"-97.312\",\n        },\n{\n            'v': -41.499,\n            'f': \"-41.499\",\n        },\n{\n            'v': 14.601,\n            'f': \"14.601\",\n        },\n{\n            'v': -34.946,\n            'f': \"-34.946\",\n        },\n{\n            'v': 14.601,\n            'f': \"14.601\",\n        },\n{\n            'v': -34.946,\n            'f': \"-34.946\",\n        },\n{\n            'v': -0.6,\n            'f': \"-0.6\",\n        },\n{\n            'v': 680.692,\n            'f': \"680.692\",\n        },\n{\n            'v': 417.013,\n            'f': \"417.013\",\n        },\n{\n            'v': 177.952,\n            'f': \"177.952\",\n        }],\n [\"Antigua and Barbuda\",\n{\n            'v': 43.635,\n            'f': \"43.635\",\n        },\n{\n            'v': -75.957,\n            'f': \"-75.957\",\n        },\n{\n            'v': 13.351,\n            'f': \"13.351\",\n        },\n{\n            'v': -1.352,\n            'f': \"-1.352\",\n        },\n{\n            'v': 13.351,\n            'f': \"13.351\",\n        },\n{\n            'v': -1.352,\n            'f': \"-1.352\",\n        },\n{\n            'v': -0.635,\n            'f': \"-0.635\",\n        },\n{\n            'v': 172.813,\n            'f': \"172.813\",\n        },\n{\n            'v': 24.184,\n            'f': \"24.184\",\n        },\n{\n            'v': 166.331,\n            'f': \"166.331\",\n        }]],\n        columns: [[\"string\", \"country\"], [\"number\", \"population_%_change\"], [\"number\", \"gdp_%_change\"], [\"number\", \"renewables_cons_per_capita_%_change\"], [\"number\", \"renewables_gen_per_capita_%_change\"], [\"number\", \"low_carbon_cons_per_capita_%_change\"], [\"number\", \"low_carbon_gen_per_capita_%_change\"], [\"number\", \"fossil_cons_per_capita_%_change\"], [\"number\", \"fossil_gen_per_capita_%_change\"], [\"number\", \"total_cons_per_capita_%_change\"], [\"number\", \"total_gen_per_capita_%_change\"]],\n        columnOptions: [{\"width\": \"1px\", \"className\": \"index_column\"}],\n        rowsPerPage: 25,\n        helpUrl: \"https://colab.research.google.com/notebooks/data_table.ipynb\",\n        suppressOutputScrolling: true,\n        minimumWidth: undefined,\n      });\n    "
          },
          "metadata": {},
          "execution_count": 13
        }
      ]
    },
    {
      "cell_type": "code",
      "source": [
        "change_df.head(5)"
      ],
      "metadata": {
        "colab": {
          "base_uri": "https://localhost:8080/",
          "height": 214
        },
        "id": "JcoltCpYUdYd",
        "outputId": "57ed31f8-5932-4a52-d9f5-2e334c04380b"
      },
      "execution_count": 14,
      "outputs": [
        {
          "output_type": "execute_result",
          "data": {
            "text/plain": [
              "                     population_%_change  gdp_%_change  \\\n",
              "country                                                  \n",
              "Algeria                          847.208      1836.432   \n",
              "American Samoa                    36.915       -44.022   \n",
              "Angola                           999.450       -45.122   \n",
              "Antarctica                       -97.312       -41.499   \n",
              "Antigua and Barbuda               43.635       -75.957   \n",
              "\n",
              "                     renewables_consumption_%_change  renewables_gen_%_change  \\\n",
              "country                                                                         \n",
              "Algeria                                       51.226                  -82.619   \n",
              "American Samoa                                13.427                   -0.315   \n",
              "Angola                                        34.836                 1201.002   \n",
              "Antarctica                                     8.309                  -51.955   \n",
              "Antigua and Barbuda                            8.050                  -99.632   \n",
              "\n",
              "                     low_carbon_consumption_%_change  low_carbon_gen_%_change  \\\n",
              "country                                                                         \n",
              "Algeria                                       51.226                  -82.619   \n",
              "American Samoa                                13.427                   -0.315   \n",
              "Angola                                        34.836                 1201.002   \n",
              "Antarctica                                     8.309                  -51.955   \n",
              "Antigua and Barbuda                            8.050                  -99.632   \n",
              "\n",
              "                     fossil_consumption_%_change  fossil_gen_%_change  \\\n",
              "country                                                                 \n",
              "Algeria                                 2787.082             3348.977   \n",
              "American Samoa                            -6.900              -99.781   \n",
              "Angola                                   -21.911             2734.121   \n",
              "Antarctica                                -9.065              -63.003   \n",
              "Antigua and Barbuda                      -10.507              -79.530   \n",
              "\n",
              "                     total_consumption_%_change  total_gen_%_change  \n",
              "country                                                              \n",
              "Algeria                                2024.097            1338.329  \n",
              "American Samoa                            5.182             -99.783  \n",
              "Angola                                 1735.158            9436.954  \n",
              "Antarctica                              -91.200             -64.437  \n",
              "Antigua and Barbuda                     641.956             -93.614  "
            ],
            "text/html": [
              "\n",
              "  <div id=\"df-2a82e213-c66a-449b-8605-1b8d10281bb3\">\n",
              "    <div class=\"colab-df-container\">\n",
              "      <div>\n",
              "<style scoped>\n",
              "    .dataframe tbody tr th:only-of-type {\n",
              "        vertical-align: middle;\n",
              "    }\n",
              "\n",
              "    .dataframe tbody tr th {\n",
              "        vertical-align: top;\n",
              "    }\n",
              "\n",
              "    .dataframe thead th {\n",
              "        text-align: right;\n",
              "    }\n",
              "</style>\n",
              "<table border=\"1\" class=\"dataframe\">\n",
              "  <thead>\n",
              "    <tr style=\"text-align: right;\">\n",
              "      <th></th>\n",
              "      <th>population_%_change</th>\n",
              "      <th>gdp_%_change</th>\n",
              "      <th>renewables_consumption_%_change</th>\n",
              "      <th>renewables_gen_%_change</th>\n",
              "      <th>low_carbon_consumption_%_change</th>\n",
              "      <th>low_carbon_gen_%_change</th>\n",
              "      <th>fossil_consumption_%_change</th>\n",
              "      <th>fossil_gen_%_change</th>\n",
              "      <th>total_consumption_%_change</th>\n",
              "      <th>total_gen_%_change</th>\n",
              "    </tr>\n",
              "    <tr>\n",
              "      <th>country</th>\n",
              "      <th></th>\n",
              "      <th></th>\n",
              "      <th></th>\n",
              "      <th></th>\n",
              "      <th></th>\n",
              "      <th></th>\n",
              "      <th></th>\n",
              "      <th></th>\n",
              "      <th></th>\n",
              "      <th></th>\n",
              "    </tr>\n",
              "  </thead>\n",
              "  <tbody>\n",
              "    <tr>\n",
              "      <th>Algeria</th>\n",
              "      <td>847.208</td>\n",
              "      <td>1836.432</td>\n",
              "      <td>51.226</td>\n",
              "      <td>-82.619</td>\n",
              "      <td>51.226</td>\n",
              "      <td>-82.619</td>\n",
              "      <td>2787.082</td>\n",
              "      <td>3348.977</td>\n",
              "      <td>2024.097</td>\n",
              "      <td>1338.329</td>\n",
              "    </tr>\n",
              "    <tr>\n",
              "      <th>American Samoa</th>\n",
              "      <td>36.915</td>\n",
              "      <td>-44.022</td>\n",
              "      <td>13.427</td>\n",
              "      <td>-0.315</td>\n",
              "      <td>13.427</td>\n",
              "      <td>-0.315</td>\n",
              "      <td>-6.900</td>\n",
              "      <td>-99.781</td>\n",
              "      <td>5.182</td>\n",
              "      <td>-99.783</td>\n",
              "    </tr>\n",
              "    <tr>\n",
              "      <th>Angola</th>\n",
              "      <td>999.450</td>\n",
              "      <td>-45.122</td>\n",
              "      <td>34.836</td>\n",
              "      <td>1201.002</td>\n",
              "      <td>34.836</td>\n",
              "      <td>1201.002</td>\n",
              "      <td>-21.911</td>\n",
              "      <td>2734.121</td>\n",
              "      <td>1735.158</td>\n",
              "      <td>9436.954</td>\n",
              "    </tr>\n",
              "    <tr>\n",
              "      <th>Antarctica</th>\n",
              "      <td>-97.312</td>\n",
              "      <td>-41.499</td>\n",
              "      <td>8.309</td>\n",
              "      <td>-51.955</td>\n",
              "      <td>8.309</td>\n",
              "      <td>-51.955</td>\n",
              "      <td>-9.065</td>\n",
              "      <td>-63.003</td>\n",
              "      <td>-91.200</td>\n",
              "      <td>-64.437</td>\n",
              "    </tr>\n",
              "    <tr>\n",
              "      <th>Antigua and Barbuda</th>\n",
              "      <td>43.635</td>\n",
              "      <td>-75.957</td>\n",
              "      <td>8.050</td>\n",
              "      <td>-99.632</td>\n",
              "      <td>8.050</td>\n",
              "      <td>-99.632</td>\n",
              "      <td>-10.507</td>\n",
              "      <td>-79.530</td>\n",
              "      <td>641.956</td>\n",
              "      <td>-93.614</td>\n",
              "    </tr>\n",
              "  </tbody>\n",
              "</table>\n",
              "</div>\n",
              "      <button class=\"colab-df-convert\" onclick=\"convertToInteractive('df-2a82e213-c66a-449b-8605-1b8d10281bb3')\"\n",
              "              title=\"Convert this dataframe to an interactive table.\"\n",
              "              style=\"display:none;\">\n",
              "        \n",
              "  <svg xmlns=\"http://www.w3.org/2000/svg\" height=\"24px\"viewBox=\"0 0 24 24\"\n",
              "       width=\"24px\">\n",
              "    <path d=\"M0 0h24v24H0V0z\" fill=\"none\"/>\n",
              "    <path d=\"M18.56 5.44l.94 2.06.94-2.06 2.06-.94-2.06-.94-.94-2.06-.94 2.06-2.06.94zm-11 1L8.5 8.5l.94-2.06 2.06-.94-2.06-.94L8.5 2.5l-.94 2.06-2.06.94zm10 10l.94 2.06.94-2.06 2.06-.94-2.06-.94-.94-2.06-.94 2.06-2.06.94z\"/><path d=\"M17.41 7.96l-1.37-1.37c-.4-.4-.92-.59-1.43-.59-.52 0-1.04.2-1.43.59L10.3 9.45l-7.72 7.72c-.78.78-.78 2.05 0 2.83L4 21.41c.39.39.9.59 1.41.59.51 0 1.02-.2 1.41-.59l7.78-7.78 2.81-2.81c.8-.78.8-2.07 0-2.86zM5.41 20L4 18.59l7.72-7.72 1.47 1.35L5.41 20z\"/>\n",
              "  </svg>\n",
              "      </button>\n",
              "      \n",
              "  <style>\n",
              "    .colab-df-container {\n",
              "      display:flex;\n",
              "      flex-wrap:wrap;\n",
              "      gap: 12px;\n",
              "    }\n",
              "\n",
              "    .colab-df-convert {\n",
              "      background-color: #E8F0FE;\n",
              "      border: none;\n",
              "      border-radius: 50%;\n",
              "      cursor: pointer;\n",
              "      display: none;\n",
              "      fill: #1967D2;\n",
              "      height: 32px;\n",
              "      padding: 0 0 0 0;\n",
              "      width: 32px;\n",
              "    }\n",
              "\n",
              "    .colab-df-convert:hover {\n",
              "      background-color: #E2EBFA;\n",
              "      box-shadow: 0px 1px 2px rgba(60, 64, 67, 0.3), 0px 1px 3px 1px rgba(60, 64, 67, 0.15);\n",
              "      fill: #174EA6;\n",
              "    }\n",
              "\n",
              "    [theme=dark] .colab-df-convert {\n",
              "      background-color: #3B4455;\n",
              "      fill: #D2E3FC;\n",
              "    }\n",
              "\n",
              "    [theme=dark] .colab-df-convert:hover {\n",
              "      background-color: #434B5C;\n",
              "      box-shadow: 0px 1px 3px 1px rgba(0, 0, 0, 0.15);\n",
              "      filter: drop-shadow(0px 1px 2px rgba(0, 0, 0, 0.3));\n",
              "      fill: #FFFFFF;\n",
              "    }\n",
              "  </style>\n",
              "\n",
              "      <script>\n",
              "        const buttonEl =\n",
              "          document.querySelector('#df-2a82e213-c66a-449b-8605-1b8d10281bb3 button.colab-df-convert');\n",
              "        buttonEl.style.display =\n",
              "          google.colab.kernel.accessAllowed ? 'block' : 'none';\n",
              "\n",
              "        async function convertToInteractive(key) {\n",
              "          const element = document.querySelector('#df-2a82e213-c66a-449b-8605-1b8d10281bb3');\n",
              "          const dataTable =\n",
              "            await google.colab.kernel.invokeFunction('convertToInteractive',\n",
              "                                                     [key], {});\n",
              "          if (!dataTable) return;\n",
              "\n",
              "          const docLinkHtml = 'Like what you see? Visit the ' +\n",
              "            '<a target=\"_blank\" href=https://colab.research.google.com/notebooks/data_table.ipynb>data table notebook</a>'\n",
              "            + ' to learn more about interactive tables.';\n",
              "          element.innerHTML = '';\n",
              "          dataTable['output_type'] = 'display_data';\n",
              "          await google.colab.output.renderOutput(dataTable, element);\n",
              "          const docLink = document.createElement('div');\n",
              "          docLink.innerHTML = docLinkHtml;\n",
              "          element.appendChild(docLink);\n",
              "        }\n",
              "      </script>\n",
              "    </div>\n",
              "  </div>\n",
              "  "
            ],
            "application/vnd.google.colaboratory.module+javascript": "\n      import \"https://ssl.gstatic.com/colaboratory/data_table/99dac6621f6ae8c4/data_table.js\";\n\n      window.createDataTable({\n        data: [[\"Algeria\",\n{\n            'v': 847.208,\n            'f': \"847.208\",\n        },\n{\n            'v': 1836.432,\n            'f': \"1836.432\",\n        },\n{\n            'v': 51.226,\n            'f': \"51.226\",\n        },\n{\n            'v': -82.619,\n            'f': \"-82.619\",\n        },\n{\n            'v': 51.226,\n            'f': \"51.226\",\n        },\n{\n            'v': -82.619,\n            'f': \"-82.619\",\n        },\n{\n            'v': 2787.082,\n            'f': \"2787.082\",\n        },\n{\n            'v': 3348.977,\n            'f': \"3348.977\",\n        },\n{\n            'v': 2024.097,\n            'f': \"2024.097\",\n        },\n{\n            'v': 1338.329,\n            'f': \"1338.329\",\n        }],\n [\"American Samoa\",\n{\n            'v': 36.915,\n            'f': \"36.915\",\n        },\n{\n            'v': -44.022,\n            'f': \"-44.022\",\n        },\n{\n            'v': 13.427,\n            'f': \"13.427\",\n        },\n{\n            'v': -0.315,\n            'f': \"-0.315\",\n        },\n{\n            'v': 13.427,\n            'f': \"13.427\",\n        },\n{\n            'v': -0.315,\n            'f': \"-0.315\",\n        },\n{\n            'v': -6.9,\n            'f': \"-6.9\",\n        },\n{\n            'v': -99.781,\n            'f': \"-99.781\",\n        },\n{\n            'v': 5.182,\n            'f': \"5.182\",\n        },\n{\n            'v': -99.783,\n            'f': \"-99.783\",\n        }],\n [\"Angola\",\n{\n            'v': 999.45,\n            'f': \"999.45\",\n        },\n{\n            'v': -45.122,\n            'f': \"-45.122\",\n        },\n{\n            'v': 34.836,\n            'f': \"34.836\",\n        },\n{\n            'v': 1201.002,\n            'f': \"1201.002\",\n        },\n{\n            'v': 34.836,\n            'f': \"34.836\",\n        },\n{\n            'v': 1201.002,\n            'f': \"1201.002\",\n        },\n{\n            'v': -21.911,\n            'f': \"-21.911\",\n        },\n{\n            'v': 2734.121,\n            'f': \"2734.121\",\n        },\n{\n            'v': 1735.158,\n            'f': \"1735.158\",\n        },\n{\n            'v': 9436.954,\n            'f': \"9436.954\",\n        }],\n [\"Antarctica\",\n{\n            'v': -97.312,\n            'f': \"-97.312\",\n        },\n{\n            'v': -41.499,\n            'f': \"-41.499\",\n        },\n{\n            'v': 8.309,\n            'f': \"8.309\",\n        },\n{\n            'v': -51.955,\n            'f': \"-51.955\",\n        },\n{\n            'v': 8.309,\n            'f': \"8.309\",\n        },\n{\n            'v': -51.955,\n            'f': \"-51.955\",\n        },\n{\n            'v': -9.065,\n            'f': \"-9.065\",\n        },\n{\n            'v': -63.003,\n            'f': \"-63.003\",\n        },\n{\n            'v': -91.2,\n            'f': \"-91.2\",\n        },\n{\n            'v': -64.437,\n            'f': \"-64.437\",\n        }],\n [\"Antigua and Barbuda\",\n{\n            'v': 43.635,\n            'f': \"43.635\",\n        },\n{\n            'v': -75.957,\n            'f': \"-75.957\",\n        },\n{\n            'v': 8.05,\n            'f': \"8.05\",\n        },\n{\n            'v': -99.632,\n            'f': \"-99.632\",\n        },\n{\n            'v': 8.05,\n            'f': \"8.05\",\n        },\n{\n            'v': -99.632,\n            'f': \"-99.632\",\n        },\n{\n            'v': -10.507,\n            'f': \"-10.507\",\n        },\n{\n            'v': -79.53,\n            'f': \"-79.53\",\n        },\n{\n            'v': 641.956,\n            'f': \"641.956\",\n        },\n{\n            'v': -93.614,\n            'f': \"-93.614\",\n        }]],\n        columns: [[\"string\", \"country\"], [\"number\", \"population_%_change\"], [\"number\", \"gdp_%_change\"], [\"number\", \"renewables_consumption_%_change\"], [\"number\", \"renewables_gen_%_change\"], [\"number\", \"low_carbon_consumption_%_change\"], [\"number\", \"low_carbon_gen_%_change\"], [\"number\", \"fossil_consumption_%_change\"], [\"number\", \"fossil_gen_%_change\"], [\"number\", \"total_consumption_%_change\"], [\"number\", \"total_gen_%_change\"]],\n        columnOptions: [{\"width\": \"1px\", \"className\": \"index_column\"}],\n        rowsPerPage: 25,\n        helpUrl: \"https://colab.research.google.com/notebooks/data_table.ipynb\",\n        suppressOutputScrolling: true,\n        minimumWidth: undefined,\n      });\n    "
          },
          "metadata": {},
          "execution_count": 14
        }
      ]
    },
    {
      "cell_type": "markdown",
      "source": [
        "\n",
        "\n",
        "---\n",
        "\n",
        "\n",
        "\n",
        "---\n",
        "\n",
        "\n",
        "\n",
        "---\n",
        "\n"
      ],
      "metadata": {
        "id": "xIGB4xukD3uQ"
      }
    },
    {
      "cell_type": "markdown",
      "source": [
        "# What are the safest and cleanest?\n",
        "\n",
        "https://ourworldindata.org/safest-sources-of-energy#the-safest-energy-sources-are-also-the-cleanest"
      ],
      "metadata": {
        "id": "UScZ3_gHW7qQ"
      }
    },
    {
      "cell_type": "markdown",
      "source": [
        "# Let's look at the top tens of countries when it comes to the output of CO2:\n",
        "since not all data was available for the years after 2020 I will use 2020."
      ],
      "metadata": {
        "id": "XOkjsx5a51Fx"
      }
    },
    {
      "cell_type": "code",
      "source": [
        "# Total production, not corrected for trade :\n",
        "top_co2_2020 = explore_co2.loc['2020-01-01 00:00:00',['country', 'co2']].sort_values(by='co2', ascending = False).set_index('country').head(10)\n",
        "top_co2_2020.plot.barh(title='Total CO2 production')"
      ],
      "metadata": {
        "id": "dYzvO2bSp3rd",
        "colab": {
          "base_uri": "https://localhost:8080/",
          "height": 469
        },
        "outputId": "b49b3a20-dd82-4ac7-cafd-8e95fba7b0ff"
      },
      "execution_count": 15,
      "outputs": [
        {
          "output_type": "execute_result",
          "data": {
            "text/plain": [
              "<Axes: title={'center': 'Total CO2 production'}, ylabel='country'>"
            ]
          },
          "metadata": {},
          "execution_count": 15
        },
        {
          "output_type": "display_data",
          "data": {
            "text/plain": [
              "<Figure size 640x480 with 1 Axes>"
            ],
            "image/png": "[encoded data removed]"
          },
          "metadata": {}
        }
      ]
    },
    {
      "cell_type": "code",
      "source": [
        "# Total production per capita, not corrected for trade :\n",
        "top_co2_pc_2020 = explore_co2.loc[\"2020-01-01 00:00:00\",[\"country\", \"co2_per_capita\"]].sort_values(by=\"co2_per_capita\", ascending = False).set_index('country').head(10)\n",
        "top_co2_pc_2020.plot.barh(title='Total CO2 production per capita')"
      ],
      "metadata": {
        "id": "DDx8E05P4Ziz",
        "colab": {
          "base_uri": "https://localhost:8080/",
          "height": 469
        },
        "outputId": "3d8a5500-263e-4ee9-9c4e-8c79466b9f0b"
      },
      "execution_count": 16,
      "outputs": [
        {
          "output_type": "execute_result",
          "data": {
            "text/plain": [
              "<Axes: title={'center': 'Total CO2 production per capita'}, ylabel='country'>"
            ]
          },
          "metadata": {},
          "execution_count": 16
        },
        {
          "output_type": "display_data",
          "data": {
            "text/plain": [
              "<Figure size 640x480 with 1 Axes>"
            ],
            "image/png": "[encoded data removed]"
          },
          "metadata": {}
        }
      ]
    },
    {
      "cell_type": "code",
      "source": [
        "# Total co2 for own consumption: \n",
        "top_co2_consumer_2020 = explore_co2.loc[\"2020-01-01 00:00:00\",[\"country\", \"consumption_co2\"]].sort_values(by=\"consumption_co2\", ascending = False).set_index('country').head(10)\n",
        "top_co2_consumer_2020.plot.barh(title='Total CO2 production for own consumption')"
      ],
      "metadata": {
        "id": "FwYvgP3-44PJ",
        "colab": {
          "base_uri": "https://localhost:8080/",
          "height": 469
        },
        "outputId": "b5c7c166-de7d-4d97-a633-7ce64afbf924"
      },
      "execution_count": 17,
      "outputs": [
        {
          "output_type": "execute_result",
          "data": {
            "text/plain": [
              "<Axes: title={'center': 'Total CO2 production for own consumption'}, ylabel='country'>"
            ]
          },
          "metadata": {},
          "execution_count": 17
        },
        {
          "output_type": "display_data",
          "data": {
            "text/plain": [
              "<Figure size 640x480 with 1 Axes>"
            ],
            "image/png": "[encoded data removed]"
          },
          "metadata": {}
        }
      ]
    },
    {
      "cell_type": "code",
      "source": [
        "# Total co2 for own consumption per capita: \n",
        "top_co2_consumer_pc_2020 = explore_co2.loc[\"2020-01-01 00:00:00\", [\"country\", \"consumption_co2_per_capita\"]].sort_values(by=\"consumption_co2_per_capita\", ascending = False).set_index('country').head(10)\n",
        "top_co2_consumer_pc_2020.plot.barh(title='Total CO2 production per capita for own consumption')"
      ],
      "metadata": {
        "id": "L_kGZM1C43oD",
        "colab": {
          "base_uri": "https://localhost:8080/",
          "height": 469
        },
        "outputId": "883c5b7a-27e0-437c-e035-eaa187f10f71"
      },
      "execution_count": 18,
      "outputs": [
        {
          "output_type": "execute_result",
          "data": {
            "text/plain": [
              "<Axes: title={'center': 'Total CO2 production per capita for own consumption'}, ylabel='country'>"
            ]
          },
          "metadata": {},
          "execution_count": 18
        },
        {
          "output_type": "display_data",
          "data": {
            "text/plain": [
              "<Figure size 640x480 with 1 Axes>"
            ],
            "image/png": "[encoded data removed]"
          },
          "metadata": {}
        }
      ]
    },
    {
      "cell_type": "markdown",
      "source": [
        "This is your final assignment. You'll get a lot of freedom in doing this assignment but that also means you have to make choices and explain the reasoning behind those choices in your report.\n",
        "\n",
        "For this assignment you can use any dataset you can find from the [Our World in Data website](https://ourworldindata.org/).\n",
        "\n",
        "Please formulate an answer to the following three questions in your report.\n",
        "\n",
        "* **What is the biggest predictor of a large CO2 output per capita of a country?**\n",
        "* **which countries are making the biggest strides in decreasing CO2 output?**\n",
        "* **which non-fossil fuel energy technology will have the best price in the future?**\n",
        "\n",
        "\n",
        "\n",
        "\n",
        "---\n",
        "\n",
        "\n",
        "**1: Biggest predictor of CO2 output**\n",
        "\n",
        "To determine this you may want to consider things like GDP per capita, diets, number of cars per capita, various energy source, mobility and other factors.\n",
        "\n",
        "Your answer can also be a specific combination of certain factors.\n",
        "\n",
        "\n",
        "---\n",
        "\n",
        "\n",
        "**2: Biggest strides in decreasing CO2 output**\n",
        "\n",
        "You'll need to find the relative CO2 output for each country to be able to calculate this. But countries can have growing and shrinking populations too, so it's probably a good idea to take this into account as well.\n",
        "\n",
        "\n",
        "---\n",
        "\n",
        "\n",
        "**3: Best future price for non-fossil fuel energy**\n",
        "\n",
        "To be able to predict prices you'll probably need to use linear regression over the various non-fossil fuel options.\n",
        "\n",
        "\n",
        "---\n",
        "\n",
        "\n",
        "**Submitting your Assignment**\n",
        "\n",
        "Once you're done with this module, you can go to the next item where you'll be able to submit your assignment.\n",
        "\n",
        "Please submit both your written report and all notebooks you've created in creating the report. Make sure everything works before submitting.\n",
        "\n"
      ],
      "metadata": {
        "id": "Gijm5ENpY31P"
      }
    },
    {
      "cell_type": "markdown",
      "source": [
        "# Thoughts: \n",
        "**For the biggest predictor of a large CO2 output per capita of a country, you can use the following datasets:**\n",
        "\n",
        "* CO2 emissions by country: This dataset provides historical CO2 emissions data for different countries over time.\n",
        "* Energy consumption by fuel type: This dataset shows the energy consumption of different countries categorized by fossil fuels (coal, oil, gas), renewables, and other sources.\n",
        "* Population by country: This dataset provides population data for different countries over time.\n",
        "\n",
        "By combining these datasets, you can calculate CO2 emissions per capita and analyze the relationship between various factors like energy consumption, population, and CO2 emissions.\n",
        "\n",
        "**To identify the countries making the biggest strides in decreasing CO2 output, you can use the following datasets:**\n",
        "\n",
        "* CO2 emissions by country: This dataset will be useful again to track changes in CO2 emissions over time.\n",
        "* Annual change in CO2 emissions: This dataset provides the annual percentage change in CO2 emissions for different countries.\n",
        "* Renewable energy production: This dataset includes information on the production of renewable energy, such as solar, wind, hydro, and geothermal.\n",
        "\n",
        "By analyzing the annual change in CO2 emissions and comparing it with the growth in renewable energy production, you can identify countries that are successfully reducing their CO2 output.\n",
        "\n",
        "**For determining the non-fossil fuel energy technology with the best price in the future, you can consider the following datasets:**\n",
        "\n",
        "* Costs of different energy technologies: This dataset provides information on the costs of various energy technologies, including solar, wind, hydro, nuclear, and others. It can help you analyze the trends and projections for future energy costs.\n",
        "* Renewable energy capacity and investment: This dataset shows the installed capacity and investment trends in renewable energy sources, which can provide insights into the growth potential and competitiveness of different technologies.\n",
        "\n",
        "By examining the cost trends and comparing the capacity and investment data, you can assess which non-fossil fuel energy technology is expected to have the most favorable price in the future.\n",
        "\n",
        "\n",
        "**Find what countries do:**\n",
        "\n",
        "* did they make any pledges\n",
        "* what kind of energy are they using now\n",
        "\n",
        "\n",
        "* What contributes to CO2 output?\n",
        "\n",
        "* What are the prices for the different types of non-fossil energy?\n",
        "\n",
        "* What happens when a country outsources everything?\n",
        "\n",
        "* How about CO2 vs the other GHG (greenhouse gasses)? Are there countries where CO2 falls but the other rise?"
      ],
      "metadata": {
        "id": "exxoWaD9F2rS"
      }
    },
    {
      "cell_type": "markdown",
      "source": [
        "# 1: Biggest predictor of CO2 output"
      ],
      "metadata": {
        "id": "ulO1ZMUaFu9x"
      }
    },
    {
      "cell_type": "markdown",
      "source": [
        "# 2: Biggest strides in decreasing CO2 output\n",
        "\n",
        "First let's look at what countries produces, import, export and how that changed through the years.\n",
        "\n",
        "* **co2**: annual total production-based co2 emission. measured in million tonnes. Measured in million tonnes.\n",
        "* **co2_growth_abs**: annual growth of production-based co2 emission. Measured in million tonnes.\n",
        "* **co2_growth_prct**: annual percentage growth of production-based co2 emission. measured in million tonnes. Measured in million tonnes.\n",
        "* **co2_per_capita**, annual total production-based emissions of carbon dioxide (CO₂) per capita, measured in tonnes per person. \n",
        "\n",
        "* **trade_co2**: annual net carbon dioxide (CO₂) emissions embedded in trade. The net of import or export via traded goods. Positive = importer of CO₂ emissions; Negative =  exporter. Measured in million tonnes.\n",
        "* **consumption_co2**: total co2 minus emissions embedded in exports, plus emissions embedded in imports. Consumption > production = importer of CO₂ emissions; Consumption < Production =  exporter. Measured in million tonnes.\n",
        "* **consumption_co2**: total co2 minus emissions embedded in exports per capita, plus emissions embedded in imports. Consumption > production = importer of CO₂ emissions; Consumption < Production =  exporter. Measured in tonnes per person.\n",
        "\n",
        "Note for later: \n",
        "also interesting: \n",
        "* what do we see when we look at rich vs poor (columns regarding GDP)\n",
        "* what do we see when we look at the CO2 per energy unit."
      ],
      "metadata": {
        "id": "P4qfKlsHqMU-"
      }
    }
  ]
}