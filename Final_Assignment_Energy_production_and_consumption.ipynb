{
  "nbformat": 4,
  "nbformat_minor": 0,
  "metadata": {
    "colab": {
      "provenance": [],
      "gpuType": "T4",
      "include_colab_link": true
    },
    "kernelspec": {
      "name": "python3",
      "display_name": "Python 3"
    },
    "language_info": {
      "name": "python"
    },
    "gpuClass": "standard"
  },
  "cells": [
    {
      "cell_type": "markdown",
      "metadata": {
        "id": "view-in-github",
        "colab_type": "text"
      },
      "source": [
        "<a href=\"https://colab.research.google.com/github/MevrouwHelderder/final_assignment/blob/main/Final_Assignment_Energy_production_and_consumption.ipynb\" target=\"_parent\"><img src=\"https://colab.research.google.com/assets/colab-badge.svg\" alt=\"Open In Colab\"/></a>"
      ]
    },
    {
      "cell_type": "markdown",
      "source": [
        "# Final assignment - Energy production and consumption\n",
        "\n"
      ],
      "metadata": {
        "id": "7fox8RtSHX29"
      }
    },
    {
      "cell_type": "code",
      "source": [
        "import numpy as np\n",
        "import pandas as pd\n",
        "import matplotlib.pyplot as plt\n",
        "%load_ext google.colab.data_table"
      ],
      "metadata": {
        "id": "ddldkJVUhVV_"
      },
      "execution_count": 1,
      "outputs": []
    },
    {
      "cell_type": "code",
      "source": [
        "path_base = \"https://raw.githubusercontent.com/MevrouwHelderder/final_assignment/main/\"\n",
        "\n",
        "paths = {\n",
        "    \"energy_total\" : path_base + \"owid-energy-data.csv\",\n",
        "    # \"net_zero_pledge\" : path_base + \"net-zero-targets.csv\",\n",
        "    # \"agri_land_use_total\" : path_base + \"total-agricultural-area-over-the-long-term.csv\",\n",
        "    # \"grazing\" : path_base + \"grazing-land-use-over-the-long-term.csv\",\n",
        "    # \"cropland\" : path_base + \"cropland-use-over-the-long-term.csv\"\n",
        "}\n",
        "\n",
        "dataframes = {}\n",
        "\n",
        "for key, value in paths.items():\n",
        "  dataframes[key] = pd.read_csv(value)\n",
        "\n",
        "energy_total_df = dataframes[\"energy_total\"]\n",
        "# net_zero_pledge_df = dataframes[\"net_zero_pledge\"]\n",
        "# agri_land_use_total_df = dataframes[\"agri_land_use_total\"]\n",
        "# grazing_df = dataframes[\"grazing\"]\n",
        "# cropland_df = dataframes[\"cropland\"]"
      ],
      "metadata": {
        "id": "YbnfXz5dW9Gx"
      },
      "execution_count": 2,
      "outputs": []
    },
    {
      "cell_type": "markdown",
      "source": [
        "# Who changed the best and worse over the past x years (50?)"
      ],
      "metadata": {
        "id": "vWbr6AvI7BMb"
      }
    },
    {
      "cell_type": "code",
      "source": [
        "# Renaming column names so there is more uniformity\n",
        "for column in energy_total_df.columns:\n",
        "    if \"_energy_per_capita\" in column:\n",
        "        new_name = column.replace(\"_energy_per_capita\", \"_cons_per_capita\")\n",
        "        energy_total_df.rename(columns={column: new_name}, inplace=True)\n",
        "    if \"renewable\" in column:\n",
        "        new_name = column.replace(\"renewable_\", \"renewables_\")\n",
        "        energy_total_df.rename(columns={column: new_name}, inplace=True)\n",
        "\n",
        "# Setting the index\n",
        "energy_total_df = energy_total_df.set_index(\"year\")\n",
        "energy_total_df.index = pd.to_datetime(energy_total_df.index, format=\"%Y\", errors=\"coerce\")\n",
        "\n",
        "# Renaming some columns that won't fit the function later\n",
        "energy_total_df.rename(columns={\"other_renewables_elec_per_capita_exc_biofuel\" :\"other_renewables_exc_biofuel_elec_per_capita\",\n",
        "                             \"other_renewables_share_elec_exc_biofuel\": \"other_renewables_exc_biofuel_share_elec\"}, inplace=True)"
      ],
      "metadata": {
        "id": "bAWiNG1AzDBk"
      },
      "execution_count": 3,
      "outputs": []
    },
    {
      "cell_type": "markdown",
      "source": [
        "# Exploration\n",
        "The big dataset contains data of several categories, including columns for each categorie and columns for all items in each categorie. \n",
        "\n",
        "I did some checks to verify what columns store combinations of other columns by adding the, presumed, individual measurements up and comparing the result to the, presumed, combination column.\n"
      ],
      "metadata": {
        "id": "hDo2HBDFGRWu"
      }
    },
    {
      "cell_type": "code",
      "source": [
        "# Making a test dataframe to check what the columns store\n",
        "test = energy_total_df[energy_total_df[\"country\"]==\"Germany\"].iloc[100: 119,:]\n",
        "\n",
        "# make a column for all fossil fuels: \n",
        "test['fossil_electricity'] = (test['coal_electricity'] + test[ 'oil_electricity'] + test['gas_electricity']).round(3)\n",
        "\n",
        "# Lists of columns that are presumed to be the same as the columns that store combined values: \n",
        "presumed_renewables = ['wind_electricity', 'solar_electricity', 'hydro_electricity', 'biofuel_electricity', 'other_renewables_exc_biofuel_electricity']\n",
        "presumed_low_carbon = ['nuclear_electricity', 'renewables_electricity']\n",
        "presumed_all = ['low_carbon_electricity', 'fossil_electricity']\n",
        "\n",
        "# Function that checks if the values in certain columns are indeed combined into another column\n",
        "def check_columns(df, column_list, column):\n",
        "  presumed_group = df.loc[:,column_list].sum(axis=1).round(3)\n",
        "  if (presumed_group == df[column]).all():\n",
        "    print(f\"Succes! The column {column} is the sum of {column_list}\")\n",
        "  else: \n",
        "    print (\"The column {column} does not consist of the values of the columns {column_list} combined\")\n",
        "\n",
        "check_columns(test, presumed_low_carbon, 'low_carbon_electricity')\n",
        "check_columns(test, presumed_all, 'electricity_generation')\n",
        "check_columns(test, presumed_renewables, 'renewables_electricity')"
      ],
      "metadata": {
        "id": "dLkQ-0CbXo3i"
      },
      "execution_count": 5,
      "outputs": []
    },
    {
      "cell_type": "markdown",
      "source": [
        "Conclusion: \n",
        "* **wind, solar, hydro, biofuel, other renewables exc biofuel, nuclear, coal, oil and gas** are exclusive energy sources\n",
        "\n",
        "* **renewables** is the sum of wind, solar, hydro, biofuel, other renewables exc biofuel\n",
        "* **low_carbon** is the sum of wind, solar, hydro, biofuel, other renewables exc biofuel and nuclear\n",
        "* **fossil** could be the sum of coal, oil and gas, I can make a column for that\n"
      ],
      "metadata": {
        "id": "ztz02aflPhMU"
      }
    },
    {
      "cell_type": "markdown",
      "source": [
        "# Making a new dataframe with just the information needed.\n",
        "Since the original dataframe is huge, both column- and rowwise, I want to make new dataframes with only the information I need per type of energy.\n",
        "All columns are named following a pattern so I can use that to my advantage."
      ],
      "metadata": {
        "id": "jYfaxfqp5qiZ"
      }
    },
    {
      "cell_type": "code",
      "source": [
        "# Renewables:\n",
        "# Add later: manuals\n",
        "renew_list = ['wind', 'solar', 'hydro', 'biofuel']\n",
        "\n",
        "# Fossil:\n",
        "fossil_list = ['coal', 'oil', 'gas']\n",
        "\n",
        "# low_carbon:\n",
        "# Add later: manuals\n",
        "low_carbon_list = ['wind', 'solar', 'hydro', 'biofuel', 'nuclear']\n",
        "\n",
        "# totals:\n",
        "# Add later: column fossil\n",
        "totals_list = ['renewables', 'low_carbon']\n",
        "\n",
        "# base column name format: \n",
        "base_list = ['_electricity', '_elec_per_capita', '_consumption', '_cons_per_capita', '_cons_change_pct', '_cons_change_twh']\n",
        "\n",
        "# columns that won't work with the function: \n",
        "manual = ['other_renewables_exc_biofuel_electricity', 'other_renewables_exc_biofuel_elec_per_capita']\n",
        "\n",
        "# function to create a new list from a list of topics and a list of measurements\n",
        "def combine_lists(topic_list, measurement_list):\n",
        "    new_columns = ['country', 'iso_code', 'population', 'gdp']\n",
        "    for topic_item in topic_list:\n",
        "        for measurement_item in measurement_list:\n",
        "            new_columns.append(topic_item + measurement_item)\n",
        "    return new_columns\n",
        "\n",
        "# creating the column names\n",
        "renewables_columns = (combine_lists(renew_list, base_list)) + manual\n",
        "fossils_columns = combine_lists(fossil_list, base_list)\n",
        "low_carbon_columns = (combine_lists(low_carbon_list, base_list)) + manual\n",
        "totals_columns = combine_lists(totals_list, base_list)\n",
        "\n",
        "# making the dataframes\n",
        "renewables_df = energy_total_df.loc[:,renewables_columns]\n",
        "fossils_df = energy_total_df.loc[:,fossils_columns]\n",
        "low_carbon_df = energy_total_df.loc[:,low_carbon_columns]\n",
        "totals_df = energy_total_df.loc[:,totals_columns]\n",
        "\n",
        "# creating a new column that combines all the fossil fuels\n",
        "for substring in base_list:\n",
        "    matching_columns = [column for column in fossils_df.columns if substring in column]\n",
        "    summed_column = fossils_df[matching_columns].sum(axis=1)\n",
        "    new_column_name = f\"fossil{substring}\"\n",
        "    totals_df[new_column_name] = summed_column\n",
        "\n",
        "# Checking to see if the columns for the combined fossil fuels are correct\n",
        "print(totals_df[totals_df[\"country\"]==\"Germany\"].loc['2000-01-01',[\"fossil_electricity\"]])\n",
        "print(energy_total_df[energy_total_df[\"country\"]==\"Germany\"].loc['2000-01-01',[\"coal_electricity\", \"gas_electricity\", \"oil_electricity\"]].sum())"
      ],
      "metadata": {
        "id": "Q3No-TxWWQQM"
      },
      "execution_count": 7,
      "outputs": []
    },
    {
      "cell_type": "markdown",
      "source": [
        "\"country\", \"year\", \"iso_code\", \"population\", \"gdp\", \"electricity_demand\", \n",
        "\n",
        "\n",
        "**electricity_demand**. Electricity demand, measured in terawatt-hours\n",
        "**electricity_generation**. Electricity generation, measured in terawatt-hours\n",
        "**energy_per_capita**. Primary energy consumption per capita, measured in kilowatt-hours\n",
        "**energy_cons_change_pct**. Annual percentage change in primary energy consumption\n",
        "**energy_cons_change_twh**. Annual change in primary energy consumption, measured in terawatt-hours\n",
        "\n",
        "**fossil_electricity**. \tElectricity generation from fossil fuels, measured in terawatt-hours. (Sum of coal, oil and gas.)\n",
        "**fossil_elec_per_capita**. \tPer capita electricity generation from fossil fuels, measured in kilowatt-hours. \n",
        "**fossil_fuel_consumption**. \tFossil fuel consumption, measured in terawatt-hours. \n",
        "**fossil_energy_per_capita**. Per capita fossil fuel consumption, measured in kilowatt-hours. \n",
        "**fossil_cons_change_pct**. \tAnnual percentage change in fossil fuel consumption\n",
        "**fossil_cons_change_twh**. \tAnnual change in fossil fuel consumption, measured in terawatt-hours\n",
        "\n",
        "**biofuel_electricity**. \tElectricity generation from biofuels, measured in terawatt-hours\n",
        "**biofuel_elec_per_capita**. \tPer capita electricity generation from biofuels, measured in kilowatt-hours\n",
        "**biofuel_consumption**. \tPrimary energy consumption from biofuels\n",
        "**biofuel_cons_per_capita**. \tPer capita primary energy consumption from biofuels\n",
        "**biofuel_cons_change_pct**. \tAnnual percentage change in biofuel consumption\n",
        "**biofuel_cons_change_twh**. \tAnnual change in biofuel consumption\n",
        "\n",
        "**coal_electricity**. \t\tElectricity generation from coal\n",
        "**coal_elec_per_capita**. \tPer capita electricity generation from coal\n",
        "**coal_consumption**. \t\tPrimary energy consumption from coal\n",
        "**coal_cons_per_capita**. \tPer capita primary energy consumption from coal\n",
        "**coal_cons_change_twh**. \tAnnual change in coal consumption\n",
        "**coal_cons_change_pct**. \tAnnual percentage change in coal consumption\n",
        "\n",
        "**gas_electricity**. \t\tElectricity generation from gas\n",
        "**gas_elec_per_capita**. \tPer capita electricity generation from gas\n",
        "**gas_consumption**. \t\tPrimary energy consumption from gas\n",
        "**gas_energy_per_capita**. \tPer capita primary energy consumption from gas\n",
        "**gas_cons_change_twh**. \tAnnual change in gas consumption\n",
        "**gas_cons_change_pct**.  \tAnnual percentage change in gas consumption\n",
        "\n",
        "**hydro_electricity**. \t\tElectricity generation from hydropower\n",
        "**hydro_elec_per_capita**.\tPer capita electricity generation from hydropower\n",
        "**hydro_consumption**.\t\tPrimary energy consumption from hydropower\n",
        "**hydro_energy_per_capita**.\tPer capita primary energy consumption from hydropower\n",
        "**hydro_cons_change_pct**.\tAnnual percentage change in hydropower consumption \n",
        "**hydro_cons_change_twh**.\tAnnual change in hydropower consumption\n",
        "\n",
        "**oil_electricity**.\t\tElectricity generation from oil\n",
        "**oil_elec_per_capita**.\tPer capita electricity generation from oil\n",
        "**oil_consumption**.\t\tPrimary energy consumption from oil\n",
        "**oil_energy_per_capita**.\tPer capita primary energy consumption from oil\n",
        "**oil_cons_change_twh**.\tAnnual change in oil consumption\n",
        "**oil_cons_change_pct**.\tAnnual percentage change in oil consumption\n",
        "\n",
        "**low_carbon_electricity**.\tElectricity generation from low-carbon sources, measured in terawatt-hours. (Sum of renewables and nuclear.)\n",
        "**low_carbon_elec_per_capita**.Per capita electricity generation from low-carbon sources, measured in kilowatt-hours\n",
        "**low_carbon_consumption**.\tPrimary energy consumption from low-carbon sources, measured in terawatt-hours\n",
        "**low_carbon_energy_per_capita**.Per capita primary energy consumption from low-carbon sources\n",
        "**low_carbon_cons_change_twh**.Annual change in low-carbon energy consumption, measured in terawatt-hours\n",
        "**low_carbon_cons_change_pct**.Annual percentage change in low-carbon energy consumption\n",
        "\n",
        "**nuclear_electricity**.\tElectricity generation from nuclear power\n",
        "**nuclear_elec_per_capita**.\tPer capita electricity generation from nuclear power\n",
        "**nuclear_consumption**.\tPrimary energy consumption from nuclear power \n",
        "**nuclear_energy_per_capita**.Per capita primary energy consumption from nuclear\n",
        "**nuclear_cons_change_twh**.\tAnnual change in nuclear consumption\n",
        "**nuclear_cons_change_pct**.\tAnnual percentage change in nuclear consumption\n",
        "\n",
        "**other_renewable_electricity**.Electricity generation from other renewables including biofuels\n",
        "**other_renewable_elec_per_capita**.Per capita electricity generation from other renewables including biofuels. \n",
        "**other_renewable_consumption**.Primary energy consumption from other renewables including biofuels\n",
        "**other_renewable_energy_per_capita**.Per capita primary energy consumption from other renewables including biofuels\n",
        "**other_renewable_cons_change_twh**.Annual change in other renewables consumption\n",
        "**other_renewable_cons_change_pct**.Annual percentage change in other renewables consumption\n",
        "\n",
        "**renewable_electricity**.\tElectricity generation from renewables including biofuels\n",
        "**renewable_elec_per_capita**.Per capita electricity generation from renewables including biofuels. \n",
        "**renewable_consumption**.\tPrimary energy consumption from renewables including biofuels\n",
        "**renewable_energy_per_capita**.Per capita primary energy consumption from renewables including biofuels\n",
        "**renewable_cons_change_twh**.Annual change in renewables consumption\n",
        "**renewable_cons_change_pct**.Annual percentage change in renewables consumption\n",
        "\n",
        "**solar_electricity**.\t\tElectricity generation from solar \n",
        "**solar_elec_per_capita**.\tPer capita electricity generation from solar\n",
        "**solar_consumption**.\t\trimary energy consumption from solar\n",
        "**solar_energy_per_capita**.\ter capita primary energy consumption from solar\n",
        "**solar_cons_change_twh**.\tAnnual change in  solar consumption\n",
        "**solar_cons_change_pct**.\tAnnual percentage change in  solar consumption\n",
        "\n",
        "**wind_electricity**.\t\tElectricity generation from wind\n",
        "**wind_elec_per_capita**.\tPer capita electricity generation from wind\n",
        "**wind_consumption**.\t\trimary energy consumption from wind\n",
        "**wind_energy_per_capita**.\tPer capita primary energy consumption from wind\n",
        "**wind_cons_change_twh**.\tAnnual change in wind consumption\n",
        "**wind_cons_change_pct**.\tAnnual percentage change in wind consumption\n",
        "\n",
        "**carbon_intensity_elec**. \tCarbon intensity of electricity production, measured in grams of carbon dioxide emitted per kilowatt-hour"
      ],
      "metadata": {
        "id": "s3Q3e9CAV8-H"
      }
    },
    {
      "cell_type": "markdown",
      "source": [
        "# What are the safest and cleanest?\n",
        "\n",
        "https://ourworldindata.org/safest-sources-of-energy#the-safest-energy-sources-are-also-the-cleanest"
      ],
      "metadata": {
        "id": "UScZ3_gHW7qQ"
      }
    },
    {
      "cell_type": "markdown",
      "source": [
        "This is your final assignment. You'll get a lot of freedom in doing this assignment but that also means you have to make choices and explain the reasoning behind those choices in your report.\n",
        "\n",
        "For this assignment you can use any dataset you can find from the [Our World in Data website](https://ourworldindata.org/).\n",
        "\n",
        "Please formulate an answer to the following three questions in your report.\n",
        "\n",
        "* **What is the biggest predictor of a large CO2 output per capita of a country?**\n",
        "* **which countries are making the biggest strides in decreasing CO2 output?**\n",
        "* **which non-fossil fuel energy technology will have the best price in the future?**\n",
        "\n",
        "\n",
        "\n",
        "\n",
        "---\n",
        "\n",
        "\n",
        "**1: Biggest predictor of CO2 output**\n",
        "\n",
        "To determine this you may want to consider things like GDP per capita, diets, number of cars per capita, various energy source, mobility and other factors.\n",
        "\n",
        "Your answer can also be a specific combination of certain factors.\n",
        "\n",
        "\n",
        "---\n",
        "\n",
        "\n",
        "**2: Biggest strides in decreasing CO2 output**\n",
        "\n",
        "You'll need to find the relative CO2 output for each country to be able to calculate this. But countries can have growing and shrinking populations too, so it's probably a good idea to take this into account as well.\n",
        "\n",
        "\n",
        "---\n",
        "\n",
        "\n",
        "**3: Best future price for non-fossil fuel energy**\n",
        "\n",
        "To be able to predict prices you'll probably need to use linear regression over the various non-fossil fuel options.\n",
        "\n",
        "\n",
        "---\n",
        "\n",
        "\n",
        "**Submitting your Assignment**\n",
        "\n",
        "Once you're done with this module, you can go to the next item where you'll be able to submit your assignment.\n",
        "\n",
        "Please submit both your written report and all notebooks you've created in creating the report. Make sure everything works before submitting.\n",
        "\n"
      ],
      "metadata": {
        "id": "Gijm5ENpY31P"
      }
    },
    {
      "cell_type": "markdown",
      "source": [
        "# Thoughts: \n",
        "**For the biggest predictor of a large CO2 output per capita of a country, you can use the following datasets:**\n",
        "\n",
        "* CO2 emissions by country: This dataset provides historical CO2 emissions data for different countries over time.\n",
        "* Energy consumption by fuel type: This dataset shows the energy consumption of different countries categorized by fossil fuels (coal, oil, gas), renewables, and other sources.\n",
        "* Population by country: This dataset provides population data for different countries over time.\n",
        "\n",
        "By combining these datasets, you can calculate CO2 emissions per capita and analyze the relationship between various factors like energy consumption, population, and CO2 emissions.\n",
        "\n",
        "**To identify the countries making the biggest strides in decreasing CO2 output, you can use the following datasets:**\n",
        "\n",
        "* CO2 emissions by country: This dataset will be useful again to track changes in CO2 emissions over time.\n",
        "* Annual change in CO2 emissions: This dataset provides the annual percentage change in CO2 emissions for different countries.\n",
        "* Renewable energy production: This dataset includes information on the production of renewable energy, such as solar, wind, hydro, and geothermal.\n",
        "\n",
        "By analyzing the annual change in CO2 emissions and comparing it with the growth in renewable energy production, you can identify countries that are successfully reducing their CO2 output.\n",
        "\n",
        "**For determining the non-fossil fuel energy technology with the best price in the future, you can consider the following datasets:**\n",
        "\n",
        "* Costs of different energy technologies: This dataset provides information on the costs of various energy technologies, including solar, wind, hydro, nuclear, and others. It can help you analyze the trends and projections for future energy costs.\n",
        "* Renewable energy capacity and investment: This dataset shows the installed capacity and investment trends in renewable energy sources, which can provide insights into the growth potential and competitiveness of different technologies.\n",
        "\n",
        "By examining the cost trends and comparing the capacity and investment data, you can assess which non-fossil fuel energy technology is expected to have the most favorable price in the future.\n",
        "\n",
        "\n",
        "**Find what countries do:**\n",
        "\n",
        "* did they make any pledges\n",
        "* what kind of energy are they using now\n",
        "\n",
        "\n",
        "* What contributes to CO2 output?\n",
        "\n",
        "* What are the prices for the different types of non-fossil energy?\n",
        "\n",
        "* What happens when a country outsources everything?\n",
        "\n",
        "* How about CO2 vs the other GHG (greenhouse gasses)? Are there countries where CO2 falls but the other rise?"
      ],
      "metadata": {
        "id": "exxoWaD9F2rS"
      }
    },
    {
      "cell_type": "markdown",
      "source": [
        "# 1: Biggest predictor of CO2 output"
      ],
      "metadata": {
        "id": "ulO1ZMUaFu9x"
      }
    },
    {
      "cell_type": "markdown",
      "source": [
        "# 2: Biggest strides in decreasing CO2 output\n",
        "\n",
        "First let's look at what countries produces, import, export and how that changed through the years.\n",
        "\n",
        "* **co2**: annual total production-based co2 emission. measured in million tonnes. Measured in million tonnes.\n",
        "* **co2_growth_abs**: annual growth of production-based co2 emission. Measured in million tonnes.\n",
        "* **co2_growth_prct**: annual percentage growth of production-based co2 emission. measured in million tonnes. Measured in million tonnes.\n",
        "* **co2_per_capita**, annual total production-based emissions of carbon dioxide (CO₂) per capita, measured in tonnes per person. \n",
        "\n",
        "* **trade_co2**: annual net carbon dioxide (CO₂) emissions embedded in trade. The net of import or export via traded goods. Positive = importer of CO₂ emissions; Negative =  exporter. Measured in million tonnes.\n",
        "* **consumption_co2**: total co2 minus emissions embedded in exports, plus emissions embedded in imports. Consumption > production = importer of CO₂ emissions; Consumption < Production =  exporter. Measured in million tonnes.\n",
        "* **consumption_co2**: total co2 minus emissions embedded in exports per capita, plus emissions embedded in imports. Consumption > production = importer of CO₂ emissions; Consumption < Production =  exporter. Measured in tonnes per person.\n",
        "\n",
        "Note for later: \n",
        "also interesting: \n",
        "* what do we see when we look at rich vs poor (columns regarding GDP)\n",
        "* what do we see when we look at the CO2 per energy unit."
      ],
      "metadata": {
        "id": "P4qfKlsHqMU-"
      }
    }
  ]
}